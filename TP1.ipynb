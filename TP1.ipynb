{
 "cells": [
  {
   "cell_type": "markdown",
   "id": "8d6cc191",
   "metadata": {},
   "source": [
    "# **TP1 | Python et arithmétique de base**\n",
    "\n",
    "Le but de ce TP est de revoir le comportement usuel de Python dans un contexte d'arithmétique, et de manipuler certains concepts de l'arithmétique modulaire comme la division euclidienne."
   ]
  },
  {
   "cell_type": "markdown",
   "id": "c8db47da",
   "metadata": {},
   "source": [
    "## Partie 1 - Rappels sur Python"
   ]
  },
  {
   "cell_type": "markdown",
   "id": "ee957f94",
   "metadata": {},
   "source": [
    "### 1.1. `range`, ami des `for`\n",
    "\n",
    "Notez le comportement de la fonction `range`. Puis indiquez ce que font les fonction suivantes.\n",
    "\n",
    "*Remarque :* La fonction `range` génère un **itérateur** qui ne stocke pas l'intégralité des états."
   ]
  },
  {
   "cell_type": "code",
   "execution_count": null,
   "id": "8dafe1f8",
   "metadata": {},
   "outputs": [],
   "source": [
    "# itérateur\n",
    "print(range(5))"
   ]
  },
  {
   "cell_type": "code",
   "execution_count": null,
   "id": "fe05ac9e",
   "metadata": {},
   "outputs": [],
   "source": [
    "# itération\n",
    "for i in range(5):\n",
    "    print(i)"
   ]
  },
  {
   "cell_type": "code",
   "execution_count": null,
   "id": "4c25eafb",
   "metadata": {},
   "outputs": [],
   "source": [
    "# allocation mémoire de tous les états de l'itérateur\n",
    "print(list(range(5)))"
   ]
  },
  {
   "cell_type": "code",
   "execution_count": null,
   "id": "c22231f4",
   "metadata": {},
   "outputs": [],
   "source": [
    "# modifier le nombre initial\n",
    "print(list(range(2, 5)))"
   ]
  },
  {
   "cell_type": "markdown",
   "id": "235775a0",
   "metadata": {},
   "source": [
    "### 1.2. Manipulation de listes\n",
    "\n",
    "Dans les cellules suivantes, on révise diverses méthodes et concepts liés aux listes."
   ]
  },
  {
   "cell_type": "code",
   "execution_count": null,
   "id": "70c531d3",
   "metadata": {},
   "outputs": [],
   "source": [
    "# append\n",
    "def liste_impair(p):\n",
    "    liste = []\n",
    "    for i in range(p):\n",
    "        element = 2 * i + 1\n",
    "        liste.append(element)\n",
    "    return liste\n",
    "\n",
    "print(liste_impair(9))"
   ]
  },
  {
   "cell_type": "code",
   "execution_count": null,
   "id": "fb4f8056",
   "metadata": {},
   "outputs": [],
   "source": [
    "# liste par compréhension\n",
    "[2 * i + 1 for i in range(9)]"
   ]
  },
  {
   "cell_type": "code",
   "execution_count": null,
   "id": "dd1525b3",
   "metadata": {},
   "outputs": [],
   "source": [
    "# reverse\n",
    "liste = liste_impair(5)\n",
    "liste.reverse()\n",
    "print(liste)"
   ]
  },
  {
   "cell_type": "code",
   "execution_count": null,
   "id": "0a06d8dc",
   "metadata": {},
   "outputs": [],
   "source": [
    "# sort et clear\n",
    "liste_entier = [3, 1, 2]\n",
    "\n",
    "print(liste_entier)\n",
    "liste_entier.sort()\n",
    "print(liste_entier)\n",
    "liste_entier.clear()\n",
    "print(liste_entier)"
   ]
  },
  {
   "cell_type": "code",
   "execution_count": null,
   "id": "32c90ade",
   "metadata": {},
   "outputs": [],
   "source": [
    "# pop\n",
    "liste = liste_impair(8)\n",
    "a = liste.pop()\n",
    "print(a, liste)"
   ]
  },
  {
   "cell_type": "code",
   "execution_count": null,
   "id": "422a5677",
   "metadata": {},
   "outputs": [],
   "source": [
    "# copie mémoire vs copie adresse, et remove\n",
    "liste = [4, 5, 6, 6, 7, 8]\n",
    "\n",
    "listebis = liste.copy()\n",
    "listebis.remove(6)\n",
    "print(liste, listebis)\n",
    "\n",
    "listeter = liste\n",
    "listeter.remove(6)\n",
    "print(liste, listeter)"
   ]
  },
  {
   "cell_type": "code",
   "execution_count": null,
   "id": "821a21a3",
   "metadata": {},
   "outputs": [],
   "source": [
    "# slicing: liste[start : end : step]\n",
    "liste = list(range(7))\n",
    "\n",
    "print(liste)\n",
    "print(liste[1:])\n",
    "print(liste[:3])\n",
    "print(liste[:-1])\n",
    "print(liste[1:-1])\n",
    "print(liste[::2])"
   ]
  },
  {
   "cell_type": "markdown",
   "id": "d955ea67",
   "metadata": {},
   "source": [
    "### 1.3. Génération de nombres aléatoires\n",
    "\n",
    "Avec le module `random`, on peut générer des nombres pseudo-aléatoires. Pour la reproducibilité du code, on peut aussi définir une graine (ou *seed*).\n",
    "\n",
    "*Rappel :* Pour tester si une proposition est vraie en Python, on utilise la commande conditionnelle `if` ou `while`.\n",
    "\n",
    "Étudier les cellules suivantes."
   ]
  },
  {
   "cell_type": "code",
   "execution_count": null,
   "id": "8f33508b",
   "metadata": {},
   "outputs": [],
   "source": [
    "import random\n",
    "\n",
    "rng_seed = sum([ord(c) for c in \"R5.09 - Cryptographie\"])\n",
    "rng = random.Random(rng_seed)"
   ]
  },
  {
   "cell_type": "code",
   "execution_count": null,
   "id": "7fb5c5eb",
   "metadata": {},
   "outputs": [],
   "source": [
    "random_numbers = [rng.randint(-5, 5) for _ in range(10)]\n",
    "print(random_numbers)\n",
    "\n",
    "for a in random_numbers:\n",
    "    if a >= 0:\n",
    "        print(a, \" est positif ou nul\")\n",
    "    else:\n",
    "        print(a, \" est strictement négatif\")"
   ]
  },
  {
   "cell_type": "code",
   "execution_count": null,
   "id": "8ddaed51",
   "metadata": {
    "scrolled": true
   },
   "outputs": [],
   "source": [
    "def russian_roulette():\n",
    "    n_rounds = 0\n",
    "    while rng.randint(0, 6) != 0:\n",
    "        n_rounds += 1\n",
    "    return n_rounds\n",
    "\n",
    "# on joue 5 parties\n",
    "for _ in range(5):\n",
    "    print(f\"Survécu à {russian_roulette()} rounds de roulette russe.\")"
   ]
  },
  {
   "cell_type": "markdown",
   "id": "2cd4dc59",
   "metadata": {},
   "source": [
    "### 1.4. Mise en pratique\n",
    "\n",
    "Coder une fonction `alea` qui renvoie `n` entiers aléatoires entre $-100$ et $100$, rangés dans une liste d'entiers strictement négatifs `neg` et une liste d'entiers positifs `pos`. La liste `neg` doit être triée dans l'ordre décroissant."
   ]
  },
  {
   "cell_type": "code",
   "execution_count": null,
   "id": "49e6ded0",
   "metadata": {},
   "outputs": [],
   "source": [
    "def alea(n, a_min=-100, a_max=100):\n",
    "    pass #TODO\n",
    "\n",
    "pos, neg = alea(50)\n",
    "print(pos)\n",
    "print(neg)"
   ]
  },
  {
   "cell_type": "markdown",
   "id": "43db13f5",
   "metadata": {},
   "source": [
    "## Partie 2 - Conjecture de Collatz (ou de Syracuse)\n",
    "\n",
    "Un problème bien connu en arithmétique concerne la suite de Syracuse, qui prend la forme \n",
    "$$ \n",
    "u_{n+1} = \\begin{cases}\n",
    "    u_n / 2 & \\text{~si~} u_n \\text{~est pair}, \\\\\n",
    "    3 u_n + 1 & \\text{~si~} u_n \\text{~est impair}.\n",
    "\\end{cases}\n",
    "$$\n",
    "avec un certain point de départ $u_0 = a \\in \\mathbb{N}^*$. Par exemple avec un nombre de départ de $5$ ou $6$, on a \n",
    "\n",
    "|          n         | 0 |  1 |  2 |  3 |  4 |  5 |  6 |  7 |  8 |  9 |\n",
    "|--------------------|---|----|----|----|----|----|----|----|----|----|\n",
    "| $u_n$ avec $a = 5$ | 5 | 16 |  8 |  4 |  2 |  1 |  4 |  2 |  1 |  4 |\n",
    "| $u_n$ avec $a = 6$ | 6 |  3 | 10 |  5 | 16 |  8 |  4 |  2 |  1 |  4 |\n",
    "\n",
    "On observe que la suite finit toujours par tomber sur un cycle $4, 2, 1$. Pour identifier ce cycle, on dénote $N(a)$ le plus petit indice tel que $u_{N(a)} = 1$ avec $u_0 = a$, i.e. \n",
    "$$ N(a) = \\min \\{n \\in \\mathbb{N} \\mid u_n = 1, u_0 = a\\} . $$\n",
    "Ce nombre s'appelle la *durée de vol* associée à $a$.\n",
    "\n",
    "En vérité, on n'a pas de garantie que $N(a)$ existe, il existe peut-être des nombres initiaux pour lesquels la suite ne retombe jamais sur $1$. Mais tous ont été testé jusqu'à $2^{68} \\approx 3 \\times 10^{20}$ ([source](https://doi.org/10.1007%2Fs11227-020-03368-x), merci Wikipédia), donc on n'aura pas de souci pour ce TP. En apparence pourtant simple, ce problème reste ouvert depuis au moins deux siècles. Une [vidéo de El Jj](https://www.youtube.com/watch?v=BP2G28694z8) présente brièvement le problème, son histoire et des résultats associés."
   ]
  },
  {
   "cell_type": "markdown",
   "id": "e976095b",
   "metadata": {},
   "source": [
    "### 2.1. La fonction de Syracuse\n",
    "\n",
    "Coder une fonction `syracuse_fun` qui permet d'obtenir $u_{n+1}$ à partir de $u_n$. Tester cette fonction avec des valeurs paires et impaires choisies."
   ]
  },
  {
   "cell_type": "code",
   "execution_count": null,
   "id": "4663c248",
   "metadata": {},
   "outputs": [],
   "source": [
    "def syracuse_fun(un):\n",
    "    \"\"\"\n",
    "    Cette fonction prend un entier `un` en entrée et renvoie le terme suivant dans la séquence de Syracuse.\n",
    "\n",
    "    Args:\n",
    "        un (int): Le terme actuel dans la séquence de Syracuse.\n",
    "\n",
    "    Returns:\n",
    "        int: Le terme suivant dans la séquence de Syracuse.\n",
    "    \"\"\"\n",
    "    pass #TODO"
   ]
  },
  {
   "cell_type": "markdown",
   "id": "fea1e7cd",
   "metadata": {},
   "source": [
    "### 2.2. Calcul d'une durée de vol\n",
    "\n",
    "Coder une fonction `duree_syracuse` qui calcule la durée de vol associée à une donnée initiale $a$. Calculer à la main certaines durées de vol et tester la fonction."
   ]
  },
  {
   "cell_type": "code",
   "execution_count": null,
   "id": "6f8ab176",
   "metadata": {},
   "outputs": [],
   "source": [
    "def duree_syracuse(a):\n",
    "    \"\"\"\n",
    "    Calcule le nombre d'itérations nécessaires pour que la suite de Syracuse à partir de l'entier `a` atteigne la valeur 1.\n",
    "    \n",
    "    Args:\n",
    "        a (int): L'entier à partir duquel la suite de Syracuse est calculée.\n",
    "\n",
    "    Returns:\n",
    "        int: Le nombre d'itérations nécessaires pour atteindre la valeur 1.\n",
    "    \"\"\"\n",
    "    pass #TODO"
   ]
  },
  {
   "cell_type": "code",
   "execution_count": null,
   "id": "947cf45a",
   "metadata": {},
   "outputs": [],
   "source": [
    "duree_syracuse(9)"
   ]
  },
  {
   "cell_type": "markdown",
   "id": "d07ad57c",
   "metadata": {},
   "source": [
    "### 2.3. Vol le plus long\n",
    "\n",
    "Calculer le vol le plus long pour $a \\in \\{1, ..., 10^4\\}$, que l'on dénote $\\overline{N}(10^4)$. Formellement,\n",
    "$$ \\overline{N}(a) = \\min_{b \\leq a} N(b) . $$\n",
    "Pour débugger, on donne le résultat $\\overline{N}(10^2) = 118$ et $\\overline{N}(10^3) = 178$."
   ]
  },
  {
   "cell_type": "code",
   "execution_count": null,
   "id": "2ddfe0bf",
   "metadata": {},
   "outputs": [],
   "source": [
    "#TODO"
   ]
  },
  {
   "cell_type": "markdown",
   "id": "032b3448",
   "metadata": {},
   "source": [
    "## Partie 3 - Algorithme d'Euclide\n",
    "\n",
    "Maintenant que Python est repris en main, on peut s'intéresser au sujet principal de ce cours : l'arithmétique modulaire ! On va s'intéresser à l'algorithme d'Euclide, qui joue un rôle majeur pour des manipulations futures avec les nombres premiers."
   ]
  },
  {
   "cell_type": "markdown",
   "id": "40352d2e",
   "metadata": {},
   "source": [
    "### 3.1. Encadrement \n",
    "\n",
    "Ecrire une fonction `encadre_par_des_multiples` qui, étant donnés deux entiers positifs $a$ et $b$, renvoie l'entier $n$ tel que $n a \\leq b < (n+1) a$."
   ]
  },
  {
   "cell_type": "code",
   "execution_count": null,
   "id": "3756a207",
   "metadata": {},
   "outputs": [],
   "source": [
    "def encadre_par_des_multiples(a, b):\n",
    "    \"\"\"\n",
    "    Calcule le nombre `n` de sorte que `n * a` soit le plus grand multiple de `a` plus petit que `b`, i.e. `n * a ≤ b < (n+1) * a`.\n",
    "\n",
    "    Args:\n",
    "        a (int): Le nombre à multiplier.\n",
    "        b (int): Le nombre à encadrer.\n",
    "    Returns:\n",
    "        int: Le facteur multiplicatif.\n",
    "    \"\"\"\n",
    "    pass #TODO"
   ]
  },
  {
   "cell_type": "markdown",
   "id": "f77e734e",
   "metadata": {},
   "source": [
    "### 3.2. La division euclidienne\n",
    "\n",
    "On définit la division euclidienne de $a \\in \\mathbb{N}$ par $b \\in \\mathbb{N}^*$ comme un *quotient* $q$ et un *reste* $r$ qui vérifient\n",
    "$$ a = q b + r, \\quad 0 \\leq r < b . $$\n",
    "De manière équivalente, on peut définir $q$ tel que $q b \\leq a < (q+1) b$, et $r = a - qb$.\n",
    "\n",
    "Écrire une fonction `div_euclid` qui prend comme arguments deux entiers $a$ et $b$ et qui renvoie le quotient et le reste de la division euclidienne de $a$ par $b$.\n",
    "\n",
    "**Remarque :** Cette fonction existe en Python avec `divmod`, qu'on pourra utiliser par la suite."
   ]
  },
  {
   "cell_type": "code",
   "execution_count": null,
   "id": "6277993f",
   "metadata": {},
   "outputs": [],
   "source": [
    "def div_euclid(a, b):\n",
    "    \"\"\"\n",
    "    Calcule la division euclidienne de deux nombres entiers.\n",
    "\n",
    "    Args:\n",
    "        a (int): Le dividende.\n",
    "        b (int): Le diviseur.\n",
    "\n",
    "    Returns:\n",
    "        q (int): Le quotient de la division euclidienne.\n",
    "        r (int): Le reste de la division euclidienne.\n",
    "    \"\"\"\n",
    "    pass #TODO"
   ]
  },
  {
   "cell_type": "markdown",
   "id": "ebb8e4bd",
   "metadata": {},
   "source": [
    "### 3.3. Calcul de PGCD\n",
    "\n",
    "Le plus grand diviseur commun entre deux nombres $a$ et $b$ est exactement ce que son nom indique : parmi les diviseurs de $a$ et de $b$, lequel est le plus grand ?\n",
    "On peut aussi le définir comme le plus grand entier $c$ tel que \n",
    "$$ a\\mathbb{Z} \\cup b\\mathbb{Z} \\subset c\\mathbb{Z} . $$\n",
    "Naturellement, ${\\rm PGCD}(a, 0) = a$.\n",
    "\n",
    "Par exemple, puisque $12=2^2\\times 3$ et $18=2\\times 3^2$, on voit que $6 = 2\\times 3$ est un diviseur commun de $12$ et $18$. C'est le plus grand.\n",
    "\n",
    "La procédure classique pour le calculer est l'*algorithme d'Euclide*, qui utilise la division euclidienne $a = q b + r$ et exploite la propriété\n",
    "$$ {\\rm PGCD}(a, b) = {\\rm PGCD}(a - q b, b) = {\\rm PGCD}(r, b) = {\\rm PGCD}(b, r) . $$\n",
    "L'algorithme consiste à itérer ces divisions euclidiennes, jusqu'à trouver un reste nul. On a alors trouvé le PGCD.\n",
    "\n",
    "Implémenter cet algorithme dans une fonction `pgcd` et la tester."
   ]
  },
  {
   "cell_type": "code",
   "execution_count": null,
   "id": "2e4f895d",
   "metadata": {},
   "outputs": [],
   "source": [
    "def pgcd(a, b):\n",
    "    \"\"\"\n",
    "    Calcule le PGCD de deux nombres avec l'algorithme d'Euclide.\n",
    "\n",
    "    Args:\n",
    "        a (int): Le premier nombre.\n",
    "        b (int): Le deuxième nombre.\n",
    "\n",
    "    Returns: \n",
    "        int: Le PGCD des deux nombres.\n",
    "    \"\"\"\n",
    "    #TODO"
   ]
  },
  {
   "cell_type": "markdown",
   "id": "ef6d1076",
   "metadata": {},
   "source": [
    "## Partie 4 - Pour aller plus loin\n",
    "\n",
    "Voici quelques pistes pour aller plus loin dans l'étude des parties précédentes, choisissez en une ou plusieurs en fonction de vos envies."
   ]
  },
  {
   "cell_type": "markdown",
   "id": "00f1421d",
   "metadata": {},
   "source": [
    "### 4.1. Conjecture de Syracuse\n",
    "\n",
    "1. Trouver le nombre le plus haut atteint par une suite avec $u_0 \\in \\{1, ..., 10^4\\}$ ;\n",
    "2. Quitte à allouer plus de mémoire, calculer le vol le plus long pour $a \\in \\{1, ..., 10^6\\}$ en moins de 3 secondes (il s'agit du [problème 14 du Projet Euler](https://projecteuler.net/problem=14)) ;\n",
    "3. Faire une étude graphique du problème :\n",
    "    - évaluer la tendance de $N(a)$, la tendance de $\\overline{N}(a)$, etc\n",
    "    - mesurer le temps de calcul en fonction du nombre initial"
   ]
  },
  {
   "cell_type": "code",
   "execution_count": null,
   "id": "b18aee31",
   "metadata": {},
   "outputs": [],
   "source": []
  },
  {
   "cell_type": "markdown",
   "id": "f9bfb482",
   "metadata": {},
   "source": [
    "### 4.2. Algorithme d'Euclide et PGCD\n",
    "\n",
    "1. Adapter la fonction `pgcd` pour qu'elle puisse prendre un, deux ou plus d'arguments. On pourra utiliser la syntaxe `def f(*args)` de Python.\n",
    "2. Garder en mémoire les quotients dans l'algorithme d'Euclide pour calculer $u, v$ tels que $u a + b v = {\\rm PGCD}(a, b)$. Comme $u$ et $v$ s'appellent des coefficients de Bézout, on appelera cette fonction `bezout`."
   ]
  },
  {
   "cell_type": "code",
   "execution_count": null,
   "id": "238ee8c5",
   "metadata": {},
   "outputs": [],
   "source": []
  }
 ],
 "metadata": {
  "kernelspec": {
   "display_name": "Python 3 (ipykernel)",
   "language": "python",
   "name": "python3"
  },
  "language_info": {
   "codemirror_mode": {
    "name": "ipython",
    "version": 3
   },
   "file_extension": ".py",
   "mimetype": "text/x-python",
   "name": "python",
   "nbconvert_exporter": "python",
   "pygments_lexer": "ipython3",
   "version": "3.12.4"
  }
 },
 "nbformat": 4,
 "nbformat_minor": 5
}
