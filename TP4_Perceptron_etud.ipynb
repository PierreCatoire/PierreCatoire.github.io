{
 "cells": [
  {
   "cell_type": "markdown",
   "id": "2c34db69-1c73-42a7-bb3b-90222df26a3d",
   "metadata": {},
   "source": [
    "# TP 4: Le perceptron\n",
    "\n",
    "Nous considérons encore le cadre des problèmes de classifications.\n",
    "\n",
    "## 1. L'objet élémentaire: le perceptron\n",
    "\n",
    "La notion d'*intelligence artificielle* s'est développée en tentant de reproduire l'*intelligence biologique*. Elle est basée sur des *neuronnes* qui interagissent entre eux pour prendre une décision. \n",
    "\n",
    "Dans le cadre de l'intelligence interficielle, l'objet qui va jouer le rôle de neuronne est ce que l'on va appeler un *perceptron*. \n",
    "\n",
    "### 1.A. Le concept du perceptron \n",
    "\n",
    "Cet objet fut introduit par Alexander Rosenblatt en 1957. Considérons un jeu de données $X=(x_1,\\dots,x_n)$ de taille $n$. Le *perceptron* calcule une moyenne pondérée par le poids $\\omega=(\\omega_1,\\dots,\\omega_n)$ et de biais $b$:\n",
    "$$\n",
    "X\\cdot \\omega^t +b=x_1\\cdot \\omega_1 + \\dots + x_n\\cdot \\omega_n +b.\n",
    "$$\n",
    "Puis à partir de cette moyenne pondérée, le perceptron produit un résultat entre $0$ et $1$ en appliquant une *fonction d'activation* au résultat précédement calculé. Ceci permet de faire de la classification binaire."
   ]
  },
  {
   "cell_type": "markdown",
   "id": "4bfbbc13-bbe8-4884-a7d6-745ddff5a850",
   "metadata": {},
   "source": [
    "Ecrire une fonction représentant un neurone où le jeu de donnée est de taille $2$ prenant en entrée poids, biais, entree (vecteur), fonction d'activation et renvoyant la valeur calculée du neurone"
   ]
  },
  {
   "cell_type": "code",
   "execution_count": 1,
   "id": "f414923f-110b-4cf3-8af5-7eb1b4fcb456",
   "metadata": {},
   "outputs": [],
   "source": [
    "# code d'un neurone\n",
    "def neurone(poids,biais,entree,f_act):\n",
    "  pass"
   ]
  },
  {
   "cell_type": "markdown",
   "id": "72834bf1-885e-4841-9ca6-cfd58f764747",
   "metadata": {},
   "source": [
    "### 1.B. Les fonctions d'activation\n",
    "\n",
    "#### 1.B.1. Fonction de Heaviside\n",
    "\n",
    "Ecrire la fonctions d'activation Heaviside donnée par l'équation suivante:\n",
    "$$\n",
    "\\forall x\\in [-1,1],\n",
    "H(x)=\\begin{cases}\n",
    "1 & \\text{si } x\\geq 0, \\\\\n",
    "0 & \\text{sinon}.\n",
    "\\end{cases}\n",
    "$$\n",
    "**TODO**: Ecrire une fonction *Heaviside* décrivant cette fonction et tracer son graphe sur $[-1,1]$"
   ]
  },
  {
   "cell_type": "code",
   "execution_count": 2,
   "id": "6cb5fb27-0ec7-4eee-a837-b5f87468d1d3",
   "metadata": {},
   "outputs": [],
   "source": [
    "## Ecrire la fonctions d'activation heaviside\n",
    "def Heaviside(x):\n",
    "  pass"
   ]
  },
  {
   "cell_type": "markdown",
   "id": "e1613bee-84a9-4448-b039-c1340fec5a1a",
   "metadata": {},
   "source": [
    "#### 1.B.2. Fonction ReLU (Rectified Linear Unit)\n",
    "\n",
    "Ecrire la fonction d'activation ReLU donnée par la figure suivante:\n",
    "\n",
    "![image](relu.png)"
   ]
  },
  {
   "cell_type": "code",
   "execution_count": 3,
   "id": "bd4c464b-29bc-4d08-83d9-e947f78e6a72",
   "metadata": {},
   "outputs": [],
   "source": [
    "## Ecrire la fonction ReLU\n",
    "def relu(x):\n",
    "    pass"
   ]
  },
  {
   "cell_type": "markdown",
   "id": "8857a26d-852c-45b5-b23b-d096b899265c",
   "metadata": {},
   "source": [
    "#### 1.B.3. Fonction tangente hyperbolique\n",
    "\n",
    "Ecrire la fonction d'activation tanh et tracer son graphe sur $[-10,10]$.\n"
   ]
  },
  {
   "cell_type": "code",
   "execution_count": 4,
   "id": "d386081f-c03d-42bf-9d67-686aeb24718c",
   "metadata": {},
   "outputs": [],
   "source": [
    "## Ecrire la fonction d'activation tanh\n",
    "pass"
   ]
  },
  {
   "cell_type": "markdown",
   "id": "74ec7320-d0de-46ac-89b6-de53f6ab8adf",
   "metadata": {},
   "source": [
    "#### 1.B.4 La fonction sigmoïde\n",
    "\n",
    "Ecrire la fonction d'activation sigmoid $\\sigma$ donnée par la figure suivante:\n",
    "\n",
    "![image](sigmoid.png)"
   ]
  },
  {
   "cell_type": "code",
   "execution_count": 5,
   "id": "16d6fd22-5cdf-454e-8a29-1db975753200",
   "metadata": {},
   "outputs": [],
   "source": [
    "##  Ecrire la fonction d'activation sigmoid\n",
    "from math import exp\n",
    "def sigmoid(x):\n",
    "    pass"
   ]
  },
  {
   "cell_type": "markdown",
   "id": "d8d9febb-5eb7-4adb-aa01-ad7a7940d2ad",
   "metadata": {},
   "source": [
    "## 2. Apprentissage du perceptron\n",
    "\n",
    "### 2.A Un premier exemple d'apprentissage\n",
    "\n",
    "Nous allons maintenant voir comment un perceptron effectue son *apprentissage* sur un jeu  de donnée précis.\n",
    "\n",
    "Il y a deux catégories de points: les points jaunes et les points bleus.\n",
    "\n",
    "Le but de ce passage sera d'entraîner un neuronne à déterminer si le point est bleu ou jaune."
   ]
  },
  {
   "cell_type": "code",
   "execution_count": 8,
   "id": "56214688-2b81-4b2c-8ff6-318a72fbf158",
   "metadata": {},
   "outputs": [
    {
     "data": {
      "image/png": "[encoded data removed]",
      "text/plain": [
       "<Figure size 640x480 with 1 Axes>"
      ]
     },
     "metadata": {},
     "output_type": "display_data"
    }
   ],
   "source": [
    "import numpy as np\n",
    "import matplotlib.pyplot as plt\n",
    "\n",
    "entrees = np.array([[1,0],[0,2],[1,1],[1,2],[1,3],[2,2],[2,3],[3,2]])\n",
    "labels = np.array([0,0,0,0,1,1,1,1])\n",
    "\n",
    "scatter_x = [x[0] for x in entrees]\n",
    "scatter_y = [x[1] for x in entrees]\n",
    "\n",
    "plt.scatter(scatter_x, scatter_y, c=labels)\n",
    "plt.show()"
   ]
  },
  {
   "cell_type": "markdown",
   "id": "f1cad4a7-1742-4d5b-bb5d-48645b23abba",
   "metadata": {},
   "source": [
    "**TODO**: Coder une fonction *representation(poids,biais)* qui trace la frontière de décision du neuronne.\n",
    "\n",
    "*Remarque:* la frontière de décision est le moment à partir duquel le neuronne change de prédicition. Généralement, cela correspond au cas où la moyenne pondérée est nulle."
   ]
  },
  {
   "cell_type": "code",
   "execution_count": 6,
   "id": "5fa605a0-576b-48d4-9c00-b8e26cf9fd27",
   "metadata": {},
   "outputs": [],
   "source": [
    "from random import random\n",
    "def representation(poids,biais):\n",
    "  pass\n",
    "\n",
    "#test\n",
    "poids = [random(),random()]\n",
    "biais = random()\n",
    "\n",
    "representation(poids,biais)"
   ]
  },
  {
   "cell_type": "markdown",
   "id": "3bde4577-f143-4b13-8ec3-c70eafc16628",
   "metadata": {},
   "source": [
    "**Comment faire pour qu'un perceptron/neuronne apprenne à classifier les points ci-dessus ?**\n",
    "\n",
    "Pour cela nous devons identifier une fonction à optimiser et des paramètres.\n",
    "\n",
    "Dans notre cas:\n",
    "- la fonction à optimiser sera *l'erreur des moindres carrés* de notre modèle; \n",
    "- les paramètres à optimiser seront le *poids* et le *biais* du neurone considéré.\n",
    "\n",
    "Une fois les cibles identifier, nous pouvons implémenter un algorithme de descente de gradient détaillé au TP précédent pour réalisé l'optimisation sur le problème.\n",
    "\n",
    "Pour cela, il faut calculer le gradient de la fonction qui a $w$ et $b$ associe l'erreur au sens des moindres carrés du modèle avec pour paramètre $w$ et $b$:\n",
    "$$\n",
    "\\begin{align*}\n",
    "\\frac{d MSE}{d w}&=\\frac{2}{N}\\sum_{k=1}^N x^{(k)} \\cdot ( w_1\\cdot x_1^{(k)}+w_2\\cdot x_2^{(k)}+b -y^{(k)}), \\\\\n",
    "\\frac{d MSE}{d b}&=\\frac{2}{N}\\sum_{k=1}^N ( w_1\\cdot x_1^{(k)}+w_2\\cdot x_2^{(k)}+b -y^{(k)}).\n",
    "\\end{align*}\n",
    "$$\n",
    "\n",
    "**TODO**: Dans notre cas, coder une fonction *score(neuronne)* qui évalue l'erreur des moindres carrés sur l'ensemble des points à considérer. "
   ]
  },
  {
   "cell_type": "code",
   "execution_count": 7,
   "id": "9e933812-493a-4343-ba28-70c8c66c1756",
   "metadata": {},
   "outputs": [],
   "source": [
    "# Réseau de neurones à 2 entrées\n",
    "### Algo\n",
    "pass"
   ]
  },
  {
   "cell_type": "markdown",
   "id": "31b9edb7-c436-4552-98d1-3247a1f59eef",
   "metadata": {},
   "source": [
    "**TODO**: En reprenant les détails du TP précédent concernant la descente de gradient appliquée au problème de minisation de l'erreur des moindres carrés, coder un algorithme qui entraîne un neuronne avec pour fonction d'activation la *sigmoïde* sur $50$ epochs avec un taux d'apprentissage de $0.1$.\n",
    "\n",
    "\n",
    "*Remarque:* pour initialiser les paramètres aléatoirement, on choisira comme graine $10$\n",
    "\n",
    "On représentera les probabilités prédites pour chaque point en niveau de gris."
   ]
  },
  {
   "cell_type": "code",
   "execution_count": 8,
   "id": "ebe6c8b4-03db-42a1-a509-25f21327c403",
   "metadata": {},
   "outputs": [],
   "source": [
    "pass"
   ]
  },
  {
   "cell_type": "markdown",
   "id": "14cb2667-ede7-4594-b59e-e106244a209e",
   "metadata": {},
   "source": [
    "## 2.B L'union fait la force\n",
    "\n",
    "Comme nous l'avons vu avec les arbres de décisions, les neuronnes/perceptrons peuvent être utilisés à plusieurs pour prendre une décision.\n",
    "\n",
    "C'est ce qu'on appelle un *réseau de neuronnes*. Ce type de structure admet aussi plusieurs architectures distinctes (convolutionnels, séquentiels...).\n",
    "\n",
    "C'est ce qui est utilisé dans les techniques d'intelligence artificielle. Cela sera le sujet d'un autre cours l'année prochaine en BUT3.\n"
   ]
  },
  {
   "cell_type": "code",
   "execution_count": null,
   "id": "2297487e-4004-43c4-9279-0a234412b716",
   "metadata": {},
   "outputs": [],
   "source": []
  }
 ],
 "metadata": {
  "kernelspec": {
   "display_name": "Python 3 (ipykernel)",
   "language": "python",
   "name": "python3"
  },
  "language_info": {
   "codemirror_mode": {
    "name": "ipython",
    "version": 3
   },
   "file_extension": ".py",
   "mimetype": "text/x-python",
   "name": "python",
   "nbconvert_exporter": "python",
   "pygments_lexer": "ipython3",
   "version": "3.12.8"
  }
 },
 "nbformat": 4,
 "nbformat_minor": 5
}
