{
 "cells": [
  {
   "cell_type": "markdown",
   "metadata": {},
   "source": [
    "# **TP4 - Attaque par fréquence d'un chiffrement César**\n"
   ]
  },
  {
   "cell_type": "code",
   "execution_count": null,
   "metadata": {},
   "outputs": [],
   "source": [
    "from random import Random\n",
    "from collections import Counter\n",
    "\n",
    "import numpy as np\n",
    "import matplotlib.pyplot as plt"
   ]
  },
  {
   "cell_type": "markdown",
   "metadata": {},
   "source": [
    "### Lecture et écriture de fichiers\n",
    "\n",
    "On fournit les fonctions utilitaires suivantes pour simplifier la lecture et l'écriture de fichiers."
   ]
  },
  {
   "cell_type": "code",
   "execution_count": null,
   "metadata": {},
   "outputs": [],
   "source": [
    "def readfile(fname: str):\n",
    "    \"\"\"Extract the content of the file at path `fname` in a string.\"\"\"\n",
    "    try:\n",
    "        with open(fname, \"r\") as f:\n",
    "            return str(f.read())\n",
    "    except:\n",
    "        raise IOError(\"Could not open file.\")\n",
    "\n",
    "\n",
    "def writefile(fname: str, content: str, mode=\"w\"):\n",
    "    \"\"\"Write `content` to the file at path `fname`.\"\"\"\n",
    "    try:\n",
    "        with open(fname, mode) as f:\n",
    "            f.write(content)\n",
    "    except:\n",
    "        raise IOError(\"Could not open file.\")"
   ]
  },
  {
   "cell_type": "markdown",
   "metadata": {},
   "source": [
    "## Partie 1 - Chiffrer un fichier\n",
    "\n",
    "Pour chiffrer des fichiers généraux, on fera vite apparaître des caractères incompréhensibles. Pour éviter d'avoir à comprendre en détail le fonctionnement de l'[UTF-8](https://fr.wikipedia.org/wiki/UTF-8), on ne considère que les caractères qui correspondent à de l'[ASCII](https://www.ascii-code.com/fr) (étendu). Cela correspond aux caractères dont le «point de code» renvoyé par la fonction `ord` se situe entre 0 et 225. Les autres ne seront pas modifiés."
   ]
  },
  {
   "cell_type": "markdown",
   "metadata": {},
   "source": [
    "### 1.1. Correspondance nombre-caractère\n",
    "\n",
    "Les caractères ASCII indexés entre 0 et 31 sont dits «de contrôle». On ne peut pas éviter le 10 (retour à la ligne), mais on souhaite éviter les autres dont certains sont *vraiment* problématiques (genre une fin de texte). \n",
    "\n",
    "Ainsi, si le caractère `c` est un retour à la ligne (indexé par 10), il donne 0. S'il est indexé entre 32 et 255, il est décalé entre 1 et 224. Si `ord(c)` est entre 0 et 31 mais n'est pas 10, la fonction doit renvoyer une erreur. Si `ord(c)` est plus grand que 256, sa valeur ne doit pas être modifiée. Tout ceci est illustré dans le tableau ci-dessous.\n",
    "\n",
    "| caractère `c`  | `\"+\"` | `\"a\"` | `\"\\n\"` | `\"–\"` |\n",
    "|----------------|-------|-------|--------|-------|\n",
    "| `ord(c)`       |    43 |    97 |    10  |  8211 |\n",
    "| valeur encodée |    12 |    66 |     0  |  8211 |\n",
    "\n",
    "**TODO**  \n",
    "Coder les fonctions `char_to_num` et `num_to_char` qui correspondent à cette conversion."
   ]
  },
  {
   "cell_type": "code",
   "execution_count": null,
   "metadata": {},
   "outputs": [],
   "source": [
    "def char_to_num(c: str):\n",
    "    pass  # TODO\n",
    "\n",
    "\n",
    "def num_to_char(n: int):\n",
    "    pass  # TODO"
   ]
  },
  {
   "cell_type": "markdown",
   "metadata": {},
   "source": [
    "### 1.2. Chiffrement César\n",
    "\n",
    "\n",
    "**TODO**  \n",
    "Implémenter le chiffrement de César à partir d'un message en clair et d'une clé.\n",
    "Attention à prendre en compte le cas particulier des caractères encodés au-delà de 225 (exclus), qui doivent être ignorés."
   ]
  },
  {
   "cell_type": "code",
   "execution_count": null,
   "metadata": {},
   "outputs": [],
   "source": [
    "def encode_cesar(clear_message: str, key: str):\n",
    "    pass  # TODO"
   ]
  },
  {
   "cell_type": "markdown",
   "metadata": {},
   "source": [
    "### 1.3. Chiffrement d'un fichier\n",
    "\n",
    "On fournit ci-dessous un petit code qui permet de lire un fichier `wiki-article1-clear.xml`, de l'encoder avec le chiffrement César, et de sauvegarder le résultat dans un fichier `wiki-article1-ciphered.txt`.\n",
    "\n",
    "**TODO**  \n",
    "Assurez-vous que la procédure de chiffrement fonctionne, et rend bien le document chiffré illisible pour un humain."
   ]
  },
  {
   "cell_type": "code",
   "execution_count": null,
   "metadata": {},
   "outputs": [],
   "source": [
    "fprefix = \"wiki-article1\"\n",
    "clear_str = readfile(f\"{fprefix}-clear.xml\")\n",
    "cipher_str = encode_cesar(clear_str, \"B\")\n",
    "writefile(f\"{fprefix}-ciphered.txt\", cipher_str)"
   ]
  },
  {
   "cell_type": "markdown",
   "metadata": {},
   "source": [
    "### 1.4. Déchiffrement\n",
    "\n",
    "**TODO**  \n",
    "Implémenter `decode_cesar` et le tester sur le fichier précédemment chiffré."
   ]
  },
  {
   "cell_type": "code",
   "execution_count": null,
   "metadata": {},
   "outputs": [],
   "source": [
    "def decode_cesar(cipher_message: str, key: str):\n",
    "    pass  # TODO\n",
    "\n",
    "\n",
    "# TODO charger, déchiffrer et sauvegarder"
   ]
  },
  {
   "cell_type": "markdown",
   "metadata": {},
   "source": [
    "## Partie 2 - Distribution des caractères"
   ]
  },
  {
   "cell_type": "markdown",
   "metadata": {},
   "source": [
    "### 2.1. Calcul de fréquence des caractères\n",
    "\n",
    "**TODO**  \n",
    "À l'aide de la fonction [`numpy.unique_counts`](https://numpy.org/doc/stable//reference/generated/numpy.unique_counts.html), déterminer la fréquence d'apparition de chaque caractère dans un texte en complétant la fonction `charfreqs_from_file` ci-dessous."
   ]
  },
  {
   "cell_type": "code",
   "execution_count": null,
   "metadata": {},
   "outputs": [],
   "source": [
    "def charfreqs_from_file(fname):\n",
    "    \"\"\"\n",
    "    Calculate the frequency of each character in a file.\n",
    "    Parameters:\n",
    "        fname (str): The path to the file from which to read the characters.\n",
    "    Returns:\n",
    "        chars (numpy array): An array of unique characters sorted by frequency in descending order.\n",
    "        freqs (numpy array): An array of corresponding frequencies of the characters.\n",
    "    \"\"\"\n",
    "    pass  # TODO"
   ]
  },
  {
   "cell_type": "markdown",
   "metadata": {},
   "source": [
    "### 2.2. Affichage des caractères les plus fréquents\n",
    "\n",
    "En s'inspirant [d'un tutoriel matplotlib](https://matplotlib.org/stable/gallery/lines_bars_and_markers/barchart.html), on obtient l'affichage des caractères les plus fréquents pour les différents fichiers."
   ]
  },
  {
   "cell_type": "code",
   "execution_count": null,
   "metadata": {},
   "outputs": [],
   "source": [
    "clear1_chars, clear1_counts = charfreqs_from_file(\"wiki-article1-clear.xml\")\n",
    "clear2_chars, clear2_counts = charfreqs_from_file(\"wiki-article2-clear.xml\")\n",
    "cipher_chars, cipher_counts = charfreqs_from_file(\"wiki-article3-ciphered.txt\")\n",
    "\n",
    "n_shown = 7\n",
    "x = np.arange(n_shown)  # the label locations\n",
    "\n",
    "fig, ax = plt.subplots(figsize=(9, 3), layout=\"constrained\")\n",
    "\n",
    "width = 0.28  # the width of the bars\n",
    "multiplier = 0\n",
    "\n",
    "clear1_bars = ax.bar(x - width, clear1_counts[:n_shown], width=width, label=\"clear 1\")\n",
    "ax.bar_label(clear1_bars, labels=clear1_chars[:n_shown], padding=3, fontsize=\"small\")\n",
    "\n",
    "clear2_bars = ax.bar(x, clear2_counts[:n_shown], width=width, label=\"clear 2\")\n",
    "ax.bar_label(clear2_bars, labels=clear2_chars[:n_shown], padding=3, fontsize=\"small\")\n",
    "\n",
    "cipher_bars = ax.bar(x + width, cipher_counts[:n_shown], width=width, label=\"cyphered\")\n",
    "ax.bar_label(cipher_bars, labels=cipher_chars[:n_shown], padding=3, fontsize=\"small\")\n",
    "\n",
    "ax.set_xticks([], [])\n",
    "ax.legend(loc=\"upper right\", ncols=3)\n",
    "ax.set_ylim(0, 1.1 * max(max(clear1_counts), max(clear2_counts), max(cipher_counts)))\n",
    "\n",
    "plt.show()"
   ]
  },
  {
   "cell_type": "markdown",
   "metadata": {},
   "source": [
    "### 2.3. Déterminer la clé\n",
    "\n",
    "**TODO**  \n",
    "Grâce au graphe précédent, déterminer un moyen de trouver la clé qui a chiffré le fichier `wiki-article3-ciphered.txt`. Vous pouvez alors déchiffrer le fichier. De quelle page Wikipédia s'agit-il ?"
   ]
  },
  {
   "cell_type": "code",
   "execution_count": null,
   "metadata": {},
   "outputs": [],
   "source": []
  },
  {
   "cell_type": "markdown",
   "metadata": {},
   "source": [
    "## Partie 3 - Pour aller plus loin"
   ]
  },
  {
   "cell_type": "markdown",
   "metadata": {},
   "source": [
    "### 3.1. La version facile\n",
    "\n",
    "**TODO**  \n",
    "On sait qu'il s'agit d'un fichier XML d'une page Wikipédia. Utiliser votre connaissance des fichiers en clair pour identifier immédiatement la clé de chiffrement."
   ]
  },
  {
   "cell_type": "code",
   "execution_count": null,
   "metadata": {},
   "outputs": [],
   "source": []
  },
  {
   "cell_type": "markdown",
   "metadata": {},
   "source": [
    "### 3.2. Les N-grammes\n",
    "\n",
    "**TODO**  \n",
    "Pour certains chiffrement, on préfère avoir accès aux [n-grammes](https://fr.wikipedia.org/wiki/N-gramme). Adapter la fonction `charfreqs_from_file` en une fonction `bifreqs_from_file` pour calculer les fréquences et occurrences des bigrammes, les couples de caractères. Reproduire l'affichage de 2.2 pour ces nouvelles données."
   ]
  },
  {
   "cell_type": "code",
   "execution_count": null,
   "metadata": {},
   "outputs": [],
   "source": []
  },
  {
   "cell_type": "markdown",
   "metadata": {},
   "source": [
    "### 3.3. Chiffrement Vigenère\n",
    "\n",
    "Dans le cas d'un chiffrement Vigenère, la clé est répétée par blocs. Comment identifier la taille des blocs en même temps que la clé ?"
   ]
  },
  {
   "cell_type": "code",
   "execution_count": null,
   "metadata": {},
   "outputs": [],
   "source": []
  }
 ],
 "metadata": {
  "kernelspec": {
   "display_name": "crypto",
   "language": "python",
   "name": "python3"
  },
  "language_info": {
   "codemirror_mode": {
    "name": "ipython",
    "version": 3
   },
   "file_extension": ".py",
   "mimetype": "text/x-python",
   "name": "python",
   "nbconvert_exporter": "python",
   "pygments_lexer": "ipython3",
   "version": "3.12.4"
  }
 },
 "nbformat": 4,
 "nbformat_minor": 2
}
