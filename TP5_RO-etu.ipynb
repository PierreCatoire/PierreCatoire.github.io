{
 "cells": [
  {
   "cell_type": "markdown",
   "id": "dae9a68c-d4ff-453f-add3-4d3e88548ad6",
   "metadata": {},
   "source": [
    "# TP5: Initiation à la recherche opérationnelle\n",
    "\n",
    "La *recherche opérationnelle* est un domaine se situant à l'intersection entre mathématiques appliquées, informatique et économie, qui a pour but de résoudre des problèmes d'optimisation dans diverses situations: combinatoire, aléatoire ou concurrentiel (lorsque nos propres actions influent les réactions des autres).\n",
    "\n",
    "Dans le cadre de cette initiation, nous allons nous concentrer principalement sur des problèmes combinatoires. \n",
    "\n",
    "Pour ce premier TP, nous verrons plusieurs types de problème classiques en recherche opérationnelle dans un cadre combiantoire.\n",
    "\n",
    "## 1. Outils de Bases\n",
    "\n",
    "#### Les graphes non-orientés\n",
    "\n",
    "Un graphe pondéré $G$ est la donnée $(V,E,\\omega)$ où $V$ est l'ensemble des *sommets* de $G$, $E$ est l'ensemble des *arêtes* et $\\omega:E \\rightarrow \\mathbb{N}$ est la fonction qui associe à une arête son *poids*. \n",
    "\n",
    "![image](graphe_poids.png)\n",
    "\n",
    "Un tel graphe peut-être interprété comme un problème concrêt. Par exemple, les sommets peuvent correspondre à des villes, les arêtes peuvent correspondre à des routes et les poids associés peuvent représenter des distances ou des coûts de voyage.\n",
    "\n",
    "Pour représenter un tel graphe, nous allons utiliser sa *matrice d'adjacence*. La matrice d'adjacence du graphe ci dessus est:\n",
    "$$\n",
    "\\begin{array}{c|ccccccc}\n",
    "  & A & B & C  & D & E & F & G \\\\\n",
    "A & 0 & 4 & 0  & 0 & 6 & 0 & 0 \\\\\n",
    "B & 4 & 0 & 2  & 3 & 0 & 0 & 0 \\\\\n",
    "C & 0 & 2 & 0  &11 & 0 & 0 & 0 \\\\\n",
    "D & 0 & 3 &11  & 0 & 7 & 0 & 0 \\\\\n",
    "E & 6 & 0 & 0  & 7 & 0 & 7 & 4 \\\\\n",
    "F & 0 & 0 & 0  & 0 & 7 & 0 & 5 \\\\\n",
    "G & 0 & 0 & 0  & 0 & 4 & 5 & 0\n",
    "\\end{array}\n",
    "$$\n",
    "\n",
    "A la $i$-ème ligne et colonne $j$ figure le poids de l'arête allant de $i$ à $j$. Comme le graphe est non-orienté, la matrice d'adjacence du graphe est *symétrique*.\n",
    "\n",
    "Un dit qu'un sommet $y$ est *voisin* d'un sommet $x$, s'il existe une arête entre ces deux sommets.\n",
    "\n",
    "**TODO**: grâce à la bibliothèque *numpy* coder la matrice d'adjacence de la matrice ci-dessus.\n"
   ]
  },
  {
   "cell_type": "code",
   "execution_count": 1,
   "id": "104daddd-4abf-4167-9db3-56d8eec0210a",
   "metadata": {},
   "outputs": [],
   "source": [
    "import numpy as np\n",
    "pass"
   ]
  },
  {
   "cell_type": "markdown",
   "id": "d0cd0e99-c77f-453a-8fa2-b4c256856ae6",
   "metadata": {},
   "source": [
    "#### Les arbres pondérés\n",
    "\n",
    "Un *arbre pondéré* est un graphe pondéré bien particulier. Il vérifie les deux propriétés suivantes:\n",
    "- il est *connexe*, c'est-à-dire que toute paire de sommet $(x,y)$ il existe un chemin de $x$ vers $y$;\n",
    "- il est *sans boucle*, c'est-à-dire que tout chemin du graphe ne passent pas deux fois par le même sommet.\n",
    "\n",
    "**TODO:** Coder une fonction *voisins(A,j)* qui renvoie les voisins du $j$-ème sommet du graphe de matrice d'adjacence $A$. "
   ]
  },
  {
   "cell_type": "code",
   "execution_count": 3,
   "id": "b35da5d9-e797-40f0-8857-da3297d17ad3",
   "metadata": {},
   "outputs": [],
   "source": [
    "def voisins(A,j):\n",
    "    pass"
   ]
  },
  {
   "cell_type": "code",
   "execution_count": 5,
   "id": "bba50189-f4fd-402d-bd3e-641df0f09974",
   "metadata": {},
   "outputs": [
    {
     "ename": "NameError",
     "evalue": "name 'A' is not defined",
     "output_type": "error",
     "traceback": [
      "\u001b[1;31m---------------------------------------------------------------------------\u001b[0m",
      "\u001b[1;31mNameError\u001b[0m                                 Traceback (most recent call last)",
      "Cell \u001b[1;32mIn[5], line 1\u001b[0m\n\u001b[1;32m----> 1\u001b[0m voisins(A,\u001b[38;5;241m3\u001b[39m)\n",
      "\u001b[1;31mNameError\u001b[0m: name 'A' is not defined"
     ]
    }
   ],
   "source": [
    "voisins(A,3)"
   ]
  },
  {
   "cell_type": "markdown",
   "id": "1171c230-7d1f-42b7-9c2d-53746cdca734",
   "metadata": {},
   "source": [
    "**TODO**: Coder une fonction *is_tree(A)* qui vérifie si la matrice d'adjacence du graphe $A$ correspond à la la matrice d'adjacence d'un arbre.\n",
    "\n",
    "Donné généreusement ici."
   ]
  },
  {
   "cell_type": "code",
   "execution_count": 7,
   "id": "7ec9a207-4c79-40ef-a1a2-a30446a3a841",
   "metadata": {},
   "outputs": [],
   "source": [
    "def is_tree(A):\n",
    "    Visited={0}\n",
    "    current_place=0\n",
    "    n=len(A)\n",
    "    cpt=0\n",
    "    for v in range(n):\n",
    "        for x in voisins(A,v):\n",
    "            Visited=Visited| {x}\n",
    "            cpt=cpt+1\n",
    "    # Si Visited contient toutes les colonnes cela signifie que le graphe est connexe.\n",
    "    if cpt/2==n-1:\n",
    "        if Visited=={i for i in range(n)}:\n",
    "            return True\n",
    "    return False"
   ]
  },
  {
   "cell_type": "code",
   "execution_count": 8,
   "id": "7898a2eb-0e98-4930-97a3-59756c7b6bdc",
   "metadata": {},
   "outputs": [
    {
     "data": {
      "text/plain": [
       "False"
      ]
     },
     "execution_count": 8,
     "metadata": {},
     "output_type": "execute_result"
    }
   ],
   "source": [
    "is_tree(A)"
   ]
  },
  {
   "cell_type": "code",
   "execution_count": 9,
   "id": "040032cc-1619-4ed4-b051-40dcd97f37ed",
   "metadata": {},
   "outputs": [
    {
     "data": {
      "text/plain": [
       "array([[0, 1, 0, 1],\n",
       "       [1, 0, 1, 0],\n",
       "       [0, 1, 0, 0],\n",
       "       [1, 0, 0, 0]])"
      ]
     },
     "execution_count": 9,
     "metadata": {},
     "output_type": "execute_result"
    }
   ],
   "source": [
    "B=np.array([[0,1,0,1],[1,0,1,0],[0,1,0,0],[1,0,0,0]])\n",
    "B"
   ]
  },
  {
   "cell_type": "code",
   "execution_count": 10,
   "id": "19810803-d63c-469b-8229-679a44148a88",
   "metadata": {},
   "outputs": [
    {
     "data": {
      "text/plain": [
       "True"
      ]
     },
     "execution_count": 10,
     "metadata": {},
     "output_type": "execute_result"
    }
   ],
   "source": [
    "is_tree(B)"
   ]
  },
  {
   "cell_type": "markdown",
   "id": "975329ac-6cb0-4846-b602-4fa2fde5c7fd",
   "metadata": {},
   "source": [
    "**TODO**: écrire une fonction *poids_total(A)* qui calcule le poids total d'un graphe via sa matrice d'adjacence $A$. \n",
    "\n",
    "Donné généreusement ici."
   ]
  },
  {
   "cell_type": "code",
   "execution_count": 14,
   "id": "c47829ce-747b-4a8a-aac0-12a76d6f113f",
   "metadata": {},
   "outputs": [],
   "source": [
    "def poids_total(A):\n",
    "    sum=0\n",
    "    n=len(A)\n",
    "    for i in range(n):\n",
    "        for j in range(n):\n",
    "            sum=sum+A[i,j]\n",
    "    return sum/2 #car on compte deux fois les arêtes dans le cas non-orienté"
   ]
  },
  {
   "cell_type": "code",
   "execution_count": 20,
   "id": "44617c95-ddb9-4326-a940-9ef3da290a9a",
   "metadata": {},
   "outputs": [
    {
     "data": {
      "text/plain": [
       "49.0"
      ]
     },
     "execution_count": 20,
     "metadata": {},
     "output_type": "execute_result"
    }
   ],
   "source": [
    "poids_total(A)"
   ]
  },
  {
   "cell_type": "markdown",
   "id": "3847bcf2-5ea3-4784-bd1f-9bd443f74fa2",
   "metadata": {},
   "source": [
    "## 1.2. Cas particulier des graphes orientés\n"
   ]
  },
  {
   "cell_type": "markdown",
   "id": "0799a7bf-6e60-42c7-820e-fabd2d242cea",
   "metadata": {},
   "source": [
    "Un graphe orienté pondéré $G$ est la donnée $(V,E,\\omega)$ où $V$ est l'ensemble des *sommets* de $G$, $E$ est l'ensemble des *arcs* et $\\omega:E \\rightarrow \\mathbb{N}$ est la fonction qui associe à une arête son *poids*. \n",
    "\n",
    "![image](graphe_oriented.png)\n",
    "\n",
    "Un tel graphe peut-être interprété comme un problème concrêt. Par exemple, les sommets peuvent correspondre à des villes, les arêtes peuvent correspondre à des routes et les poids associés peuvent représenter des distances ou des coûts de voyage.\n",
    "\n",
    "Pour représenter un tel graphe, nous allons utiliser sa *matrice d'adjacence*. La matrice d'adjacence du graphe ci dessus est:\n",
    "$$\n",
    "\\begin{array}{c|ccccccc}\n",
    "  & 1 & 2 & 3  & 4 & 5 & 6 & 7 \\\\\n",
    "1 & 0 & 5 & 0  & 3 & 12 & 5 & 0 \\\\\n",
    "2 & 0 & 0 & 0  & 1 & 0 & 0 & 0 \\\\\n",
    "3 & 0 & 0 & 0  & 0 & 0 & 16 & 0 \\\\\n",
    "4 & 0 & 0 & 0  & 0 & 1 & 0 & 1 \\\\\n",
    "5 & 0 & 0 & 1  & 0 & 0 & 2 & 0 \\\\\n",
    "6 & 0 & 0 & 0  & 0 & 0 & 0 & 0 \\\\\n",
    "7 & 0 & 0 & 0  & 0 & 0 & 0 & 0\n",
    "\\end{array}\n",
    "$$\n",
    "Le coefficient ligne $i$ colonne $j$ représente le poids de l'arête $(i,j)$.\n",
    "\n",
    "**TODO**: dans le cas des graphes orientés pondérés, écrire des fonctions *prev_or* et *next_or* qui donne les prédecesseurs et les successeurs du point passé en argument, *is_tree_or* qui donne si le graphe orienté est une arborescence et *poids_total_or* renvoyant le poids total du graphe."
   ]
  },
  {
   "cell_type": "code",
   "execution_count": null,
   "id": "b8293dfd-bbe1-4836-b9fe-362e399e9a30",
   "metadata": {},
   "outputs": [],
   "source": []
  },
  {
   "cell_type": "code",
   "execution_count": 19,
   "id": "73b87020-deb4-44ce-8e21-6c767040686e",
   "metadata": {},
   "outputs": [],
   "source": [
    "def prev_or(A,j):\n",
    "    pass\n",
    "    \n",
    "def succ_or(A,j):\n",
    "    pass\n",
    "\n",
    "def is_tree_or(A):\n",
    "    pass\n",
    "    \n",
    "def poids_total_or(A):\n",
    "    pass"
   ]
  },
  {
   "cell_type": "code",
   "execution_count": 28,
   "id": "eed679c1-df86-49d8-917d-ed8d7f2316de",
   "metadata": {},
   "outputs": [
    {
     "data": {
      "text/plain": [
       "[]"
      ]
     },
     "execution_count": 28,
     "metadata": {},
     "output_type": "execute_result"
    }
   ],
   "source": [
    "prev_or(B,0)"
   ]
  },
  {
   "cell_type": "code",
   "execution_count": 30,
   "id": "8290ba8b-0a5b-4328-ac35-f38a0b169c7b",
   "metadata": {},
   "outputs": [
    {
     "data": {
      "text/plain": [
       "[1, 3, 4, 5]"
      ]
     },
     "execution_count": 30,
     "metadata": {},
     "output_type": "execute_result"
    }
   ],
   "source": [
    "succ_or(B,0)"
   ]
  },
  {
   "cell_type": "code",
   "execution_count": null,
   "id": "a84f2344-cdd7-4281-9c5b-8a0f60f9366f",
   "metadata": {},
   "outputs": [],
   "source": []
  },
  {
   "cell_type": "code",
   "execution_count": 33,
   "id": "3ed7bc94-97b5-4f56-ba76-f5af4381e444",
   "metadata": {},
   "outputs": [
    {
     "data": {
      "text/plain": [
       "True"
      ]
     },
     "execution_count": 33,
     "metadata": {},
     "output_type": "execute_result"
    }
   ],
   "source": [
    "is_tree_or(T)"
   ]
  },
  {
   "cell_type": "code",
   "execution_count": 35,
   "id": "44a896fd-2e3b-4699-b446-1661ff334da6",
   "metadata": {},
   "outputs": [
    {
     "data": {
      "text/plain": [
       "47"
      ]
     },
     "execution_count": 35,
     "metadata": {},
     "output_type": "execute_result"
    }
   ],
   "source": [
    "poids_total_or(B)"
   ]
  },
  {
   "cell_type": "markdown",
   "id": "ce1cdec9-6528-46a9-8aec-112af6dece6d",
   "metadata": {},
   "source": [
    "## 1.4. Difficultés\n",
    "\n",
    "En réalité, l'algorithme glouton ne donne pas la meilleure solution pour les problèmes du voyageur de commerce et du sac à dos.\n",
    "En revanche, il donne toujours la solution optimale pour le problème de l'arbre couvrant minimal et cet algorithme porte alors le nom d'algorithme de *Kruskal*.\n",
    "\n",
    "Remarquons qu'une méthode gloutonne n'est pas très efficace sur la recherche de l'algorithme de plus court chemin. Un algorithme plus efficace comme celui de *Dijkstra* est à privilégier dans ce cas.\n",
    "\n",
    "# 2. La programmation linéaire\n",
    "\n",
    "Un problème de *programmation linéaire* sur les données $(x_j)_{j=1,\\dots, m}$ est de la forme:\n",
    "$$\n",
    "\\begin{align}\n",
    "opt(x)=& \\sum_{j=1}^n c_j x_j \\\\\n",
    "\\forall i\\in\\{1,\\dots,p\\},& \\sum_{j=1}^n t_{i,j}x_j \\geq d_i \\\\\n",
    "\\forall i\\in\\{p+1,\\dots,m\\}& \\sum_{j=1}^n t_{i,j}x_j = d_i \\\\\n",
    "\\forall j\\in\\{1,\\dots,q\\}, & x_j\\geq 0 \n",
    "\\end{align}\n",
    "$$\n",
    "avec:\n",
    "- $(c_j)_{j=1,\\dots, n}$ une suite de $n$ constantes,\n",
    "- $(d_i)_{i=1,\\dots, m}$ une suite de $m$ contraintes,\n",
    "-  $(t_{i,j})_{i\\in\\{1,\\dots,m\\},j\\in\\{1,\\dots,n\\}}$ une suite de nombre réels appelés *coefficients technologiques*,\n",
    "-  enfin $q$ et $p$ sont deux entiers entre $1$ et $n$.\n",
    "\n",
    "La quantité à optimiser *opt* est appelée la *fonction objectif*, les dernières contraintes sont des *contraintes de positivités* et les autres sont des *contraintes réelles.*\n",
    "\n",
    "*Remarque:* dans l'équation ci-dessus une contrainte exprimée avec $\\geq$ peut-être exprimée avec $\\leq$ en multipliant l'équation par $-1$.\n",
    "\n",
    "En utilisant des notations vectorielles, on a:\n",
    "$$\n",
    "\\begin{align}\n",
    "opt=& c\\cdot x \\\\\n",
    "\\forall i\\in\\{1,\\dots,p\\}, & \\tau_i\\cdot x \\leq d_i \\\\\n",
    "\\forall i\\in\\{p+1,\\dots,m\\}, & \\tau_i\\cdot x = d_i \\\\\n",
    "\\forall j\\in\\{1,\\dots,q\\}, & x_j\\geq 0 \n",
    "\\end{align}\n",
    "$$\n",
    "en posant:\n",
    "$$\n",
    "\\begin{align*}\n",
    "x=\\begin{pmatrix}\n",
    "x_1 \\\\\n",
    "\\vdots \\\\\n",
    "x_n\n",
    "\\end{pmatrix}, c=(c_1,\\dots,c_n), d=(d_1,\\dots, d_m), T=(t_{i,j})_{\\substack{i=1,\\dots, m \\\\ j=1,\\dots, n}}, \\tau_i=(t_{i,1},\\dots,t_{i,n}), t_j=(t_{1,j},\\dots, t_{m,j}).\n",
    "\\end{align*}\n",
    "$$\n",
    "Dans ce contexte, on appelle $T$ *matrice technologique*.\n",
    "\n",
    "On supposera que l'optimisation à réaliser est toujours une *minimisation*. \n",
    "\n",
    "En effectuant des manipulations élémentaires, un problème de programmation linéaire admet deux formes.\n",
    "\n",
    "*Remarque:* en dédoublant les variables, on peut toujours supposer que les variables sont toujours positives:\n",
    "$$\n",
    "x=x^+-x^- \\text{ avec } x^+ \\geq 0 \\text{ et } x^-\\geq 0.\n",
    "$$\n",
    "\n",
    "## 2.A. Différentes formulations\n",
    "### 2.A.1 La formulation standard\n",
    "\n",
    "La *formulation standard* permet d'écrire un problème de programmation linéaire en utilisant uniquement des égalités.\n",
    "\n",
    "Pour ce faire on remplace les conditions $\\leq$ avec des $=$ en introduisant des *variables d'écart*:\n",
    "$$\n",
    "\\tau_i\\cdot x\\leq d_i \\leftrightarrow \\tau_i\\cdot x_i - x_i^e=d_i \\text{ et } x_i^e\\geq 0.\n",
    "$$\n",
    "Ainsi, on peut réécrire le problème avec:\n",
    "$$\n",
    "\\begin{align}\n",
    "\\min z=& c\\cdot x \\\\\n",
    "T\\cdot x&=d \\\\\n",
    "x\\geq 0\n",
    "\\end{align}\n",
    "$$\n",
    "\n",
    "### 2.A.2 Le formulation canonique\n",
    "\n",
    "Les cas $=$ peuvent être écrits grâce à deux symboles  $\\geq$ comme suit:\n",
    "$$\n",
    "\\tau_i\\cdot x \\leftrightarrow \\begin{cases}\n",
    "-\\tau_i\\cdot x \\geq -d_i, \\\\\n",
    "\\tau_i\\cdot x \\geq d_i.\n",
    "\\end{cases}\n",
    "$$\n",
    "\n",
    "Ainsi, quitte à dédoubler les contraintes, on peut toujours écrire le programme linéaire sous la forme suivante:\n",
    "$$\n",
    "\\begin{align}\n",
    "\\min z=& c\\cdot x \\\\\n",
    "T\\cdot x&\\geq d \\\\\n",
    "x\\geq 0\n",
    "\\end{align}\n",
    "$$\n",
    "\n",
    "## 2.B. Un exemple en variable continue\n",
    "\n",
    "### 2.B.1. Cas continu\n",
    "\n",
    "Les problèmes de programmation linéaire apparaissent dans différents domaines de la vie courante: en économie, pour optimiser une production, pour créer des mélanges, pour optimiser un système de transport...\n",
    "\n",
    "But: minimiser une quantité sur les variables $x_1$ et $x_2$ en respectant les contraintes.\n",
    "\n",
    "Prenons par exemple $c_1=4,c_2=6$, $d_1=13$ et $d_2=11$, puis comme conditions technologiques:\n",
    "$$\n",
    "T=\\begin{pmatrix}\n",
    "4 & 7 \\\\\n",
    "3 & 6\n",
    "\\end{pmatrix}\n",
    "$$\n",
    "Considérons le problème de programmation linéaire suivant:\n",
    "$$\n",
    "\\begin{align}\n",
    "\\max( & 4\\cdot x_1+6\\cdot x_2) \\\\\n",
    "& 2\\cdot x_1 + 2\\cdot x_2 \\leq 13 \\\\\n",
    "& 2\\cdot x_1 + 4\\cdot x_2 \\leq 19 \\\\\n",
    "& x_i \\geq 0.\n",
    "\\end{align}\n",
    "$$\n",
    "\n",
    "\n",
    "**TODO**: Représenter l'espace de recherche avec la librairie *matplotblib*."
   ]
  },
  {
   "cell_type": "code",
   "execution_count": 21,
   "id": "f945c88c-3867-457f-b764-cbf8235ff7bd",
   "metadata": {},
   "outputs": [],
   "source": [
    "import matplotlib.pyplot as plt\n",
    "import numpy as np"
   ]
  },
  {
   "cell_type": "code",
   "execution_count": null,
   "id": "bb012b60-9752-4467-83c3-394e7a562ff5",
   "metadata": {},
   "outputs": [],
   "source": []
  },
  {
   "cell_type": "markdown",
   "id": "d655ab4a-d838-475f-9da3-20396fe5729b",
   "metadata": {},
   "source": [
    "Remarquez que cela dessine un *polygone*. Ceci arrive toujours dans le cas de problème de programmation linéaire. Puis, nous avons le théorème suivant:\n",
    "\n",
    "**Théorème**: La solution d'un problème de programmation linéaire est soit:\n",
    "- un *sommet* du polygone obtenu;\n",
    "- un *côté* du polygone;\n",
    "- si le polygone n'est pas borné, il est possible qu'il n'y ait pas de solution optimale finie.\n",
    "\n",
    "**TODO**: Faire glisser des familles de droites d'équations $y=4/6 x +c$ avec différentes valeurs de $c$. Déterminer la solution optimale à partir de cela."
   ]
  },
  {
   "cell_type": "code",
   "execution_count": 23,
   "id": "615c4c8d-0d8a-4cb6-a727-4bfb7b415d17",
   "metadata": {},
   "outputs": [],
   "source": [
    "pass"
   ]
  },
  {
   "cell_type": "markdown",
   "id": "5207b918-77ac-4c54-b49e-55b997889b02",
   "metadata": {},
   "source": [
    "Dans l'exemple donné ci-dessus, on constate que les solutions du cas continu et du cas discret ne sont a priori pas liées. En règle générale, résoudre un porblème continue est plus facile que de résoudre un problème discret."
   ]
  },
  {
   "cell_type": "markdown",
   "id": "cf87f853-8eb0-4838-ba09-ffb5100fcd28",
   "metadata": {},
   "source": [
    "### 2.B.2. Comparaison avec le cas discret\n",
    "\n",
    "Maintenant, nous souhaitons que notre solution soit à coordonnées entières. Nous verrons que la nature du problème s'en trouve drastiquement changée.\n",
    "\n",
    "**TODO**: Représenter tous les points à coordonnées entières éligible pour résoudre le problème. Une fois cela fait, utiliser la méthode graphique vue précédemment pour trouver le point optimal."
   ]
  },
  {
   "cell_type": "code",
   "execution_count": 25,
   "id": "8ecfe581-81bc-48e1-ab2e-89fdc9802f6d",
   "metadata": {},
   "outputs": [],
   "source": [
    "pass"
   ]
  },
  {
   "cell_type": "markdown",
   "id": "a14b19c0-e341-4f47-b571-db9769245d9a",
   "metadata": {},
   "source": [
    "Dans un cadre plus général, le nombre de sommets du polygone obtenu augmente en fonction des contraintes à appliquer. Leur multitude ne permet pas de visister tous ces sommets directement. Il sera donc nécessaire d'avoir recours à une stratégie plus fine comme celle donnée dans l'*algorithme du simplexe*."
   ]
  },
  {
   "cell_type": "markdown",
   "id": "ef32246b-2630-47be-97e5-13353f4b47a8",
   "metadata": {},
   "source": [
    "## 2.B Le problème du flot maximal\n",
    "\n",
    "Le *problème du flot maximal* sur un graphe est un problème pouvant être interprété comme un problème de programmation linéaire.\n",
    "\n",
    "On travaille généralement avec des graphes que nous appelons *réseau de transport*, ce sont des graphes orientés avec une *source* et un *puits* vérifiant:\n",
    "- la source n'a pas de prédecesseurs;\n",
    "- le puits n'a pas de successeurs;\n",
    "- tout sommet du graphe est accessible à partir de la source;\n",
    "- tout sommet du graphe admet un chemin jusqu'au puits.\n",
    "\n",
    "### 2.B.1 Qu'est ce que c'est ?\n",
    "\n",
    "Considérons le graphe suivant:\n",
    "\n",
    "![image](graphe_oriented.png)\n",
    "\n",
    "Ce graphe peut représenter un système hydraulique. Imaginons qu'il y ait un château d'eau au noeud 1 et que nous souhaitons amener un maximum d'eau sur un autre noeud de du graphe. Les décorations sur les arêtes du graphe représente une *capacité de transport* d'une canalisation. Le problème que l'on se pose est le suivant: \"Quelle configuration faut-il adopter pour amener une quantité maximale d'eau en un point donné ?\"\n",
    "\n",
    "Ce problème s'appelle la recherche de *flot maximal*.\n",
    "\n",
    "### 2.B.2 Point de vue de la programmation linéaire en variables entières\n",
    "\n",
    "Numérotons de $1$ à $n$ les sommets du graphe, puis identifions les poids des arcs $(i,j)$ du graphe avec une quantité $c_{i,j}$. \n",
    "\n",
    "Notons $\\varphi_{i,j}$ le *flot* à faire passer dans l'arc $(i,j)$. Pour tout arc $(i,j)$, nous avons une contrainte à respecter: $\\varphi_{i,j}\\leq c_{i,j}$ plus une contrainte physique du type loi de conservation de la matière.\n",
    "\n",
    "Pour tout $i\\in\\{1,\\dots,n\\}$, notons $\\Gamma^-(i)$ l'ensemble des *prédecesseurs* du noeud $i$ et $\\Gamma^+(i)$ l'ensemble de ses *successeurs*.\n",
    "\n",
    "Du point de vue de la programmation linéaire, la recherche du *flot maximal* de $1$ vers $C$ revient à résoudre le problème suivant:\n",
    "$$\n",
    "\\begin{align*}\n",
    "opt(\\varphi)&= \\sum_{i\\in\\Gamma^-(C)} \\varphi_{i,C} \\\\\n",
    "\\forall (i,j)\\in\\{1,\\dots,n\\}^2, &\\varphi_{i,j}\\leq c_{i,j} \\\\\n",
    "\\forall i\\in\\{2,\\dots,n\\}, & \\sum_{j_-\\in \\Gamma^-(i)} \\varphi_{j_-,i}=\\sum_{j_+ \\in \\Gamma^+(i,j_+)} \\varphi(i,j_+) \\\\\n",
    "\\varphi_{i,j}&\\in\\mathbb{N}.\n",
    "\\end{align*}\n",
    "$$\n",
    "\n",
    "On peut s'intéresser au problème du flot maximal en considérant le réseau de transport dans ce graphe de source $1$ et de puits $6$. \n",
    "\n",
    "**TODO**: Programmer une fonction *is_flot(flot,G,s,p)* où $s$ est la source du réseau et $p$ le puits, $G$ est la matrice du graphe, qui vérifie si la matrice des *flots* désigne bien un flot de la source $s$ vers la cible $p$ respectant les contraintes de conservation.  "
   ]
  },
  {
   "cell_type": "code",
   "execution_count": 27,
   "id": "a948dd53-6992-4af5-a809-51b7887b7a95",
   "metadata": {},
   "outputs": [],
   "source": [
    "def is_flot(flot,G,s,p):\n",
    "   pass"
   ]
  },
  {
   "cell_type": "code",
   "execution_count": 51,
   "id": "847fe1e7-6860-4e19-bc6e-7694431214fd",
   "metadata": {},
   "outputs": [
    {
     "data": {
      "text/plain": [
       "False"
      ]
     },
     "execution_count": 51,
     "metadata": {},
     "output_type": "execute_result"
    }
   ],
   "source": [
    "flot=np.array([[0,0,0,0,2,5,0],[0,0,0,0,1,0,0],[0,0,0,0,0,0,0],[0,0,0,0,0,0,0],[0,0,0,0,0,2,0],[0,0,0,0,0,0,0],[0,0,0,0,0,0,0]])\n",
    "is_flot(flot, B , 0, 5)"
   ]
  },
  {
   "cell_type": "code",
   "execution_count": 53,
   "id": "9b66ad75-c2e9-40be-b044-59fd3cdec727",
   "metadata": {},
   "outputs": [
    {
     "data": {
      "text/plain": [
       "False"
      ]
     },
     "execution_count": 53,
     "metadata": {},
     "output_type": "execute_result"
    }
   ],
   "source": [
    "flot=np.array([[0,0,0,0,4,5,0],[0,0,0,0,0,0,0],[0,0,0,0,0,2,0],[0,0,0,0,0,0,0],[0,0,2,0,0,2,0],[0,0,0,0,0,0,0],[0,0,0,0,0,0,0]])\n",
    "is_flot(flot, B , 0, 5)"
   ]
  },
  {
   "cell_type": "code",
   "execution_count": 55,
   "id": "1ab83de1-d5c3-447c-be89-fdcd8224b840",
   "metadata": {},
   "outputs": [
    {
     "data": {
      "text/plain": [
       "True"
      ]
     },
     "execution_count": 55,
     "metadata": {},
     "output_type": "execute_result"
    }
   ],
   "source": [
    "flot=np.array([[0,0,0,0,2,5,0],[0,0,0,0,0,0,0],[0,0,0,0,0,0,0],[0,0,0,0,0,0,0],[0,0,0,0,0,2,0],[0,0,0,0,0,0,0],[0,0,0,0,0,0,0]])\n",
    "is_flot(flot, B , 0, 5)"
   ]
  },
  {
   "cell_type": "markdown",
   "id": "eae37fcb-7791-473c-a3c4-2ecec24cf54b",
   "metadata": {},
   "source": [
    "Considérons une arête d'un réseau de transport $G$ et un flot $\\varphi$ sur $G$. On dit qu'une arête $(i,j)$ du graphe $G$ est *saturé* si la capacité de cette arête est égale à $\\varphi_{(i,j)}$.\n",
    "\n",
    "Etant donné un flot $\\varphi$ sur un réseau de transport $G$, on peut définir le *graphe des écarts* associé au flot $\\varphi$ comme suit:\n",
    "- le graphe des écarts sera noté $G^e$:\n",
    "- il a les mêmes sommets que $G$;\n",
    "- l'ensemble de ses arêtes $E(G)$ est constitué des arêtes $(i,j)$ de $G$ qui sont non-saturées par le flot $\\varphi$. De plus, leurs capacités est donnée par $c_{(i,j)}-\\varphi_{i,j}$.\n",
    "\n",
    "**TODO**: Donner une fonction *graphe_ecart(G,F)* qui à partir de la matrice d'adjacence du graphe $G$ et du flot $F$ détermine la matrice d'adjacence du graphe des écarts de $G$ pour le flot $F$."
   ]
  },
  {
   "cell_type": "code",
   "execution_count": 29,
   "id": "11fbd203-00d1-4211-be21-2111e8c6c1df",
   "metadata": {},
   "outputs": [
    {
     "ename": "NameError",
     "evalue": "name 'B' is not defined",
     "output_type": "error",
     "traceback": [
      "\u001b[1;31m---------------------------------------------------------------------------\u001b[0m",
      "\u001b[1;31mNameError\u001b[0m                                 Traceback (most recent call last)",
      "Cell \u001b[1;32mIn[29], line 3\u001b[0m\n\u001b[0;32m      1\u001b[0m \u001b[38;5;28;01mdef\u001b[39;00m \u001b[38;5;21mgraphe_ecart\u001b[39m(G,F):\n\u001b[0;32m      2\u001b[0m     \u001b[38;5;28;01mpass\u001b[39;00m\n\u001b[1;32m----> 3\u001b[0m graphe_ecart(B,flot)\n",
      "\u001b[1;31mNameError\u001b[0m: name 'B' is not defined"
     ]
    }
   ],
   "source": [
    " def graphe_ecart(G,F):\n",
    "     pass\n",
    "graphe_ecart(B,flot)"
   ]
  },
  {
   "cell_type": "markdown",
   "id": "1699e8f6-e965-4a60-9916-0c8e678d3929",
   "metadata": {},
   "source": [
    "Grâce à un parcours en profondeur, on cherche les chemins reliant la source au puits dans le graphe des écarts.\n",
    "\n",
    "**Remarque:** pour ceux qui en aurait entendu parler auparavant, cette démarche est analogue à la recherche de *chaînes augmentantes*. \n",
    "\n",
    "**TODO**: Coder une fonction *chemin(G,s,p)* qui étant donnée la matrice d'adjacence du graphe $G$, recherche un chemin (avec le plus grand poids de façon à vérifier une loi de censervation sur le chemin) allant de $s$ à $p$. Il renvoie un chemin si cela existe sinon il renvoie le booléen *False*."
   ]
  },
  {
   "cell_type": "code",
   "execution_count": 31,
   "id": "1f6eca13-25e6-4290-b185-9fa5db0bd9b2",
   "metadata": {},
   "outputs": [],
   "source": [
    "def chemin(G,s,p):\n",
    "    pass"
   ]
  },
  {
   "cell_type": "code",
   "execution_count": 63,
   "id": "6e86228b-9068-42d8-9835-445dee866192",
   "metadata": {},
   "outputs": [
    {
     "name": "stdout",
     "output_type": "stream",
     "text": [
      "[[ 0  5  0  3 12  5  0]\n",
      " [ 0  0  0  1  0  0  0]\n",
      " [ 0  0  0  0  0 16  0]\n",
      " [ 0  0  0  0  1  0  1]\n",
      " [ 0  0  1  0  0  2  0]\n",
      " [ 0  0  0  0  0  0  0]\n",
      " [ 0  0  0  0  0  0  0]]\n"
     ]
    },
    {
     "data": {
      "text/plain": [
       "([0, 1, 3, 4, 2, 5], 1)"
      ]
     },
     "execution_count": 63,
     "metadata": {},
     "output_type": "execute_result"
    }
   ],
   "source": [
    "print(B)\n",
    "chemin(B,0,5)"
   ]
  },
  {
   "cell_type": "code",
   "execution_count": 65,
   "id": "aa7c8df2-11df-4f2f-9a92-dc48935a20ad",
   "metadata": {},
   "outputs": [
    {
     "data": {
      "text/plain": [
       "False"
      ]
     },
     "execution_count": 65,
     "metadata": {},
     "output_type": "execute_result"
    }
   ],
   "source": [
    "chemin(B,6,5)"
   ]
  },
  {
   "cell_type": "markdown",
   "id": "c42cd1e4-3a2c-4bf6-885c-6ab7738d7adf",
   "metadata": {},
   "source": [
    "Pour résoudre le problème de la recherche du flot maximal, nous utilisons le théorème suivant:\n",
    "\n",
    "**Théorème**: Soit $G$ un réseau de transport de source $s$ et de puit $p$. Considérons $\\varphi$ un flot sur $G$. Alors:\n",
    "$$ \n",
    "\\varphi \\text{ est un flot maximal } \\iff \\text{ il n'y a pas de chemin de s à p dans le graphe d'écart.}\n",
    "$$\n",
    "\n",
    "Par conséquent, cela nous donne un algorithme pour résoudre le problème de la recherche d'un flot maximal:\n",
    "- partir d'un flot initial $\\varphi_0$ (que l'on pourra choisir nul);\n",
    "- calculer le graphe d'écart;\n",
    "- rechercher un chemin de $s$ à $p$ dans le graphe d'écart;\n",
    "- si cela n'existe pas, on a trouvé un flot maximal.\n",
    "- sinon, on trouve un chemin *ch* de $s$ à $p$ dans le graphe d'écart $G^e$. On génère un nouveau flot $\\varphi_{n+1}$ à partir de $\\varphi_n$ en posant:\n",
    "$$\n",
    "\\varphi^{k+1}_{(i,j)}=\\varphi^{k}_{(i,j)}+ch_{(i,j)}.\n",
    "$$\n",
    "où $ch_{(i,j)}$ est le poids de l'arête $(i,j)$ dans le chemin $ch$ du graphe d'écart. Puis, on reprends les étapes précédentes jusqu'à ce qu'il n'y ait plus de chemin de $s$ à $p$ dans le graphe d'écart.\n",
    "\n",
    "Cet algorithme s'appelle l'agorithme de *Ford-Fulkerson*.\n",
    "\n",
    "**Remarque**: on peut aussi adapter cette démarche lorsque les arêtes ont des capacités minimales (on doit faire passer une quantité minimale dans chacune).\n",
    "\n",
    "**TODO**: Programmer une procédure *Ford_Fulkerson(G,s,p)* qui recherche un flot maximal de $s$ à $p$ dans le graphe $G$."
   ]
  },
  {
   "cell_type": "code",
   "execution_count": 33,
   "id": "577e7248-e876-4dad-95d8-6cf44fd00ca9",
   "metadata": {},
   "outputs": [],
   "source": [
    "def Ford_Fulkerson(G,s,p):\n",
    "    pass"
   ]
  },
  {
   "cell_type": "code",
   "execution_count": 84,
   "id": "5569d34a-9e61-438c-82ec-3d14a0dfa110",
   "metadata": {},
   "outputs": [
    {
     "data": {
      "text/plain": [
       "array([[0., 1., 0., 0., 2., 5., 0.],\n",
       "       [0., 0., 0., 1., 0., 0., 0.],\n",
       "       [0., 0., 0., 0., 0., 1., 0.],\n",
       "       [0., 0., 0., 0., 1., 0., 0.],\n",
       "       [0., 0., 1., 0., 0., 2., 0.],\n",
       "       [0., 0., 0., 0., 0., 0., 0.],\n",
       "       [0., 0., 0., 0., 0., 0., 0.]])"
      ]
     },
     "execution_count": 84,
     "metadata": {},
     "output_type": "execute_result"
    }
   ],
   "source": [
    "Ford_Fulkerson(B,0,5)"
   ]
  },
  {
   "cell_type": "markdown",
   "id": "f2b93456-8c31-40dd-993d-110aca544276",
   "metadata": {},
   "source": [
    "# 3. Différents problèmes classiques\n",
    "\n",
    "## 3.A. Le problème de l'arbre couvrant minimal\n",
    "\n",
    "Considérons un graphe *connexe* $G$.\n",
    "On cherche l'objet suivant:\n",
    "- un arbre\n",
    "- passant par tous les sommets (dit *couvrant*)\n",
    "- de poids total *minimal*\n",
    "\n",
    "On appelle ce dernier *l'arbre couvrant minimal*.\n",
    "\n",
    "**TODO**: code une fonction *is_covering(M,T)* où $M$ est la matrice d'adjacence de $G$, $T$ la matrice d'adjacence du sous-graphe renvoyant un booléen en fonction de si $T$ est un arbre couvrant de $T$. Dans le cas où la réponse est affirmative, retourner le poids de l'arbre. "
   ]
  },
  {
   "cell_type": "code",
   "execution_count": 35,
   "id": "06a87638-6b0c-4288-9845-447b8bbec688",
   "metadata": {},
   "outputs": [],
   "source": [
    "def is_covering(M,T):\n",
    "    pass"
   ]
  },
  {
   "cell_type": "code",
   "execution_count": 89,
   "id": "069d6211-53d0-48e5-a6b1-ce805e58b7d5",
   "metadata": {},
   "outputs": [
    {
     "data": {
      "text/plain": [
       "36.0"
      ]
     },
     "execution_count": 89,
     "metadata": {},
     "output_type": "execute_result"
    }
   ],
   "source": [
    "A=np.array([[0,4,0,0,6,0,0],[4,0,2,3,0,0,0],[0,2,0,11,0,0,0],[0,3,11,0,7,0,0],[6,0,0,7,0,7,4],[0,0,0,0,7,0,5],[0,0,0,0,4,5,0]])\n",
    "T=np.array([[0,4,0,0,0,0,0],[4,0,0,3,0,0,0],[0,0,0,11,0,0,0],[0,3,11,0,7,0,0],[0,0,0,7,0,7,4],[0,0,0,0,7,0,0],[0,0,0,0,4,0,0]])\n",
    "is_covering(A,T)"
   ]
  },
  {
   "cell_type": "code",
   "execution_count": 93,
   "id": "e5b2c015-2bac-46d5-99bb-4ebe1a9342ac",
   "metadata": {},
   "outputs": [
    {
     "data": {
      "text/plain": [
       "False"
      ]
     },
     "execution_count": 93,
     "metadata": {},
     "output_type": "execute_result"
    }
   ],
   "source": [
    "A=np.array([[0,4,0,0,6,0,0],[4,0,2,3,0,0,0],[0,2,0,11,0,0,0],[0,3,11,0,7,0,0],[6,0,0,7,0,7,4],[0,0,0,0,7,0,5],[0,0,0,0,4,5,0]])\n",
    "T=np.array([[0,4,0,0,6,0,0],[4,0,0,3,0,0,0],[0,0,0,11,0,0,0],[0,3,11,0,7,0,0],[0,0,0,7,0,7,4],[0,0,0,0,7,0,0],[0,0,0,0,4,0,0]])\n",
    "is_covering(A,T)"
   ]
  },
  {
   "cell_type": "markdown",
   "id": "46c8fa5b-2992-42f6-a65e-2d2a3c9ddafb",
   "metadata": {},
   "source": [
    "\n",
    "## 3.B. Le problème du voyageur de commerce\n",
    "\n",
    "On considère un graphe $G$. Le but est de trouver une *chaîne hamiltonienne*, c'est-à-dire un cycle passant une et une seule fois par chaque sommet du graphe de poids minimal.\n",
    "\n",
    "Ceci est le cas lorsqu'un commercial souhaite faire sa tournée nationale dans différente ville en minimisant la distance parcourue ou le temps de parcours.\n",
    "\n",
    "**TODO**: Etant donné la matrice d'adjacence d'un graphe $G$ et $L$ la liste des sommets visités par un chemin, coder une fonction *is_hamilt(G,L)* qui vérifie si $L$ est un cycle hamiltonien de $G$. Dans l'affirmative, retourner le poids de la chaîne hamiltonienne."
   ]
  },
  {
   "cell_type": "code",
   "execution_count": 37,
   "id": "5592e79f-fccd-4e15-94b8-b930ce8c25cb",
   "metadata": {},
   "outputs": [],
   "source": [
    "def is_hamilt(G,L):\n",
    "    pass"
   ]
  },
  {
   "cell_type": "code",
   "execution_count": 115,
   "id": "5b5f3124-948a-47b6-8f6b-33334fe6b93f",
   "metadata": {},
   "outputs": [
    {
     "data": {
      "text/plain": [
       "False"
      ]
     },
     "execution_count": 115,
     "metadata": {},
     "output_type": "execute_result"
    }
   ],
   "source": [
    "A=np.array([[0,4,0,0,6,0,0],[4,0,2,3,0,0,0],[0,2,0,11,0,0,0],[0,3,11,0,7,0,0],[6,0,0,7,0,7,4],[0,0,0,0,7,0,5],[0,0,0,0,4,5,0]])\n",
    "C=[0,1,2,3,4,0]\n",
    "is_hamilt(A,C)"
   ]
  },
  {
   "cell_type": "markdown",
   "id": "e7b8e8f2-4806-40c9-b8b1-8d383ece76c9",
   "metadata": {},
   "source": [
    "## 3.C Le problème du sac à dos\n",
    "\n",
    "Vous souhaitez partir en randonnée dans la montagne pour plusieurs jours. Vous devez donc préparer votre sac avec des provisions.\n",
    "Vous pouvez porter qu'un poids maximal *Max* et vous avez une liste d'ingrédients disponibles avec chacun un poids *P*, une disponibilité de $Q$ et une valeur nutritionnelle *VN*. \n",
    "\n",
    "Le but de ce problème est de composer un sac avec une valeur nutritionnelle maximale.\n",
    "\n",
    "Par exemple, on peut considérer un sac de contenance maximale $13$ et:\n",
    "$$\n",
    "\\begin{array}{c|ccc}\n",
    "     & A & B & C \\\\\n",
    " Q& 2 & 2 & 2 \\\\\n",
    " P   &  5 & 4 & 3 \\\\\n",
    " VN  & 10 & 6 & 3\n",
    " \\end{array}\n",
    "$$\n",
    "\n",
    "On pourra représenter une solution de ce problème comme une liste:\n",
    "$$\n",
    "L=[x_A,x_B,x_C]\n",
    "$$\n",
    "\n",
    "**TODO**: Etant donné la matrice du problème comme donnée ci-dessus $M$, coder une fonction *sol_sac(M,L)* qui vérifie renvoie True  si la liste est une solution du problème ainsi que la valeur nutritionnelle du sac, sinon retourne False. Tester votre fonction avec l'exemple précédent."
   ]
  },
  {
   "cell_type": "code",
   "execution_count": 126,
   "id": "d26698d5-f284-4959-abf7-d71d6e9c6c99",
   "metadata": {},
   "outputs": [],
   "source": [
    "M=np.array([[2,2,2],[5,4,3],[10,6,3]])"
   ]
  },
  {
   "cell_type": "code",
   "execution_count": 39,
   "id": "c6a54cad-436d-4e1b-b05e-7788c182db77",
   "metadata": {},
   "outputs": [],
   "source": [
    "def sol_sac(M,L,max_poids):\n",
    "    pass"
   ]
  },
  {
   "cell_type": "code",
   "execution_count": 138,
   "id": "fae77c1c-10a3-4cc6-992a-c55530d5e29f",
   "metadata": {},
   "outputs": [
    {
     "data": {
      "text/plain": [
       "(True, 23)"
      ]
     },
     "execution_count": 138,
     "metadata": {},
     "output_type": "execute_result"
    }
   ],
   "source": [
    "sol_sac(M,[2,0,1],13)"
   ]
  },
  {
   "cell_type": "markdown",
   "id": "647e1d1a-1dab-420e-a260-4f53a4fe4661",
   "metadata": {},
   "source": [
    "**TODO**: Effectuer la résolution graphique de ce problème."
   ]
  },
  {
   "cell_type": "code",
   "execution_count": null,
   "id": "c415f03a-ad65-4f68-93e4-b031931799f9",
   "metadata": {},
   "outputs": [],
   "source": []
  },
  {
   "cell_type": "markdown",
   "id": "3050da2a-285a-460c-8eb5-b442df23c262",
   "metadata": {},
   "source": [
    "### 3.D. L'algorithme glouton\n",
    "\n",
    "Pour résoudre ces problèmes, nous pouvons utiliser une méthode dite *gloutonne* qui consiste à faire le meilleur choix à l'instant présent. Concrètement pour chacun des problèmes précédents cela donne:\n",
    "- **le problème de l'arbre couvrant minimal:** on choisit l'arête admissible la moins chère qui ne crée pas de cycle.\n",
    "- **le problème du voyageur de commerce**: on choisit l'arête la moins chère qui ne forme pas de cycle et tel que les sommets restent de degré inférieur à $2$.\n",
    "- **le problème du sac à dos**: on choisit l'aliment disponible qui le meilleur rapport *VN/poids*.\n",
    "\n",
    "**TODO**: Coder les algorithmes gloutons pour chacun de ces problèmes. Tester les sur les exemples précédents puis évaluer leurs complexités.\n",
    "\n",
    "*Remarque:* pour ce faire nous allons trier les arêtes du graphe par leur poids et choisir la meilleure option de manière à obtenir un arbre."
   ]
  },
  {
   "cell_type": "code",
   "execution_count": 41,
   "id": "d7b17b15-562e-4e33-b2c2-f0d333cddd50",
   "metadata": {},
   "outputs": [],
   "source": [
    "def glouton_couvrant(M):\n",
    "    pass"
   ]
  },
  {
   "cell_type": "code",
   "execution_count": 183,
   "id": "9b5353fa-e667-4b99-ae82-e60bf8de69ea",
   "metadata": {},
   "outputs": [],
   "source": [
    "def glouton_commerce(M):\n",
    "    pass"
   ]
  },
  {
   "cell_type": "code",
   "execution_count": null,
   "id": "1ec0bb45-208f-4fd0-9428-004c33fab3da",
   "metadata": {},
   "outputs": [],
   "source": [
    "def glouton_sac(M):\n",
    "    pass"
   ]
  },
  {
   "cell_type": "markdown",
   "id": "e74f5025-3e83-4bfd-bc24-e978108f8ad4",
   "metadata": {},
   "source": [
    "*Remarque*: dans le cas de l'arbre couvrant l'algorithme glouton s'appelle l'algorithme de Kruskal. Ce dernier fournit toujours la solution optimale dans pour ce problème."
   ]
  }
 ],
 "metadata": {
  "kernelspec": {
   "display_name": "Python 3 (ipykernel)",
   "language": "python",
   "name": "python3"
  },
  "language_info": {
   "codemirror_mode": {
    "name": "ipython",
    "version": 3
   },
   "file_extension": ".py",
   "mimetype": "text/x-python",
   "name": "python",
   "nbconvert_exporter": "python",
   "pygments_lexer": "ipython3",
   "version": "3.12.4"
  }
 },
 "nbformat": 4,
 "nbformat_minor": 5
}
