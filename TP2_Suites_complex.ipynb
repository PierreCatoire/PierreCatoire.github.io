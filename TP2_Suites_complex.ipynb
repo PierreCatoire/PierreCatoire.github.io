{
 "cells": [
  {
   "cell_type": "markdown",
   "id": "f06e6402-192a-4bd0-9c61-71d4968fcadf",
   "metadata": {},
   "source": [
    "# TP3: Suites et complexité algorithmique\n",
    "\n",
    "Dans ce TP, nous allons étudié des fonctions particulières que nous appellerons des *suites*. Pui nous étudierons la notion de *complexité algorithmique*. \n",
    "Cette notion permet de comparer évaluer le temps de calcul d'un algorithme en fonction de la taille des entrées. Ceci permet d'esquisser une hiérarchie parmi les algorithmes pemettant de répondre à une tâche.\n",
    "\n",
    "## Partie 1: Les suites\n",
    "\n",
    "Les *suites* sont des applications particulières notée généralement *u* définie sur $\\mathbb{N}$ à valeurs dans un certain espace. Autrement dit, une suite est une application:\n",
    "$$\n",
    "u:\\left\\lbrace\\begin{array}\n",
    "\\mathbb{N} & \\rightarrow & F \\\\\n",
    "n & \\mapsto & u(n),\n",
    "\\end{array}\\right.\n",
    "$$\n",
    "où $F$ est un ensemble quelconque.\n",
    "\n",
    "Lorsque nous étudions des suites la valeur $u(n)$ se note de manière simplifiée $u_n$.\n",
    "\n",
    "### 1. Les suites arithmétiques\n",
    "\n",
    "Les *suites arithmétiques* sont des suites particulières à valeurs dans $\\mathbb{R}$ définies pour tout $n\\in\\mathbb{N}$ par:\n",
    "$$\n",
    "u_0\\in\\mathbb{R} \\text{ et } \\forall n \\in\\mathbb{N}, u_{n+1}=u_n+r,\n",
    "$$\n",
    "où $r\\in\\mathbb{R}$.\n",
    "\n",
    "Cette suite est appelée une suite arithmétique de raison $r$ et de terme initial $u_0$. Pour $n\\in\\mathbb{N}$, le quantité $u_n$ s'appelle le $n$-ième terme de la suite $(u_n)_{n\\in\\mathbb{N}}$. \n",
    "\n",
    "**TODO**: Coder une fonction *arithmetique(a,r,n)* qui calcule le $n$-ième terme de la suite $(u_n)_{n\\in\\mathbb{N}}.$  "
   ]
  },
  {
   "cell_type": "code",
   "execution_count": 10,
   "id": "9a3b1e4a-ad2b-43f4-ba65-3121e17c05f8",
   "metadata": {},
   "outputs": [],
   "source": [
    "def arithmetique(a,r,n):\n",
    "    pass"
   ]
  },
  {
   "cell_type": "markdown",
   "id": "6cb0396d-de3b-4122-9680-fb69f08e77c9",
   "metadata": {},
   "source": [
    "**TODO**: Représenter mes $100$ premiers termes de la suite $(u_n)_{n\\in\\mathbb{N}}$ de raison $-2$ et de terme initial $17$ sur un graphique grâce à la bibliothèque *matplotlib*."
   ]
  },
  {
   "cell_type": "code",
   "execution_count": null,
   "id": "131aa58f-6aa2-4697-96a8-d150cd9a2dca",
   "metadata": {},
   "outputs": [],
   "source": []
  },
  {
   "cell_type": "markdown",
   "id": "89f8bf39-5381-468a-96f1-4af2f7a7a328",
   "metadata": {},
   "source": [
    "**TODO**: Comparer les résultats obtenus sur le graphique précédent avec celui de la fonction:\n",
    "$$\n",
    "f:\\left\\lbrace\\begin{array}\n",
    "\\mathbb{R} & \\rightarrow & \\mathbb{R}, \\\\\n",
    "x & \\mapsto & -2x+17\n",
    "\\end{array}\\right.\n",
    "$$\n",
    "\n",
    "A quels formules du cours cela vous fait-il penser ?"
   ]
  },
  {
   "cell_type": "code",
   "execution_count": null,
   "id": "dd8f66d2-5b70-4417-bfc0-06c806fbc59e",
   "metadata": {},
   "outputs": [],
   "source": []
  },
  {
   "cell_type": "markdown",
   "id": "cb224912-4803-46db-abe4-475c88ccd47a",
   "metadata": {},
   "source": [
    "### 2. Les suites géométriques\n",
    "\n",
    "Les *suites arithmétiques* sont des suites particulières à valeurs dans $\\mathbb{R}$ définies pour tout $n\\in\\mathbb{N}$ par:\n",
    "$$\n",
    "u_0\\in\\mathbb{R} \\text{ et } \\forall n \\in\\mathbb{N}, u_{n+1}=q*u_n,\n",
    "$$\n",
    "où $q\\in\\mathbb{R}$.\n",
    "\n",
    "**TODO**: Coder une fonction *geometrique(a,q,n)* qui calcule le $n$-ième terme de la suite géométrique $(u_n)_{n\\in\\mathbb{N}}$ de raison $q$ et de terme initial $a$."
   ]
  },
  {
   "cell_type": "code",
   "execution_count": null,
   "id": "d42b5c20-8eca-4f1d-b5b9-3b34d971faab",
   "metadata": {},
   "outputs": [],
   "source": [
    "def geometrique(a,q,n):\n",
    "    pass"
   ]
  },
  {
   "cell_type": "markdown",
   "id": "501fee92-985a-4a8d-b36a-1e10496ad0b1",
   "metadata": {},
   "source": [
    "**TODO**: Représenter les $1000$ premiers termes de la suite $(u_n)_{n\\in\\mathbb{N}}$ de raison $-\\frac{1}{2}$ et de terme initial $18$ sur un graphique grâce à la bibliothèque *matplotlib*."
   ]
  },
  {
   "cell_type": "code",
   "execution_count": null,
   "id": "73a6445e-0d23-4c15-8c94-ca7b3e452a33",
   "metadata": {},
   "outputs": [],
   "source": []
  },
  {
   "cell_type": "markdown",
   "id": "b13e881d-37f8-4961-8c7d-0cac47ced6ee",
   "metadata": {},
   "source": [
    "**TODO**:  Comparer les résultats obtenus sur le graphique précédent avec celui de la fonction:\n",
    "$$\n",
    "f:\\left\\lbrace\\begin{array}\n",
    "\\mathbb{R}^+ & \\rightarrow & \\mathbb{R}, \\\\\n",
    "x & \\mapsto & \\left(-\\frac{1}{2}\\right)^n \\times 18\n",
    "\\end{array}\\right.\n",
    "$$\n",
    "\n",
    "A quels formules du cours cela vous fait-il penser ?"
   ]
  },
  {
   "cell_type": "code",
   "execution_count": null,
   "id": "a4dece7e-f8a4-4bd0-ac72-46f360ea31bd",
   "metadata": {},
   "outputs": [],
   "source": []
  },
  {
   "cell_type": "markdown",
   "id": "d106fa7a-3ec7-4782-89ca-1cf313a8c154",
   "metadata": {},
   "source": [
    "**TODO**: Représenter les $100$ premiers termes de la suite géométrique $(u_n)_{n\\in\\mathbb{N}}$ de terme initial $1$ et de raison $2$. Comment se comporte la suite ? "
   ]
  },
  {
   "cell_type": "code",
   "execution_count": null,
   "id": "12b1f0d6-0d59-43e2-b4fc-a0ca31000b6c",
   "metadata": {},
   "outputs": [],
   "source": []
  },
  {
   "cell_type": "markdown",
   "id": "a84a7884-fda6-4a80-babb-7b921f4d9115",
   "metadata": {},
   "source": [
    "### 3. Quelques suites à étudier\n",
    "\n",
    "Lorsque nous sommes confrontés à des suites inconnues, nous pouvons utiliser l'informatiue pour comprendre mieux.\n",
    "\n",
    "#### 1. Comment savoir si une suite est arithmétique ?\n",
    "\n",
    "Pour cela, il faut étudier une quantité précise:\n",
    "$$\n",
    "u_{n+1}-u_n.\n",
    "$$\n",
    "Si cette quantité est constante pour tous les entiers $n$, cela entraîne que la suite $(u_n)_{n\\in\\mathbb{N}}$ est une suite *arithmétique* de raison égale à cette quantité.\n",
    "\n",
    "**TODO**: Etudier numériquement la suite $(u_n)_{n\\in\\mathbb{N}}$ définie par:\n",
    "$$\n",
    "u_0=-21 \\text{ et } \\forall n\\in\\mathbb{N}, u_{n+1}=\\frac{2{u_n}^2 +3u_n -2}{2u_n-1} \n",
    "$$\n",
    "De quelle nature est cette suite ? Vérifier votre résultat en calculant les $100$ premiers termes de la suite."
   ]
  },
  {
   "cell_type": "code",
   "execution_count": null,
   "id": "57ba4ece-91f2-438d-b670-7ffd9bd34816",
   "metadata": {},
   "outputs": [],
   "source": []
  },
  {
   "cell_type": "markdown",
   "id": "e23e7cb5-4e95-485a-8563-ab766baf61bb",
   "metadata": {},
   "source": [
    "#### 2. Comment savoir si une suite est géométrique ?\n",
    "\n",
    "\n",
    "Pour cela, il faut étudier une quantité précise pour tous les entiers $n$ avec $u_{n}\\neq 0$:\n",
    "$$\n",
    "\\frac{u_{n+1}}{u_n}.\n",
    "$$\n",
    "Si cette quantité est constante pour tous les entiers $n$, cela entraîne que la suite $(u_n)_{n\\in\\mathbb{N}}$ est une suite *géométrique* de raison égale à cette quantité.\n",
    "\n",
    "**TODO**: Etudier numériquement la suite $(u_n)_{n\\in\\mathbb{N}}$ définie par:\n",
    "$$\n",
    "u_0=1 \\text{ et } \\forall n\\in\\mathbb{N}, u_{n+1}=\\exp(3+\\ln(u_n)). \n",
    "$$\n",
    "De quelle nature est cette suite ? Vérifier votre résultat en calculant les $100$ premiers termes de la suite."
   ]
  },
  {
   "cell_type": "code",
   "execution_count": null,
   "id": "705f36f7-c1c3-4e6f-ae68-385a6fb2a499",
   "metadata": {},
   "outputs": [],
   "source": []
  },
  {
   "cell_type": "markdown",
   "id": "24e5a1c1-9feb-41a9-8ce1-a31742b6cd8d",
   "metadata": {},
   "source": [
    "#### 3. Et les autres suites ? \n",
    "\n",
    "##### Les suites arithmético-géométriques\n",
    "\n",
    "Si les deux techniques détaillées ci-dessus ne sont pas suffisantes, nous devons alors utiliser d'autres techniques qui varie en fonction de la suite étudiée."
   ]
  },
  {
   "cell_type": "markdown",
   "id": "b50cdbdb-66eb-4354-9210-b895225eff81",
   "metadata": {},
   "source": [
    "**TODO**: Coder une fonction *arith_geo(a,q,r,n)* définissant une suite dite *arithmético-géométrique* $(u_n)_{n\\in\\mathbb{N}}$ définie pour tout $n\\in\\mathbb{N}$ par:\n",
    "$$\n",
    "u_0=a \\text{ et } \\forall n\\in\\mathbb{N}, u_{n+1}= q\\times u_n +r.\n",
    "$$"
   ]
  },
  {
   "cell_type": "code",
   "execution_count": null,
   "id": "92a2ae62-0191-462d-9f5d-cee081a17bd6",
   "metadata": {},
   "outputs": [],
   "source": [
    "def arith_geo(a,q,r,n):\n",
    "    pass"
   ]
  },
  {
   "cell_type": "markdown",
   "id": "9d780f57-0f78-4eaf-a5f9-14cec8544372",
   "metadata": {},
   "source": [
    "**TODO**: Tracer le graphe de la suite de paramètre $a=1, q=\\frac{1}{2}$ et $r=7$ grâce à la bibliothèque *matplotlib*."
   ]
  },
  {
   "cell_type": "code",
   "execution_count": null,
   "id": "738d1537-b9a7-44d1-b36b-143582122571",
   "metadata": {},
   "outputs": [],
   "source": []
  },
  {
   "cell_type": "markdown",
   "id": "d55baa06-ebe7-4f4e-af78-882fe3596f34",
   "metadata": {},
   "source": [
    "**TODO**: Etudier la nature de la suite $(U_n)_{n\\in\\mathbb{N}}$ définie pour tout entier $n\\in\\mathbb{N}$ par $U_n=u_n-14$.\n",
    "\n",
    "*Reamrque:* Notez que ici $14$ est le point fixe de l'application $x\\mapsto\\frac{1}{2}x+7$."
   ]
  },
  {
   "cell_type": "code",
   "execution_count": null,
   "id": "ad7754ae-81f3-4877-8ae9-dc59e35102bb",
   "metadata": {},
   "outputs": [],
   "source": []
  },
  {
   "cell_type": "markdown",
   "id": "5cc93531-e7cb-4572-b0f3-7c0133b9ea86",
   "metadata": {},
   "source": [
    "##### Application des suites arithmético-géométriques: les prêts bancaires\n",
    "\n",
    "Lorsque vous souhaitez acheter une maison, voiture ou tout autre objet coûtant une sacrée somme, il est courant d'avoire recourt aux services d'une banque. Dans ce cas, vous utiliserez un prêt calculé par *intérêts composés*. Ces derniers sont définis grâce à un *taux d'intérêt* $T$ et un *remboursement* $R$ qui peuvent soit être mensuel, trimestriel ou annuel. Supposons que le client veut emprunter la quantité $S$. Nous pouvons calculer la somme $u_{n+1}$ qu'il reste à rembourser à l'année (ou autre) $n+1$ en ayant connaissance de la somme $u_n$ grâce à la formule:\n",
    "$$\n",
    "u_0=S \\text{ et } u_{n+1}=(1+T)u_n-R.\n",
    "$$\n",
    "Pour simplifier nous supposerons que notre taux d'intérêt et notre remboursement sont tous les deux annuels. \n",
    "\n",
    "Pour l'exercice, nous considérons le taux d'intérêt constant $T=0.0421$ et nous supposerons que la capacité de remboursement du client est de $M=12000$.\n",
    "Nous déterminons la *durée du prêt* comme étant la période de temps minimale $n$ telle que $u_n\\leq 0$.\n",
    "\n",
    "*Remarque:* Ne déprimez pas trop, il ne s'agit pas du taux réel.\n",
    "\n",
    "**TODO**: Calculer la durée du prêt si le client souhaite emprunter $S_1=200000$, $S_2=220000$ et $S_3=250000$. Interpéter les résultats."
   ]
  },
  {
   "cell_type": "code",
   "execution_count": null,
   "id": "cb2c3bbf-12d6-4036-8391-699d3516321c",
   "metadata": {},
   "outputs": [],
   "source": []
  },
  {
   "cell_type": "markdown",
   "id": "946738ea-4458-4abb-ab91-f37c217a9fc2",
   "metadata": {},
   "source": [
    "**TODO**: Pour chacun des prêts calculer ci-dessus, calculer le coût du service de \"prêt\"."
   ]
  },
  {
   "cell_type": "code",
   "execution_count": null,
   "id": "995ac3e6-fdad-4194-b4c1-0273014e9731",
   "metadata": {},
   "outputs": [],
   "source": []
  },
  {
   "cell_type": "markdown",
   "id": "557e2ddf-c2fb-49e5-9b07-a1a60a113c19",
   "metadata": {},
   "source": [
    "##### La suite de Fibonacci\n",
    "\n",
    "La suite de [Fibonacci](https://fr.wikipedia.org/wiki/Suite_de_Fibonacci) fut introduite au Moyen-âge. Depuis cette suite est bien connue et nous allons la manipuler ici.\n",
    "\n",
    "Rappelons que les caractéristiques de la suite $(F_n)_{n\\in\\mathbb{N}}$ sont les suivantes:\n",
    "$$\n",
    "F_0=1, F_1=1 \\text{ et } \\forall n\\in\\mathbb{N}, F_{n+2}=F_{n+1}+F_n.\n",
    "$$\n",
    "\n",
    "**TODO**: Implémenter un algorithme *Fibo(n)* qui calcule le $n$-ième terme de la suite de Fibonacci."
   ]
  },
  {
   "cell_type": "code",
   "execution_count": null,
   "id": "e1528b07-bb51-4497-a8b4-765d68239638",
   "metadata": {},
   "outputs": [],
   "source": [
    "def Fibo(n):\n",
    "    pass"
   ]
  },
  {
   "cell_type": "markdown",
   "id": "08113b26-e186-435c-8f58-5b6afa09f4f0",
   "metadata": {},
   "source": [
    "**TODO:** Afficher sur un graphe les $1000$ premiers termes de la suite de Fibonacci en utilisant l'échelle classique et l'échelle logarithmique. Que constatez vous ?"
   ]
  },
  {
   "cell_type": "code",
   "execution_count": null,
   "id": "f220c0e2-fd1a-45fe-ae36-6d8df2d7d2a5",
   "metadata": {},
   "outputs": [],
   "source": []
  },
  {
   "cell_type": "markdown",
   "id": "8a46bdc4-5372-459d-aa1a-f43702674cf1",
   "metadata": {},
   "source": [
    "**TODO**: Tracer sur un même graphe les $1000$ premiers termes de la suite de Fibonacci et le graphe de la suite:\n",
    "$$\n",
    "n\\mapsto \\frac{1}{\\sqrt{5}}\\left( \\varphi_1^n - \\varphi_2^n \\right)\n",
    "$$ où:\n",
    "$$\n",
    "\\varphi_1=\\frac{1+\\sqrt{5}}{2} \\text{ et } \\varphi_2=\\frac{1-\\sqrt{5}}{2}.\n",
    "$$\n",
    "\n",
    "*Remarque:* utiliser les bibliothèques *math* ou *numpy* afin de vous aider.\n",
    "\n",
    "Cette formule est plus connue sous le nom de formule de Binet."
   ]
  },
  {
   "cell_type": "code",
   "execution_count": null,
   "id": "0fb8d832-b36d-43a2-a3cf-5fd630e7ef4c",
   "metadata": {},
   "outputs": [],
   "source": []
  },
  {
   "cell_type": "markdown",
   "id": "a0bb8288-943a-4932-813d-4d46000db6bd",
   "metadata": {},
   "source": [
    "## Partie 2: Introduction à la complexité d'un algorithme\n",
    "\n",
    "La *complexité d'un algorithme* permet d'évaluer la quantité de temps nécessaire à cet algorithme pour donner une réponse en fonction de la taille des entrées de ces algorithmes. Pour cela, nous introduisons la notation $O$ de Landau:\n",
    "\n",
    "### Le O de Landau\n",
    "\n",
    "Considérons un algorithme $A$ prenant en entrée une variable $n\\in\\mathbb{N}$. Considérons l'application $F:\\mathbb{N} \\rightarrow \\mathbb{R}$ qui associe à une entrée $n$ te temps pris par l'algorithme $A$ pour retourner une valeur. On dit que $F$ est un $O(g(n))$ (à lire grand $O$ de $g$) où $g:\\mathbb{N}\\rightarrow \\mathbb{R}$ si pour tout $n\\in\\mathbb{N}$:\n",
    "$$\n",
    "\\exists C>0, F(n)<C\\cdot g(n).\n",
    "$$\n",
    "\n",
    "Par exemple, si le temps est exprimé en secondes et $g=n\\mapsto n^2$, alors le temps nécessaire à l'algorithme $A$ appliqué en $n$ pour retourner une valeu est plus petit que $C\\times n^2$ secondes.\n",
    "\n",
    "### En pratique:\n",
    "\n",
    "Pour évaluer le temps pris par un algorithme pour effectuer une tâche, nous utilisons l'heuristique suivante:\n",
    "- les écritures, les sommes et les produits sont tellements effectués rapidement que l'on peut considérer que cela s'effectue en temps constant. On dit alors que ces quantité prennent $O(1)$ temps.\n",
    "- les test conditionnels sont assez rapides et prennent aussi un temps constant $O(1)$ à être éxécuter. \n",
    "- les boucles *for* quant à elle prennent un temps $O(n)$ où $n$ est un argument de l'algorithme.\n",
    "- les boucles *while* quant à elle sont peuvent prendre des temps différents. Cela dépends de la condition dans cette dernière. Cela peut-être plus petit que $O(n)$ ou plus grand.\n",
    "\n",
    "### Quelques exercices:\n",
    "\n",
    "**TODO**: Que permettent de calculer les deux fonctions suivantes ? Puis, calculer leurs complexités."
   ]
  },
  {
   "cell_type": "code",
   "execution_count": null,
   "id": "0bdcd5e4-9303-458d-a3da-2270c2d910ff",
   "metadata": {},
   "outputs": [],
   "source": [
    "def fois_deux(n):\n",
    "    return 2*n\n",
    "\n",
    "def fois_deux_bis(n):\n",
    "    res=0\n",
    "    for i in range(n):\n",
    "        res=res+2\n",
    "    return res"
   ]
  },
  {
   "cell_type": "code",
   "execution_count": 65,
   "id": "984d64e1-dbc1-47d5-bbde-2f77cc9d413b",
   "metadata": {},
   "outputs": [],
   "source": [
    "def sum_usu(n,m):\n",
    "    return n+m\n",
    "\n",
    "def sum_bis(n,m):\n",
    "    sum=0\n",
    "    for i in range(0,n):\n",
    "        sum=sum+1\n",
    "    for j in range(0,m):\n",
    "        sum=sum=1\n",
    "    return sum\n",
    "    "
   ]
  },
  {
   "cell_type": "markdown",
   "id": "2caea434-1691-4570-9f11-e0172ba085c2",
   "metadata": {},
   "source": [
    "**TODO**: Que permettent de calculer les deux fonctions suivantes ? Puis, calculer leurs complexités."
   ]
  },
  {
   "cell_type": "code",
   "execution_count": null,
   "id": "1fb7eb77-9148-4f9d-8c43-ab886cfe86f1",
   "metadata": {},
   "outputs": [],
   "source": [
    "def prod_usu(n,m):\n",
    "    return n*m\n",
    "\n",
    "def prod_bis(n,m):\n",
    "    sum=0\n",
    "    for i in range(n):\n",
    "        for j in range(m):\n",
    "            sum=sum+1\n",
    "    return sum"
   ]
  },
  {
   "cell_type": "markdown",
   "id": "fdd16286-c074-4b8f-b08c-c52531fa8a29",
   "metadata": {},
   "source": [
    "**TODO**: A l'aide de la fonction *time* de la librairie *time* de python, tracer les temps par ces focntions pour effectuer une tâche."
   ]
  },
  {
   "cell_type": "code",
   "execution_count": null,
   "id": "7b9874ab-e54e-4dc4-9861-c74bfd93b3b2",
   "metadata": {},
   "outputs": [],
   "source": []
  },
  {
   "cell_type": "markdown",
   "id": "ae41c3e0-633b-4b3c-a5d9-ba1e4c84ba33",
   "metadata": {},
   "source": [
    "**TODO**: Comparer les temps d'éxécution pour calculer le $1000$-ième terme de la suite de Fibonacci en utilisant la fonction Fibo et en utilisant la formule dite de Binet."
   ]
  }
 ],
 "metadata": {
  "kernelspec": {
   "display_name": "Python 3 (ipykernel)",
   "language": "python",
   "name": "python3"
  },
  "language_info": {
   "codemirror_mode": {
    "name": "ipython",
    "version": 3
   },
   "file_extension": ".py",
   "mimetype": "text/x-python",
   "name": "python",
   "nbconvert_exporter": "python",
   "pygments_lexer": "ipython3",
   "version": "3.12.4"
  }
 },
 "nbformat": 4,
 "nbformat_minor": 5
}
