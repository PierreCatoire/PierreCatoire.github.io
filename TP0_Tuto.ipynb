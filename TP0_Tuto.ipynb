{
 "cells": [
  {
   "cell_type": "markdown",
   "id": "5f950170-f03d-405e-8ae1-cb0833ca7207",
   "metadata": {
    "id": "5f950170-f03d-405e-8ae1-cb0833ca7207"
   },
   "source": [
    "## **TP0: Tutoriel Python**\n",
    "\n",
    "Dans le cadre du cours, nous serons amenés à manipuler des objets dans le language de programmation *Python*. Nous introduisons donc les fonctionnalités de base de Python."
   ]
  },
  {
   "cell_type": "markdown",
   "id": "c3fc7be3-e5ff-48ed-9e18-f2edd9fdc946",
   "metadata": {
    "id": "c3fc7be3-e5ff-48ed-9e18-f2edd9fdc946"
   },
   "source": [
    "# 1. Commandes informatiques de base\n",
    "## 1.1. Manipulation arithmétique\n",
    "\n",
    "Un ordinateur est simplement une machine très organisée qui obéit aux instructions et range ses données à sa manière. Cette espèce ne comprend que le language *binaire*, c'est-à-dire des suites de $0$ et de $1$. Les unités élémentaires d'espace mémoire sont appelés *bits* et désigne un espace mémoire où seulement $0$ ou $1$ peuvent être stockés.\n",
    "\n",
    "Les objets que nous connaisons comme les caractères a,b,...,z, (,),\",' sont codés généralement sur $8$ bits que l'on appelle *octet*, voir les tables ASCII pour plus de détails.\n",
    "\n",
    "Les nombres entiers ou réels sont quant à eux écrits en base $2$ (contrairement à notre système en base $10$). Par exemple, usuellement l'entier $12$ s'écrit dans notre système comme:\n",
    "$$12=1\\times 10+2\\times 1.$$\n",
    "L'ordinateur quant à lui verra l'entier $12$ comme:\n",
    "$$12=1\\times 2^3 + 1\\times 2^2 +0 \\times 2. $$\n",
    "L'ordinateur stockera alors en mémoire $12$ comme $110$ mais en utilisant son language de $0$ et $1$.\n",
    "\n",
    "Un ordinateur sait manipuler ces données comme des entiers en faisant des additions, multiplications, divisions...\n",
    "\n",
    "Durant tout ce TP, il est recommandé de consulter la rubrique Aide/Help, pour avoir plus d'informations concernant les fonctions que nous souhaitons utiliser.\n",
    "\n",
    "**Nota Bene:** le préfixe '0b' signifie que ce qui est affiché est l'affichage d'un entier en binaire."
   ]
  },
  {
   "cell_type": "markdown",
   "id": "2ecd43d0-a3dd-407e-aba1-8f53b34fbe29",
   "metadata": {
    "id": "2ecd43d0-a3dd-407e-aba1-8f53b34fbe29"
   },
   "source": [
    "**TODO:** Utiliser la fonction *bin* pour associer à l'écriture d'un nombre, son écriture en base 2 comprise par l'ordinateur."
   ]
  },
  {
   "cell_type": "code",
   "execution_count": 8,
   "id": "98b085aa-dda9-420c-87f9-b7ddfa66b411",
   "metadata": {
    "colab": {
     "base_uri": "https://localhost:8080/",
     "height": 35
    },
    "executionInfo": {
     "elapsed": 232,
     "status": "ok",
     "timestamp": 1730647917059,
     "user": {
      "displayName": "Mouny Samy Modeliar",
      "userId": "02339464991922106836"
     },
     "user_tz": -60
    },
    "id": "98b085aa-dda9-420c-87f9-b7ddfa66b411",
    "outputId": "8925a252-e24d-4354-e48c-b30e3e4df365"
   },
   "outputs": [
    {
     "data": {
      "text/plain": [
       "'0b1001000'"
      ]
     },
     "execution_count": 8,
     "metadata": {},
     "output_type": "execute_result"
    }
   ],
   "source": [
    "bin(72)"
   ]
  },
  {
   "cell_type": "code",
   "execution_count": 10,
   "id": "4bbc798a-c397-4dd3-b406-e41700a228d5",
   "metadata": {
    "colab": {
     "base_uri": "https://localhost:8080/",
     "height": 35
    },
    "executionInfo": {
     "elapsed": 645,
     "status": "ok",
     "timestamp": 1730647918401,
     "user": {
      "displayName": "Mouny Samy Modeliar",
      "userId": "02339464991922106836"
     },
     "user_tz": -60
    },
    "id": "4bbc798a-c397-4dd3-b406-e41700a228d5",
    "outputId": "295dc4f2-1cb2-41bf-885a-7e85725cad73"
   },
   "outputs": [
    {
     "data": {
      "text/plain": [
       "'-0b1001000'"
      ]
     },
     "execution_count": 10,
     "metadata": {},
     "output_type": "execute_result"
    }
   ],
   "source": [
    "bin(-72)"
   ]
  },
  {
   "cell_type": "markdown",
   "id": "d57e7b7f-a2ae-4158-8152-7924216b3b4c",
   "metadata": {
    "id": "d57e7b7f-a2ae-4158-8152-7924216b3b4c"
   },
   "source": [
    "A partir des deux exemples ci-dessous, déterminer à quelles fonctions classiques correspondent les opérations $*$ et $**$."
   ]
  },
  {
   "cell_type": "code",
   "execution_count": 13,
   "id": "15f4ae34-be79-44ff-a1f5-78a586f46f13",
   "metadata": {
    "colab": {
     "base_uri": "https://localhost:8080/"
    },
    "executionInfo": {
     "elapsed": 9,
     "status": "ok",
     "timestamp": 1730647918401,
     "user": {
      "displayName": "Mouny Samy Modeliar",
      "userId": "02339464991922106836"
     },
     "user_tz": -60
    },
    "id": "15f4ae34-be79-44ff-a1f5-78a586f46f13",
    "outputId": "67e38283-5975-46d7-c619-95767b0b0010"
   },
   "outputs": [
    {
     "data": {
      "text/plain": [
       "8"
      ]
     },
     "execution_count": 13,
     "metadata": {},
     "output_type": "execute_result"
    }
   ],
   "source": [
    "2**3"
   ]
  },
  {
   "cell_type": "code",
   "execution_count": 15,
   "id": "8c60e548-6054-46ea-a6c5-da42670bdb9c",
   "metadata": {
    "colab": {
     "base_uri": "https://localhost:8080/"
    },
    "executionInfo": {
     "elapsed": 8,
     "status": "ok",
     "timestamp": 1730647918401,
     "user": {
      "displayName": "Mouny Samy Modeliar",
      "userId": "02339464991922106836"
     },
     "user_tz": -60
    },
    "id": "8c60e548-6054-46ea-a6c5-da42670bdb9c",
    "outputId": "74d0c892-e9d2-4cbd-9708-b7daa715d596"
   },
   "outputs": [
    {
     "data": {
      "text/plain": [
       "6"
      ]
     },
     "execution_count": 15,
     "metadata": {},
     "output_type": "execute_result"
    }
   ],
   "source": [
    "2*3"
   ]
  },
  {
   "cell_type": "markdown",
   "id": "6063a96b-5654-4154-a28f-6160fb5ce5b5",
   "metadata": {
    "id": "6063a96b-5654-4154-a28f-6160fb5ce5b5"
   },
   "source": [
    "## 1.2 Les différents types d'objets\n",
    "\n",
    "Il y a plusieurs types de données en informatique:\n",
    "- les entiers appelés \"int\";\n",
    "- les flottants, c'est l'équivalent des nombres réels, nommés \"float\";\n",
    "- les chaînes de caractères nommées \"string\";\n",
    "- les listes nommées \"lst\";\n",
    "- les booléens (ceci correspond aux deux éléments *True* et *False*.\n",
    "\n",
    "Chaque type admet ses propres opérations spécifiques comme le produit, la somme, la concaténation, la division...\n",
    "\n",
    "Les chaînes de caractères sont à écrire entre ' ' tandis que les listes sont des suites d'objets séparés par des virgules (le point faisant office de séparateur décimal) entre crochet. Voir les exemples ci-dessous\n",
    "\n",
    "Il est possible de vérifier le type d'une variable en utilisant les commandes .is_integer, type.\n",
    "\n",
    "**Nota Bene:** attention, en informatique le symbole *=* est un symbole d'affectation et pas d'égalité (il s'agit de *==*).\n",
    "\n",
    "Ecrire $a=3$, signifie que l'ordinateur range dans la variable *a* (qu'il stocke où bon lui semble) l'entier $3$. Par conséquent, la phrase $3=a$ n'a pas de sens car $3$ n'est pas une variable pour l'ordinateur."
   ]
  },
  {
   "cell_type": "code",
   "execution_count": 18,
   "id": "9b55093b-bf85-4413-b66f-d9836ab9d3c9",
   "metadata": {
    "colab": {
     "base_uri": "https://localhost:8080/",
     "height": 158
    },
    "executionInfo": {
     "elapsed": 8,
     "status": "error",
     "timestamp": 1730647918401,
     "user": {
      "displayName": "Mouny Samy Modeliar",
      "userId": "02339464991922106836"
     },
     "user_tz": -60
    },
    "id": "9b55093b-bf85-4413-b66f-d9836ab9d3c9",
    "outputId": "f61de916-fdca-48e5-e00a-eedf5840c0cb"
   },
   "outputs": [
    {
     "data": {
      "text/plain": [
       "True"
      ]
     },
     "execution_count": 18,
     "metadata": {},
     "output_type": "execute_result"
    }
   ],
   "source": [
    "a=3\n",
    "a.is_integer()"
   ]
  },
  {
   "cell_type": "code",
   "execution_count": 20,
   "id": "41eb06df-32b3-4902-bd94-f96e264fce71",
   "metadata": {
    "executionInfo": {
     "elapsed": 7,
     "status": "aborted",
     "timestamp": 1730647918401,
     "user": {
      "displayName": "Mouny Samy Modeliar",
      "userId": "02339464991922106836"
     },
     "user_tz": -60
    },
    "id": "41eb06df-32b3-4902-bd94-f96e264fce71"
   },
   "outputs": [
    {
     "data": {
      "text/plain": [
       "3.0"
      ]
     },
     "execution_count": 20,
     "metadata": {},
     "output_type": "execute_result"
    }
   ],
   "source": [
    "b=float(a)\n",
    "b"
   ]
  },
  {
   "cell_type": "markdown",
   "id": "90c517b4-0617-4f01-902e-c15432e0fded",
   "metadata": {
    "id": "90c517b4-0617-4f01-902e-c15432e0fded"
   },
   "source": [
    "La fonction *type* permet de vérifier le type d'une variable."
   ]
  },
  {
   "cell_type": "code",
   "execution_count": 23,
   "id": "9bb5bddc-53e5-48cd-a144-aca5fe0ad9af",
   "metadata": {
    "executionInfo": {
     "elapsed": 7,
     "status": "aborted",
     "timestamp": 1730647918401,
     "user": {
      "displayName": "Mouny Samy Modeliar",
      "userId": "02339464991922106836"
     },
     "user_tz": -60
    },
    "id": "9bb5bddc-53e5-48cd-a144-aca5fe0ad9af"
   },
   "outputs": [
    {
     "data": {
      "text/plain": [
       "int"
      ]
     },
     "execution_count": 23,
     "metadata": {},
     "output_type": "execute_result"
    }
   ],
   "source": [
    "type(a)"
   ]
  },
  {
   "cell_type": "code",
   "execution_count": 25,
   "id": "4f6c5f97-c41c-49c2-b14e-39e96890193d",
   "metadata": {
    "executionInfo": {
     "elapsed": 8,
     "status": "aborted",
     "timestamp": 1730647918402,
     "user": {
      "displayName": "Mouny Samy Modeliar",
      "userId": "02339464991922106836"
     },
     "user_tz": -60
    },
    "id": "4f6c5f97-c41c-49c2-b14e-39e96890193d"
   },
   "outputs": [
    {
     "data": {
      "text/plain": [
       "float"
      ]
     },
     "execution_count": 25,
     "metadata": {},
     "output_type": "execute_result"
    }
   ],
   "source": [
    "type(b)"
   ]
  },
  {
   "cell_type": "markdown",
   "id": "07301a6e-6da3-4490-ba28-b91696cbaea0",
   "metadata": {
    "id": "07301a6e-6da3-4490-ba28-b91696cbaea0"
   },
   "source": [
    "La fonction *isinstance* prend en entrée deux arguments: le premier est un objet et le second est un type d'objet."
   ]
  },
  {
   "cell_type": "code",
   "execution_count": 28,
   "id": "6562a761-9ddd-44f5-9da0-3c733f5a8e39",
   "metadata": {
    "executionInfo": {
     "elapsed": 8,
     "status": "aborted",
     "timestamp": 1730647918402,
     "user": {
      "displayName": "Mouny Samy Modeliar",
      "userId": "02339464991922106836"
     },
     "user_tz": -60
    },
    "id": "6562a761-9ddd-44f5-9da0-3c733f5a8e39"
   },
   "outputs": [
    {
     "data": {
      "text/plain": [
       "True"
      ]
     },
     "execution_count": 28,
     "metadata": {},
     "output_type": "execute_result"
    }
   ],
   "source": [
    "isinstance(b, float)"
   ]
  },
  {
   "cell_type": "markdown",
   "id": "129dfedc-c09c-4ab9-8a67-14dd8d921a3e",
   "metadata": {
    "id": "129dfedc-c09c-4ab9-8a67-14dd8d921a3e"
   },
   "source": [
    "En ce qui concerne les chaînes de caractères:"
   ]
  },
  {
   "cell_type": "code",
   "execution_count": 31,
   "id": "c5cc877b-93bb-4fa4-99cf-79f845ad8e1f",
   "metadata": {
    "executionInfo": {
     "elapsed": 8,
     "status": "aborted",
     "timestamp": 1730647918402,
     "user": {
      "displayName": "Mouny Samy Modeliar",
      "userId": "02339464991922106836"
     },
     "user_tz": -60
    },
    "id": "c5cc877b-93bb-4fa4-99cf-79f845ad8e1f"
   },
   "outputs": [
    {
     "data": {
      "text/plain": [
       "str"
      ]
     },
     "execution_count": 31,
     "metadata": {},
     "output_type": "execute_result"
    }
   ],
   "source": [
    "c='Hello World'\n",
    "type(c)"
   ]
  },
  {
   "cell_type": "code",
   "execution_count": 33,
   "id": "a45fdcb0-07fe-473b-8d33-cb7ff5f9b7c6",
   "metadata": {
    "executionInfo": {
     "elapsed": 8,
     "status": "aborted",
     "timestamp": 1730647918402,
     "user": {
      "displayName": "Mouny Samy Modeliar",
      "userId": "02339464991922106836"
     },
     "user_tz": -60
    },
    "id": "a45fdcb0-07fe-473b-8d33-cb7ff5f9b7c6"
   },
   "outputs": [
    {
     "data": {
      "text/plain": [
       "True"
      ]
     },
     "execution_count": 33,
     "metadata": {},
     "output_type": "execute_result"
    }
   ],
   "source": [
    "isinstance(c,str)"
   ]
  },
  {
   "cell_type": "code",
   "execution_count": 35,
   "id": "f29ac113-2bc3-4843-8846-9b432c4d500b",
   "metadata": {
    "executionInfo": {
     "elapsed": 8,
     "status": "aborted",
     "timestamp": 1730647918402,
     "user": {
      "displayName": "Mouny Samy Modeliar",
      "userId": "02339464991922106836"
     },
     "user_tz": -60
    },
    "id": "f29ac113-2bc3-4843-8846-9b432c4d500b"
   },
   "outputs": [
    {
     "data": {
      "text/plain": [
       "list"
      ]
     },
     "execution_count": 35,
     "metadata": {},
     "output_type": "execute_result"
    }
   ],
   "source": [
    "el=[1,2,3,4]\n",
    "type(l)"
   ]
  },
  {
   "cell_type": "markdown",
   "id": "1bad43b6-edd9-4e6f-bf4d-0aa9bae3b070",
   "metadata": {
    "id": "1bad43b6-edd9-4e6f-bf4d-0aa9bae3b070"
   },
   "source": [
    "Lorsque nous avons un élément de type *list*, nous pouvons accéder aux données stickées dans la liste de manière individuelle en demandant à python de lire l'élément $n$ de la liste.\n",
    "Attention, le premier élément d'une liste est l'élément $0$, le second est le numéro $1$ et ainsi de suite."
   ]
  },
  {
   "cell_type": "code",
   "execution_count": 38,
   "id": "9e6c1f5b-ac91-4485-9b6f-78706d2f39a5",
   "metadata": {
    "executionInfo": {
     "elapsed": 8,
     "status": "aborted",
     "timestamp": 1730647918402,
     "user": {
      "displayName": "Mouny Samy Modeliar",
      "userId": "02339464991922106836"
     },
     "user_tz": -60
    },
    "id": "9e6c1f5b-ac91-4485-9b6f-78706d2f39a5"
   },
   "outputs": [
    {
     "data": {
      "text/plain": [
       "[1, 2, 3, 4]"
      ]
     },
     "execution_count": 38,
     "metadata": {},
     "output_type": "execute_result"
    }
   ],
   "source": [
    "l"
   ]
  },
  {
   "cell_type": "code",
   "execution_count": 40,
   "id": "8fb59ff2-6215-4f08-9c75-2798818779ee",
   "metadata": {
    "executionInfo": {
     "elapsed": 8,
     "status": "aborted",
     "timestamp": 1730647918402,
     "user": {
      "displayName": "Mouny Samy Modeliar",
      "userId": "02339464991922106836"
     },
     "user_tz": -60
    },
    "id": "8fb59ff2-6215-4f08-9c75-2798818779ee"
   },
   "outputs": [
    {
     "data": {
      "text/plain": [
       "'Hello'"
      ]
     },
     "execution_count": 40,
     "metadata": {},
     "output_type": "execute_result"
    }
   ],
   "source": [
    "l=['Hello', False , 'World', 3, 1.0, [1,2,3]]\n",
    "l[0]"
   ]
  },
  {
   "cell_type": "markdown",
   "id": "85d4f4f8-4661-46f3-b28e-8f55f9710d96",
   "metadata": {},
   "source": [
    "**TODO:** Accéder à un élément de type liste, booléen et float dans la liste ci-dessous. Remarquons que nous pouvons utiliser la syntaxe $l[-1]$ pour accéder au dernier élément d'une liste."
   ]
  },
  {
   "cell_type": "code",
   "execution_count": null,
   "id": "f249c00a-f63b-44a9-b839-069e2f1b4542",
   "metadata": {},
   "outputs": [],
   "source": []
  },
  {
   "cell_type": "markdown",
   "id": "ac466b0e-eb38-485e-ba54-fef08ec151f9",
   "metadata": {},
   "source": [
    "Parmi les objets de type *list*, il y en un particulier qui s'appelle la *liste vide*. Cet objet s'obtient comme suit:"
   ]
  },
  {
   "cell_type": "code",
   "execution_count": null,
   "id": "8c3993f2-9ee7-4824-a231-95b57a9b15a5",
   "metadata": {},
   "outputs": [],
   "source": [
    "l=[]"
   ]
  },
  {
   "cell_type": "markdown",
   "id": "a8db057a-ec97-4d1b-97d7-2bf96747b9d3",
   "metadata": {},
   "source": [
    "Enfin, les booléens sont des valeurs de vérité. Ce sont celles que l'ont retrouvent dans les tests conditionnels un peu plus loin."
   ]
  },
  {
   "cell_type": "code",
   "execution_count": 113,
   "id": "d584cf90-63e2-441f-8396-9d797acd9275",
   "metadata": {},
   "outputs": [
    {
     "data": {
      "text/plain": [
       "bool"
      ]
     },
     "execution_count": 113,
     "metadata": {},
     "output_type": "execute_result"
    }
   ],
   "source": [
    "type(True)"
   ]
  },
  {
   "cell_type": "code",
   "execution_count": 193,
   "id": "5d8e45c6-c00a-4e54-9298-4a7f15168c94",
   "metadata": {},
   "outputs": [
    {
     "data": {
      "text/plain": [
       "bool"
      ]
     },
     "execution_count": 193,
     "metadata": {},
     "output_type": "execute_result"
    }
   ],
   "source": [
    "a=3.0\n",
    "type(a.is_integer())"
   ]
  },
  {
   "cell_type": "markdown",
   "id": "3f51c896-f1fe-4e69-b990-e670413a5968",
   "metadata": {
    "id": "3f51c896-f1fe-4e69-b990-e670413a5968"
   },
   "source": [
    "## 1.3 Les commandes d'affichages\n",
    "\n",
    "La commande d'affichage à connaître et qui nous sera utile pour débugger un programme est *print*. Contrairement, aux utilisations précédentes cela permet d'afficher plusieurs lignes."
   ]
  },
  {
   "cell_type": "code",
   "execution_count": null,
   "id": "d18cbcae-9622-4430-afde-beba14dd27c5",
   "metadata": {
    "executionInfo": {
     "elapsed": 8,
     "status": "aborted",
     "timestamp": 1730647918402,
     "user": {
      "displayName": "Mouny Samy Modeliar",
      "userId": "02339464991922106836"
     },
     "user_tz": -60
    },
    "id": "d18cbcae-9622-4430-afde-beba14dd27c5"
   },
   "outputs": [],
   "source": [
    "print(b)\n",
    "print('Hello World')"
   ]
  },
  {
   "cell_type": "code",
   "execution_count": null,
   "id": "3deb1dc1-e655-4eb7-9735-5eb85118cd76",
   "metadata": {
    "executionInfo": {
     "elapsed": 7,
     "status": "aborted",
     "timestamp": 1730647918402,
     "user": {
      "displayName": "Mouny Samy Modeliar",
      "userId": "02339464991922106836"
     },
     "user_tz": -60
    },
    "id": "3deb1dc1-e655-4eb7-9735-5eb85118cd76"
   },
   "outputs": [],
   "source": [
    "l=[1,2,3,4]\n",
    "print(l)"
   ]
  },
  {
   "cell_type": "markdown",
   "id": "f6963f7b-b3e8-4317-b8e7-9aa3a4ed00ad",
   "metadata": {
    "id": "f6963f7b-b3e8-4317-b8e7-9aa3a4ed00ad"
   },
   "source": [
    "## 1.4 Les commentaires\n",
    "\n",
    "Les commentaires sont des outils précieux en informatique. Ils permettent de mieux comprendre les commandes que nous écrivons.\n",
    "Un *commentaire* est une ligne de code que le compilateur n'éxécute pas. Ces dernier sont repérés par le symbole $#$ pour signaler un début de commentaire.\n",
    "\n",
    "Ainsi, les lignes signalées par $#$ ne sont utiles que pour le lecteur du code."
   ]
  },
  {
   "cell_type": "code",
   "execution_count": null,
   "id": "d90fa0d1-91b2-4005-8e8e-278a425df514",
   "metadata": {
    "executionInfo": {
     "elapsed": 7,
     "status": "aborted",
     "timestamp": 1730647918402,
     "user": {
      "displayName": "Mouny Samy Modeliar",
      "userId": "02339464991922106836"
     },
     "user_tz": -60
    },
    "id": "d90fa0d1-91b2-4005-8e8e-278a425df514"
   },
   "outputs": [],
   "source": [
    "#Cette commande affiche: Hello World\n",
    "print('Hello World')"
   ]
  },
  {
   "cell_type": "markdown",
   "id": "d1e9b07c-775e-4c55-87be-c25bad43ba84",
   "metadata": {
    "id": "d1e9b07c-775e-4c55-87be-c25bad43ba84"
   },
   "source": [
    "Pour résoudre les exercices suivants vous pouvez-vous aider des commentaires de python. Il est fortement recommandé que vous écriviez les commentaires associés à ce que réalise les programmes présentés dans la suite de ce TP."
   ]
  },
  {
   "cell_type": "markdown",
   "id": "1ae9d5bf-d51a-44cf-98c5-a3a7f61d7b9c",
   "metadata": {
    "id": "1ae9d5bf-d51a-44cf-98c5-a3a7f61d7b9c"
   },
   "source": [
    "# 2. Boucles et tests conditionnels\n",
    "\n",
    "Comme tout language de programmation, des fonctions de tests conditionnels sont fournies comme des fonctions pour boucler:\n",
    "- *if* est la fonction de test conditionnel de base, équivalente du *si* en pseudocode;\n",
    "- *else* peut aussi être utilisé avec *if*. C'est un équivalent à *sinon* en pseudocode;\n",
    "- *while* est une fonction qui boucle jusqu'à ce que la condition soit satisfaite, équivalente du *tant que* en speudocode;\n",
    "- *for* est une fonction qui boucle un nombre de fois donnée, équivalente du *pour* en pseudocode.\n",
    "\n",
    "Profitons-en pour remarquer les choses suivantes:\n",
    "- si un programme boucle sans avoir l'air de progresser, c'est qu'une fonction *while* n'atteint pas sa condition d'arrêt;\n",
    "- pour effectuer un test d'égalité OU d'inégalité, on utilise la syntaxe *==*, *!=*, *<*, *>*, *<=* et *=>*.\n",
    "\n",
    "A partir de ces boucles algorithmiques, nous pouvons programmer des fonctions plus complexes.\n",
    "\n",
    "Les fonctions $if$ et $while$ sont un peu particulières puisque que ces dernières prennent en entrée un booléen en argument. Si ce booléen est vrai, elle effectue la portion de code dans son bloc, si le booléen est *False*, elle ignore le bloc d'instruction qu'elle contient. Un bloc d'instruction est contenu dans un de ces tests si le bloc est indenté juste après le test en question.\n",
    "\n",
    "La syntaxe de ces fonctions impose de mettre des *:* et de repecter l'indentation des blocs. Voir les exemples pour plus de détails."
   ]
  },
  {
   "cell_type": "markdown",
   "id": "c4723000-870d-423a-ad29-4d73c3139a36",
   "metadata": {},
   "source": [
    "## 2.0 Exemples de booléens:\n",
    "\n",
    "Un booléen ne peut avoir que deux valeurs possibles *True* ou *False*. Ces derniers peuvent être obtenus via des tests d'égalités comme indiqués ci-dessous:"
   ]
  },
  {
   "cell_type": "code",
   "execution_count": 117,
   "id": "3da80429-3b00-4b9b-9132-63ca5f5077f7",
   "metadata": {},
   "outputs": [
    {
     "data": {
      "text/plain": [
       "False"
      ]
     },
     "execution_count": 117,
     "metadata": {},
     "output_type": "execute_result"
    }
   ],
   "source": [
    "a=3\n",
    "b=4\n",
    "a==b"
   ]
  },
  {
   "cell_type": "markdown",
   "id": "5ace52ab-d450-4e33-96b5-f72141256d0a",
   "metadata": {},
   "source": [
    "En revanche:"
   ]
  },
  {
   "cell_type": "code",
   "execution_count": 119,
   "id": "8f41d6e3-3428-4e13-bc5c-eaaed6aebd5a",
   "metadata": {},
   "outputs": [
    {
     "data": {
      "text/plain": [
       "True"
      ]
     },
     "execution_count": 119,
     "metadata": {},
     "output_type": "execute_result"
    }
   ],
   "source": [
    "a<b"
   ]
  },
  {
   "cell_type": "markdown",
   "id": "44b79c8c-72ff-4bd9-a051-2b49b49bef06",
   "metadata": {},
   "source": [
    "Ces booléens peuvent être combinés à d'autres opérateurs logiques *or, *and* et *not* afin d'obtenir des expressions logiques plus complexes:"
   ]
  },
  {
   "cell_type": "code",
   "execution_count": 122,
   "id": "beaa9a81-ac93-4e14-9038-07ddb3cb8f08",
   "metadata": {},
   "outputs": [
    {
     "data": {
      "text/plain": [
       "False"
      ]
     },
     "execution_count": 122,
     "metadata": {},
     "output_type": "execute_result"
    }
   ],
   "source": [
    "not a<b"
   ]
  },
  {
   "cell_type": "code",
   "execution_count": 124,
   "id": "d5dab4db-6a9b-4eef-b71f-8399c991e89b",
   "metadata": {},
   "outputs": [
    {
     "data": {
      "text/plain": [
       "True"
      ]
     },
     "execution_count": 124,
     "metadata": {},
     "output_type": "execute_result"
    }
   ],
   "source": [
    "(not a==b) or (a>b)"
   ]
  },
  {
   "cell_type": "code",
   "execution_count": 126,
   "id": "ddbf86b8-e41f-42f4-a75b-3c9bfd84d1cc",
   "metadata": {},
   "outputs": [
    {
     "data": {
      "text/plain": [
       "False"
      ]
     },
     "execution_count": 126,
     "metadata": {},
     "output_type": "execute_result"
    }
   ],
   "source": [
    "(not a==b) and (a>b)"
   ]
  },
  {
   "cell_type": "markdown",
   "id": "f0cd285f-b9ee-4ae2-8158-03c02b7cf460",
   "metadata": {},
   "source": [
    "**TODO:** écrire un programme qui étant donné deux éléments $a$, $b$ et $c$:\n",
    "- affiche *True* si $a<b$ et $b\\geq c$ sans avoir $a>c$;\n",
    "- affiche *False* sinon."
   ]
  },
  {
   "cell_type": "code",
   "execution_count": null,
   "id": "0f33e601-7829-4072-b123-b30ea6de9cae",
   "metadata": {},
   "outputs": [],
   "source": [
    "pass"
   ]
  },
  {
   "cell_type": "markdown",
   "id": "0c2514b0-04ac-470c-bfa8-79ba9723d3c6",
   "metadata": {
    "id": "0c2514b0-04ac-470c-bfa8-79ba9723d3c6"
   },
   "source": [
    "## 2.1. Fonction *If*:\n",
    "\n",
    "Commençons par des tests simples et modifier les valeurs pour tester le programme ci-dessous."
   ]
  },
  {
   "cell_type": "code",
   "execution_count": 133,
   "id": "5ee60a56-f2db-47c8-a4f9-27190ac84740",
   "metadata": {},
   "outputs": [
    {
     "name": "stdout",
     "output_type": "stream",
     "text": [
      "C'est vrai !\n"
     ]
    }
   ],
   "source": [
    "if False:\n",
    "    print(\"C'est faux !\")\n",
    "if True:\n",
    "    print(\"C'est vrai !\")"
   ]
  },
  {
   "cell_type": "markdown",
   "id": "75926797-7747-41ec-8762-3336a8ee7229",
   "metadata": {},
   "source": [
    "**TODO:** Modifier le code ci-dessus pour qu'il renvoie \"C'est vrai !\""
   ]
  },
  {
   "cell_type": "code",
   "execution_count": null,
   "id": "99b4edc7-8f7f-4927-acf7-58c943f341e1",
   "metadata": {},
   "outputs": [],
   "source": [
    "pass"
   ]
  },
  {
   "cell_type": "markdown",
   "id": "e67dcd14-5b96-4dd2-8be2-e559e08b6560",
   "metadata": {},
   "source": [
    "Voici un exemple de programme qui écrit si un entier est positif ou négatif:"
   ]
  },
  {
   "cell_type": "code",
   "execution_count": 7,
   "id": "65e57d6c-7518-44a5-9317-07aa4eceb062",
   "metadata": {},
   "outputs": [
    {
     "name": "stdout",
     "output_type": "stream",
     "text": [
      "L'entier  -4  est négatif\n"
     ]
    }
   ],
   "source": [
    "a=-4\n",
    "if (a>0):\n",
    "    print(\"L'entier \",a,\" est strictement positif\")\n",
    "else:\n",
    "    print(\"L'entier \",a,\" est négatif\")"
   ]
  },
  {
   "cell_type": "markdown",
   "id": "e62bda86-5870-4c18-8566-cda190d6436a",
   "metadata": {},
   "source": [
    "**TODO**: que fait le programme suivant:"
   ]
  },
  {
   "cell_type": "code",
   "execution_count": null,
   "id": "e456e3e4-6df1-4424-a090-1fa2f1c73a80",
   "metadata": {
    "executionInfo": {
     "elapsed": 7,
     "status": "aborted",
     "timestamp": 1730647918402,
     "user": {
      "displayName": "Mouny Samy Modeliar",
      "userId": "02339464991922106836"
     },
     "user_tz": -60
    },
    "id": "e456e3e4-6df1-4424-a090-1fa2f1c73a80"
   },
   "outputs": [],
   "source": [
    "a=3\n",
    "if (a>0):\n",
    "    print(a)\n",
    "else:\n",
    "    print(-a)"
   ]
  },
  {
   "cell_type": "markdown",
   "id": "ed6071b2-4f46-46ee-b2ed-2932b121c539",
   "metadata": {
    "id": "ed6071b2-4f46-46ee-b2ed-2932b121c539"
   },
   "source": [
    "## 2.2 Fonction *While*: \n",
    "Les tests conditionnels peuvent être combinés via les opérateurs logiques *and* et *or*. Voir les exemples ci-dessous. N'hésitez à modifier le code pour faire des tests."
   ]
  },
  {
   "cell_type": "code",
   "execution_count": null,
   "id": "86f2f9b6-aa90-4179-8105-a76d3880cd38",
   "metadata": {
    "executionInfo": {
     "elapsed": 7,
     "status": "aborted",
     "timestamp": 1730647918402,
     "user": {
      "displayName": "Mouny Samy Modeliar",
      "userId": "02339464991922106836"
     },
     "user_tz": -60
    },
    "id": "86f2f9b6-aa90-4179-8105-a76d3880cd38"
   },
   "outputs": [],
   "source": [
    "z=5\n",
    "while (z>2):\n",
    "    z=z-1\n",
    "print(z)"
   ]
  },
  {
   "cell_type": "markdown",
   "id": "c10833bf-07be-46db-b331-ba99ccc6a9bf",
   "metadata": {
    "id": "c10833bf-07be-46db-b331-ba99ccc6a9bf"
   },
   "source": [
    "L'indentation en Python permet de déterminer des blocs d'instructions qui sont réalisés dans les boucles *while*, *for* et *if*. Sachant cela, comparer le code suivant avec le précédent:"
   ]
  },
  {
   "cell_type": "code",
   "execution_count": null,
   "id": "c8ba5ec8-9592-4859-a9b2-fc0f25f71a81",
   "metadata": {
    "executionInfo": {
     "elapsed": 7,
     "status": "aborted",
     "timestamp": 1730647918402,
     "user": {
      "displayName": "Mouny Samy Modeliar",
      "userId": "02339464991922106836"
     },
     "user_tz": -60
    },
    "id": "c8ba5ec8-9592-4859-a9b2-fc0f25f71a81"
   },
   "outputs": [],
   "source": [
    "z=5\n",
    "while (z>2):\n",
    "    z=z-1\n",
    "    print(z)"
   ]
  },
  {
   "cell_type": "markdown",
   "id": "9e5c27ab-dbb2-401a-90cc-746e093bf8ab",
   "metadata": {},
   "source": [
    "**TODO:** avec une boucle *while* et un test *if* écrire un programme qui affiche tous les entiers impairs qui ne sont pas des multiples de $3$ entre $0$ et $53$."
   ]
  },
  {
   "cell_type": "code",
   "execution_count": null,
   "id": "5dc18be2-d45f-4dc4-865a-1a5640bdf992",
   "metadata": {},
   "outputs": [],
   "source": []
  },
  {
   "cell_type": "markdown",
   "id": "13d427d3-18f9-493d-a6e9-fc955b652516",
   "metadata": {
    "id": "13d427d3-18f9-493d-a6e9-fc955b652516"
   },
   "source": [
    "## 2.3. Fonction *for*: \n",
    "\n",
    "Cette fonction permet d'éxécuter des suites d'instructions en fonction d'un paramètre (ou plus). Executer la fonction suivante"
   ]
  },
  {
   "cell_type": "code",
   "execution_count": null,
   "id": "4c1c22db-3b94-462b-a8ee-b6628730d500",
   "metadata": {
    "executionInfo": {
     "elapsed": 7,
     "status": "aborted",
     "timestamp": 1730647918402,
     "user": {
      "displayName": "Mouny Samy Modeliar",
      "userId": "02339464991922106836"
     },
     "user_tz": -60
    },
    "id": "4c1c22db-3b94-462b-a8ee-b6628730d500"
   },
   "outputs": [],
   "source": [
    "z=2\n",
    "for i in range(0,10):\n",
    "    z=z+i\n",
    "    print(i)\n",
    "print('la variable z vaut:',z)"
   ]
  },
  {
   "cell_type": "markdown",
   "id": "a51299ba-16be-4b16-9bdb-cf602cd0e942",
   "metadata": {
    "id": "a51299ba-16be-4b16-9bdb-cf602cd0e942"
   },
   "source": [
    "**TODO**: Ecrire un programme qui calcule la somme des entiers de 1 à un $n$, un paramètre à fournir. Tester ce programme avec $n=100$.\n",
    "Attention, remarquez qu'en Python les lorqu'on écrit *for i in range(0,10)* l'indice $i$ prends les valeurs de $0$ à $9$.  "
   ]
  },
  {
   "cell_type": "code",
   "execution_count": null,
   "id": "bdc8a0b7-57f1-496a-938a-bd0f51799540",
   "metadata": {
    "executionInfo": {
     "elapsed": 7,
     "status": "aborted",
     "timestamp": 1730647918402,
     "user": {
      "displayName": "Mouny Samy Modeliar",
      "userId": "02339464991922106836"
     },
     "user_tz": -60
    },
    "id": "bdc8a0b7-57f1-496a-938a-bd0f51799540"
   },
   "outputs": [],
   "source": []
  },
  {
   "cell_type": "markdown",
   "id": "a67fc6fe-4e96-44c0-b983-e26ac110a8e8",
   "metadata": {
    "id": "a67fc6fe-4e96-44c0-b983-e26ac110a8e8"
   },
   "source": [
    "## 2.4. Mélange de toutes ces boucles:\n",
    "\n",
    "Nous pouvons ensuite mélanger toutes ces différentes fonctions afin de faire des programmes plus compliqués.\n",
    "Dire ce que fais le code suivant:"
   ]
  },
  {
   "cell_type": "code",
   "execution_count": null,
   "id": "7a81c083-8f41-4695-acab-c241bd055059",
   "metadata": {
    "executionInfo": {
     "elapsed": 7,
     "status": "aborted",
     "timestamp": 1730647918402,
     "user": {
      "displayName": "Mouny Samy Modeliar",
      "userId": "02339464991922106836"
     },
     "user_tz": -60
    },
    "id": "7a81c083-8f41-4695-acab-c241bd055059"
   },
   "outputs": [],
   "source": [
    "for i in range(0,20):\n",
    "    j=0\n",
    "    if i%2==0:\n",
    "        print(i)\n",
    "    else:\n",
    "        j=j+i\n",
    "print(j)"
   ]
  },
  {
   "cell_type": "markdown",
   "id": "25ac4352-116f-4973-9c17-81843e5022ca",
   "metadata": {
    "id": "25ac4352-116f-4973-9c17-81843e5022ca"
   },
   "source": [
    "Ce programme peut également être écrit en ayant recourt aux listes:"
   ]
  },
  {
   "cell_type": "code",
   "execution_count": null,
   "id": "317cc818-6e14-4bb9-b244-ed0c75fd0763",
   "metadata": {
    "executionInfo": {
     "elapsed": 7,
     "status": "aborted",
     "timestamp": 1730647918402,
     "user": {
      "displayName": "Mouny Samy Modeliar",
      "userId": "02339464991922106836"
     },
     "user_tz": -60
    },
    "id": "317cc818-6e14-4bb9-b244-ed0c75fd0763"
   },
   "outputs": [],
   "source": [
    "l=[] #il s'agit de la liste vide\n",
    "for i in range(0,20):\n",
    "    j=0\n",
    "    if i%2==0:\n",
    "        l.append(i)\n",
    "    else:\n",
    "        j=j+i\n",
    "print(j)\n",
    "print(l)"
   ]
  },
  {
   "cell_type": "markdown",
   "id": "a156f25f-a6dd-4b19-9209-72e2cd748a23",
   "metadata": {
    "id": "a156f25f-a6dd-4b19-9209-72e2cd748a23"
   },
   "source": [
    "**TODO**: Ecrire un programme qui affiche tous les entiers qui sont un carré entre $0$ et $169$ (avec et sans utilisation de liste)"
   ]
  },
  {
   "cell_type": "code",
   "execution_count": null,
   "id": "e3648dc6-9bdf-44a4-8f4d-cf2d43d32f07",
   "metadata": {
    "executionInfo": {
     "elapsed": 7,
     "status": "aborted",
     "timestamp": 1730647918402,
     "user": {
      "displayName": "Mouny Samy Modeliar",
      "userId": "02339464991922106836"
     },
     "user_tz": -60
    },
    "id": "e3648dc6-9bdf-44a4-8f4d-cf2d43d32f07"
   },
   "outputs": [],
   "source": []
  },
  {
   "cell_type": "markdown",
   "id": "3e04f3ff-6f58-4329-bafc-e27aa7069069",
   "metadata": {
    "id": "3e04f3ff-6f58-4329-bafc-e27aa7069069"
   },
   "source": [
    "# 3. *Fonctions*\n",
    "\n",
    "On rappelle dans l'exemple ci-dessous la syntaxe pour définir une fonction en Python:\n",
    "- introduire la définition par la commande *def* sans oublier les *:* finaux\n",
    "- ne pas oublier les *:* à la fin de commande *if*, *def*, *while*, *for*... Ce sont des commandes qui fonctionnent par blocs d'instructions.\n",
    "- faire attention à l'indentation ! En python, pour savoir si les lignes de codes sont dans un bloc, il faut vérifier l'indentation du code Python.\n",
    "- Dans l'exemple suivant, il faut noter que la commande *return 0* est dans le bloc *if* qui est lui-même dans le bloc *def*. En revanche, la commande $d=2$, n'est dans aucun bloc."
   ]
  },
  {
   "cell_type": "code",
   "execution_count": null,
   "id": "deb5e626-036e-4d5c-965c-5497735fef4d",
   "metadata": {
    "executionInfo": {
     "elapsed": 7,
     "status": "aborted",
     "timestamp": 1730647918402,
     "user": {
      "displayName": "Mouny Samy Modeliar",
      "userId": "02339464991922106836"
     },
     "user_tz": -60
    },
    "id": "deb5e626-036e-4d5c-965c-5497735fef4d"
   },
   "outputs": [],
   "source": [
    "def test_function(x):\n",
    "    if x==0:\n",
    "        return 0\n",
    "    b=2*x\n",
    "    return b**2\n",
    "d=2"
   ]
  },
  {
   "cell_type": "code",
   "execution_count": null,
   "id": "c51917e2-3bbc-40c8-92b5-acaf90ac32c8",
   "metadata": {
    "executionInfo": {
     "elapsed": 7,
     "status": "aborted",
     "timestamp": 1730647918402,
     "user": {
      "displayName": "Mouny Samy Modeliar",
      "userId": "02339464991922106836"
     },
     "user_tz": -60
    },
    "id": "c51917e2-3bbc-40c8-92b5-acaf90ac32c8"
   },
   "outputs": [],
   "source": [
    "test_function(10)"
   ]
  },
  {
   "cell_type": "markdown",
   "id": "4ea8493a-ff4c-4443-9e2c-741b847db2e1",
   "metadata": {
    "id": "4ea8493a-ff4c-4443-9e2c-741b847db2e1"
   },
   "source": [
    "**TODO:** Que fais la fonction précédente ?"
   ]
  },
  {
   "cell_type": "markdown",
   "id": "be293798-82db-4164-ab8f-81d6daf507fb",
   "metadata": {
    "id": "be293798-82db-4164-ab8f-81d6daf507fb"
   },
   "source": [
    "**TODO:** Voici une fonction simple qu'il faut débugger en respectant les règles de syntaxe détaillées ci-dessus"
   ]
  },
  {
   "cell_type": "code",
   "execution_count": null,
   "id": "dd96f072-7d6d-49dd-bf5a-87b506d47d77",
   "metadata": {
    "executionInfo": {
     "elapsed": 8,
     "status": "aborted",
     "timestamp": 1730647918403,
     "user": {
      "displayName": "Mouny Samy Modeliar",
      "userId": "02339464991922106836"
     },
     "user_tz": -60
    },
    "id": "dd96f072-7d6d-49dd-bf5a-87b506d47d77"
   },
   "outputs": [],
   "source": [
    "def bug_function(x,b)\n",
    "    tmp=0\n",
    "    if b==0 or x==0:\n",
    "        return 0\n",
    "    for i in range(0,x):\n",
    "    tmp=tmp+i*b\n",
    "        return tmp"
   ]
  },
  {
   "cell_type": "markdown",
   "id": "b1a72fdb-1286-4444-ba09-63b17da60cde",
   "metadata": {
    "id": "b1a72fdb-1286-4444-ba09-63b17da60cde"
   },
   "source": [
    "**TODO**: Décrire ce que fait la fonction suivante. Pour cela vous pouvez faire des tests et essayer de comprendre le code ci-dessous en l'appliquant sur un exemple sur un morceau de papier:"
   ]
  },
  {
   "cell_type": "code",
   "execution_count": null,
   "id": "38e15f10-4292-46c2-97c5-47274d53addc",
   "metadata": {
    "executionInfo": {
     "elapsed": 7,
     "status": "aborted",
     "timestamp": 1730647918403,
     "user": {
      "displayName": "Mouny Samy Modeliar",
      "userId": "02339464991922106836"
     },
     "user_tz": -60
    },
    "id": "38e15f10-4292-46c2-97c5-47274d53addc"
   },
   "outputs": [],
   "source": [
    "def init(x):\n",
    "    if isinstance(x, int):\n",
    "        while x!=0:\n",
    "            x=x-1\n",
    "            if x<0:\n",
    "                return(x)\n",
    "    else:\n",
    "        return('Erreur',x,\"n'est pas un entier.\")\n"
   ]
  },
  {
   "cell_type": "markdown",
   "id": "134efa50-4e64-4dff-8bc0-b46218119daa",
   "metadata": {
    "id": "134efa50-4e64-4dff-8bc0-b46218119daa"
   },
   "source": [
    "**TODO**: Ecrire une fonction *carre* qui prends en entrée un réel et retourne son carré."
   ]
  },
  {
   "cell_type": "code",
   "execution_count": null,
   "id": "ce98f71b-1794-41c1-a6e3-b065a02ac705",
   "metadata": {
    "executionInfo": {
     "elapsed": 7,
     "status": "aborted",
     "timestamp": 1730647918403,
     "user": {
      "displayName": "Mouny Samy Modeliar",
      "userId": "02339464991922106836"
     },
     "user_tz": -60
    },
    "id": "ce98f71b-1794-41c1-a6e3-b065a02ac705"
   },
   "outputs": [],
   "source": [
    "def carre(x):\n",
    "    pass"
   ]
  },
  {
   "cell_type": "markdown",
   "id": "e5d43605-c4fc-443a-9481-9c9c5e33d5fe",
   "metadata": {
    "id": "e5d43605-c4fc-443a-9481-9c9c5e33d5fe"
   },
   "source": [
    "**TODO**: Ecrire une fonction *sum* qui calcule la somme des carrés de tous les entiers entre 1 et son entrée $n$."
   ]
  },
  {
   "cell_type": "code",
   "execution_count": null,
   "id": "c8a0eedb-d55f-4c55-919a-7cd6c71d81f3",
   "metadata": {
    "executionInfo": {
     "elapsed": 7,
     "status": "aborted",
     "timestamp": 1730647918403,
     "user": {
      "displayName": "Mouny Samy Modeliar",
      "userId": "02339464991922106836"
     },
     "user_tz": -60
    },
    "id": "c8a0eedb-d55f-4c55-919a-7cd6c71d81f3"
   },
   "outputs": [],
   "source": [
    "def sum(n):\n",
    "    pass"
   ]
  },
  {
   "cell_type": "markdown",
   "id": "ccf0f2ab-7499-45c6-b528-e5492623ac32",
   "metadata": {
    "id": "ccf0f2ab-7499-45c6-b528-e5492623ac32"
   },
   "source": [
    "# 4. La bibliothèque Matplotlib\n",
    "\n",
    "Dans un language de programmation comme python, des *bibliothèques* sont mises à dispositin comme Matplotib. Il s'agit d'un ensemble de fonctions qui complètent l'utilisation basique de python. Celle qui nous intéresse ici sera Matplotlib. Cette dernière permet de faire tracer des graphiques à Python.\n",
    "\n",
    "Comme toutes les bibliothèques, il est nécessaire de signaler à pyhton que nous avons besoin d'elle (au vue de la quantité de bibliothèque existante il est plus aisé de procéder ainsi) via la commande:"
   ]
  },
  {
   "cell_type": "code",
   "execution_count": 49,
   "id": "c723d052-7256-4e44-9378-b8223f2aea0e",
   "metadata": {
    "executionInfo": {
     "elapsed": 7,
     "status": "aborted",
     "timestamp": 1730647918403,
     "user": {
      "displayName": "Mouny Samy Modeliar",
      "userId": "02339464991922106836"
     },
     "user_tz": -60
    },
    "id": "c723d052-7256-4e44-9378-b8223f2aea0e"
   },
   "outputs": [],
   "source": [
    "import matplotlib.pyplot as plt"
   ]
  },
  {
   "cell_type": "markdown",
   "id": "9c5c4a2c-b8ff-4b93-ac40-4acca3a7fc36",
   "metadata": {
    "id": "9c5c4a2c-b8ff-4b93-ac40-4acca3a7fc36"
   },
   "source": [
    "Cette bibliothèque nous permet de réaliser beaucoup de choses. La commande *as plt* nous permet d'appeller les fonctions de la bibliothèque en écrivant seulement *plt* au lieu de *matplotlib*.  Ici, nous nous contenterons de tracer certains graphiques avec son aide.\n",
    "\n",
    "## 4.1 La commande plot\n",
    "\n",
    "La commande *plot* est la commande qu'il faut savoir maitriser afin de tracer des graphiques en tout genre. Cette commande prends en argument deux listes de données en entrée: la première contient la liste des abscisses des points à tracer et la seconde les ordonnées des points à tracer.\n",
    "Pour afficher le diagramme, il sera nécessaire d'utiliser la commande *show* de la bibliothèque Matplotlib.\n",
    "\n",
    "Voici un exemple ci-dessous:"
   ]
  },
  {
   "cell_type": "markdown",
   "id": "4a775ab9-ec7a-4111-8ea1-b69f8083e59e",
   "metadata": {
    "id": "4a775ab9-ec7a-4111-8ea1-b69f8083e59e"
   },
   "source": [
    "### Les graphes de fonctions"
   ]
  },
  {
   "cell_type": "code",
   "execution_count": 55,
   "id": "58c1a2a3-2c12-4d17-8a6a-0f5fd96c7d2a",
   "metadata": {
    "executionInfo": {
     "elapsed": 7,
     "status": "aborted",
     "timestamp": 1730647918403,
     "user": {
      "displayName": "Mouny Samy Modeliar",
      "userId": "02339464991922106836"
     },
     "user_tz": -60
    },
    "id": "58c1a2a3-2c12-4d17-8a6a-0f5fd96c7d2a"
   },
   "outputs": [],
   "source": [
    "l1=[1,2,3,4,5]\n",
    "l2=[2,4,6,8,10]"
   ]
  },
  {
   "cell_type": "markdown",
   "id": "a20e66bb-9c81-49c9-8c28-f51120f68da5",
   "metadata": {
    "id": "a20e66bb-9c81-49c9-8c28-f51120f68da5"
   },
   "source": [
    "L'option renseignée 'ro' permet de d'orienté les axes à droite. Attention, la commande plot prends un nombre arbitraire de paramètres, il faut donc être prudent au moment de son utilisation"
   ]
  },
  {
   "cell_type": "code",
   "execution_count": 90,
   "id": "ca2ff54c-090b-4a1c-875e-422f0b5bf024",
   "metadata": {
    "executionInfo": {
     "elapsed": 7,
     "status": "aborted",
     "timestamp": 1730647918403,
     "user": {
      "displayName": "Mouny Samy Modeliar",
      "userId": "02339464991922106836"
     },
     "user_tz": -60
    },
    "id": "ca2ff54c-090b-4a1c-875e-422f0b5bf024"
   },
   "outputs": [
    {
     "data": {
      "image/png": "[encoded data removed]",
      "text/plain": [
       "<Figure size 640x480 with 1 Axes>"
      ]
     },
     "metadata": {},
     "output_type": "display_data"
    }
   ],
   "source": [
    "plt.plot(l1,l2)\n",
    "plt.ylabel('ordonnées')\n",
    "plt.xlabel('abscisses')\n",
    "plt.title('Graphe de la fonction qui multiplie par 2')\n",
    "plt.show()"
   ]
  },
  {
   "cell_type": "markdown",
   "id": "26b0901a-ac38-46f9-96f4-6bdb5bd6e4ba",
   "metadata": {},
   "source": [
    "**TODO:** Que se passe-t-il si certaines commandes se situe avant la ligne *plt.show* ?"
   ]
  },
  {
   "cell_type": "code",
   "execution_count": 60,
   "id": "09b62e0c-dfc9-4e5d-b631-6379e17c47db",
   "metadata": {
    "executionInfo": {
     "elapsed": 7,
     "status": "aborted",
     "timestamp": 1730647918403,
     "user": {
      "displayName": "Mouny Samy Modeliar",
      "userId": "02339464991922106836"
     },
     "user_tz": -60
    },
    "id": "09b62e0c-dfc9-4e5d-b631-6379e17c47db"
   },
   "outputs": [
    {
     "data": {
      "image/png": "[encoded data removed]",
      "text/plain": [
       "<Figure size 640x480 with 1 Axes>"
      ]
     },
     "metadata": {},
     "output_type": "display_data"
    }
   ],
   "source": [
    "plt.plot(l1,l2,'ro')\n",
    "plt.ylabel('ordonnées')\n",
    "plt.xlabel('abscisses')\n",
    "plt.show()"
   ]
  },
  {
   "cell_type": "markdown",
   "id": "06fafd4d-9865-486e-a364-178ccc0165ea",
   "metadata": {
    "id": "06fafd4d-9865-486e-a364-178ccc0165ea"
   },
   "source": [
    "L'option 'r' spécifie la couleur du tracé et 'o' permet de tracer les affixes des points. On peut combiner ces options comme indiqué afin de tracer des points rouges. Par ailleurs, la construction de la commande plot fait que nous pouvons superposer des graphes sur une même fenètre graphique comme ci-dessus: on a superposé le tracé de la courbe et le tracé des points."
   ]
  },
  {
   "cell_type": "code",
   "execution_count": 63,
   "id": "5bb77307-711b-4f01-9a26-c9db649aa5ef",
   "metadata": {
    "executionInfo": {
     "elapsed": 8,
     "status": "aborted",
     "timestamp": 1730647918404,
     "user": {
      "displayName": "Mouny Samy Modeliar",
      "userId": "02339464991922106836"
     },
     "user_tz": -60
    },
    "id": "5bb77307-711b-4f01-9a26-c9db649aa5ef"
   },
   "outputs": [
    {
     "data": {
      "image/png": "[encoded data removed]",
      "text/plain": [
       "<Figure size 640x480 with 1 Axes>"
      ]
     },
     "metadata": {},
     "output_type": "display_data"
    }
   ],
   "source": [
    "plt.plot(l1,l2,'r')\n",
    "plt.plot(l1,l2,'ro')\n",
    "plt.ylabel('ordonnées')\n",
    "plt.xlabel('abscisses')\n",
    "plt.show()"
   ]
  },
  {
   "cell_type": "markdown",
   "id": "b51b7fc6-9680-4dea-baa9-8673e4944926",
   "metadata": {
    "id": "b51b7fc6-9680-4dea-baa9-8673e4944926"
   },
   "source": [
    "**TODO**: Tracer le graphe de la fonction carrée entre -10 et 10 avec un pas de 0.5. En n'oubliant de faire figurer une légende."
   ]
  },
  {
   "cell_type": "code",
   "execution_count": null,
   "id": "f11e0ee1-6df3-49e8-ae34-12a08875b538",
   "metadata": {},
   "outputs": [],
   "source": []
  },
  {
   "cell_type": "markdown",
   "id": "9ae2bfc6-cf52-41ef-9649-6dace2b46d0b",
   "metadata": {},
   "source": [
    "Pour les exercices utilisant les fonctions $sin$ et $cos$, il sera nécessaire de faire appel à la bibliothèque *math*."
   ]
  },
  {
   "cell_type": "code",
   "execution_count": 11,
   "id": "557b4a0b-f546-4418-a35c-062c94424c16",
   "metadata": {},
   "outputs": [],
   "source": [
    "import math"
   ]
  },
  {
   "cell_type": "markdown",
   "id": "ba495f17-8d96-4409-a297-a17e1152e514",
   "metadata": {
    "id": "ba495f17-8d96-4409-a297-a17e1152e514"
   },
   "source": [
    "**TODO**: Tracer le graphe de la fonction $sin$ entre -9.5 et 9.5 avec un pas de 0.5. Affiner le pas à 0.05 et observer la différence."
   ]
  },
  {
   "cell_type": "code",
   "execution_count": null,
   "id": "06f777e4-214f-478b-aa06-52804bd230c8",
   "metadata": {},
   "outputs": [],
   "source": []
  },
  {
   "cell_type": "markdown",
   "id": "598069e3-fe4a-4a93-bdbe-3a63b2b54d4f",
   "metadata": {
    "executionInfo": {
     "elapsed": 8,
     "status": "aborted",
     "timestamp": 1730647918404,
     "user": {
      "displayName": "Mouny Samy Modeliar",
      "userId": "02339464991922106836"
     },
     "user_tz": -60
    },
    "id": "f1a98a97-f652-489b-a5ea-7827bf7b36ed"
   },
   "source": [
    "**TODO**: Tracer sur un même graphe la fonction $sin$ en rouge et $cos$ en bleu."
   ]
  },
  {
   "cell_type": "code",
   "execution_count": null,
   "id": "e52a2567-ec2b-4c87-ac37-a04b892932fa",
   "metadata": {
    "executionInfo": {
     "elapsed": 8,
     "status": "aborted",
     "timestamp": 1730647918404,
     "user": {
      "displayName": "Mouny Samy Modeliar",
      "userId": "02339464991922106836"
     },
     "user_tz": -60
    },
    "id": "e52a2567-ec2b-4c87-ac37-a04b892932fa"
   },
   "outputs": [],
   "source": []
  },
  {
   "cell_type": "markdown",
   "id": "ae728dae-63b8-4246-9f63-4bebaf6aba65",
   "metadata": {},
   "source": [
    "## 4.2 Complétion de légende:\n",
    "\n",
    "Il est bien beau de faire des graphiques mais il est encore plus intéressant de les produire avec des légendes pour comprendre ce que ces derniers représentent. Pour l'instant, nous avons appris à faire des légendes basiques. Voyons maintenant comment s'y prendre avec des graphiques plus complexes."
   ]
  },
  {
   "cell_type": "markdown",
   "id": "7b71611a-288d-4627-b5b3-32b7f43ade52",
   "metadata": {},
   "source": [
    "*TODO:* écrire une fonction *discretise* qui prends en entrée $a$, $b$ et $n$ qui renvoie une liste croissante de $n+1$ points à équidistance les uns des autres tel que le premier est $a$ et le dernier $b$ avec $a<b$."
   ]
  },
  {
   "cell_type": "code",
   "execution_count": 166,
   "id": "51dad00d-8edf-42d1-ad9a-de903fb60e33",
   "metadata": {},
   "outputs": [],
   "source": [
    "def discretise(a,b,n):\n",
    "    pass"
   ]
  },
  {
   "cell_type": "markdown",
   "id": "d31330f7-4c5c-4d2a-8b5d-3744531ce30c",
   "metadata": {},
   "source": [
    "Nous apprenons maintenant à dessiner des courbes différentes sur un même graphique. Puis, nous créons une légende adaptée. Prenez exemple sur:"
   ]
  },
  {
   "cell_type": "code",
   "execution_count": 170,
   "id": "aaa9871c-ec43-4863-b378-5879f1ca30dd",
   "metadata": {},
   "outputs": [],
   "source": [
    "I=discretise(0,5,250)\n",
    "I2=[]\n",
    "I3=[]\n",
    "for i in range(251):\n",
    "    I2.append(2*I[i])\n",
    "    I3.append(3*I[i])"
   ]
  },
  {
   "cell_type": "code",
   "execution_count": 161,
   "id": "779d666c-1ab6-45b1-acad-d6743ac97697",
   "metadata": {},
   "outputs": [
    {
     "data": {
      "text/plain": [
       "<matplotlib.legend.Legend at 0x18aa9af5400>"
      ]
     },
     "execution_count": 161,
     "metadata": {},
     "output_type": "execute_result"
    },
    {
     "data": {
      "image/png": "[encoded data removed]",
      "text/plain": [
       "<Figure size 500x270 with 1 Axes>"
      ]
     },
     "metadata": {},
     "output_type": "display_data"
    }
   ],
   "source": [
    "plt.figure(figsize=(5, 2.7), layout='constrained')\n",
    "plt.plot(I, I, label='muliplication 1')  \n",
    "plt.plot(I, I2, label='multiplication 2')  \n",
    "plt.plot(I, I3, label='multiplication 3')\n",
    "plt.xlabel('abscisses')\n",
    "plt.ylabel('ordonnées')\n",
    "plt.title(\"Graphique multiple\")\n",
    "plt.legend()"
   ]
  },
  {
   "cell_type": "markdown",
   "id": "e14cecc3-3358-48cb-87c1-fc9ecb111bb5",
   "metadata": {},
   "source": [
    "**TODO:** tracer la fonction identité, carré et cube sur un même graphe."
   ]
  },
  {
   "cell_type": "code",
   "execution_count": null,
   "id": "2f428207-d5c9-4eba-98df-09f9211d569f",
   "metadata": {},
   "outputs": [],
   "source": []
  },
  {
   "cell_type": "markdown",
   "id": "2b369190-8354-4774-96cf-cc7c0eec75fd",
   "metadata": {},
   "source": [
    "## 4.3 Les histogrammes:\n",
    "\n",
    "Nous pouvons dessiner d'autres types de diagrammes avec la bibliothèqe *matplotlib*:\n",
    "- les histogrammes;\n",
    "- les boîtes à moustaches..."
   ]
  },
  {
   "cell_type": "markdown",
   "id": "b0bc4a51-3050-4d0a-94a8-88ff3042a3ef",
   "metadata": {},
   "source": [
    "#### La commande bar de matplotlib\n",
    "\n",
    "Utiliser la commande *plt.bar* sur le jeu de données ci-dessous:"
   ]
  },
  {
   "cell_type": "code",
   "execution_count": 182,
   "id": "a442e811-fd54-4f3f-aa23-b4e25c20baa0",
   "metadata": {},
   "outputs": [
    {
     "data": {
      "image/png": "[encoded data removed]",
      "text/plain": [
       "<Figure size 640x480 with 1 Axes>"
      ]
     },
     "metadata": {},
     "output_type": "display_data"
    }
   ],
   "source": [
    "l1=[1,2,3,4,5]\n",
    "l2=[2,4,6,8,10]\n",
    "plt.bar(l1,l2)\n",
    "plt.show()"
   ]
  },
  {
   "cell_type": "markdown",
   "id": "854ea7fd-629f-4e8e-a3a7-28f1a5fe7cb2",
   "metadata": {},
   "source": [
    "**TODO:** dans la liste ci-dessous, l'entrée $l[i]$ est la proportion d'appartition du nombre $i+1$ comme premier chiffre des nombres d'une étude statistique.\n",
    "\n",
    "Tracer un histogramme avec une légende adéquate représentant ces données de la liste $l$."
   ]
  },
  {
   "cell_type": "code",
   "execution_count": 185,
   "id": "c79d4f5c-25fe-4b1a-b6a6-1e79a5b4382b",
   "metadata": {},
   "outputs": [],
   "source": [
    "l=[0.3010,0.1761,0.1249,0.0969,0.0792,0.0669,0.0580,0.0512,0.0458]"
   ]
  },
  {
   "cell_type": "code",
   "execution_count": null,
   "id": "1c80dca4-7c26-4629-9f40-6925f9b67545",
   "metadata": {},
   "outputs": [],
   "source": []
  }
 ],
 "metadata": {
  "colab": {
   "provenance": []
  },
  "kernelspec": {
   "display_name": "Python 3 (ipykernel)",
   "language": "python",
   "name": "python3"
  },
  "language_info": {
   "codemirror_mode": {
    "name": "ipython",
    "version": 3
   },
   "file_extension": ".py",
   "mimetype": "text/x-python",
   "name": "python",
   "nbconvert_exporter": "python",
   "pygments_lexer": "ipython3",
   "version": "3.12.4"
  }
 },
 "nbformat": 4,
 "nbformat_minor": 5
}
