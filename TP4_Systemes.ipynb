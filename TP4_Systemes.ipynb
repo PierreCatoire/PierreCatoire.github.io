{
 "cells": [
  {
   "cell_type": "markdown",
   "id": "e7397272-f699-4684-8533-624259929751",
   "metadata": {},
   "source": [
    "# TP4: Résolution de systèmes linéaires\n",
    "\n",
    "Un *système linéaire* est la donnée d'un système à $m$ équations à $n$ iconnues $x_1,\\dots,x_n$ comme suit:\n",
    "$$\n",
    "\\left\\lbrace\\begin{align*}\n",
    "a_{1,1}\\times x_1&+\\ldots &+ a_{1,n}\\times x_n &= y_1, \\\\\n",
    "a_{2,1}\\times x_1&+\\ldots &+ a_{2,n}\\times x_n &= y_2, \\\\\n",
    "\\vdots~~~~ &  &~~~~\\vdots~~~~ & ~~~~\\vdots \\\\\n",
    "a_{m,1}\\times x_1&+\\ldots &+ a_{m,n}\\times x_n &= y_m.\n",
    "\\end{align*}\\right.\n",
    "$$\n",
    "où les $(y_i)_{i\\in\\{1,\\dots,m\\}}$ sont des nombres réels.\n",
    "\n",
    "En pratique nous cherchons à savoir si de tels systèmes linéaires admettent ou non des solutions. Si oui, quelles sont-elles ? \n",
    "\n",
    "Pour cela, grâce aux matrices, on peut représenter ce système linéaire avec l'équation:\n",
    "$$\n",
    "Ax=y \\text{ avec } x=\\begin{pmatrix} x_1 \\\\ x_ 2 \\\\ \\vdots \\\\ x_n \\end{pmatrix}  \\text{ et } y=\\begin{pmatrix} y_1 \\\\ y_ 2 \\\\ \\vdots \\\\ y_m \\end{pmatrix}.\n",
    "$$\n",
    "où $A$ est une matrice à $n$ lignes et $m$ colonnes définies par:\n",
    "$$\n",
    "A=\\begin{pmatrix}\n",
    "a_{1,1} & a_{1,2} & \\cdots &a_{1,n} \\\\\n",
    "a_{2,1} & a_{2,2} & \\cdots &a_{2,n} \\\\\n",
    "\\vdots & \\vdots & \\vdots &  \\vdots \\\\\n",
    "a_{m,1} & a_{m,2} & \\cdots &a_{m,n} \n",
    "\\end{pmatrix}\n",
    "$$\n",
    "\n",
    "Le but de ce TP, sera de trouver les solutions à de telles équations si elles existent. Grâce à cette représentation du problème, nous pouvons utiliser les fonctions propres aux matrices de Python vues au TP précédent pour les appliquer à la résolution de systèmes linéaires.\n",
    "\n",
    "## 1. Sur le pivot de Gauss\n",
    "\n",
    "Le pivot de Gauss est une technique de simplification pour les systèmes linéaires d'équations de toutes tailles qui consiste à élimier une inconnue à partir de deux lignes distinctes du système linéaire.\n",
    "\n",
    "## 1.1 Quelques systèmes linéaires à interpréter matriciellement:\n",
    "\n",
    "Voici quelques exercices pour mieux comprendre la correspondance entre un système linéaire et le couple $(A,y)$ décrit plus haut.\n",
    "\n",
    "**TODO**: On considère le système linéaire:\n",
    "$$\n",
    "\\left\\lbrace\\begin{align*}\n",
    "3x+4y+z &=10 \\\\\n",
    "2x+2y+2z &=4 \\\\\n",
    "y-z &=3\n",
    "\\end{align*}\\right.\n",
    "$$\n",
    "Quelle est la matrice $A$ associée à ce système comme décrit ci-dessus ? Quel est le second membre $y$ ? Vérifier numériquement que:\n",
    "$$\n",
    "x=\\begin{pmatrix}\n",
    "1 \\\\2 \\\\ -1\n",
    "\\end{pmatrix}\n",
    "$$\n",
    "est une solution du système."
   ]
  },
  {
   "cell_type": "code",
   "execution_count": 7,
   "id": "429792ec-39f9-4d07-a83d-e2917da3c791",
   "metadata": {},
   "outputs": [],
   "source": [
    "import numpy as np"
   ]
  },
  {
   "cell_type": "code",
   "execution_count": null,
   "id": "a7a089e9-7919-4814-b333-4a750e37acdf",
   "metadata": {},
   "outputs": [],
   "source": []
  },
  {
   "cell_type": "markdown",
   "id": "a247ac21-711e-4f4e-8c01-2e22e3d12b31",
   "metadata": {},
   "source": [
    "**TODO**: On considère le système linéaire:\n",
    "$$\n",
    "\\left\\lbrace\\begin{align*}\n",
    "3x+3y+3z &=3 \\\\\n",
    "x+2y+z &=4 \\\\\n",
    "y &=0\n",
    "\\end{align*}\\right.\n",
    "$$\n",
    "Quelle est la matrice $B$ associée à ce système comme décrit ci-dessus ? Quel est le second membre $y$ ?\n",
    "\n",
    "*A passer en première lecture:* cette équation admet-elle des solutions ?"
   ]
  },
  {
   "cell_type": "code",
   "execution_count": 12,
   "id": "1737ef2d-5b11-4ae0-b3bc-7045837ff5f7",
   "metadata": {},
   "outputs": [],
   "source": []
  },
  {
   "cell_type": "markdown",
   "id": "643f7405-7ed1-4a81-bf25-d47b813aa15f",
   "metadata": {},
   "source": [
    "**TODO**: On considère le système linéaire:\n",
    "$$\n",
    "\\left\\lbrace\\begin{align*}\n",
    "3x-3y &=5 \\\\\n",
    "5y &=15 \\\\\n",
    "x+2y &=11\n",
    "\\end{align*}\\right.\n",
    "$$\n",
    "Quelle est la matrice $C$ associée à ce système comme décrit ci-dessus ? Quel est le second membre $y$ ?\n",
    "\n",
    "*A passer en première lecture:* cette équation admet-elle des solutions ?\n"
   ]
  },
  {
   "cell_type": "code",
   "execution_count": 15,
   "id": "8840d892-52b5-47b3-8062-2bbf028111f7",
   "metadata": {},
   "outputs": [],
   "source": []
  },
  {
   "cell_type": "markdown",
   "id": "21a9c9af-fc1c-4f80-b85c-f981ac3d2897",
   "metadata": {},
   "source": [
    "## 1.2 Premier pas dans la résolution : les systèmes échelonnés\n",
    "\n",
    "### 1.2.a. Définition\n",
    "\n",
    "Il est très facile de résoudre une famille de systèmes appelés *échelonnés*, il s'agit des systèmes qui ont une matrice de la forme *triangulaire supérieure*. Autrement dit, le nombre de coefficients nuls débutant une ligne croît strictement ligne après ligne.\n",
    "\n",
    "*Exemple:* Le système suivant est échelonné:\n",
    "$$\n",
    "\\left\\lbrace\\begin{align*}\n",
    "x-y+z &=2 \\\\\n",
    "y+z&=1 \\\\\n",
    "z&=-1\n",
    "\\end{align*}\\right.\n",
    "$$\n",
    "\n",
    "**TODO**: Quelle est la matrice $T$ associée à ce système ? Que remarquez vous sur sa forme ?"
   ]
  },
  {
   "cell_type": "code",
   "execution_count": null,
   "id": "7966fe96-b8d4-4243-b302-3cba097f9afa",
   "metadata": {},
   "outputs": [],
   "source": []
  },
  {
   "cell_type": "markdown",
   "id": "b565c137-db22-40bd-9bb5-02e09e96dcd9",
   "metadata": {},
   "source": [
    "*Exemple de système échelonné:* le système suivant est également un système échelonné:\n",
    "$$\n",
    "\\left\\lbrace\\begin{align*}\n",
    "x-y+z &=2 \\\\\n",
    "y+z&=1 \\\\\n",
    "z&=-1 \\\\\n",
    "0&=2 \\\\\n",
    "0&=0\n",
    "\\end{align*}\\right.\n",
    "$$\n",
    "\n",
    "**TODO**: Quelle est la matrice $U$ associée à ce système ? Que remarquez vous sur sa forme ?"
   ]
  },
  {
   "cell_type": "code",
   "execution_count": null,
   "id": "b3b09e2a-b93e-4c6c-bb5c-eaa26eab28dd",
   "metadata": {},
   "outputs": [],
   "source": []
  },
  {
   "cell_type": "markdown",
   "id": "41865b49-afd0-4085-87f9-37fa620c3f27",
   "metadata": {},
   "source": [
    "*Remarque:* bien évidemment le système ci-dessus ne peut avoir de solutions."
   ]
  },
  {
   "cell_type": "markdown",
   "id": "ce95c9cf-4919-4980-b4a7-2a966ebee5b0",
   "metadata": {},
   "source": [
    "### 1.2.b. Aspect pratique\n",
    "\n",
    "Ce qui nous fait aimer les systèmes échelonnés est le fait que leur résolution est d'une simplicité enfantine !\n",
    "En effet,  il suffit de faire remonter nos déductions dans le système.\n",
    "\n",
    "*Exemple:* reprenons l'exemple précédent: \n",
    "$$\n",
    "\\left\\lbrace\\begin{align*}\n",
    "x-y+z &=2 \\\\\n",
    "y+z&=1 \\\\\n",
    "z&=-1\n",
    "\\end{align*}\\right. $$\n",
    "Puis:\n",
    "$$\n",
    "\\left\\lbrace\\begin{align*}\n",
    "x-y+z &=2 \\\\\n",
    "y&=2 \\\\\n",
    "z&=-1\n",
    "\\end{align*}\\right. \n",
    "$$\n",
    "Enfin:\n",
    "$$\n",
    "\\left\\lbrace\\begin{align*}\n",
    "x &=5 \\\\\n",
    "y&=2 \\\\\n",
    "z&=-1\n",
    "\\end{align*}\\right.\n",
    "$$\n",
    "\n",
    "**TODO:** Coder une fonction *solve_triangle(A,y)* où $A$ est la matrice triangulaire supérieure associée au système échelonné et $y$ est le second membre, qui trouve l'*unique* solution du système linéaire si elle existe, ou indique si ce système possède une infinité ou aucune solution. Tester la fonction sur l'exemple détaillé ici."
   ]
  },
  {
   "cell_type": "code",
   "execution_count": 6,
   "id": "41ef5c51-b893-4676-b0e3-1eacc443cb2d",
   "metadata": {},
   "outputs": [],
   "source": [
    "def solve_triangle(A,y):\n",
    "    pass"
   ]
  },
  {
   "cell_type": "code",
   "execution_count": 27,
   "id": "5003c135-0de8-4a22-b969-9f853a0be9c5",
   "metadata": {},
   "outputs": [
    {
     "name": "stdout",
     "output_type": "stream",
     "text": [
      "[5.0, 2.0, -1.0]\n"
     ]
    }
   ],
   "source": [
    "#Test\n",
    "y=[2,1,-1]\n",
    "print(solve_triangle(T,y))"
   ]
  },
  {
   "cell_type": "code",
   "execution_count": 29,
   "id": "e65e4bb7-8de1-4636-b320-590d0a9d37de",
   "metadata": {},
   "outputs": [
    {
     "name": "stdout",
     "output_type": "stream",
     "text": [
      "Pas de solution\n"
     ]
    }
   ],
   "source": [
    "#test\n",
    "y=[2,1,-1,2,0]\n",
    "print(solve_triangle(U,y))"
   ]
  },
  {
   "cell_type": "markdown",
   "id": "d3c0d509-b7f2-4df4-827b-cfb23b10e81a",
   "metadata": {},
   "source": [
    "## 1.3 Algorithme du pivot de Gauss\n",
    "\n",
    "Le *pivot de Gauss* est une technique de manipulation des systèmes linéaires faite pour *isoler* les inconnues afin d'obtenir un système de forme triangulaire.\n",
    "Expliquons cette technique sur l'exemple suivant:\n",
    "$$\n",
    "\\left\\lbrace\\begin{align*}\n",
    "3x+4y+z &=10 \\\\\n",
    "2x+2y+2z &=5 \\\\\n",
    "y-z &=1\n",
    "\\end{align*}\\right.\n",
    "$$\n",
    "\n",
    "**Etape 1:** isoler la variable $x$ de sorte que cette variable n'apparaisse que dans une seule équation. On choisit alors deux lignes où le coefficient devant $x$ est non-nul (si cela n'est pas possible alors $x$ est déjà isolé).\n",
    "\n",
    "Dans notre exemple, il s'agit de la première et deuxième équation. Puis, on retranche un multiple de la première ligne à la deuxième afin de faire disparaître l'occurence de $x$ dans celle-ci.\n",
    "Dans notre exemple, cela revient à retrancher $\\frac{2}{3}$ de la première ligne à la deuxième. Ceci nous génèrera un nouveau système équivalent dont la première ligne est $L_1'=L_1$ et $L_2'=L_2-\\frac{2}{3}L_1$ puis $L_3'=L_3$:\n",
    "$$\n",
    "\\left\\lbrace\\begin{align*}\n",
    "3x+4y+z &=10 \\\\\n",
    "-\\frac{2}{3}y+\\frac{4}{3}z &=-\\frac{5}{3} \\\\\n",
    "y-z &=1\n",
    "\\end{align*}\\right.\n",
    "$$\n",
    "\n",
    "\n",
    "**Etape 2**: isoler la variable $y$ en prodédant de la même manière. Ce qui va nous donner une nouveau systèmes d'équations dont les lignes sont $L_1''=L_1, L_2''=L_2'$ et $L_3'=L_3+\\frac{3}{2}L_2'$, ce qui donne le nouveau système suivant:\n",
    "$$\n",
    "\\left\\lbrace\\begin{align*}\n",
    "3x+4y+z &=10 \\\\\n",
    "-\\frac{2}{3}y+\\frac{4}{3}z &=-\\frac{5}{3} \\\\\n",
    "z &=-\\frac{3}{2}\n",
    "\\end{align*}\\right.\n",
    "$$\n",
    "\n",
    "Puis, on effectue autant d'étapes, jusqu'à ce qu'il n'y ait plus d'équations disponibles pour effectuer cet algorithme.\n",
    "\n",
    "*Remarque:* l'algorithme du pivot de Gauss s'applique à des matrices de toute taille. Par exemple, sur le système:\n",
    "$$\n",
    "\\left\\lbrace\\begin{align*}\n",
    "x-y+z &=2 \\\\\n",
    "x+5y+2z &=15 \n",
    "\\end{align*}\\right.\n",
    "$$\n",
    "Ce dernier donne le système:\n",
    "$$\n",
    "\\left\\lbrace\\begin{align*}\n",
    "x-y+z &=2 \\\\\n",
    "6y+z &=13 \n",
    "\\end{align*}\\right.\n",
    "$$\n",
    "\n",
    "*Remarque:* dans tous les cas, le système équivalent obtenu par cet algorithme est toujours échelonné.\n",
    "\n",
    "**TODO**: Coder une fonction *Pivot_Gauss(A,y)* qui a une matrice $A$ et un second membre $y$ associés à un système linéaire associe la matrice et le second membre du système échelonné obtenu par la méthode du pivot de Gauss. Tester votre fonction sur les exemples fournis plus haut. Pour simplifier le code, on supposera que la matrice ne comporte pas de colonne nulle."
   ]
  },
  {
   "cell_type": "code",
   "execution_count": 8,
   "id": "19a452f9-7461-471b-bae1-6aa20f37745d",
   "metadata": {},
   "outputs": [],
   "source": [
    "def Pivot_Gauss(A,y):\n",
    "    pass"
   ]
  },
  {
   "cell_type": "markdown",
   "id": "67519d39-2353-462a-9330-67602e07b3dc",
   "metadata": {},
   "source": [
    "**TODO**: En utilisant la fonction *Pivot_Gauss* et *solve_triangle*, écrire une fonction *linsolve(A,y)* qui résoud le système:\n",
    "$$\n",
    "Ax=y.\n",
    "$$"
   ]
  },
  {
   "cell_type": "code",
   "execution_count": 49,
   "id": "bf858f3d-7afd-4a97-bd02-a039caa09ce2",
   "metadata": {},
   "outputs": [],
   "source": [
    "def linsolve(A,y):\n",
    "    pass"
   ]
  },
  {
   "cell_type": "markdown",
   "id": "6fb50aa2-55f8-4066-ad22-4156a8738c98",
   "metadata": {},
   "source": [
    "## 2. Les fonctions de la bibliothèque *numpy*\n",
    "\n",
    "### 2.1. Comparaison entre la focntion codée et la fonction implémentée\n",
    "\n",
    "Nous allons maintenant comparer la fonction que nous venons de créer avec la fonction de la sous-bibliothèque *numpy.linalg* de *numpy*.\n",
    "Pour cela nous allons comparer les temps d'éxécutions nécessaires pour résoudre un système linéaire à l'aide de la bibliothèque *time*."
   ]
  },
  {
   "cell_type": "code",
   "execution_count": 137,
   "id": "7a761c02-e1e3-4660-b940-11a0f976ceb0",
   "metadata": {},
   "outputs": [],
   "source": [
    "import time\n",
    "import numpy as np\n",
    "import numpy.linalg as nplin"
   ]
  },
  {
   "cell_type": "markdown",
   "id": "ef5b681e-9ada-4563-9e0c-cd70aab2159f",
   "metadata": {},
   "source": [
    "Par exemple, considérons la matrice:"
   ]
  },
  {
   "cell_type": "code",
   "execution_count": 156,
   "id": "5645dbf2-aa58-4c1c-85d2-db51f30e2ef3",
   "metadata": {},
   "outputs": [
    {
     "data": {
      "text/plain": [
       "array([[1., 0., 0., ..., 0., 0., 0.],\n",
       "       [1., 1., 0., ..., 0., 0., 0.],\n",
       "       [1., 1., 1., ..., 0., 0., 0.],\n",
       "       ...,\n",
       "       [1., 1., 1., ..., 1., 0., 0.],\n",
       "       [1., 1., 1., ..., 1., 1., 0.],\n",
       "       [1., 1., 1., ..., 1., 1., 1.]])"
      ]
     },
     "execution_count": 156,
     "metadata": {},
     "output_type": "execute_result"
    }
   ],
   "source": [
    "M=np.tri(100)\n",
    "M"
   ]
  },
  {
   "cell_type": "markdown",
   "id": "9bb6d2c6-5610-4e62-b911-a1913e2fe8df",
   "metadata": {},
   "source": [
    "Nous allons comparer le temps pris par la fonction que nous avons codé et la fonction implémenté dans la bibliothèque *numpy.linalg* sur l'exemple:\n",
    "$$\n",
    "y=\\begin{pmatrix}\n",
    "2  \\\\\n",
    "4 \\\\\n",
    "\\vdots \\\\\n",
    "200\n",
    "\\end{pmatrix}\n",
    "$$\n",
    "\n",
    "**TODO** Ecrire un code qui génère le vecteur $y$ décrit ci-dessus."
   ]
  },
  {
   "cell_type": "code",
   "execution_count": 159,
   "id": "48e768e4-e197-47eb-8d33-840a107d1be4",
   "metadata": {},
   "outputs": [],
   "source": [
    "\n"
   ]
  },
  {
   "cell_type": "markdown",
   "id": "1a8e39a7-fe43-4466-ab54-26e43eb10541",
   "metadata": {},
   "source": [
    "**TODO:** comparer les temps de résolution de l'équation."
   ]
  },
  {
   "cell_type": "code",
   "execution_count": null,
   "id": "22a530ba-b152-46c9-be48-6ac0db109dd1",
   "metadata": {},
   "outputs": [],
   "source": []
  },
  {
   "cell_type": "markdown",
   "id": "0d1eea79-f61c-4824-a256-5652e68fad24",
   "metadata": {},
   "source": [
    "## 3. Problèmes informatiques de cette méthode\n",
    "\n",
    "### 3.1 Les problèmes d'arrondis\n",
    "\n",
    "Comme vous le savez un ordinateur a une *mémoire finie*. Ainsi, ce dernier commet des erreurs d'arrondis du style:\n",
    "$$\n",
    "10^{-324}=0\n",
    "$$\n",
    "Par conséquent, une division d'une quantité positive très petite divisée par une quantité gigantesque peut donc produire un résultat nul en pratique.\n",
    "\n",
    "Ceci peut alors produire des effets innatendus lorsque nous souhaitons résoudre un système linéaire à la machine.\n",
    "\n",
    "**TODO**: Résoudre le système suivant à la main, puis demander à Python d'effectuer sa résolution en utilisant la fonction *np.linalg.solve()*:\n",
    "$$\n",
    "\\left\\lbrace\\begin{align}\n",
    "10^{300}x+10^{300}y&=10^{300} \\\\\n",
    "10^{-90}y +10^{-89}z&= 10^{-90} \\\\\n",
    "z&=10^{-17}\n",
    "\\end{align}\\right.\n",
    "$$\n",
    "\n",
    "Quel enseignement pouvez-vous en tirer ?"
   ]
  },
  {
   "cell_type": "code",
   "execution_count": null,
   "id": "58737238-fe0a-4d28-8cb1-3a9a566f69a6",
   "metadata": {},
   "outputs": [],
   "source": []
  },
  {
   "cell_type": "markdown",
   "id": "b8192540-40ea-48a0-a481-2609a6d949d0",
   "metadata": {},
   "source": [
    "### 3.2 Comment améliorer cela ?\n",
    "\n",
    "En effet, il y a plusieurs moyens d'écrire un système linéaire. En multipliant la deuxième ligne de ce système par $10^{90}$ et la première pour $10^{300}$, nous obtenons un système linéaire équivalent:\n",
    "$$\n",
    "\\left\\lbrace\\begin{align}\n",
    "x+y&=1 \\\\\n",
    "y +10z&= 1 \\\\\n",
    "z&=10^{-17}\n",
    "\\end{align}\\right.\n",
    "$$\n",
    "\n",
    "**TODO:** résoudre ce système liénaire équivalent au premier avec la bibliothèque *numpy*. Comparer les résultats obtenus avec la résoltuion précédente:"
   ]
  },
  {
   "cell_type": "code",
   "execution_count": null,
   "id": "10ff36e3-632e-4f5c-9a65-e7b8c94cadad",
   "metadata": {},
   "outputs": [],
   "source": []
  }
 ],
 "metadata": {
  "kernelspec": {
   "display_name": "Python 3 (ipykernel)",
   "language": "python",
   "name": "python3"
  },
  "language_info": {
   "codemirror_mode": {
    "name": "ipython",
    "version": 3
   },
   "file_extension": ".py",
   "mimetype": "text/x-python",
   "name": "python",
   "nbconvert_exporter": "python",
   "pygments_lexer": "ipython3",
   "version": "3.12.4"
  }
 },
 "nbformat": 4,
 "nbformat_minor": 5
}
