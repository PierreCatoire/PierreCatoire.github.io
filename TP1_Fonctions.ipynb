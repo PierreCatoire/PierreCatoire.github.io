{
 "cells": [
  {
   "cell_type": "markdown",
   "id": "1a4c63bc-fe9e-443d-abef-83f2fd22440b",
   "metadata": {},
   "source": [
    "# TP 1: Fonctions\n",
    "\n",
    "Afin de pouvoir faire de l'informatique, il est nécessaire de comprendre des outils mathématiques de bases appelés *fonctions*.\n",
    "\n",
    "Une fonction peut-être vu comme une machine qui lorqu'on lui donne un élément de l'ensemble $E$, son domaine de *définition*, nous retourne un élément de l'ensemble $F$, son domaine d'*arrivée*. \n",
    "\n",
    "Dans la vie de tous les jours, nous connaissons de tels objets. Par exemple, une fabrique textile prends en entrée de la laine et retourne des pulls et si cette dernière a pour entrée du coton puis retournera des tee-shirts.\n",
    "\n",
    "En informatique, nous ne travaillerons qu'avec des fonctions dites *numériques*. Cela signifie que leurs domaines de défintions et d'arrivée sont des sous-ensembles de $\\mathbb{R}$. Un bon exemple est la fonction *carré*. Elle prends en entrée n'importe quel réel et lui revoie son carré (qui est toujours positif).\n",
    "De même, la fonction *racine carré* quand à elle ne prends en entrée que des nombres réels positifs et renvoie un autre nombre réel positif.\n",
    "\n",
    "Plus formellement, une fonction numérique $f$ s'écrit:\n",
    "$$\n",
    "f:\\left\\lbrace\\begin{array}{rcl} E & \\rightarrow & F \\\\\n",
    "x & \\mapsto & f(x).\n",
    "\\end{array}\\right. \n",
    "$$\n",
    "où $E$ et $F$ sont des sous-ensembles de $\\mathbb{R}$.\n",
    "\n",
    "\n",
    "Dans la vie courante, il existe plusieurs unités pour une même grandeur physique. Les valeurs numériques d'une grandeur dans une unité donné peuvent être converties dans une autre unité de grandeur physique en utilisant une *fonction* de conversion.\n",
    "\n",
    "Tout au long de ce temps, nous allons nous familiariser avec ce concept de fonction, parcourir l'ensemble des fonctions usuelles et nous entraîner à les représenter.\n",
    "\n",
    "## 1. Les fonctions affines\n",
    "\n",
    "Un premier exemple de conversion d'unité de la vie de tous les jours est la fonction de conversion des températures en degré celsius en degré farenheit donné par:\n",
    "$$ \\left\\lbrace\\begin{array}\n",
    "\\mathbb{R} & \\rightarrow & \\mathbb{R} \\\\\n",
    "t & \\mapsto & \\left(t\\times \\frac{9}{5}\\right)+32.\n",
    "\\end{array}\\right. $$\n",
    "Ainsi, $0°C$ correspond à $32 F$ et $-10°C$ correspond à $14 F$.\n",
    "Cette fonction de conversion fait partie de la famille des fonctions *affines* que nous allons étudier ci-dessous.\n",
    "\n",
    "Les fonctions *affines* font parties des fonctions qu'il ne faut pas craindre. Une fonction affine de paramètre $(a,b)$ est définie comme suit:\n",
    "$$\n",
    "f:\\left\\lbrace\\begin{array}{rcl} \\mathbb{R} & \\rightarrow & \\mathbb{R} \\\\\n",
    "x & \\mapsto & ax+b.\n",
    "\\end{array}\\right. \n",
    "$$\n",
    "avec $a$ et $b$ deux paramètres réels.\n",
    "\n",
    "Lorsque le paramètre $b=0$, $f$ est qualifiée de *linéaire*. \n",
    "\n",
    "Par exemple, une fonction affine $g$ de paramètre $(0.5, 3)$ vérifie:\n",
    "$$ g(6)=6, g(-2)=2, g(0)=3. $$"
   ]
  },
  {
   "cell_type": "markdown",
   "id": "0b225e8d-4987-4902-99ff-3ded7f971772",
   "metadata": {},
   "source": [
    "**TODO:** écrire une fonction *affine(a,b,x)* qui retourne $f(x)$ où *f* est la fonction affine de paramètre $(a,b).$"
   ]
  },
  {
   "cell_type": "code",
   "execution_count": null,
   "id": "dbefc8d6-c153-496c-bb63-c335a00d2ed6",
   "metadata": {},
   "outputs": [],
   "source": [
    "def affine(a,b,x):\n",
    "    pass"
   ]
  },
  {
   "cell_type": "markdown",
   "id": "c0dadf88-c5cf-4065-88ec-dff97743db8d",
   "metadata": {},
   "source": [
    "### Une assistance pour tracer les graphes\n",
    "\n",
    "Afin de nous faciliter la vie, nous allons utilser la bibliothèque python *numpy* qui nous fournit des fonctions mathématiques comme sinus et cosinus, des matrices, ou encore des fonctions nous permettant de discrétiser un intervalle comme *linspace*."
   ]
  },
  {
   "cell_type": "code",
   "execution_count": null,
   "id": "b5d2201e-b3e7-4040-be01-22c03ebd71f1",
   "metadata": {},
   "outputs": [],
   "source": [
    "import numpy as np"
   ]
  },
  {
   "cell_type": "code",
   "execution_count": 6,
   "id": "c8d80611-c908-42c3-b9df-fc86b287b70e",
   "metadata": {},
   "outputs": [
    {
     "data": {
      "text/plain": [
       "array([1. , 1.2, 1.4, 1.6, 1.8, 2. , 2.2, 2.4, 2.6, 2.8, 3. ])"
      ]
     },
     "execution_count": 6,
     "metadata": {},
     "output_type": "execute_result"
    }
   ],
   "source": [
    "np.linspace(1,3,11)\n"
   ]
  },
  {
   "cell_type": "markdown",
   "id": "8cbf01f5-c633-45ec-823c-882873103d69",
   "metadata": {},
   "source": [
    "**TODO**: Réaliser une discrétisation de l'intervalle $[-10,10]$ avec un pas de $0.1$ à l'aide de la fonction *linspace* fournie par numpy.\n",
    "\n",
    "Utiliser l'aide de Jupyter ou une recherche sur internet pour comprendre ce que fait la fonction linspace."
   ]
  },
  {
   "cell_type": "code",
   "execution_count": null,
   "id": "2639fb75-41c9-402c-83b6-4f1e98393d92",
   "metadata": {},
   "outputs": [],
   "source": []
  },
  {
   "cell_type": "markdown",
   "id": "aaec4ca1-2dad-462d-b926-e405b5147334",
   "metadata": {},
   "source": [
    "**TODO**: Construire une discrétisation de l'intervalle $[-6.28,6.28]$ en utilisant 250 points. "
   ]
  },
  {
   "cell_type": "code",
   "execution_count": null,
   "id": "ddd1b78c-0f8f-4ae6-87eb-b90a7b849f41",
   "metadata": {},
   "outputs": [],
   "source": []
  },
  {
   "cell_type": "markdown",
   "id": "8e74038d-ed49-4334-a4b3-bf286ed3b948",
   "metadata": {},
   "source": [
    "### Quelques propriétés des fonctions affines\n",
    "\n",
    "Les fonctions affines vérifient quelques propriétés intéressantes. Pour nous rendre compte de ces propriétés nous allons tracer les graphes de ces fonctions\n",
    "\n",
    "**TODO**: En utilisant la bibliothèque *matplotlib* et *numpy*, tracer les graphes des fonctions affines suivantes sur l'intervalle $[-10,10]$ et interpréter graphiquement  les paramètres $a$ et $b$ :\n",
    "- la fonction affine $f_1$ de paramètre $(1,3)$;\n",
    "- la fonction affine $f_2$ de paramètre $(-2,4)$;\n",
    "- la fonction linéaire $f_3$ de paramètre $(2,0)$;\n",
    "- la fonction affine $f_4$ de paramètre $(0,-1)$;"
   ]
  },
  {
   "cell_type": "code",
   "execution_count": 79,
   "id": "dee4a249-df38-46d4-a0bb-2a11dfa415e8",
   "metadata": {},
   "outputs": [],
   "source": [
    "import numpy as np\n",
    "import matplotlib.pyplot as plt"
   ]
  },
  {
   "cell_type": "code",
   "execution_count": null,
   "id": "04b6308e-4051-43bb-bb3f-16f3b4a98c65",
   "metadata": {},
   "outputs": [],
   "source": []
  },
  {
   "cell_type": "markdown",
   "id": "38d801e6-320b-4575-ad7e-877e278679de",
   "metadata": {},
   "source": [
    "**TODO**: Considérons les deux fonctions affines $f_1$ et $f_2$ préalablement tracées et la fonction:\n",
    "$$\n",
    "g_1:\\left\\lbrace\\begin{array}{rcl} \n",
    "\\mathbb{R} & \\rightarrow & \\mathbb{R} \\\\\n",
    "x & \\mapsto & 3x-1\n",
    "\\end{array}\\right.\n",
    "$$\n",
    "Tracer les fonctions $f_1-f_2$ et $g_1$ sur un même graphe sur un intervalle fermé de votre choix. Que remarque-t-on ? "
   ]
  },
  {
   "cell_type": "code",
   "execution_count": null,
   "id": "526fed7b-f2d4-48ac-9a32-cf357ce2fcfc",
   "metadata": {},
   "outputs": [],
   "source": []
  },
  {
   "cell_type": "markdown",
   "id": "b8e6724d-382d-4f9a-8efd-0839c78966ed",
   "metadata": {},
   "source": [
    "**TODO:** A quelle fonction affine $2f_1+f_2$ est elle égale ? Tracer vos résultats sur un graphe en utilisant l'intervalle $[-10,10]$."
   ]
  },
  {
   "cell_type": "code",
   "execution_count": null,
   "id": "124e2299-2d96-4ad8-b112-1ea107c49d79",
   "metadata": {},
   "outputs": [],
   "source": []
  },
  {
   "cell_type": "markdown",
   "id": "c56dd496-729e-4e85-86be-9e47b93f16c3",
   "metadata": {},
   "source": [
    "**TODO**: la fonction identité $x\\mapsto x$ est-elle affine ? Tracer son graphe sur l'intervalle de votre choix."
   ]
  },
  {
   "cell_type": "code",
   "execution_count": null,
   "id": "57bd71c9-f429-4f14-9c3e-03e62de6deba",
   "metadata": {},
   "outputs": [],
   "source": []
  },
  {
   "cell_type": "markdown",
   "id": "fbce16ac-8fd5-43f0-9753-669889a106a3",
   "metadata": {},
   "source": [
    "**TODO**: Tracer la courbe représentant la conversion des degrés celsius en degrés farenheit avec les températures en degré celsius en abscisses et les températures en degré farenheit en ordonnées sur l'intervalle $[-30, 50]$."
   ]
  },
  {
   "cell_type": "code",
   "execution_count": null,
   "id": "127a130d-b6d8-4006-aa97-7f52b3fc8e6d",
   "metadata": {},
   "outputs": [],
   "source": []
  },
  {
   "cell_type": "markdown",
   "id": "8818e2f7-4f7e-4e3e-b57d-f3edfbc629c1",
   "metadata": {},
   "source": [
    "## 2. Les polynômes\n",
    "\n",
    "Cette famille de fonction contient en particulier les fonctions affines. Elle possède toutes les fonctions puissances comme la fonction carré ou cube. \n",
    "\n",
    "Un *polynôme* est une fonction $p:\\mathbb{R}\\rightarrow \\mathbb{R}$ définie pour tout $x\\in\\mathbb{R}$ par:\n",
    "$$\n",
    "p(x)=a_0+a_1 x+ a_2 x^2+\\ldots+ a_{n-1} x^{n-1}+a_n x^n,\n",
    "$$\n",
    "où $n$ est un entier les $(a_{i})_{i=0,\\ldots,n}$ sont des nombres réels. Le plus grand entier $m$ tel que $a_m\\neq 0$ est alors appelé le *degré* de $p$ tandis que la quantité $a_0$ est appelé *terme constant* du polynôme. Les quantités $a_i$ sont appelés les coefficients du polynôme $p$.\n",
    "\n",
    "Pour manipuler ce type d'objet, nous devons programmer une fonction polynôme en python. Pour cela, remarquons que la donnée de $p$ ou de la suite des coefficients $(a_{i})_{i=1,\\ldots,n}$ sont identiques. Par exemple, connaître le polynôme:\n",
    "$$ p(x)=-2-x+x^2+2x^3,$$\n",
    "est équivalent à la donnée de la suite $(-2,-1,1,2)$.\n",
    "Dans ce TP, nous identifierons un polynôme à la suite de ses coefficients.\n",
    "\n",
    "Pour des usages futurs ou plus poussés, vous pouvez vous reporter à la bibliothèque *numpy.polynomial*."
   ]
  },
  {
   "cell_type": "markdown",
   "id": "f0ddb0e6-a1b7-406c-8f25-c2c73c428b3e",
   "metadata": {},
   "source": [
    "**TODO**: Coder une fonction *carre_plus(x,a)* qui calcule l'image de $x$ par la fonction $x\\mapsto x^2+a$ puis tracer son graphe sur l'intervalle $[-5,5]$ puis tracer son graphe sur l'intervalle $[-5,5]$ pour certaines valeurs de $a$ que vous choisirez."
   ]
  },
  {
   "cell_type": "code",
   "execution_count": null,
   "id": "6c0fd7d8-5e88-47e9-8c59-7f9b986068a1",
   "metadata": {},
   "outputs": [],
   "source": []
  },
  {
   "cell_type": "markdown",
   "id": "003d6e7f-2cdc-4e0d-ac63-6bc470f7e91c",
   "metadata": {},
   "source": [
    "**TODO**: Coder une fonction *poly(x,l)* où *l* est la liste des coefficients, qui calcule l'évaluation en $x$ du polynôme *p* associé à la liste des coefficients $l$. \n",
    "\n",
    "*Remarque:* la longueur de la liste des coefficients est égale au degré moins un du polynôme $p$."
   ]
  },
  {
   "cell_type": "code",
   "execution_count": null,
   "id": "16a38652-3fa2-4530-8ec6-2c31c7498266",
   "metadata": {},
   "outputs": [],
   "source": []
  },
  {
   "cell_type": "markdown",
   "id": "1cb32567-4099-4b12-9c9f-6859dcd3a2e6",
   "metadata": {},
   "source": [
    "**TODO**: vérifier que *poly(_,[2,0,1])* produit le même résultat que *carre_plus(_,2)* sur 300 points (équidistants) sur l'intervalle $[-10,10]$, puis tracer vos résultat sur un graphe en utilisant la bibliothèque *matplotlib*."
   ]
  },
  {
   "cell_type": "code",
   "execution_count": null,
   "id": "8b23c425-e4fa-494b-a754-4f7801a99933",
   "metadata": {},
   "outputs": [],
   "source": []
  },
  {
   "cell_type": "markdown",
   "id": "dbd8084f-71db-4d68-a261-d9254e2b0454",
   "metadata": {},
   "source": [
    " **TODO:** Coder une fonction *degre* qui à une liste de coefficient associe le degré du polynôme associé. Faire de même avec la fonction *const* qui renvoie cette fois son terme constant. Pour l'exemple détaillé ci-dessus, le degré de $p$ est $3$ tandis que son terme constant est $-2$.\n",
    "\n",
    "En revanche, noter que le polynôme associé à la liste $[0,3,4,0]$ est $p(x)= 3x+4x^2$. Son degré est égal $2$. Modifier si nécessaire la fonction *degre* afin qu'elle renvoie un résultat correct sur cet exemple."
   ]
  },
  {
   "cell_type": "code",
   "execution_count": 27,
   "id": "0c3d12c2-1c3e-413b-9806-575e5987d59f",
   "metadata": {},
   "outputs": [],
   "source": [
    "def degre(l):\n",
    "    pass\n",
    "\n",
    "def const(l):\n",
    "    pass"
   ]
  },
  {
   "cell_type": "markdown",
   "id": "3d855b1b-3b9d-4e6b-a6a3-7930bf6453dd",
   "metadata": {},
   "source": [
    "### Somme de polynômes\n",
    "\n",
    "Nous pouvons sommer deux polynômes pour obtenir un nouveau polynôme. Par exemple, définissons les polynômes:\n",
    "$$\n",
    "p_1(x)=x+2x^2+3x^3 \\text{ et } p_2(x)=3-6x+12x^2. \n",
    "$$\n",
    "Le polynôme associé à la somme $p_1+p_2$ est alors:\n",
    "$$\n",
    "p_1+p_2(x)= 3-5x+14x^2+x^3.\n",
    "$$\n",
    "Le but de cette partie est de coder une fonction *pol_sum* qui prends deux listes en entrée (vues comme des polynômes) et qui renvoie une liste qui contient les coefficients du polynôme somme.\n",
    "\n",
    "Par exemple, en se référant à l'exemple ci-dessus, nous devrions avoir *pol_sum$([0,1,2,3],[3,-6,12])=[3,-5,14,3]$*."
   ]
  },
  {
   "cell_type": "markdown",
   "id": "685822df-210f-4c2d-af2e-276b1253dc36",
   "metadata": {},
   "source": [
    "**TODO**: vérifier que l'opérateur $+$ pour les listes n'est pas la somme termes à termes. Déterminer son utilité."
   ]
  },
  {
   "cell_type": "code",
   "execution_count": 31,
   "id": "2029bcc8-2403-4e3f-994e-ecc2472dda0a",
   "metadata": {
    "jp-MarkdownHeadingCollapsed": true
   },
   "outputs": [],
   "source": [
    "l=[1,2,3]\n",
    "k=[4,5,6,7]"
   ]
  },
  {
   "cell_type": "code",
   "execution_count": null,
   "id": "b0255d11-9618-4f8c-b221-9b28cc5c8461",
   "metadata": {},
   "outputs": [],
   "source": []
  },
  {
   "cell_type": "markdown",
   "id": "fef5263f-d2cf-40ab-ba57-11375e6ec314",
   "metadata": {},
   "source": [
    "**TODO**: coder une fonction *pol_sum_test* qui réalise la somme des polynôme détaillée ci-dessus."
   ]
  },
  {
   "cell_type": "code",
   "execution_count": null,
   "id": "fd425237-2b1f-4cf7-86d2-80107edcfb6b",
   "metadata": {},
   "outputs": [],
   "source": []
  },
  {
   "cell_type": "markdown",
   "id": "94d55278-2aa9-40c7-8d75-1684b108e715",
   "metadata": {},
   "source": [
    "**TODO:** tester votre fonction sur l'entrée $[-5,4,1,2],[1,5,3,-2]$. Modifier si nécessaire *pol_sum_test* pour que la longueur de la liste renvoyée soit exactement égale au degré plus un du polynôme obtenu. "
   ]
  },
  {
   "cell_type": "code",
   "execution_count": null,
   "id": "09d7b9dd-ea29-4a5f-b6e8-6f947418e56e",
   "metadata": {},
   "outputs": [],
   "source": []
  },
  {
   "cell_type": "markdown",
   "id": "b239c751-be1f-49a2-8108-d2c39a344e5e",
   "metadata": {},
   "source": [
    "### Dérivation de polynôme\n",
    "\n",
    "Une dernière opération bien connue des polynômes est la *dérivation.* Comme toutes les fonctions réelles, les polynômes peuvent-être dérivé.\n",
    "\n",
    "On rappelle que l'opération de dérivation est linéaire et vérifie pour tout $r\\in\\mathbb{R}$:\n",
    "$$f(x)=x^r \\text{ et } f'(x)=rx^{r-1}. $$ \n",
    "\n",
    "Attention, le domaine de définition de la fonction à dériver et de sa dérivée n'est pas nécessairement le même.\n",
    "\n",
    "Voici un exemple de dérivée d'un polynôme:\n",
    "$$\n",
    "p(x)=-8+6x+3x^2 \\text{ et sa dérivée est: } p'(x)=6+6x.\n",
    "$$\n",
    "\n",
    "**TODO:** coder une fonction *pol_deriv* qui dérive le polynôme associé à la liste $l$."
   ]
  },
  {
   "cell_type": "code",
   "execution_count": 56,
   "id": "66c1ced7-82a7-478b-b64f-d6fd6258fd90",
   "metadata": {},
   "outputs": [],
   "source": [
    "def pol_deriv(l):\n",
    "    pass"
   ]
  },
  {
   "cell_type": "markdown",
   "id": "12181f94-20b0-41b7-9828-5116ac8afc19",
   "metadata": {},
   "source": [
    "**TODO:** Tracer le polynôme $p=3+x^3$ ainsi que sa dérivée sur un même graphe sur l'intervalle $[-5,5]$."
   ]
  },
  {
   "cell_type": "code",
   "execution_count": null,
   "id": "38c2a426-4462-4383-ab03-5d95cb16e186",
   "metadata": {},
   "outputs": [],
   "source": []
  },
  {
   "cell_type": "markdown",
   "id": "7c13c673-d26d-4eb0-912f-777f701cbadd",
   "metadata": {},
   "source": [
    "#### Interprétation géométrique de la dérivée\n",
    "\n",
    "Grâce à la dérivée de la fonction $f$, on peut définir la tangente à la courbe de $f$ au point d'abscisse $a$ comme étant la fonction affine d'équation:\n",
    "$$ T_f(x)=f'(a)(x-a)+f(a). $$\n",
    "\n",
    "Cette tangente au point $a$ est la *meilleure* fonction affine approchant $f$ au voisinage du point $(a,f(a)).$\n",
    "\n",
    "On se propose d'observer ce phénomène dans le cas des polynômes.\n",
    "\n",
    "**TODO:** pour quelques points de la courbe $p(x)=3+x^3$, tracer les tangentes aux points d'abscisses $-3, 3, 5$ sur un tracé sur l'intervalle $[-4,7]$."
   ]
  },
  {
   "cell_type": "code",
   "execution_count": null,
   "id": "78c5bf05-ded4-4fae-a90a-894063f806ee",
   "metadata": {},
   "outputs": [],
   "source": []
  },
  {
   "cell_type": "markdown",
   "id": "e93a202e-95e9-41cd-a7f6-cb3a9f68a43d",
   "metadata": {},
   "source": [
    "**TODO:** (si vous avez terminé le reste) Vérifier que $T_p$ est effectivement la meilleure fonction affine pour approcher $p$ au point $(3,30)$ de manière expérimetale. Pour cela, comparer les erreurs avec d'autres fonctions affines passant par le point $(3,30).$ Il est possible de tracer ces tangentes pour comparer."
   ]
  },
  {
   "cell_type": "code",
   "execution_count": null,
   "id": "9b4a959c-05c6-40f5-943e-0ff9c4cd9897",
   "metadata": {},
   "outputs": [],
   "source": []
  },
  {
   "cell_type": "markdown",
   "id": "8e36fd5f-983b-4555-a004-d3de85cae537",
   "metadata": {},
   "source": [
    "**TODO:** Tracer un autre graphe sur l'intervalle $[2.75,3.25]$ où l'on voit la courbe de la différence entre $p$ et sa tangente au point $3$."
   ]
  },
  {
   "cell_type": "code",
   "execution_count": null,
   "id": "0d783c67-cbba-4352-a3e5-cf1b5a9e262b",
   "metadata": {},
   "outputs": [],
   "source": []
  },
  {
   "cell_type": "markdown",
   "id": "8dbd76d9-8544-414d-803b-f9fad6d58081",
   "metadata": {},
   "source": [
    "### Produits de polynômes\n",
    "\n",
    "La seconde chose que nous pouvons faire avec les polynômes est la *multiplication.* Considérons deux polynômes:\n",
    "$$ a(x)=3+4x+x^2 \\text{ et } b(x)=-4+2x^2.$$\n",
    "Le produit de ces polynômes est alors égal à:\n",
    "$$\n",
    "\\left( 3+4x+x^2\\right)\\left(-4+2x^2\\right)=-12-16x+éx^2+8x^3+2x^4.\n",
    "$$\n",
    "De manière plus générale, en considérant deux polynômes quelconques:\n",
    "$$\n",
    "a(x)=a_0+a_1x+a_2x^2+\\ldots+a_nx^n \\text{ et } b(x)=b_0+b_1x+b_2x^2+\\ldots + b_mx^m. \n",
    "$$\n",
    "On définit le coefficient de degré $l$ pour tout $0\\leq l \\leq n+m$ du produit de ces deux polynômes comme étant:\n",
    "$$\n",
    "\\begin{align*}\n",
    "(a\\cdot b)_l&=\\sum_{j=0}^l a_j\\cdot b_{l-j} \\\\\n",
    "&= a_0b_l+a_1b_{l-1}+a_2b_{l-2}+\\ldots+a_{l-2}b_2+a_{l-1}b_1+a_{l}b_0.\n",
    "\\end{align*}\n",
    "$$\n",
    "\n",
    "**TODO:** Quel est le degré du polynôme produit $a\\cdot b$ ?"
   ]
  },
  {
   "cell_type": "code",
   "execution_count": null,
   "id": "8ce7e4ea-e10e-4f5b-a36c-8e1a36b2454c",
   "metadata": {},
   "outputs": [],
   "source": []
  },
  {
   "cell_type": "markdown",
   "id": "eae981a6-654e-4d1a-a27c-96caaa53ff10",
   "metadata": {},
   "source": [
    "**TODO:** coder une fonction *pol_prod$(l_1,l_2)$* qui à deux polynômes (c'est-à-dire listes) associe le polynôme produit. Tester la fonction que vous venez de coder avec l'exemple détaillé ci-dessus."
   ]
  },
  {
   "cell_type": "code",
   "execution_count": null,
   "id": "d54962b7-ba34-4372-be2c-e4b94be63dbe",
   "metadata": {},
   "outputs": [],
   "source": []
  },
  {
   "cell_type": "markdown",
   "id": "ec5a13af-5a56-4204-9803-5a4aefe4bbdd",
   "metadata": {},
   "source": [
    "**TODO:** Peut-on multiplier une listes par un nombre en utilisant la syntaxe $*$ ? Sinon, dire ce que fait cette syntaxe."
   ]
  },
  {
   "cell_type": "code",
   "execution_count": null,
   "id": "02bb7967-db20-44b2-824d-9ee6641b5638",
   "metadata": {},
   "outputs": [],
   "source": []
  },
  {
   "cell_type": "markdown",
   "id": "55c249e3-4715-4d8a-8477-30774513fa2e",
   "metadata": {},
   "source": [
    "### 3.Quelques fonctions et notions usuelles en mathématiques\n",
    "\n",
    "Nous allons ici nous familiariser avec les fonctions usuelles disponibles dans la librairie *numpy* ou *math* aisni que quelques subtilités concernant les commandes de *matplotlib*.\n",
    "\n",
    "#### 3.1 Continues ou pas continues ?\n",
    "\n",
    "Cette section a pour but de vous faire prendre du recul concernant des phénomènes étranges pouvant résulter d'un calcul ou affichage effectué par un ordinateur.\n",
    "\n",
    "**TODO:** Tracer le graphe de la fonction carré sur l'intervalle $[-3,3]$. La fonction est-elle continue sur $[-3,3]$? "
   ]
  },
  {
   "cell_type": "code",
   "execution_count": null,
   "id": "f5b4a5a4-244d-4ca0-8c0e-23f371f4e540",
   "metadata": {},
   "outputs": [],
   "source": []
  },
  {
   "cell_type": "markdown",
   "id": "e501efb2-1d72-48d5-b9bf-8e63f518f127",
   "metadata": {},
   "source": [
    "**TODO:** Tracer le graphe de la fonction inverse sur l'intervalle $[-10,10]$ en utilisant un nombre pair de point intermédiaire. La fonction est-elle continue sur $[-10,10]$?\n",
    "Que se passe t-il si on utilise un nombre impair de point ?"
   ]
  },
  {
   "cell_type": "code",
   "execution_count": null,
   "id": "4417ffa0-ef66-44c9-ac1b-bfa4070cf46b",
   "metadata": {},
   "outputs": [],
   "source": []
  },
  {
   "cell_type": "markdown",
   "id": "ab038263-93e3-4f7b-863a-89d4c8885862",
   "metadata": {},
   "source": [
    "**TODO:** Tracer le graphe de la fonction $H$ suivante:\n",
    "$$\n",
    "H(x)=\\begin{cases} \n",
    "1 &\\text{ si }x<0 \\\\\n",
    "-1 &\\text{ sinon.}\n",
    "\\end{cases}\n",
    "$$\n",
    "sur l'intervalle $[-3,3]$. La fonction est-elle continue ?"
   ]
  },
  {
   "cell_type": "code",
   "execution_count": null,
   "id": "3205855c-0921-4b67-8041-44e6e4e235e4",
   "metadata": {},
   "outputs": [],
   "source": []
  },
  {
   "cell_type": "markdown",
   "id": "f9feaa1b-7562-43d3-88f3-812e9845f383",
   "metadata": {},
   "source": [
    "**TODO:** (Pour ceux qui ont terminé le reste) Tracer le graphe de la fonction suivante sur l'intervalle $[-1,1]$:\n",
    "$$\n",
    "f(x)=\\begin{cases} \n",
    "\\sin\\left(\\frac{1}{x}\\right) &\\text{ si }x\\neq 0 \\\\\n",
    "0 &\\text{ sinon.}\n",
    "\\end{cases}\n",
    "$$\n",
    "\n",
    "La fonction est-elle continue sur $[-1,1]$ ?"
   ]
  },
  {
   "cell_type": "code",
   "execution_count": null,
   "id": "8ac50ce5-70ff-4c57-9d4f-ab1732e6b1e5",
   "metadata": {},
   "outputs": [],
   "source": []
  },
  {
   "cell_type": "markdown",
   "id": "e0ae4c07-6bba-4152-a7fc-06134e64fc99",
   "metadata": {},
   "source": [
    "#### Quelques fonctions usuelles\n",
    "\n",
    "Pour cela nous allons utilisé les fonctions usuelles de la librairie *numpy*. Pour cela, nous ferons appel à ces commandes en utilisant *np.* pour signifier à Python dans quelle librairie il doit aller chercher la commande.\n",
    "Par exemple, la fonction $\\cos$ pourra être appelée en utilisant la commande *np.cos*.\n",
    "\n",
    "Reamrque: dans la librairie *numpy*, nous avons aussi accès à une valeur approchée de $\\pi$ grâce à la commande *np.pi*."
   ]
  },
  {
   "cell_type": "code",
   "execution_count": 87,
   "id": "326256fa-8728-486b-9dde-eeae4f6bc3bb",
   "metadata": {},
   "outputs": [
    {
     "data": {
      "text/plain": [
       "3.141592653589793"
      ]
     },
     "execution_count": 87,
     "metadata": {},
     "output_type": "execute_result"
    }
   ],
   "source": [
    "np.pi"
   ]
  },
  {
   "cell_type": "markdown",
   "id": "ec0612a6-f3d9-40a8-8ddf-dd4327d49429",
   "metadata": {},
   "source": [
    "**TODO**: tracer les graphes des fonctions *sin* et *cos* sur une même fenêtre sur l'intervalle $[-2\\pi,2\\pi]$."
   ]
  },
  {
   "cell_type": "code",
   "execution_count": null,
   "id": "bf630d2b-0856-4002-b8ff-a99355518a5c",
   "metadata": {},
   "outputs": [],
   "source": []
  },
  {
   "cell_type": "markdown",
   "id": "e7530d3c-0b62-4aef-8aab-fbf7abe4cbf1",
   "metadata": {},
   "source": [
    "**TODO**: tracer le graphe de la fonction *tan* sur l'intervalle $]-\\frac{\\pi}{2},\\frac{\\pi}{2}[$. Est-il possible de tracer cette fonction sur un intervalle plus grand ?"
   ]
  },
  {
   "cell_type": "code",
   "execution_count": null,
   "id": "3c301a84-2777-4297-8b0c-aa90b5e48e89",
   "metadata": {},
   "outputs": [],
   "source": []
  },
  {
   "cell_type": "markdown",
   "id": "b40586f5-5af3-412a-ad4f-ac914b80ab05",
   "metadata": {},
   "source": [
    "**TODO:** Tracer le graphe de la fonction exponentielle sur l'intervalle $[-10,10]$. Peut-on agrandir l'intervalle pour tracer cette fonction ?"
   ]
  },
  {
   "cell_type": "code",
   "execution_count": null,
   "id": "c9b85911-0a09-45da-9dbe-5752a8ce660e",
   "metadata": {},
   "outputs": [],
   "source": []
  },
  {
   "cell_type": "markdown",
   "id": "539be95e-7e2b-4ad6-8e7c-b7b7c65a339a",
   "metadata": {},
   "source": [
    "**TODO:** Tracer le graphe de la fonction logarithme népérien et le graphe de la fonction logarithme en base $10$ sur une même fenêtre sur l'intervalle $[0.01, 100]$. Peut-on étendre ce tracé à gauche  de $0$ ?"
   ]
  },
  {
   "cell_type": "code",
   "execution_count": null,
   "id": "67bab6d9-4772-4923-b187-f8361ef480fb",
   "metadata": {},
   "outputs": [],
   "source": []
  },
  {
   "cell_type": "markdown",
   "id": "1c1bfddb-5df9-4023-9314-0cf7d62c5cb8",
   "metadata": {},
   "source": [
    "Vous avez maintenant réalisé le minimum qu'il faut savoir pour ce TP. Le reste de ce TP a pour but de vous améliorer à la manipulation des différentes commandes python ou fonctions que vous serez amenés à croiser dans vos études."
   ]
  },
  {
   "cell_type": "markdown",
   "id": "a5ef901e-9b96-4aaf-9622-989e37f79419",
   "metadata": {},
   "source": [
    "#### Changement d'échelle\n",
    "\n",
    "La commande *plot* de la librairie permet d'agir de diverses manières sur un graphe. Ici, nous nous concentrerons principalement sur le *changement d'échelle* de nos graphes. Parfois, les quantités observées sont tellement grandes qu'on ne se rends compte de rien sur un graphique classique. Lorsqu'un tel problème se pose, cela signifie qu'il est grand temps de changer d'échelle de représentation pour que toutes les données soient visibles.\n",
    "\n",
    "**TODO:** Grâce à la commande *plt.xscale('log')* (à insérer à l'endroit requis), tracer le graphique de la fonction logarithme en base 10.\n",
    "La commande permet de définir une échelle logarithmique sur l'axe des abscisses. On peut faire de même avec l'axe des ordonnées en remplaçant *xscale* par *yscale*.\n"
   ]
  },
  {
   "cell_type": "code",
   "execution_count": null,
   "id": "8fd58250-be2c-4414-9cfb-3fef1f1b58d8",
   "metadata": {},
   "outputs": [],
   "source": []
  },
  {
   "cell_type": "markdown",
   "id": "c6ff5b29-5b23-478c-b3d8-99f634d49473",
   "metadata": {},
   "source": [
    "**TODO:** Tracer à sur une échelle classique les graphes des fonctions carré et cube sur l'intervalle $[0,1000]$. Faire de même mais en utilisant une échelle logarithmique."
   ]
  },
  {
   "cell_type": "code",
   "execution_count": null,
   "id": "7d703723-97d1-4541-880e-356ffacc830b",
   "metadata": {},
   "outputs": [],
   "source": []
  },
  {
   "cell_type": "markdown",
   "id": "e557ac99-dc54-4e70-8ebf-394210c25d20",
   "metadata": {},
   "source": [
    "**TODO**: Tracer le graphe de la fonction exponentielle sur l'intervalle $[0,100]$ en utilisant tantôt une échelle logarithmique uniquement en abscisse, uniquement en ordonnées et en abscisses et ordonnées."
   ]
  },
  {
   "cell_type": "code",
   "execution_count": null,
   "id": "218acc62-eada-4d21-b32c-5ab68f92a53f",
   "metadata": {},
   "outputs": [],
   "source": []
  },
  {
   "cell_type": "markdown",
   "id": "dc64cd81-5ad8-42fd-ac17-12761c8109e1",
   "metadata": {},
   "source": [
    "### 4. Les fonctions homographiques\n",
    "\n",
    "Une *fonction homographique* est une fonction définie par $4$ paramètres $a,b,c,d$ en posant:\n",
    "$$ x\\mapsto \\frac{ax+b}{cx+d}. $$\n",
    "\n",
    "Il s'agit donc d'un quotient de deux fonctions affines vues précédemment.\n",
    "\n",
    "**TODO:** Etant donné quatres paramètres quelconques $a,b,c,d$, déterminer l'ensemble de définition de la transformation homographique associée à ces paramètres. "
   ]
  },
  {
   "cell_type": "code",
   "execution_count": null,
   "id": "85265d94-217f-4470-8894-35411a66a20e",
   "metadata": {},
   "outputs": [],
   "source": []
  },
  {
   "cell_type": "markdown",
   "id": "afcf8c06-56ff-4cf1-a5e0-29af79f758cb",
   "metadata": {},
   "source": [
    "**TODO:** coder une fonction *homographique(x,a,b,c,d)* qui prends cinq paramètres en entrée et associe l'image de $x$ par la fonction homographique associée aux paramètres $a,b,c,d$. Attention, aux valeurs interdites."
   ]
  },
  {
   "cell_type": "code",
   "execution_count": null,
   "id": "4a68c42b-a151-4ef7-a2c3-583af34f6e87",
   "metadata": {},
   "outputs": [],
   "source": []
  },
  {
   "cell_type": "markdown",
   "id": "b2f0d211-833f-4233-976a-fc61640626d5",
   "metadata": {},
   "source": [
    "**TODO:** Tracer le graphique de la fonction homographique suivante\n",
    "$$ x\\mapsto \\frac{3x-2}{-2x+5} $$ sur l'intervalle $[0,5]$."
   ]
  },
  {
   "cell_type": "code",
   "execution_count": null,
   "id": "b3607c06-d1bc-45f6-9e2d-f251207eb162",
   "metadata": {},
   "outputs": [],
   "source": []
  },
  {
   "cell_type": "markdown",
   "id": "8dfc7055-4865-4fb1-bc4f-5c4ec38565b5",
   "metadata": {},
   "source": [
    "**TODO** Tracer le graphe de la fonction homographique sur $[-10,10]$:\n",
    "$$ x\\mapsto \\frac{2x-4}{7x-14}.$$\n",
    "Que remarque-t-on ? Pouvez-vous expliquer ce phénomène ?"
   ]
  },
  {
   "cell_type": "code",
   "execution_count": null,
   "id": "7892b228-37cd-4625-833a-470baf9f2836",
   "metadata": {},
   "outputs": [],
   "source": []
  }
 ],
 "metadata": {
  "kernelspec": {
   "display_name": "Python 3 (ipykernel)",
   "language": "python",
   "name": "python3"
  },
  "language_info": {
   "codemirror_mode": {
    "name": "ipython",
    "version": 3
   },
   "file_extension": ".py",
   "mimetype": "text/x-python",
   "name": "python",
   "nbconvert_exporter": "python",
   "pygments_lexer": "ipython3",
   "version": "3.12.4"
  }
 },
 "nbformat": 4,
 "nbformat_minor": 5
}
