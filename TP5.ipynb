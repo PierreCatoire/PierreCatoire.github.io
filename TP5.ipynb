{
 "cells": [
  {
   "cell_type": "markdown",
   "id": "eebff013-765c-44b6-aad1-c1e73735c91f",
   "metadata": {},
   "source": [
    "# TP 5: Les procédures de chiffrements asymétriques\n",
    "\n",
    "Dans la famille des procédures de chiffrements asymétriques, nous retrouvons beaucoup de procédure de chiffrement. Comme vu en cours, nous savons que chaque procédure de chiffrement asymétrique repose sur une foncton à sens unique. Nous nous attarderons dans ce TP sur trois d'entre elles:\n",
    "- le cryptosystème RSA, basé sur la fonction à sens unique de l'exponentiation modulaire; \n",
    "- le cryptosystème de El Gamal, basé sur la fonction à sens unique qui fait le produit d'entiers premiers;\n",
    "- la procédure d'échange de clef de Diffie-Hellman, basée également sur l'exponentiation modulaire.\n",
    "\n",
    "Ce TP est composé de 3 parties :\n",
    "1. Le chiffrement RSA\n",
    "2. Le chiffrement El Gamal\n",
    "3. La lecture de fichiers par blocs"
   ]
  },
  {
   "cell_type": "code",
   "execution_count": null,
   "id": "114ae0a2",
   "metadata": {},
   "outputs": [],
   "source": [
    "# Imports utiles\n",
    "import random\n",
    "import numpy as np\n",
    "import matplotlib.pyplot as plt\n",
    "import math\n",
    "import time\n",
    "\n",
    "rng = random.Random(0x123456789)"
   ]
  },
  {
   "cell_type": "markdown",
   "id": "be130802",
   "metadata": {},
   "source": [
    "## Partie 1 - Le cryptosytème RSA\n",
    "\n",
    "Ce cryptosystème est apparu dans les années 1978 à la suite de la découverte d'un résultat mêlant le théorème d'Euler au théorème de Sun Zi par Rivest, Shamir et Adleman. Pour plus détails, vous pouvez consulter [la page Wikipédia](https://fr.wikipedia.org/wiki/Chiffrement_RSA).\n",
    "\n",
    "Pour manipuler efficacement les objets du système RSA, nous rappelons les fonctions que nous avons réalisés précédemment dans d'autres TP.\n",
    "\n",
    "### 1.1. Rappels des TP précédents\n",
    "\n",
    "Au TP précédent, on a vu qu'on pouvait calculer des inverses modulaires grâce aux coefficients de Bézout. Les fonctions ci-dessous implémentent cela."
   ]
  },
  {
   "cell_type": "code",
   "execution_count": null,
   "id": "bb889971-2283-479b-990a-b931696d4e8c",
   "metadata": {},
   "outputs": [],
   "source": [
    "def bezout(a, b):\n",
    "    \"\"\"\n",
    "    Donne deux entiers u et v tels que a*u + b*v = pgcd(a, b).\n",
    "\n",
    "    Args: les deux entiers à partir desquels calculer la combinaison de bézout\n",
    "\n",
    "    Outputs: les entiers u et v tels que a*u + b*v = pgcd(a, b)\n",
    "    \"\"\"\n",
    "    if b == 0:\n",
    "        return 1, 0\n",
    "    q, r = divmod(a, b)\n",
    "\n",
    "    x, y = bezout(b, r)\n",
    "    return y, x - y * q"
   ]
  },
  {
   "cell_type": "code",
   "execution_count": null,
   "id": "f63869e9-df7f-4bdd-a85f-b1bb9549433e",
   "metadata": {},
   "outputs": [],
   "source": [
    "def inv_mod(a, p):\n",
    "    \"\"\"\n",
    "    Calcule l'inverse de a modulo p.\n",
    "\n",
    "    Args: l'entier à inverser et le modulo\n",
    "\n",
    "    Outputs: l'inverse de cet entier dans l'ensemble modulaire\n",
    "    \"\"\"\n",
    "    u, v = bezout(a, p)\n",
    "\n",
    "    pgcd = u * a + v * p\n",
    "    if pgcd != 1:\n",
    "        raise ValueError(f\"{a} n'est pas inversible dans Z / {p}Z\")\n",
    "\n",
    "    return u % p"
   ]
  },
  {
   "cell_type": "markdown",
   "id": "525ea2a7-478e-4884-8a4a-d3cd9935fdaf",
   "metadata": {},
   "source": [
    "### 1.2. Programme qui effectue le chiffrement RSA\n",
    "\n",
    "Pour les choix de nombre premier on peut regarder la [table](https://www.walter-fendt.de/html5/men/primenumbers_en.htm) qui recense tous les premiers de $1$ à un mille milliards.\n",
    "\n",
    "On rappelle la procédure de chiffrement de RSA ci-dessous:\n",
    "- on tire deux grands entiers premiers $p$ et $q$ (on ne fera pas attention aux recommandations de sécurité pour simplifier);\n",
    "- on calcule $n=pq$;\n",
    "- on calcule $\\varphi(n)=(p-1)(q-1)$;\n",
    "- on choisit un assez grand entier $e$ premier à $\\varphi(n)$;\n",
    "- on calcule son inverse $d$ dans $\\mathbb{Z}/\\varphi(n)\\mathbb{Z}$;\n",
    "- on publie la clé publique $(n,e)$;\n",
    "- on conserve la clé privée $(n, d)$ (on n'a plus besoin de $p, q$ !).\n",
    "\n",
    "*Remarque :* En pratique, l'inverse dans $\\mathbb{Z}/\\varphi(n)\\mathbb{Z}^*$ est calculé dans $\\mathbb{Z}/(p-1)\\mathbb{Z}^*$ et dans $\\mathbb{Z}/(q-1)\\mathbb{Z}^*$, le message étant calculé grâce au théorème de Sun Zi (communément appelé théorème des restes chinois). Plus de détails sur [cette page](https://www.di-mgt.com.au/crt_rsa.html)."
   ]
  },
  {
   "cell_type": "markdown",
   "id": "6a3694e5",
   "metadata": {},
   "source": [
    "#### 1.2.a. Génération de clés\n",
    "\n",
    "\n",
    "**TODO**: Ecrire une fonction qui à partir de deux entiers premiers $p$ et $q$ génère la clef publique et la clef privée RSA en tirant l'indice $e$ au hasard et assez grand ($>\\log(n))$. Pour tester votre fonction prenez:\n",
    "$$ \n",
    "p=1000133 \\text{ et } q=1000151.\n",
    "$$"
   ]
  },
  {
   "cell_type": "code",
   "execution_count": null,
   "id": "3b94de48-3432-4d7e-a31b-33bb31d0b1f4",
   "metadata": {},
   "outputs": [],
   "source": [
    "def RSA_keys(p, q):\n",
    "    \"\"\"\n",
    "    Generate RSA public and private keys.\n",
    "    Args:\n",
    "        p (int): A prime number.\n",
    "        q (int): Another prime number.\n",
    "    Returns:\n",
    "        tuple: A tuple containing the public key (n, e) and the private key (n, d).\n",
    "            - pubkey (tuple): The public key, consisting of (n, e).\n",
    "            - privkey (tuple): The private key, consisting of (n, d).\n",
    "    \"\"\"\n",
    "\n",
    "    pass # TODO\n",
    "\n",
    "\n",
    "# TODO: tester la fonction"
   ]
  },
  {
   "cell_type": "markdown",
   "id": "c80758e4-d1fa-490c-80c6-ad7e0bfd3326",
   "metadata": {},
   "source": [
    "#### 1.2.b. Chiffrement et déchiffrement\n",
    "\n",
    "On considère un message $M$ (qui pour l'instant est un entier) et on souhaite le chiffrer avec en utilisant la méthode RSA. Nous devons alors calculer:\n",
    "$$ \n",
    "C = M^e \\mod n.\n",
    "$$\n",
    "En général, ce chiffrement RSA est seulement utilisé pour échanger des petits messages (le générateur de Diffie-Hellman), et donc on testera sur des nombres de taille confortable.\n",
    "\n",
    "**TODO**: En utilisant la fonction `pow`, coder une fonction `RSA_cypher(M, n, e)` et `RSA_decypher(C, n, d)` qui respectivement chiffre et déchiffre les messages avec les clefs publiques et privées en entrée. Puis tester vos fonctions pour voir si vos clés sont correctes."
   ]
  },
  {
   "cell_type": "code",
   "execution_count": null,
   "id": "76106037-ef77-45b3-8442-fcda3486f247",
   "metadata": {},
   "outputs": [],
   "source": [
    "def RSA_cypher(M, n, e):\n",
    "    pass  # TODO\n",
    "\n",
    "\n",
    "def RSA_decypher(C, n, d):\n",
    "    pass  # TODO"
   ]
  },
  {
   "cell_type": "code",
   "execution_count": null,
   "id": "01e3df50-dbd3-4c55-9752-e4eb40bfe40e",
   "metadata": {},
   "outputs": [],
   "source": [
    "# Exemple avec des petites valeurs\n",
    "M = 5\n",
    "p, q = 13, 17\n",
    "\n",
    "pubkey, privkey = RSA_keys(p, q)\n",
    "\n",
    "print(pubkey, privkey)\n",
    "print((pubkey[1] * privkey[1]) % ((p - 1) * (q - 1)))\n",
    "\n",
    "C = RSA_cypher(M, pubkey[0], pubkey[1])\n",
    "print(\"Le message chiffré est \", C)\n",
    "N = RSA_decypher(C, privkey[0], privkey[1])\n",
    "print(\"Le message déchiffré est \", N)"
   ]
  },
  {
   "cell_type": "code",
   "execution_count": null,
   "id": "c15eaca2-f1d1-4f75-bb88-55c89de3325c",
   "metadata": {},
   "outputs": [],
   "source": [
    "# Exemple avec des grandes valeurs\n",
    "M = 1376286482\n",
    "p = 1000133\n",
    "q = 1000151\n",
    "pubkey, privkey = RSA_keys(p, q)\n",
    "C = RSA_cypher(M, pubkey[0], pubkey[1])\n",
    "print(\"Le message chiffré est \", C)\n",
    "\n",
    "N = RSA_decypher(C, privkey[0], privkey[1])\n",
    "print(\"Le message déchiffré est \", N)"
   ]
  },
  {
   "cell_type": "markdown",
   "id": "26e0d0cb",
   "metadata": {},
   "source": [
    "## Partie 2 - Conversion de fichiers en entiers\n",
    "\n",
    "Dans tous les encodages, le nombre de bits correspondant à un caractère est un multiple de 8: il peut être encodé sur 1 ou plusieurs octets. De ce fait, les fichiers sont organisés en octets, et donc en les lisant, on va les découper en bloc d'octets, d'une taille décidée *a priori*.\n",
    "\n",
    "Le risque avec cette approche est d'arriver en fin de fichier et de n'avoir qu'un bloc plus petit que la taille prescrit : avec des blocs de taille $N$ octets, le fichier aura $q \\times N + r$ octets pour un certain $0 \\leq r < N$, et donc le dernier bloc aura une taille $N - r$. La fonction ci-dessous ajoute des caractères/octets nuls `\\x00` pour compléter ce dernier bloc."
   ]
  },
  {
   "cell_type": "code",
   "execution_count": null,
   "id": "240c0551",
   "metadata": {},
   "outputs": [],
   "source": [
    "def readblocks_null_padding(fname, blocksize):\n",
    "    \"\"\"\n",
    "    Reads a file in blocks of a specified size, padding the last block with null bytes if necessary.\n",
    "\n",
    "    Args:\n",
    "        fname (str): The path to the file to be read.\n",
    "        blocksize (int): The size of each block in bytes.\n",
    "\n",
    "    Returns:\n",
    "        list: A list of integers, each representing a block of bytes from the file.\n",
    "    \"\"\"\n",
    "    file_blocks = []  # liste des entiers représentés par chaque bloc d'octets\n",
    "    eof = False\n",
    "    with open(fname, \"rb\") as fstream:  # r pour reading, b pour bytes\n",
    "        while not eof:\n",
    "            byte_block = fstream.read(blocksize)\n",
    "\n",
    "            pad_len = blocksize - len(byte_block)\n",
    "            if pad_len > 0:  # reached end of file\n",
    "                byte_block = byte_block.ljust(blocksize, b\"\\x00\")\n",
    "                eof = True\n",
    "\n",
    "            int_block = int.from_bytes(byte_block, byteorder=\"big\")\n",
    "            file_blocks.append(int_block)\n",
    "\n",
    "    return file_blocks"
   ]
  },
  {
   "cell_type": "markdown",
   "id": "0de99ddb",
   "metadata": {},
   "source": [
    "### 2.1. Le padding (méthode PKCS7)\n",
    "\n",
    "Cette approche qui rajoute des octets nuls est simple à implémenter mais est largement imparfaite : une fois le bloc rembourré, on ne peut pas savoir de de combien d'octets il a été complété. L'approche [PKCS #7](https://en.wikipedia.org/wiki/PKCS_7) règle ce problème en ajoutant $N - r$ octets de *valeur* $N - r$ en fin de bloc. Si $r = 0$, on crée un nouveau bloc de taille $N$ où chaque octet prend la valeur $N$. Cette méthode est très bien illustrée sur le site de [Node Security](https://node-security.com/posts/cryptography-pkcs-7-padding/).\n",
    "\n",
    "*Remarque:* Quelle est la valeur maximale que peut prendre un octet ? Que peut-on en déduire sur la taille $N$ maximale des blocs qu'on peut prendre ?\n",
    "\n",
    "**TODO**  \n",
    "En utilisant la méthode `int.to_bytes`, compléter la fonction `pad_pkcs7` ci-dessous."
   ]
  },
  {
   "cell_type": "code",
   "execution_count": null,
   "id": "81ca7320",
   "metadata": {},
   "outputs": [],
   "source": [
    "def pad_pkcs7(block: bytearray, pad_len: int):\n",
    "    \"\"\"\n",
    "    Pads the given bytearray using the PKCS#7 padding scheme.\n",
    "    Args:\n",
    "        block (bytearray): The bytearray to be padded.\n",
    "        pad_len (int): The length of the padding to be added.\n",
    "    Returns:\n",
    "        bytearray: The padded bytearray.\n",
    "    \"\"\"\n",
    "    pass  # TODO\n",
    "\n",
    "\n",
    "# Tests\n",
    "print(\n",
    "    'Padding de b\"\\\\x00\" avec 3 blocs: b\"\\\\x00\\\\x03\\\\x03\\\\x03\" --',\n",
    "    pad_pkcs7(bytearray(1), 3) == b\"\\x00\\x03\\x03\\x03\",\n",
    ")\n",
    "print(\n",
    "    'Padding de b\"\" avec 4 blocs: b\"\\\\x04\\\\x04\\\\x04\\\\x04\" --',\n",
    "    pad_pkcs7(bytearray(0), 4) == b\"\\x04\\x04\\x04\\x04\",\n",
    ")"
   ]
  },
  {
   "cell_type": "markdown",
   "id": "330fdb07",
   "metadata": {},
   "source": [
    "**TODO**  \n",
    "Coder une méthode de lecture de fichier par blocs qui prend en compte ce padding. Tester également avec un fichier dont le nombre de blocs est divisible par la taille choisie."
   ]
  },
  {
   "cell_type": "code",
   "execution_count": null,
   "id": "de6b3a6b",
   "metadata": {},
   "outputs": [],
   "source": [
    "def readblocks(fname, blocksize):\n",
    "    \"\"\"\n",
    "    Reads a file in blocks of a specified size, padding the last block using the PKCS#7 padding scheme.\n",
    "\n",
    "    Args:\n",
    "        fname (str): The path to the file to be read.\n",
    "        blocksize (int): The size of each block in bytes.\n",
    "\n",
    "    Returns:\n",
    "        list: A list of integers, each representing a block of bytes from the file.\n",
    "    \"\"\"\n",
    "    pass  # TODO\n",
    "\n",
    "\n",
    "readblocks(\"test-padding.txt\", 5)\n",
    "# On reconnait 6 fois \"Pigs \" puis \"Pigs\\x01\" (padding de 1)\n",
    "\n",
    "# TODO un autre test"
   ]
  },
  {
   "cell_type": "markdown",
   "id": "ad3939f3-f4f2-4eaf-b13f-2110cd85319c",
   "metadata": {},
   "source": [
    "### 2.2. Unpadding\n",
    "\n",
    "Pour chiffrer un fichier, on effectue les opérations suivantes, \n",
    "$$ M \\overset{\\text{pad}}{\\longmapsto} \\bar{M} \\overset{\\text{cipher}}{\\longmapsto} C $$\n",
    "avec $\\bar{M}$ et $C$ qui sont des listes de nombres, dont le nombre d'octets correspondra à la taille des blocs choisie.\n",
    "\n",
    "Ainsi en déchiffrant le fichier chiffré, on obtiendra le fichier $\\bar{M}$ rembourré. Il faut encore supprimer le *padding* avant de le sauvegarder. Pour pouvoir sauvegarder le fichier chiffré, on ne voudra pas forcément retirer le rembourrage."
   ]
  },
  {
   "cell_type": "code",
   "execution_count": null,
   "id": "20481c1b",
   "metadata": {},
   "outputs": [],
   "source": [
    "def unpad_pkcs7(block: bytearray):\n",
    "    \"\"\"\n",
    "    Remove PKCS#7 padding from a given bytearray.\n",
    "    This function assumes that the input block is padded correctly according to the PKCS#7 standard.\n",
    "    Args:\n",
    "        block (bytearray): The padded bytearray from which the padding needs to be removed.\n",
    "    Returns:\n",
    "        bytearray: The bytearray with the PKCS#7 padding removed.\n",
    "    Raises:\n",
    "        ValueError: If the padding is incorrect.\n",
    "    \"\"\"\n",
    "    pass  # TODO\n",
    "\n",
    "\n",
    "# Tests\n",
    "print(\n",
    "    'Unpadding de b\"\\\\x02\\\\x02\" --',\n",
    "    unpad_pkcs7(b\"\\x02\\x02\") == b\"\",\n",
    ")\n",
    "\n",
    "print(\n",
    "    'Unpadding de b\"\\\\x01\\\\x01\" --',\n",
    "    unpad_pkcs7(b\"\\x01\\x01\") == b\"\\x01\",\n",
    ")\n",
    "\n",
    "print(\"Padding incorrect de b'\\\\x01\\\\x02' --\", end=\" \")\n",
    "try:\n",
    "    unpad_pkcs7(b\"\\x01\\x02\")\n",
    "    print(False)\n",
    "except:\n",
    "    print(True)"
   ]
  },
  {
   "cell_type": "code",
   "execution_count": null,
   "id": "34f773bf",
   "metadata": {},
   "outputs": [],
   "source": [
    "def writeblocks(fname, int_blocks, blocksize, unpad=True):\n",
    "    \"\"\"\n",
    "    Writes a list of integer blocks to a binary file.\n",
    "    Args:\n",
    "        fname (str): The name of the file to write to.\n",
    "        blocks (list of int): The list of integer blocks to write.\n",
    "        blocksize (int): The size of each block in bytes.\n",
    "        unpad (bool, optional): Whether to unpad the last block using PKCS#7 padding. Defaults to True.\n",
    "    Returns:\n",
    "        None\n",
    "    \"\"\"\n",
    "    # TODO définir le vecteur de bytearray et prendre en compte l'unpadding\n",
    "    byte_blocks = []\n",
    "\n",
    "    with open(fname, \"wb\") as fstream:  # w pour writing, b pour bytes\n",
    "        for bblock in byte_blocks:\n",
    "            fstream.write(bblock)\n",
    "\n",
    "\n",
    "blocksize = 5\n",
    "blocks = readblocks(\n",
    "    \"test-padding.txt\", blocksize\n",
    ")  # suppose que `readblocks` marche bien :^)\n",
    "writeblocks(\"test-unpadding.txt\", blocks, blocksize, unpad=True)\n",
    "# ^ vérifier qu'on retrouve bien le contenu original de `test-padding.txt`"
   ]
  },
  {
   "cell_type": "markdown",
   "id": "d60b0dae-19d8-4551-a651-642beb173b88",
   "metadata": {},
   "source": [
    "## Partie 3 - Le cryptosystème de El Gamal\n",
    "\n",
    "Ce cryptosystème est apparu en 1984 par Taher Elgamal, un cryptographe égyptien. Cette procédure de chiffrement est un peu plus complexe que RSA à mettre en place mais elle a le bénéfice d'avoir le même nveau de sécurité que RSA avec une clef deux fois plus petite. Si vous êtes curieux, vous pouvez consulter la [page wikipédia du chiffrement de El Gamal](https://fr.wikipedia.org/wiki/Cryptosyst%C3%A8me_de_ElGamal)."
   ]
  },
  {
   "cell_type": "markdown",
   "id": "31f00fef",
   "metadata": {},
   "source": [
    "### 3.1. L'exponentiation modulaire\n",
    "\n",
    "Nous codons ici de la fonction \"exponentiation modulaire\" détaillée en cours qui permet d'effectuer le calcul de $a^b$ en utilisant $O(\\log_2(b))$ multiplications au lieu de $O(b)$ (ce qui représente un gain de temps exponentiel). \n",
    "\n",
    "*Exemple*: en utilisant une méthode d'exponentiation naïve:\n",
    "$$\n",
    "a^{13}=\\underbrace{a\\cdot a\\cdot \\ldots \\cdot a}_{13 \\text{ fois}}.\n",
    "$$\n",
    "En utilisant une méthode d'exponentiation rapide:\n",
    "$$\n",
    "a^{13}=a^{12}\\cdot a=\\left( a^6 \\right)^2\\cdot a= \\left( \\left(a^3\\right)^2 \\right)^2 \\cdot a= \\left(\\left( a^2 \\cdot a\\right)^2\\right)^2 \\cdot a.\n",
    "$$\n",
    "La méthode naïve effectue $13$ multiplications tandis que la méthode rapide effectue seulement $5$ multiplications.\n",
    "\n",
    "Dans cette partie, nous allons coder l'algorithme d'exponentiation naïve et rapide afin de comparer leurs performances à l'aide de la fonction *time* de la librairie *time*."
   ]
  },
  {
   "cell_type": "markdown",
   "id": "c32d2989",
   "metadata": {},
   "source": [
    "#### 3.1.a. Implémentations\n",
    "\n",
    "**TODO**  \n",
    "Coder les fonctions `exp_naive(x, a, n)` et `exp_rapide(x, a, n)` qui calcule $x^a \\mod n$."
   ]
  },
  {
   "cell_type": "code",
   "execution_count": null,
   "id": "c9e646e3-718c-4bfe-a1ec-75e47ac95e78",
   "metadata": {},
   "outputs": [],
   "source": [
    "def exp_naive(x, a, n):\n",
    "    pass  # TODO\n",
    "\n",
    "\n",
    "def exp_rapide(x, a, n):\n",
    "    pass  # TODO\n",
    "\n",
    "\n",
    "print(exp_naive(15, 14, 103), exp_rapide(15, 14, 103))\n",
    "print(pow(15, 14, 103))"
   ]
  },
  {
   "cell_type": "markdown",
   "id": "a8d64aea-71f0-4c79-9aea-d31eb0fe68d8",
   "metadata": {},
   "source": [
    "#### 3.1.b. Comparaison des temps de calcul\n",
    "\n",
    "**TODO**  \n",
    "A l'aide de la librairie *matplotlib*, tracer un graphe des temps pris par chacune de ces deux fonctions pour des exposants entre $10$ et $10^4$ en utilisant une échelle appropriée pour effectuer un calcul modulo $n=100000037\\simeq 10^8$.\n",
    "\n",
    "Pour la version naïve, calculer le temps moyen sur 20 itérations. Pour la version rapide, moyenner sur 100 itérations."
   ]
  },
  {
   "cell_type": "code",
   "execution_count": null,
   "id": "1416b4a8-3aa0-45ce-a1ca-0e9938f32573",
   "metadata": {},
   "outputs": [],
   "source": [
    "x = 214267\n",
    "n = 100000037\n",
    "Interv = np.geomspace(10, 10**5, num=3000, dtype=int)\n",
    "\n",
    "# TODO: comparer les temps d'exécution des deux fonctions"
   ]
  },
  {
   "cell_type": "markdown",
   "id": "9b5affc3-d5a2-4a0f-96ef-d45d99eaeacf",
   "metadata": {},
   "source": [
    "### 3.2. Le logarithme discret\n",
    "\n",
    "Comme nous l'avons vu en cours, le logarithme discret est une réciproque partielle à la fonction d'exponentiation modulaire.\n",
    "On considère $p$ un nombre premier et on considère $a$ un générateur du groupe multiplicatif $\\mathbb{Z}/p\\mathbb{Z}^*.$\n",
    "Il s'agit de l'application:\n",
    "$$\n",
    "\\log_a: x \\mapsto c \\text{ le plus petit entier positif réalisant } x^c = a \\mod p .\n",
    "$$"
   ]
  },
  {
   "cell_type": "markdown",
   "id": "8f758af5",
   "metadata": {},
   "source": [
    "#### 3.2.a. Validation de générateur\n",
    "\n",
    "**TODO**  \n",
    "Coder une fonction `is_generator(x, p)` qui vérifie si $x$ est un générateur de $\\mathbb{Z}/p\\mathbb{Z}^*.$ Testez cette fonction."
   ]
  },
  {
   "cell_type": "code",
   "execution_count": null,
   "id": "f369fb00-8308-4b08-8f3c-08313200b700",
   "metadata": {},
   "outputs": [],
   "source": [
    "def is_generator(x, p):\n",
    "    \"\"\"\n",
    "    Détermine si un nombre x est un générateur du groupe multiplicatif des entiers modulo p.\n",
    "    Args:\n",
    "        x (int): Le nombre à tester comme générateur.\n",
    "        p (int): Le module du groupe multiplicatif.\n",
    "    Returns:\n",
    "        bool: True si x est un générateur du groupe multiplicatif modulo p, False sinon.\n",
    "    \"\"\"\n",
    "    pass  # TODO\n",
    "\n",
    "\n",
    "# TODO test"
   ]
  },
  {
   "cell_type": "markdown",
   "id": "5300139e-3cee-4d82-a48e-03e6930bf640",
   "metadata": {},
   "source": [
    "#### 3.2.b. Trouver un générateur\n",
    "\n",
    "**TODO**  \n",
    "Servez-vous de la fonction précédente pour concevoir un algorithme recherchant un générateur de $\\mathbb{Z}/p\\mathbb{Z}^*$ avec $p=1000151$."
   ]
  },
  {
   "cell_type": "code",
   "execution_count": null,
   "id": "5112e6af-3954-4887-9602-caa88a931c99",
   "metadata": {},
   "outputs": [],
   "source": [
    "def find_generator(p):\n",
    "    pass  # TODO\n",
    "\n",
    "\n",
    "# TODO test"
   ]
  },
  {
   "cell_type": "markdown",
   "id": "5c1efbeb",
   "metadata": {},
   "source": [
    "#### 3.2.c. Logarithme discret brute force\n",
    "\n",
    "**TODO**  \n",
    "Implémenter le logarithme discret avec une méthode de recherche naïve."
   ]
  },
  {
   "cell_type": "code",
   "execution_count": null,
   "id": "7311d6f4-588e-4597-83a4-4b46991e7cc4",
   "metadata": {},
   "outputs": [],
   "source": [
    "def log_discret(x, a, p):\n",
    "    \"\"\"\n",
    "    Cherche un exposant positif b le plus petit possible tel que a^b = x mod p\n",
    "    \"\"\"\n",
    "    res = 1\n",
    "    for i in range(1, p):\n",
    "        res = (res * a) % p\n",
    "        if res == x % p:\n",
    "            return i\n",
    "\n",
    "\n",
    "print(pow(7, 2, 11))\n",
    "print(log_discret(5, 7, 11) == 2)"
   ]
  },
  {
   "cell_type": "markdown",
   "id": "03a90c09-c10a-46de-a482-469b6922d219",
   "metadata": {},
   "source": [
    "### 3.3. Chiffrement El Gamal\n",
    "\n",
    "Pour cela on rappelle, la procédure de génération de clefs pour utiliser l'algorithme de El-Gamal:\n",
    "- choisir $p$ un nombre premier et $g$ un générateur du groupe $\\left( \\mathbb{Z}/{p\\mathbb{Z}}^*, \\times, 1 \\right)$; \n",
    "- choisir aléatoirement $s$ un nombre et calculer $\\beta=g^s$; \n",
    "- publier la clé publique $(p,g,\\beta)$;\n",
    "- garder la clef secrète $s$.\n",
    "\n",
    "Une fois ces clefs produites, le chiffré du message en clair $M$ est calculé en tirant aléatoirement un élément de ${\\mathbb{Z}}/{(p-1)\\mathbb{Z}}$ et en renvoyant:\n",
    "$$\n",
    "C(M)=(y_1,y_2)=\\left( g^k \\mod p,  M\\times \\beta^k \\mod p \\right).\n",
    "$$\n",
    "Puis, la procédure de déchiffrement appliqué à $(y_1,y_2)$ est donnée par:\n",
    "$$\n",
    "D(y_1,y_2)=y_2\\times \\left(y_1^s \\right)^{-1}.\n",
    "$$\n",
    "\n",
    "**TODO**  \n",
    "Coder une fonction `El_Gamal_keys(p,g)` qui renvoie la clef privée et la clef publique du chiffrement de El-Gamal, une fonction `El_Gamal_cypher(M,key_pub)` qui chiffre le message $M$ et une fonction `El_Gamal_decypher(C,key_priv)` qui déchiffre le message."
   ]
  },
  {
   "cell_type": "code",
   "execution_count": null,
   "id": "e9b52d72-e1cd-4c75-9227-dd0ba23ba142",
   "metadata": {},
   "outputs": [],
   "source": [
    "def El_Gamal_keys(p, g):\n",
    "    pass  # TODO\n",
    "\n",
    "\n",
    "def El_Gamal_cypher(M, key_pub):\n",
    "    pass  # TODO\n",
    "\n",
    "\n",
    "def El_Gamal_decypher(C, key_priv):\n",
    "    pass  # TODO"
   ]
  },
  {
   "cell_type": "code",
   "execution_count": null,
   "id": "eee15443-38da-4c09-8fc4-a7f813d42124",
   "metadata": {},
   "outputs": [],
   "source": [
    "# Test des fonctions\n",
    "p = 21817\n",
    "M = 3539\n",
    "key_pub, key_priv = El_Gamal_keys(p, 2)\n",
    "C = El_Gamal_cypher(M, key_pub)\n",
    "D = El_Gamal_decypher(C, key_priv)\n",
    "print(\"Le aclé publique est \", key_pub, \" tandis que la clef privée est \", key_priv)\n",
    "print(\"Le message en clair est \", M)\n",
    "print(\"Le message chiffré est \", C, \" puis le message déchiffré est \", D)"
   ]
  },
  {
   "cell_type": "markdown",
   "id": "e09f147e",
   "metadata": {},
   "source": [
    "## Appendice - Théorème de Sun Zi\n",
    "\n",
    "Le chiffrement RSA se base sur le fait qu'à partir d'un nombre $n = p \\times q$ avec $p$ et $q$ premiers «grands» (aujourd'hui, cela signifie que $n$ est de 2048 bits), il est difficile de retrouver les facteurs premiers $p$, $q$, et donc la caractéristique d'Euler $\\varphi(n) = (p - 1) \\times (q - 1)$. \n",
    "\n",
    "**Théorème faible de Sun Zi:** Soit $p,q$ deux entiers premiers entre eux et notons $n = p q$. Alors:\n",
    "$$ \\mathbb{Z}/n\\mathbb{Z}\\simeq  \\mathbb{Z}/p\\mathbb{Z}\\times\\mathbb{Z}/q\\mathbb{Z}.$$\n",
    "\n",
    "On capture cet isomorphisme dans une structure `pq = ProductSpace(p, q)` qui permet de convertir des nombres entre l'espace $\\mathbb{Z}/n\\mathbb{Z}$ et l'espace produit $\\mathbb{Z}/p\\mathbb{Z} \\times \\mathbb{Z}/q\\mathbb{Z}$, dans les deux sens.\n",
    "\n",
    "La fonction `pq.to_prodspace(x)` effectue cette opération:\n",
    "$$\n",
    "x\\mod n \\rightarrow \\begin{cases}\n",
    "x&\\mod p, \\\\\n",
    "x&\\mod q.\n",
    "\\end{cases}\n",
    "$$\n",
    "\n",
    "Tandis que la fonction `pq.from_prodspace(yp, yq)` est la réciproque de `pq.to_prodspace(x)` qui trouve l'unique $x \\mod n$ tel que:\n",
    "$$\n",
    "\\begin{cases} x = y_p\\ [p], \\\\ x = y_q\\ [q], \\end{cases}\n",
    "$$"
   ]
  },
  {
   "cell_type": "code",
   "execution_count": null,
   "id": "580e8d2c",
   "metadata": {},
   "outputs": [],
   "source": [
    "class ProductSpace:\n",
    "    def __init__(self, p, q):\n",
    "        self.p, self.q = p, q\n",
    "        self.n = p * q\n",
    "\n",
    "        # Calcul des solutions fondamentales xp, xq,\n",
    "        # représentants de (1, 0) et de (0, 1) dans Z/nZ\n",
    "        ap, aq = bezout(p, q)\n",
    "        self.xp, self.xq = ap * q, aq * p\n",
    "\n",
    "    def to_prodspace(self, x):\n",
    "        \"\"\"\n",
    "        Associe à un entier ses classes de congruence modulo p et q.\n",
    "\n",
    "        Args: l'entier\n",
    "\n",
    "        Outputs: un couple d'entier modulo p et q\n",
    "        \"\"\"\n",
    "        return x % self.p, x % self.q\n",
    "\n",
    "    def from_prodspace(self, yp, yq):\n",
    "        \"\"\"\n",
    "        Chercher la solution du système x = yp mod p, x = yq mod q.\n",
    "\n",
    "        Args: les entiers à droite du système ci-dessus y_p,y_q\n",
    "\n",
    "        Outputs: la solution modulo n du système\n",
    "        \"\"\"\n",
    "        return (yp * self.xp + yq * self.xq) % self.n"
   ]
  }
 ],
 "metadata": {
  "kernelspec": {
   "display_name": ".venv",
   "language": "python",
   "name": "python3"
  },
  "language_info": {
   "codemirror_mode": {
    "name": "ipython",
    "version": 3
   },
   "file_extension": ".py",
   "mimetype": "text/x-python",
   "name": "python",
   "nbconvert_exporter": "python",
   "pygments_lexer": "ipython3",
   "version": "3.10.12"
  }
 },
 "nbformat": 4,
 "nbformat_minor": 5
}
