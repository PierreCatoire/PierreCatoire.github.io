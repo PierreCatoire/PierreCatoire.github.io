{
 "cells": [
  {
   "cell_type": "code",
   "execution_count": null,
   "id": "40bf732d-df84-4b26-8c0a-da58cb6d899f",
   "metadata": {},
   "outputs": [],
   "source": []
  },
  {
   "cell_type": "markdown",
   "id": "1f0e872b-8e12-4f1f-8be9-307586e2f2df",
   "metadata": {},
   "source": [
    "# R4.04: Méthode d'optimisation\n",
    "\n",
    "Le début de ce TP est tiré de \"Machine learning avec scikit-learn\" d'Aurélien Géron.\n",
    "\n",
    "##  Courte introduction au cours:\n",
    "\n",
    "Le but de ce cours est de donner:\n",
    "- une introduction à la notion d'*apprentissage* à la base de l'intelligence artificielle;\n",
    "- une introduction à la résolution de *programme linéaire*. Il s'agit de problème d'optimisation avec des contraintes sur les variables.\n",
    "\n",
    "Que vient faire l'optimisation dans l'intelligence artificielle ? \n",
    "\n",
    "Ce sont les méthodes d'optimisation qui permettent à une machine d'*apprendre*. Prenons l'exemple des procédures actuelles d'apprentissage dans le parcours scolaire. Vous avez plusieurs *enseignements* qui constitue en soit un énorme jeu de données. Pour mesurer votre compréhension/assimilation de ces données, on vous attribue une *note d'évaluation* que vous souhaitez voir la plus élévée possible.\n",
    "\n",
    "Nous allons procéder de la même manière avec l'ordinateur. L'analogue des enseignements sera un *jeu de données* (qu'il faut rendre compréhensible pour l'ordinateur) et l'analogue de la note sera une *mesure de perfomance/ mesure d'erreur*.\n",
    "Si nous avons une *mesure de performance* on donnera comme but à la machine de maximiser cette mesure tandis qu'en présence d'une mesure d'erreur on demandera qu'elle la minimise. \n",
    "\n",
    "**Bilan:** tout ceci revient à un problème d'optimisation.\n",
    "\n",
    "Dans le cours, la bibliothèque que nous utiliserons le plus souvent est la bibliothèque *scikit-learn* dont le nom pour l'import est est *sklearn*:"
   ]
  },
  {
   "cell_type": "code",
   "execution_count": 1,
   "id": "71bef48a-c5a8-4de8-ab11-be9a570832f0",
   "metadata": {},
   "outputs": [],
   "source": [
    "import sklearn"
   ]
  },
  {
   "cell_type": "markdown",
   "id": "cb589ccd-fbe2-4422-8136-452a448e592a",
   "metadata": {},
   "source": [
    "## TP 1: Arbres de décision et forêts aléatoires\n",
    "\n",
    "Le premier problème que nous pouvons traiter avec la machine en utilisant des méthodes d'apprentissages est le problème de *classification*. \n",
    "\n",
    "Etant donné un jeu de données et des *classes/familles* disponibles, le but du programme sera de déterminer à quelle classe/famille une entrée de nos données appartient-elle.\n",
    "\n",
    "Par exemple, les données peuvent-être des photos de chat et de chiens et les classes peuvent-être chien, chat et poisson.\n",
    "\n",
    "**But**: une fois que notre programme est entraîné et testé sur les données d'entraînements, nous souhaitons l'utiliser sur d'autres images dont nous ne connaissons pas la classification afin d'effectuer une *prédicition*. \n",
    "\n",
    "Pour résoudre ce problème, dans ce TP, nous nous appuierons sur les *arbres de décisions* et les *forêts aléatoires*. Dans un premier temps, nous allons nous focaliser sur les arbres de décisions.\n",
    "\n",
    "Le but de ce TP sera de former nos arbres à la reconnaissance de nombres manuscrits. Ce test s'appelle *Modified National Institute of Standards and Technology dataset* abrégé MNIST."
   ]
  },
  {
   "cell_type": "code",
   "execution_count": 2,
   "id": "91722bef-fe2e-414f-9f09-f046b3935d98",
   "metadata": {},
   "outputs": [],
   "source": [
    "import numpy as np\n",
    "import pandas as pd\n",
    "import matplotlib.pyplot as plt"
   ]
  },
  {
   "cell_type": "markdown",
   "id": "779c0cbd-b0df-4a1b-bf2d-6f6748c6032e",
   "metadata": {},
   "source": [
    "### 1. Chargement des données\n",
    "\n",
    "#### 1.a. Lecture des données\n",
    "\n",
    "\n",
    "Pour pouvoir faire apprendre une notion à une machine, nous devons avoir besoin d'un jeu de donnée. Ce jeu permettra à notre machine d'apprendre convenablement à partir d'exemples.\n",
    "\n",
    "Nous utiliserons principalement des jeux de données en accès libres disponibles dans les librairies de python afin d'entraîner nos programmes.\n",
    "\n",
    "Dans un premier temps, nous allons nous entraîner sur un jeu de données de taille 150 constitué de mesures effectués sur des fleurs. Le but est de déterminer en fonction de ces données à quelle espèce ces fleurs appartiennent-elles parmi: *iris virnica*,*iris versicolor* et *iris setosa*."
   ]
  },
  {
   "cell_type": "code",
   "execution_count": 1,
   "id": "fc8bf49a-b480-48c9-bacd-1fa9c3e168f5",
   "metadata": {},
   "outputs": [],
   "source": [
    "from sklearn.datasets import load_iris\n",
    "\n",
    "iris=load_iris(as_frame=True)\n",
    "#print(iris)"
   ]
  },
  {
   "cell_type": "markdown",
   "id": "44dac9a3-929c-49d8-b4b0-9817d1907bf2",
   "metadata": {},
   "source": [
    "Nous stockons ensuite ces données dans des listes exploitables. Dans *x_iris* nous stockons les données, tandis que dans $y_{\\text{iris}}$ nous stockons les types cibles:\n",
    "- $0$ pour *iris setosa*;\n",
    "- $1$ pour *iris veriscolor*;\n",
    "- $2$ pour *iris virginica*;\n",
    "\n",
    "Pour simplifier nos données, nous ne considérerons que les données concernant les pétales. "
   ]
  },
  {
   "cell_type": "code",
   "execution_count": 7,
   "id": "5b1842f7-91f4-4bfc-8d65-deeceb5cba7a",
   "metadata": {},
   "outputs": [],
   "source": [
    "X_iris=iris.data[[\"petal length (cm)\", \"petal width (cm)\"]].values\n",
    "y_iris=iris.target\n",
    "#print(X_iris, y_iris)"
   ]
  },
  {
   "cell_type": "markdown",
   "id": "d7b9caa5-0262-4080-bbbe-2cdaf9076058",
   "metadata": {},
   "source": [
    "#### 1.b. Représentation des données\n",
    "\n",
    "Lors de la phase d'apprentissage de notre arbre, nous serons amené à contrôler ses savoirs. Pour cela, nous allons tenter (ce n'est pas toujours possible) de représenter les données graphiquement afin d'avoir un contrôle visuel et de mieux comprendre ce qu'il ce passe.\n",
    "\n",
    "**TODO:** représenter les données sous la forme d'un nuage de point en utilisant la bibliothèque *matplotlib.pyplot*.\n",
    "Représenter *iris setosa* avec des carrées, *iris_verticolor* avec des triangles et *iris virginica* avec des cercles."
   ]
  },
  {
   "cell_type": "code",
   "execution_count": 3,
   "id": "05a89b71-a42b-4271-ac5f-49d1ba9e00f5",
   "metadata": {},
   "outputs": [],
   "source": [
    "import matplotlib.pyplot as plt"
   ]
  },
  {
   "cell_type": "code",
   "execution_count": null,
   "id": "036d5575-4ee1-44fd-b0bf-9a1f5295f911",
   "metadata": {},
   "outputs": [],
   "source": []
  },
  {
   "cell_type": "markdown",
   "id": "6e91b21e-5115-4174-b3f7-11071c5185b4",
   "metadata": {},
   "source": [
    "### 2. Entraînement d'un arbre de décision\n",
    "\n",
    "#### 2.a. Qu'est ce qu'un arbre de décision ?\n",
    "\n",
    "Un *arbre de décision* est un arbre (au sens des graphes) dont les noeuds sont remplis de tests conditionnels à effectuer.  Si ce test est vrai, on visite le fils gauche de ce noeud sinon on visite le fils droit de ce noeud jusqu'à tombé sur une *feuille* de l'arbre.\n",
    "\n",
    "Pour générer de tels arbres nous utiliserons la bibliothèque *sklearn.tree*.\n",
    "\n",
    "Pour générer l'arbre, l'algorithme minimise la quantité suivante:\n",
    "$$\n",
    "J(k,t_k)=\\frac{m_{l}}{m} \\mathrm{Imp}_{l} + \\frac{m_{r}}{m} \\mathrm{Imp}_{r}\n",
    "$$\n",
    "où $m$ est le nombre de données, $k$ le numéro de la variable $v_k$ considérée dans l'échantillon et:\n",
    "- $m_{l}$ est le nombre de données telles que la donnée $v_k\\leq t_k$\n",
    "- $m_{r}$ est le nombre de données telles que la donnée $t_k\\leq v_k$\n",
    "- $\\mathrm{Imp}_{l}$ et $\\mathrm{Imp}_{r}$ sont des mesures d'impuretés qui peut soit être une impureté de Gini ou une entropie.\n",
    "\n",
    "Une fois cette optimisation effectuée, la procédure crée un noeud avec le test conditionnel sur la variable $v_k\\leq t_k.$ \n",
    "\n",
    "Puis, il procède ainsi de suite à chaque étape avec le nouveau jeu de données. Cette méthode cherche après à avoir l'approximation optimale à chaque étape de l'algorithme. Il rentre donc dans la famille des algorihtmes dits *gloutons*."
   ]
  },
  {
   "cell_type": "markdown",
   "id": "607fbf68-d905-420c-9868-ebcb07c9bdd9",
   "metadata": {},
   "source": [
    "#### 2.b. Fonctionnement en pratique\n",
    "\n",
    "En pratique, nous utiliserons la bibliothèque suivante pour généré des arbres de décisions."
   ]
  },
  {
   "cell_type": "code",
   "execution_count": 5,
   "id": "9bd2a408-af7c-45f8-afb4-449b2e21f33e",
   "metadata": {},
   "outputs": [],
   "source": [
    "from sklearn.tree import DecisionTreeClassifier"
   ]
  },
  {
   "cell_type": "code",
   "execution_count": 8,
   "id": "46c47ceb-fcbb-4560-a08a-d3e34c60e20d",
   "metadata": {},
   "outputs": [
    {
     "data": {
      "text/html": [
       "<style>#sk-container-id-1 {\n",
       "  /* Definition of color scheme common for light and dark mode */\n",
       "  --sklearn-color-text: #000;\n",
       "  --sklearn-color-text-muted: #666;\n",
       "  --sklearn-color-line: gray;\n",
       "  /* Definition of color scheme for unfitted estimators */\n",
       "  --sklearn-color-unfitted-level-0: #fff5e6;\n",
       "  --sklearn-color-unfitted-level-1: #f6e4d2;\n",
       "  --sklearn-color-unfitted-level-2: #ffe0b3;\n",
       "  --sklearn-color-unfitted-level-3: chocolate;\n",
       "  /* Definition of color scheme for fitted estimators */\n",
       "  --sklearn-color-fitted-level-0: #f0f8ff;\n",
       "  --sklearn-color-fitted-level-1: #d4ebff;\n",
       "  --sklearn-color-fitted-level-2: #b3dbfd;\n",
       "  --sklearn-color-fitted-level-3: cornflowerblue;\n",
       "\n",
       "  /* Specific color for light theme */\n",
       "  --sklearn-color-text-on-default-background: var(--sg-text-color, var(--theme-code-foreground, var(--jp-content-font-color1, black)));\n",
       "  --sklearn-color-background: var(--sg-background-color, var(--theme-background, var(--jp-layout-color0, white)));\n",
       "  --sklearn-color-border-box: var(--sg-text-color, var(--theme-code-foreground, var(--jp-content-font-color1, black)));\n",
       "  --sklearn-color-icon: #696969;\n",
       "\n",
       "  @media (prefers-color-scheme: dark) {\n",
       "    /* Redefinition of color scheme for dark theme */\n",
       "    --sklearn-color-text-on-default-background: var(--sg-text-color, var(--theme-code-foreground, var(--jp-content-font-color1, white)));\n",
       "    --sklearn-color-background: var(--sg-background-color, var(--theme-background, var(--jp-layout-color0, #111)));\n",
       "    --sklearn-color-border-box: var(--sg-text-color, var(--theme-code-foreground, var(--jp-content-font-color1, white)));\n",
       "    --sklearn-color-icon: #878787;\n",
       "  }\n",
       "}\n",
       "\n",
       "#sk-container-id-1 {\n",
       "  color: var(--sklearn-color-text);\n",
       "}\n",
       "\n",
       "#sk-container-id-1 pre {\n",
       "  padding: 0;\n",
       "}\n",
       "\n",
       "#sk-container-id-1 input.sk-hidden--visually {\n",
       "  border: 0;\n",
       "  clip: rect(1px 1px 1px 1px);\n",
       "  clip: rect(1px, 1px, 1px, 1px);\n",
       "  height: 1px;\n",
       "  margin: -1px;\n",
       "  overflow: hidden;\n",
       "  padding: 0;\n",
       "  position: absolute;\n",
       "  width: 1px;\n",
       "}\n",
       "\n",
       "#sk-container-id-1 div.sk-dashed-wrapped {\n",
       "  border: 1px dashed var(--sklearn-color-line);\n",
       "  margin: 0 0.4em 0.5em 0.4em;\n",
       "  box-sizing: border-box;\n",
       "  padding-bottom: 0.4em;\n",
       "  background-color: var(--sklearn-color-background);\n",
       "}\n",
       "\n",
       "#sk-container-id-1 div.sk-container {\n",
       "  /* jupyter's `normalize.less` sets `[hidden] { display: none; }`\n",
       "     but bootstrap.min.css set `[hidden] { display: none !important; }`\n",
       "     so we also need the `!important` here to be able to override the\n",
       "     default hidden behavior on the sphinx rendered scikit-learn.org.\n",
       "     See: https://github.com/scikit-learn/scikit-learn/issues/21755 */\n",
       "  display: inline-block !important;\n",
       "  position: relative;\n",
       "}\n",
       "\n",
       "#sk-container-id-1 div.sk-text-repr-fallback {\n",
       "  display: none;\n",
       "}\n",
       "\n",
       "div.sk-parallel-item,\n",
       "div.sk-serial,\n",
       "div.sk-item {\n",
       "  /* draw centered vertical line to link estimators */\n",
       "  background-image: linear-gradient(var(--sklearn-color-text-on-default-background), var(--sklearn-color-text-on-default-background));\n",
       "  background-size: 2px 100%;\n",
       "  background-repeat: no-repeat;\n",
       "  background-position: center center;\n",
       "}\n",
       "\n",
       "/* Parallel-specific style estimator block */\n",
       "\n",
       "#sk-container-id-1 div.sk-parallel-item::after {\n",
       "  content: \"\";\n",
       "  width: 100%;\n",
       "  border-bottom: 2px solid var(--sklearn-color-text-on-default-background);\n",
       "  flex-grow: 1;\n",
       "}\n",
       "\n",
       "#sk-container-id-1 div.sk-parallel {\n",
       "  display: flex;\n",
       "  align-items: stretch;\n",
       "  justify-content: center;\n",
       "  background-color: var(--sklearn-color-background);\n",
       "  position: relative;\n",
       "}\n",
       "\n",
       "#sk-container-id-1 div.sk-parallel-item {\n",
       "  display: flex;\n",
       "  flex-direction: column;\n",
       "}\n",
       "\n",
       "#sk-container-id-1 div.sk-parallel-item:first-child::after {\n",
       "  align-self: flex-end;\n",
       "  width: 50%;\n",
       "}\n",
       "\n",
       "#sk-container-id-1 div.sk-parallel-item:last-child::after {\n",
       "  align-self: flex-start;\n",
       "  width: 50%;\n",
       "}\n",
       "\n",
       "#sk-container-id-1 div.sk-parallel-item:only-child::after {\n",
       "  width: 0;\n",
       "}\n",
       "\n",
       "/* Serial-specific style estimator block */\n",
       "\n",
       "#sk-container-id-1 div.sk-serial {\n",
       "  display: flex;\n",
       "  flex-direction: column;\n",
       "  align-items: center;\n",
       "  background-color: var(--sklearn-color-background);\n",
       "  padding-right: 1em;\n",
       "  padding-left: 1em;\n",
       "}\n",
       "\n",
       "\n",
       "/* Toggleable style: style used for estimator/Pipeline/ColumnTransformer box that is\n",
       "clickable and can be expanded/collapsed.\n",
       "- Pipeline and ColumnTransformer use this feature and define the default style\n",
       "- Estimators will overwrite some part of the style using the `sk-estimator` class\n",
       "*/\n",
       "\n",
       "/* Pipeline and ColumnTransformer style (default) */\n",
       "\n",
       "#sk-container-id-1 div.sk-toggleable {\n",
       "  /* Default theme specific background. It is overwritten whether we have a\n",
       "  specific estimator or a Pipeline/ColumnTransformer */\n",
       "  background-color: var(--sklearn-color-background);\n",
       "}\n",
       "\n",
       "/* Toggleable label */\n",
       "#sk-container-id-1 label.sk-toggleable__label {\n",
       "  cursor: pointer;\n",
       "  display: flex;\n",
       "  width: 100%;\n",
       "  margin-bottom: 0;\n",
       "  padding: 0.5em;\n",
       "  box-sizing: border-box;\n",
       "  text-align: center;\n",
       "  align-items: start;\n",
       "  justify-content: space-between;\n",
       "  gap: 0.5em;\n",
       "}\n",
       "\n",
       "#sk-container-id-1 label.sk-toggleable__label .caption {\n",
       "  font-size: 0.6rem;\n",
       "  font-weight: lighter;\n",
       "  color: var(--sklearn-color-text-muted);\n",
       "}\n",
       "\n",
       "#sk-container-id-1 label.sk-toggleable__label-arrow:before {\n",
       "  /* Arrow on the left of the label */\n",
       "  content: \"▸\";\n",
       "  float: left;\n",
       "  margin-right: 0.25em;\n",
       "  color: var(--sklearn-color-icon);\n",
       "}\n",
       "\n",
       "#sk-container-id-1 label.sk-toggleable__label-arrow:hover:before {\n",
       "  color: var(--sklearn-color-text);\n",
       "}\n",
       "\n",
       "/* Toggleable content - dropdown */\n",
       "\n",
       "#sk-container-id-1 div.sk-toggleable__content {\n",
       "  max-height: 0;\n",
       "  max-width: 0;\n",
       "  overflow: hidden;\n",
       "  text-align: left;\n",
       "  /* unfitted */\n",
       "  background-color: var(--sklearn-color-unfitted-level-0);\n",
       "}\n",
       "\n",
       "#sk-container-id-1 div.sk-toggleable__content.fitted {\n",
       "  /* fitted */\n",
       "  background-color: var(--sklearn-color-fitted-level-0);\n",
       "}\n",
       "\n",
       "#sk-container-id-1 div.sk-toggleable__content pre {\n",
       "  margin: 0.2em;\n",
       "  border-radius: 0.25em;\n",
       "  color: var(--sklearn-color-text);\n",
       "  /* unfitted */\n",
       "  background-color: var(--sklearn-color-unfitted-level-0);\n",
       "}\n",
       "\n",
       "#sk-container-id-1 div.sk-toggleable__content.fitted pre {\n",
       "  /* unfitted */\n",
       "  background-color: var(--sklearn-color-fitted-level-0);\n",
       "}\n",
       "\n",
       "#sk-container-id-1 input.sk-toggleable__control:checked~div.sk-toggleable__content {\n",
       "  /* Expand drop-down */\n",
       "  max-height: 200px;\n",
       "  max-width: 100%;\n",
       "  overflow: auto;\n",
       "}\n",
       "\n",
       "#sk-container-id-1 input.sk-toggleable__control:checked~label.sk-toggleable__label-arrow:before {\n",
       "  content: \"▾\";\n",
       "}\n",
       "\n",
       "/* Pipeline/ColumnTransformer-specific style */\n",
       "\n",
       "#sk-container-id-1 div.sk-label input.sk-toggleable__control:checked~label.sk-toggleable__label {\n",
       "  color: var(--sklearn-color-text);\n",
       "  background-color: var(--sklearn-color-unfitted-level-2);\n",
       "}\n",
       "\n",
       "#sk-container-id-1 div.sk-label.fitted input.sk-toggleable__control:checked~label.sk-toggleable__label {\n",
       "  background-color: var(--sklearn-color-fitted-level-2);\n",
       "}\n",
       "\n",
       "/* Estimator-specific style */\n",
       "\n",
       "/* Colorize estimator box */\n",
       "#sk-container-id-1 div.sk-estimator input.sk-toggleable__control:checked~label.sk-toggleable__label {\n",
       "  /* unfitted */\n",
       "  background-color: var(--sklearn-color-unfitted-level-2);\n",
       "}\n",
       "\n",
       "#sk-container-id-1 div.sk-estimator.fitted input.sk-toggleable__control:checked~label.sk-toggleable__label {\n",
       "  /* fitted */\n",
       "  background-color: var(--sklearn-color-fitted-level-2);\n",
       "}\n",
       "\n",
       "#sk-container-id-1 div.sk-label label.sk-toggleable__label,\n",
       "#sk-container-id-1 div.sk-label label {\n",
       "  /* The background is the default theme color */\n",
       "  color: var(--sklearn-color-text-on-default-background);\n",
       "}\n",
       "\n",
       "/* On hover, darken the color of the background */\n",
       "#sk-container-id-1 div.sk-label:hover label.sk-toggleable__label {\n",
       "  color: var(--sklearn-color-text);\n",
       "  background-color: var(--sklearn-color-unfitted-level-2);\n",
       "}\n",
       "\n",
       "/* Label box, darken color on hover, fitted */\n",
       "#sk-container-id-1 div.sk-label.fitted:hover label.sk-toggleable__label.fitted {\n",
       "  color: var(--sklearn-color-text);\n",
       "  background-color: var(--sklearn-color-fitted-level-2);\n",
       "}\n",
       "\n",
       "/* Estimator label */\n",
       "\n",
       "#sk-container-id-1 div.sk-label label {\n",
       "  font-family: monospace;\n",
       "  font-weight: bold;\n",
       "  display: inline-block;\n",
       "  line-height: 1.2em;\n",
       "}\n",
       "\n",
       "#sk-container-id-1 div.sk-label-container {\n",
       "  text-align: center;\n",
       "}\n",
       "\n",
       "/* Estimator-specific */\n",
       "#sk-container-id-1 div.sk-estimator {\n",
       "  font-family: monospace;\n",
       "  border: 1px dotted var(--sklearn-color-border-box);\n",
       "  border-radius: 0.25em;\n",
       "  box-sizing: border-box;\n",
       "  margin-bottom: 0.5em;\n",
       "  /* unfitted */\n",
       "  background-color: var(--sklearn-color-unfitted-level-0);\n",
       "}\n",
       "\n",
       "#sk-container-id-1 div.sk-estimator.fitted {\n",
       "  /* fitted */\n",
       "  background-color: var(--sklearn-color-fitted-level-0);\n",
       "}\n",
       "\n",
       "/* on hover */\n",
       "#sk-container-id-1 div.sk-estimator:hover {\n",
       "  /* unfitted */\n",
       "  background-color: var(--sklearn-color-unfitted-level-2);\n",
       "}\n",
       "\n",
       "#sk-container-id-1 div.sk-estimator.fitted:hover {\n",
       "  /* fitted */\n",
       "  background-color: var(--sklearn-color-fitted-level-2);\n",
       "}\n",
       "\n",
       "/* Specification for estimator info (e.g. \"i\" and \"?\") */\n",
       "\n",
       "/* Common style for \"i\" and \"?\" */\n",
       "\n",
       ".sk-estimator-doc-link,\n",
       "a:link.sk-estimator-doc-link,\n",
       "a:visited.sk-estimator-doc-link {\n",
       "  float: right;\n",
       "  font-size: smaller;\n",
       "  line-height: 1em;\n",
       "  font-family: monospace;\n",
       "  background-color: var(--sklearn-color-background);\n",
       "  border-radius: 1em;\n",
       "  height: 1em;\n",
       "  width: 1em;\n",
       "  text-decoration: none !important;\n",
       "  margin-left: 0.5em;\n",
       "  text-align: center;\n",
       "  /* unfitted */\n",
       "  border: var(--sklearn-color-unfitted-level-1) 1pt solid;\n",
       "  color: var(--sklearn-color-unfitted-level-1);\n",
       "}\n",
       "\n",
       ".sk-estimator-doc-link.fitted,\n",
       "a:link.sk-estimator-doc-link.fitted,\n",
       "a:visited.sk-estimator-doc-link.fitted {\n",
       "  /* fitted */\n",
       "  border: var(--sklearn-color-fitted-level-1) 1pt solid;\n",
       "  color: var(--sklearn-color-fitted-level-1);\n",
       "}\n",
       "\n",
       "/* On hover */\n",
       "div.sk-estimator:hover .sk-estimator-doc-link:hover,\n",
       ".sk-estimator-doc-link:hover,\n",
       "div.sk-label-container:hover .sk-estimator-doc-link:hover,\n",
       ".sk-estimator-doc-link:hover {\n",
       "  /* unfitted */\n",
       "  background-color: var(--sklearn-color-unfitted-level-3);\n",
       "  color: var(--sklearn-color-background);\n",
       "  text-decoration: none;\n",
       "}\n",
       "\n",
       "div.sk-estimator.fitted:hover .sk-estimator-doc-link.fitted:hover,\n",
       ".sk-estimator-doc-link.fitted:hover,\n",
       "div.sk-label-container:hover .sk-estimator-doc-link.fitted:hover,\n",
       ".sk-estimator-doc-link.fitted:hover {\n",
       "  /* fitted */\n",
       "  background-color: var(--sklearn-color-fitted-level-3);\n",
       "  color: var(--sklearn-color-background);\n",
       "  text-decoration: none;\n",
       "}\n",
       "\n",
       "/* Span, style for the box shown on hovering the info icon */\n",
       ".sk-estimator-doc-link span {\n",
       "  display: none;\n",
       "  z-index: 9999;\n",
       "  position: relative;\n",
       "  font-weight: normal;\n",
       "  right: .2ex;\n",
       "  padding: .5ex;\n",
       "  margin: .5ex;\n",
       "  width: min-content;\n",
       "  min-width: 20ex;\n",
       "  max-width: 50ex;\n",
       "  color: var(--sklearn-color-text);\n",
       "  box-shadow: 2pt 2pt 4pt #999;\n",
       "  /* unfitted */\n",
       "  background: var(--sklearn-color-unfitted-level-0);\n",
       "  border: .5pt solid var(--sklearn-color-unfitted-level-3);\n",
       "}\n",
       "\n",
       ".sk-estimator-doc-link.fitted span {\n",
       "  /* fitted */\n",
       "  background: var(--sklearn-color-fitted-level-0);\n",
       "  border: var(--sklearn-color-fitted-level-3);\n",
       "}\n",
       "\n",
       ".sk-estimator-doc-link:hover span {\n",
       "  display: block;\n",
       "}\n",
       "\n",
       "/* \"?\"-specific style due to the `<a>` HTML tag */\n",
       "\n",
       "#sk-container-id-1 a.estimator_doc_link {\n",
       "  float: right;\n",
       "  font-size: 1rem;\n",
       "  line-height: 1em;\n",
       "  font-family: monospace;\n",
       "  background-color: var(--sklearn-color-background);\n",
       "  border-radius: 1rem;\n",
       "  height: 1rem;\n",
       "  width: 1rem;\n",
       "  text-decoration: none;\n",
       "  /* unfitted */\n",
       "  color: var(--sklearn-color-unfitted-level-1);\n",
       "  border: var(--sklearn-color-unfitted-level-1) 1pt solid;\n",
       "}\n",
       "\n",
       "#sk-container-id-1 a.estimator_doc_link.fitted {\n",
       "  /* fitted */\n",
       "  border: var(--sklearn-color-fitted-level-1) 1pt solid;\n",
       "  color: var(--sklearn-color-fitted-level-1);\n",
       "}\n",
       "\n",
       "/* On hover */\n",
       "#sk-container-id-1 a.estimator_doc_link:hover {\n",
       "  /* unfitted */\n",
       "  background-color: var(--sklearn-color-unfitted-level-3);\n",
       "  color: var(--sklearn-color-background);\n",
       "  text-decoration: none;\n",
       "}\n",
       "\n",
       "#sk-container-id-1 a.estimator_doc_link.fitted:hover {\n",
       "  /* fitted */\n",
       "  background-color: var(--sklearn-color-fitted-level-3);\n",
       "}\n",
       "</style><div id=\"sk-container-id-1\" class=\"sk-top-container\"><div class=\"sk-text-repr-fallback\"><pre>DecisionTreeClassifier(max_depth=2, random_state=42)</pre><b>In a Jupyter environment, please rerun this cell to show the HTML representation or trust the notebook. <br />On GitHub, the HTML representation is unable to render, please try loading this page with nbviewer.org.</b></div><div class=\"sk-container\" hidden><div class=\"sk-item\"><div class=\"sk-estimator fitted sk-toggleable\"><input class=\"sk-toggleable__control sk-hidden--visually\" id=\"sk-estimator-id-1\" type=\"checkbox\" checked><label for=\"sk-estimator-id-1\" class=\"sk-toggleable__label fitted sk-toggleable__label-arrow\"><div><div>DecisionTreeClassifier</div></div><div><a class=\"sk-estimator-doc-link fitted\" rel=\"noreferrer\" target=\"_blank\" href=\"https://scikit-learn.org/1.6/modules/generated/sklearn.tree.DecisionTreeClassifier.html\">?<span>Documentation for DecisionTreeClassifier</span></a><span class=\"sk-estimator-doc-link fitted\">i<span>Fitted</span></span></div></label><div class=\"sk-toggleable__content fitted\"><pre>DecisionTreeClassifier(max_depth=2, random_state=42)</pre></div> </div></div></div></div>"
      ],
      "text/plain": [
       "DecisionTreeClassifier(max_depth=2, random_state=42)"
      ]
     },
     "execution_count": 8,
     "metadata": {},
     "output_type": "execute_result"
    }
   ],
   "source": [
    "tree_clf=DecisionTreeClassifier(max_depth=2, random_state=42)\n",
    "tree_clf.fit(X_iris, y_iris)"
   ]
  },
  {
   "cell_type": "markdown",
   "id": "19231d17-1a76-48ed-9220-743c947300f9",
   "metadata": {},
   "source": [
    "Pour visualiser l'arbre obtenu, nous utilisons la fonction *export_graphviz()* de la biblitothèque *sklearn.tree*:"
   ]
  },
  {
   "cell_type": "code",
   "execution_count": 15,
   "id": "bc7f09c0-674f-41c4-b658-db8251578d12",
   "metadata": {
    "scrolled": true
   },
   "outputs": [
    {
     "data": {
      "image/svg+xml": [
       "<?xml version=\"1.0\" encoding=\"UTF-8\" standalone=\"no\"?>\n",
       "<!DOCTYPE svg PUBLIC \"-//W3C//DTD SVG 1.1//EN\"\n",
       " \"http://www.w3.org/Graphics/SVG/1.1/DTD/svg11.dtd\">\n",
       "<!-- Generated by graphviz version 2.50.0 (0)\n",
       " -->\n",
       "<!-- Title: Tree Pages: 1 -->\n",
       "<svg width=\"370pt\" height=\"314pt\"\n",
       " viewBox=\"0.00 0.00 370.00 314.00\" xmlns=\"http://www.w3.org/2000/svg\" xmlns:xlink=\"http://www.w3.org/1999/xlink\">\n",
       "<g id=\"graph0\" class=\"graph\" transform=\"scale(1 1) rotate(0) translate(4 310)\">\n",
       "<title>Tree</title>\n",
       "<polygon fill=\"white\" stroke=\"transparent\" points=\"-4,4 -4,-310 366,-310 366,4 -4,4\"/>\n",
       "<!-- 0 -->\n",
       "<g id=\"node1\" class=\"node\">\n",
       "<title>0</title>\n",
       "<path fill=\"#ffffff\" stroke=\"black\" d=\"M236,-306C236,-306 57,-306 57,-306 51,-306 45,-300 45,-294 45,-294 45,-235 45,-235 45,-229 51,-223 57,-223 57,-223 236,-223 236,-223 242,-223 248,-229 248,-235 248,-235 248,-294 248,-294 248,-300 242,-306 236,-306\"/>\n",
       "<text text-anchor=\"middle\" x=\"146.5\" y=\"-290.8\" font-family=\"Helvetica,sans-Serif\" font-size=\"14.00\">longeur de pétale (cm) &lt;= 2.45</text>\n",
       "<text text-anchor=\"middle\" x=\"146.5\" y=\"-275.8\" font-family=\"Helvetica,sans-Serif\" font-size=\"14.00\">gini = 0.667</text>\n",
       "<text text-anchor=\"middle\" x=\"146.5\" y=\"-260.8\" font-family=\"Helvetica,sans-Serif\" font-size=\"14.00\">samples = 150</text>\n",
       "<text text-anchor=\"middle\" x=\"146.5\" y=\"-245.8\" font-family=\"Helvetica,sans-Serif\" font-size=\"14.00\">value = [50, 50, 50]</text>\n",
       "<text text-anchor=\"middle\" x=\"146.5\" y=\"-230.8\" font-family=\"Helvetica,sans-Serif\" font-size=\"14.00\">class = setosa</text>\n",
       "</g>\n",
       "<!-- 1 -->\n",
       "<g id=\"node2\" class=\"node\">\n",
       "<title>1</title>\n",
       "<path fill=\"#e58139\" stroke=\"black\" d=\"M105,-179.5C105,-179.5 12,-179.5 12,-179.5 6,-179.5 0,-173.5 0,-167.5 0,-167.5 0,-123.5 0,-123.5 0,-117.5 6,-111.5 12,-111.5 12,-111.5 105,-111.5 105,-111.5 111,-111.5 117,-117.5 117,-123.5 117,-123.5 117,-167.5 117,-167.5 117,-173.5 111,-179.5 105,-179.5\"/>\n",
       "<text text-anchor=\"middle\" x=\"58.5\" y=\"-164.3\" font-family=\"Helvetica,sans-Serif\" font-size=\"14.00\">gini = 0.0</text>\n",
       "<text text-anchor=\"middle\" x=\"58.5\" y=\"-149.3\" font-family=\"Helvetica,sans-Serif\" font-size=\"14.00\">samples = 50</text>\n",
       "<text text-anchor=\"middle\" x=\"58.5\" y=\"-134.3\" font-family=\"Helvetica,sans-Serif\" font-size=\"14.00\">value = [50, 0, 0]</text>\n",
       "<text text-anchor=\"middle\" x=\"58.5\" y=\"-119.3\" font-family=\"Helvetica,sans-Serif\" font-size=\"14.00\">class = setosa</text>\n",
       "</g>\n",
       "<!-- 0&#45;&gt;1 -->\n",
       "<g id=\"edge1\" class=\"edge\">\n",
       "<title>0&#45;&gt;1</title>\n",
       "<path fill=\"none\" stroke=\"black\" d=\"M115.97,-222.91C107.42,-211.54 98.12,-199.18 89.54,-187.77\"/>\n",
       "<polygon fill=\"black\" stroke=\"black\" points=\"92.25,-185.55 83.45,-179.67 86.66,-189.76 92.25,-185.55\"/>\n",
       "<text text-anchor=\"middle\" x=\"79.94\" y=\"-200.72\" font-family=\"Helvetica,sans-Serif\" font-size=\"14.00\">True</text>\n",
       "</g>\n",
       "<!-- 2 -->\n",
       "<g id=\"node3\" class=\"node\">\n",
       "<title>2</title>\n",
       "<path fill=\"#ffffff\" stroke=\"black\" d=\"M323.5,-187C323.5,-187 147.5,-187 147.5,-187 141.5,-187 135.5,-181 135.5,-175 135.5,-175 135.5,-116 135.5,-116 135.5,-110 141.5,-104 147.5,-104 147.5,-104 323.5,-104 323.5,-104 329.5,-104 335.5,-110 335.5,-116 335.5,-116 335.5,-175 335.5,-175 335.5,-181 329.5,-187 323.5,-187\"/>\n",
       "<text text-anchor=\"middle\" x=\"235.5\" y=\"-171.8\" font-family=\"Helvetica,sans-Serif\" font-size=\"14.00\">largeur de pétale (cm) &lt;= 1.75</text>\n",
       "<text text-anchor=\"middle\" x=\"235.5\" y=\"-156.8\" font-family=\"Helvetica,sans-Serif\" font-size=\"14.00\">gini = 0.5</text>\n",
       "<text text-anchor=\"middle\" x=\"235.5\" y=\"-141.8\" font-family=\"Helvetica,sans-Serif\" font-size=\"14.00\">samples = 100</text>\n",
       "<text text-anchor=\"middle\" x=\"235.5\" y=\"-126.8\" font-family=\"Helvetica,sans-Serif\" font-size=\"14.00\">value = [0, 50, 50]</text>\n",
       "<text text-anchor=\"middle\" x=\"235.5\" y=\"-111.8\" font-family=\"Helvetica,sans-Serif\" font-size=\"14.00\">class = versicolor</text>\n",
       "</g>\n",
       "<!-- 0&#45;&gt;2 -->\n",
       "<g id=\"edge2\" class=\"edge\">\n",
       "<title>0&#45;&gt;2</title>\n",
       "<path fill=\"none\" stroke=\"black\" d=\"M177.38,-222.91C184.21,-213.92 191.52,-204.32 198.57,-195.05\"/>\n",
       "<polygon fill=\"black\" stroke=\"black\" points=\"201.41,-197.1 204.68,-187.02 195.84,-192.86 201.41,-197.1\"/>\n",
       "<text text-anchor=\"middle\" x=\"208.04\" y=\"-208.09\" font-family=\"Helvetica,sans-Serif\" font-size=\"14.00\">False</text>\n",
       "</g>\n",
       "<!-- 3 -->\n",
       "<g id=\"node4\" class=\"node\">\n",
       "<title>3</title>\n",
       "<path fill=\"#4de88e\" stroke=\"black\" d=\"M215,-68C215,-68 118,-68 118,-68 112,-68 106,-62 106,-56 106,-56 106,-12 106,-12 106,-6 112,0 118,0 118,0 215,0 215,0 221,0 227,-6 227,-12 227,-12 227,-56 227,-56 227,-62 221,-68 215,-68\"/>\n",
       "<text text-anchor=\"middle\" x=\"166.5\" y=\"-52.8\" font-family=\"Helvetica,sans-Serif\" font-size=\"14.00\">gini = 0.168</text>\n",
       "<text text-anchor=\"middle\" x=\"166.5\" y=\"-37.8\" font-family=\"Helvetica,sans-Serif\" font-size=\"14.00\">samples = 54</text>\n",
       "<text text-anchor=\"middle\" x=\"166.5\" y=\"-22.8\" font-family=\"Helvetica,sans-Serif\" font-size=\"14.00\">value = [0, 49, 5]</text>\n",
       "<text text-anchor=\"middle\" x=\"166.5\" y=\"-7.8\" font-family=\"Helvetica,sans-Serif\" font-size=\"14.00\">class = versicolor</text>\n",
       "</g>\n",
       "<!-- 2&#45;&gt;3 -->\n",
       "<g id=\"edge3\" class=\"edge\">\n",
       "<title>2&#45;&gt;3</title>\n",
       "<path fill=\"none\" stroke=\"black\" d=\"M209.81,-103.73C204.29,-94.97 198.45,-85.7 192.91,-76.91\"/>\n",
       "<polygon fill=\"black\" stroke=\"black\" points=\"195.78,-74.89 187.48,-68.3 189.85,-78.63 195.78,-74.89\"/>\n",
       "</g>\n",
       "<!-- 4 -->\n",
       "<g id=\"node5\" class=\"node\">\n",
       "<title>4</title>\n",
       "<path fill=\"#843de6\" stroke=\"black\" d=\"M350,-68C350,-68 257,-68 257,-68 251,-68 245,-62 245,-56 245,-56 245,-12 245,-12 245,-6 251,0 257,0 257,0 350,0 350,0 356,0 362,-6 362,-12 362,-12 362,-56 362,-56 362,-62 356,-68 350,-68\"/>\n",
       "<text text-anchor=\"middle\" x=\"303.5\" y=\"-52.8\" font-family=\"Helvetica,sans-Serif\" font-size=\"14.00\">gini = 0.043</text>\n",
       "<text text-anchor=\"middle\" x=\"303.5\" y=\"-37.8\" font-family=\"Helvetica,sans-Serif\" font-size=\"14.00\">samples = 46</text>\n",
       "<text text-anchor=\"middle\" x=\"303.5\" y=\"-22.8\" font-family=\"Helvetica,sans-Serif\" font-size=\"14.00\">value = [0, 1, 45]</text>\n",
       "<text text-anchor=\"middle\" x=\"303.5\" y=\"-7.8\" font-family=\"Helvetica,sans-Serif\" font-size=\"14.00\">class = virginica</text>\n",
       "</g>\n",
       "<!-- 2&#45;&gt;4 -->\n",
       "<g id=\"edge4\" class=\"edge\">\n",
       "<title>2&#45;&gt;4</title>\n",
       "<path fill=\"none\" stroke=\"black\" d=\"M260.82,-103.73C266.26,-94.97 272.01,-85.7 277.48,-76.91\"/>\n",
       "<polygon fill=\"black\" stroke=\"black\" points=\"280.52,-78.64 282.82,-68.3 274.57,-74.95 280.52,-78.64\"/>\n",
       "</g>\n",
       "</g>\n",
       "</svg>\n"
      ],
      "text/plain": [
       "<graphviz.sources.Source at 0x28a75efb650>"
      ]
     },
     "execution_count": 15,
     "metadata": {},
     "output_type": "execute_result"
    }
   ],
   "source": [
    "from sklearn.tree import export_graphviz\n",
    "\n",
    "export_graphviz(tree_clf, out_file=\"iris_tree.dot\", feature_names=[\"longeur de pétale (cm)\",\"largeur de pétale (cm)\"], \n",
    "                class_names=iris.target_names,\n",
    "               rounded=True, filled=True) \n",
    "\n",
    "from graphviz import Source\n",
    "Source.from_file(\"iris_tree.dot\")"
   ]
  },
  {
   "cell_type": "markdown",
   "id": "ef49d7df-5263-4536-8798-e12449a8d0c6",
   "metadata": {},
   "source": [
    "#### 2.c. Visualisation des zones de choix de l'arbre\n",
    "\n",
    "**TODO**: Tracer sur un graphe, en utilisant la bibliothèque *matplotlib*, le jeu de données et les zones où l'arbre donne comme réponse *iris setosa*, *iris versicolor* et *iris virginica*."
   ]
  },
  {
   "cell_type": "code",
   "execution_count": null,
   "id": "19fd4cbf-81b2-44ea-8610-28769de631e1",
   "metadata": {},
   "outputs": [],
   "source": []
  },
  {
   "cell_type": "markdown",
   "id": "155fcfd8-83bb-4cd8-91b3-af07844b7c07",
   "metadata": {},
   "source": [
    "#### 2.d. Augmentation de la profondeur\n",
    "\n",
    "**TODO**: Construire un arbre similaire à ce qui a été fait précédemment en prenant *max_depth=3* et en retirant la condition *max_depth*. Que constatez-vous sur la forme de l'arbre ?"
   ]
  },
  {
   "cell_type": "code",
   "execution_count": null,
   "id": "da7f1136-b8d2-4565-b68a-6ee3cb876346",
   "metadata": {},
   "outputs": [],
   "source": []
  },
  {
   "cell_type": "markdown",
   "id": "0e85f8f5-6b96-437e-89be-4fcd95f47dcc",
   "metadata": {},
   "source": [
    "**TODO**: Pour chacun des arbres de décision, tracer sur un même graphe le jeu de données et colorier les points en fonction de la prédicition donnée par la machine. \n",
    "\n",
    "*Remarque:* pour effectuer une prédiction sur un jeu de données, on peut utiliser la commande *.predict* sur des données pour connaître l'avis de l'arbre."
   ]
  },
  {
   "cell_type": "code",
   "execution_count": null,
   "id": "c15ec158-29cc-4649-8276-4c64fa111259",
   "metadata": {},
   "outputs": [],
   "source": []
  },
  {
   "cell_type": "markdown",
   "id": "4594f248-b363-4408-9b5f-8f6ec5f7dc4b",
   "metadata": {},
   "source": [
    "On constate qu'en ne donnant pas de contrainte sur la profondeur de l'arbre, l'arbre commet de moins en moins d'erreur. \n",
    "\n",
    "#### 2.e. Retourner une probabilité\n",
    "\n",
    "On peut demander à l'arbre de décision à ce qu'il ne retourne pas une classe de fleur mais une probabilité pour que la classe de fleur soit la bonne. Pour cela, on utilise *.predict_proba()*.\n",
    "\n",
    "**TODO**: Calculer la probabilité que la donnée $[5,1.5]$ soit une iris virginica.\n",
    "\n",
    "*Remarque:* la probabilité donnée est calculé en fonction des proportions de chaque classe dans les noeuds terminaux de l'arbre de décision."
   ]
  },
  {
   "cell_type": "code",
   "execution_count": null,
   "id": "299d3894-277b-41c8-a762-be6e7909beca",
   "metadata": {},
   "outputs": [],
   "source": []
  },
  {
   "cell_type": "markdown",
   "id": "a20d9c7e-18f1-416c-bb00-7f8aefd362af",
   "metadata": {},
   "source": [
    "Dans cet exemple, on constate qu'avec ces données l'arbre de décision sit que la fleur a une 1 chance sur 3 d'être une iris versicolor et 2 chance sur 3 d'être une iris virginica."
   ]
  },
  {
   "cell_type": "markdown",
   "id": "322f2dd5-87fc-41de-8bec-2fecb05b14d2",
   "metadata": {},
   "source": [
    "### 3. Arbres de décision et test MNIST\n",
    "\n",
    "Maintenant que nous avons fait nos armes sur les fleurs, nous allons nous attaquer à un test bien connu en *apprentissage* sur la base de données *Modified National Institute of Standards and Technology* pour entraîner un système à la reconnaissance de l'écriture manuscrite des chiffres.\n",
    "Ces images sont des carrés de côté $28$ pixels ayant des valeurs entières comprises entre $0$ et $255$ pour déterminer leur niveau de gris.\n",
    "\n",
    "Nous proposons ici de traiter le problème en utilisant des arbres de décisions.\n",
    "\n",
    "#### 3.1 Chargement des données\n",
    "\n",
    "Le test MNIST est facilement téléchargeable sous un format que Python comprends correctement en utilisant la bibliothèque *keras*:"
   ]
  },
  {
   "cell_type": "code",
   "execution_count": 10,
   "id": "2ca0c108-91e0-4d82-94f2-e051effb4579",
   "metadata": {},
   "outputs": [],
   "source": [
    "import numpy as np\n",
    "# paquet simplifié pour tensorflow\n",
    "from tensorflow import keras"
   ]
  },
  {
   "cell_type": "code",
   "execution_count": 11,
   "id": "6abc73e3-188d-4001-b814-510a66844567",
   "metadata": {},
   "outputs": [],
   "source": [
    "# Bibliothèque d'exemple\n",
    "from tensorflow.keras.datasets import mnist\n",
    "from tensorflow.keras.utils import to_categorical\n",
    "import matplotlib.pyplot as plt"
   ]
  },
  {
   "cell_type": "code",
   "execution_count": 12,
   "id": "eb1046d3-2196-4a69-91a8-6172c43b1188",
   "metadata": {},
   "outputs": [
    {
     "name": "stdout",
     "output_type": "stream",
     "text": [
      "Taille des images (28, 28)\n",
      "Nombre d'images d'entrainement 60000\n",
      "Nombre d'images de test 10000\n"
     ]
    },
    {
     "data": {
      "image/png": "[encoded data removed]",
      "text/plain": [
       "<Figure size 640x480 with 1 Axes>"
      ]
     },
     "metadata": {},
     "output_type": "display_data"
    },
    {
     "name": "stdout",
     "output_type": "stream",
     "text": [
      "5\n"
     ]
    }
   ],
   "source": [
    "# importation des données\n",
    "(X_train_data,Y_train_data),(X_test_data,Y_test_data) = mnist.load_data()\n",
    "# Taille de la première image (et des autres en théorie)\n",
    "print(\"Taille des images\",np.shape(X_train_data[0]))\n",
    "\n",
    "# Longueur du vecteur d'image d'entrainement donc nombre \n",
    "# d'images d'entrainement\n",
    "print(\"Nombre d'images d'entrainement\",len(X_train_data))\n",
    "\n",
    "# Nombre d'images de test\n",
    "print(\"Nombre d'images de test\",len(X_test_data))\n",
    "\n",
    "# Première matrice\n",
    "img = X_train_data[0]\n",
    "\n",
    "# Affichage de la première image\n",
    "plt.imshow(img, cmap='gray')\n",
    "plt.axis(\"off\")\n",
    "plt.show()\n",
    "print(Y_train_data[0])"
   ]
  },
  {
   "cell_type": "code",
   "execution_count": 65,
   "id": "f7ceb10c-8fba-46fa-acdd-bb7a15438605",
   "metadata": {},
   "outputs": [],
   "source": [
    "# matrice de la première image\n",
    "#print(X_train_data[0])"
   ]
  },
  {
   "cell_type": "markdown",
   "id": "ef20e7fd-2a8a-43a1-bfda-f3777ad08b27",
   "metadata": {},
   "source": [
    "Pour simplifier l'exploitation des données, nous allons assimiler un tableau $28\\times 28$ à une liste de $784$ données via la fonction *.reshape* de numpy.\n"
   ]
  },
  {
   "cell_type": "code",
   "execution_count": 43,
   "id": "d23ecb29-d136-49ae-8c84-3d928348e13a",
   "metadata": {},
   "outputs": [
    {
     "name": "stdout",
     "output_type": "stream",
     "text": [
      "(60000, 784)\n"
     ]
    }
   ],
   "source": [
    "# nombre d'images\n",
    "N = len(X_train_data)\n",
    "\n",
    "# On crée un tableau contenant N vecteurs de taille 784 représentant les images\n",
    "X_train = np.reshape(X_train_data,(N,784))\n",
    "print(np.shape(X_train))"
   ]
  },
  {
   "cell_type": "markdown",
   "id": "9d5b3827-0c43-4d41-a5e9-de728915a945",
   "metadata": {},
   "source": [
    "A partir de ces nouvelles, données, nous pouvons maintenant utilisé les arbres de décisions.\n",
    "\n",
    "#### 3.2 Entraînement de l'arbre et évaluation de performance sur l'ensemble d'entraînement\n",
    "\n",
    "**TODO**: Créer un premier arbre de décision avec une profondeur maximale de $5$ étages et évaluer sa performance pour classifier ces images"
   ]
  },
  {
   "cell_type": "code",
   "execution_count": null,
   "id": "429ea549-fcc3-4f3b-8a3f-8e9e38a62ec3",
   "metadata": {},
   "outputs": [],
   "source": []
  },
  {
   "cell_type": "markdown",
   "id": "07e1eb05-7c1a-41cb-81a5-c013d375dff3",
   "metadata": {},
   "source": [
    "**TODO**: Créer un second arbre de décision avec une profondeur maximale de $10$ étages et évaluer sa performance pour classifier ces images"
   ]
  },
  {
   "cell_type": "code",
   "execution_count": null,
   "id": "23a912d0-8222-4f8d-a0c9-0b70e906e601",
   "metadata": {},
   "outputs": [],
   "source": []
  },
  {
   "cell_type": "markdown",
   "id": "1901a048-1465-4a46-9b04-a371b11b3db0",
   "metadata": {},
   "source": [
    "**TODO**: Créer un troisième arbre de décision avec une profondeur maximale de $20$ étages et évaluer sa performance pour classifier ces images"
   ]
  },
  {
   "cell_type": "code",
   "execution_count": null,
   "id": "ad8254c7-d5f9-4a95-a716-b780c3c5e177",
   "metadata": {},
   "outputs": [],
   "source": []
  },
  {
   "cell_type": "markdown",
   "id": "2311e9e1-6199-4815-ab0e-e555fbf0e2a2",
   "metadata": {},
   "source": [
    "Au vue de la taille importante des données et de la quantité de paramètres à prendre en compte, il n'est plus envisageable d'afficher le graphe de l'arbre comme fait précédemment.\n",
    "\n",
    "#### 3.2.a Première évalution de perfomance: la matrice de confusion\n",
    "\n",
    "Nous allons donc utiliser d'autres outils à notre disposition comme la *matrice de confusion* en utilisant la commande *confusion_matrix* qui prends deux entrées:\n",
    "- la première est une liste contenant les classes cibles;\n",
    "- la seconde est une liste contenant les classes prédites par l'apprenti numérique.\n",
    "\n",
    "La $j$-ème coefficient de la $i$-ème ligne de la matrice indique à quelle fréquence le chiffre $i$ a été prédit comme étant le chiffre $j$ par notre méthode d'apprentissage.\n",
    "\n",
    "**TODO:** Donner la matrice de confusion des arbres que nous venons d'entraîner pour le test MNIST avec *max_depth=5,10* et *20*. Interpréter les résultats."
   ]
  },
  {
   "cell_type": "code",
   "execution_count": 15,
   "id": "55e37872-8e5e-4a77-8cb3-9f069bcd60ad",
   "metadata": {},
   "outputs": [],
   "source": [
    "from sklearn.metrics import confusion_matrix \n",
    "from sklearn.metrics import ConfusionMatrixDisplay\n",
    "\n",
    "pass"
   ]
  },
  {
   "cell_type": "markdown",
   "id": "322b28c5-f663-4fa0-946a-1834aea0cba7",
   "metadata": {},
   "source": [
    "Voici un code ci-dessous pour afficher la matrice de confusion de l'arbre:"
   ]
  },
  {
   "cell_type": "code",
   "execution_count": null,
   "id": "e26a1724-3a70-42f6-b1c9-a98d2fd49576",
   "metadata": {},
   "outputs": [],
   "source": [
    "disp = ConfusionMatrixDisplay(confusion_matrix=cm, display_labels=['0','1','2','3','4','5','6','7','8','9'])\n",
    "\n",
    "disp.plot(cmap=plt.cm.Blues)\n",
    "plt.show()"
   ]
  },
  {
   "cell_type": "markdown",
   "id": "1bb55f7d-e800-4a1e-a34f-b68e140069d6",
   "metadata": {},
   "source": [
    "#### 3.2.b La précision\n",
    "\n",
    "Pour introduire la *mesure de précision*, nous définissons quelques termes de vocabulaire à propos d'un test répondant *Positif* ou *Négatif*:\n",
    "- les \"vrais négatifs\" (VN) sont des données sur lesquelles le test réponds *Négatif* et la donnée est effectivement *Négative*; \n",
    "- les \"vrais positifs\" (VP) sont des données sur lesquelles le test réponds *Positif* et la donnée est effectivement *Positive*;\n",
    "- les \"faux négatifs\" (FN) sont des données sur lesquelles le test réponds *Positif* et la donnée est *Négative*; \n",
    "- les \"vrais négatifs\" (VN) sont des données sur lesquelles le test réponds *Négatif* et la donnée est *Positive*.\n",
    "\n",
    "La *mesure de précision* de ce test est alors la quantité:\n",
    "$$\n",
    "\\text{Précision}=\\frac{|VP|}{|VP|+|FP|}.\n",
    "$$\n",
    "\n",
    "**TODO**: Calculer la précision de l'arbre entraîné sur les données qui sont des $1, 8$ et des $5$.\n",
    "\n",
    "*Remarque:* on pourra soit implémenter soit la fonction soit utiliser la fonction *precision_score* de *sklearn.metrics*."
   ]
  },
  {
   "cell_type": "code",
   "execution_count": 145,
   "id": "91294611-44e0-4b44-9add-86e295241638",
   "metadata": {},
   "outputs": [],
   "source": [
    "from sklearn.metrics import precision_score"
   ]
  },
  {
   "cell_type": "code",
   "execution_count": null,
   "id": "cc38e4c0-dd4c-4eca-ae34-8555294aebef",
   "metadata": {},
   "outputs": [],
   "source": []
  },
  {
   "cell_type": "markdown",
   "id": "cc03728f-b55e-438a-8cea-bfd73afdb41f",
   "metadata": {},
   "source": [
    "*Remarque:* Notez que la précision est maximale dès qu'il n'y a plus de faux positifs (en revanche, on peut avoir beaucoup de faux négatifs).\n",
    "\n",
    "#### 3.2.c Le rappel\n",
    "\n",
    "La *mesure de rappel* de ce test est uen quantité parente à la précision:\n",
    "$$\n",
    "\\text{Rappel}=\\frac{|VP|}{|VP|+|FN|}.\n",
    "$$\n",
    "\n",
    "**TODO**: Calculer la précision de l'arbre entraîné sur les données qui sont des $1, 8$ et des $5$.\n",
    "\n",
    "*Remarque:* on pourra soit implémenter soit la fonction soit utiliser la fonction *recall_score* de *sklearn.metrics*."
   ]
  },
  {
   "cell_type": "code",
   "execution_count": 177,
   "id": "e61ac3cd-64b5-40da-bf58-2ca82b59c5f2",
   "metadata": {},
   "outputs": [],
   "source": [
    "from sklearn.metrics import recall_score"
   ]
  },
  {
   "cell_type": "code",
   "execution_count": null,
   "id": "209adf3e-3272-4615-9a81-e6ab6264f97a",
   "metadata": {},
   "outputs": [],
   "source": []
  },
  {
   "cell_type": "markdown",
   "id": "ebf96513-f42c-4f48-a4be-a0fb3d410091",
   "metadata": {},
   "source": [
    "*Remarque:* pour avoir un meilleur score de rappel, il suffit de réduire le nombre de *faux négatifs*.\n",
    "\n",
    "#### 3.2.d Le score F1\n",
    "\n",
    "Le *score F1* est un compromis entre la précision et le rappel donné par:\n",
    "$$\n",
    "F_1=2\\times\\frac{\\text{précision}\\times \\text{rappel}}{\\text{précision}+ \\text{rappel}}.\n",
    "$$\n",
    "\n",
    "**TODO**: Calculer le score F1 pour les exemples précédents. \n",
    "\n",
    "*Remarque*: on utilisera la commande *f1_score* de la bibliothèque *sklearn.metrics* pour cela."
   ]
  },
  {
   "cell_type": "code",
   "execution_count": 181,
   "id": "cfbc9e56-6a5c-44eb-a9dd-098878b93a1c",
   "metadata": {},
   "outputs": [],
   "source": [
    "from sklearn.metrics import f1_score"
   ]
  },
  {
   "cell_type": "code",
   "execution_count": null,
   "id": "ea33e9e5-0537-406b-abc6-577472b966ae",
   "metadata": {},
   "outputs": [],
   "source": []
  },
  {
   "cell_type": "markdown",
   "id": "10dff755-a55f-4f48-bafc-70bdcab2eeb8",
   "metadata": {},
   "source": [
    "#### 3.3 Vérification sur l'ensemble de tests\n",
    "\n",
    "Une fois que notre arbre a bien appris les données que nous lui avons donné, nous souhaitons l'évaluer sur un ensemble test pour le mettre en fonction. Il est donc nécesssaire d'avoir deux jeux de données. Un premier pour entraîner les arbres et un second pour les tester et vérifier qu'il n'a pas appris par coeur les données.\n",
    "\n",
    "Une fois que notre arbre a appris à partir des données d'entraînements, il est nécessaire de *valider* le prédicteur que vous venons de créer sur des données que ce derniers n'a *jamais* vu.\n",
    "\n",
    "En effet, ce test est nécessaire car nous ne voulons pas que le prédicteur ait appris par coeur l'ensemble de données. Ceci s'appelle *surapprentissage* (overfitting en anglais).\n",
    "En effet, un test ayant appris par coeur ses données sera *extrêmement mauvais* sur l'ensemble de tests. \n",
    "\n",
    "De même, si le test n'a pas assez appris de l'ensemble de tests, nous serons dans un cas de *sous-apprentissage* et le prédicteur sur l'ensemble des tests sera également mauvais.\n",
    "\n",
    "#### 3.3.a Matrice de confusion sur l'ensemble de tests\n",
    "\n",
    "**TODO**: Calculer la *matrice de confusion* de l'arbre de décision du test MNIST à moins de $5$ couches sur l'ensemble de tests."
   ]
  },
  {
   "cell_type": "code",
   "execution_count": null,
   "id": "adb9a838-8eef-435d-bb7b-597d4e403d82",
   "metadata": {},
   "outputs": [],
   "source": []
  },
  {
   "cell_type": "markdown",
   "id": "ba0da346-d068-429b-ba1c-d788390ec66a",
   "metadata": {},
   "source": [
    "**TODO**: Calculer la *matrice de confusion* de l'arbre de décision du test MNIST à moins de $10$ couches sur l'ensemble de tests."
   ]
  },
  {
   "cell_type": "code",
   "execution_count": null,
   "id": "5c274691-8cce-4fd9-8fd5-cb31234d6ff6",
   "metadata": {},
   "outputs": [],
   "source": []
  },
  {
   "cell_type": "markdown",
   "id": "9e307d98-4de4-4492-8187-36d318419bce",
   "metadata": {},
   "source": [
    "#### 3.3.b Un exemple de surapprentissage/overfitting\n",
    "\n",
    "\n",
    "**TODO**: Calculer la matrice de confusion de l'arbre de décision à $20$ étages et comparer avec les précédentes."
   ]
  },
  {
   "cell_type": "code",
   "execution_count": null,
   "id": "b2e8c4e0-c4a5-4506-a5d1-081ced9bc318",
   "metadata": {},
   "outputs": [],
   "source": []
  },
  {
   "cell_type": "markdown",
   "id": "924c3912-d0c3-4940-8ea4-d2c3d95b5b70",
   "metadata": {},
   "source": [
    "### 4. Les arbres de décision pour la régression\n",
    "\n",
    "Un arbre de décision peut aussi contribuer à des tâches de *régression*, il s'agit de chercher d'approcher un jeu de données. Par exemple, on peut chercher un prédicteur pour prévoir des valeurs d'une mesure physique (qui sont chères) en fonction d'un jeu de données déjà établi.\n",
    "\n",
    "#### 4.1 Les données\n",
    "\n",
    "Nous allons utiliser des points situés sur une courbe ayant l'allure d'une fonction trigonométrique en y ajoutant du bruit. En effet, les mesures physiques ne sont pas exactes car elles sont soumises à la précisicion des instruments utilisés.\n",
    "\n",
    "Pour entraîner des arbres à des tâches de régressions, nous utilisons la commande *DecisionTreeRegressor* de la bibliothèque *sklearn*."
   ]
  },
  {
   "cell_type": "code",
   "execution_count": 6,
   "id": "dcfd9aaf-a3e9-400c-9667-7d89ed687dc2",
   "metadata": {},
   "outputs": [],
   "source": [
    "import numpy as np\n",
    "from sklearn.tree import DecisionTreeRegressor\n",
    "import matplotlib.pyplot as plt"
   ]
  },
  {
   "cell_type": "code",
   "execution_count": 11,
   "id": "729184a6-66e0-43e7-a7cc-ed62b1c0fab2",
   "metadata": {},
   "outputs": [
    {
     "data": {
      "image/png": "[encoded data removed]",
      "text/plain": [
       "<Figure size 640x480 with 1 Axes>"
      ]
     },
     "metadata": {},
     "output_type": "display_data"
    }
   ],
   "source": [
    "np.random.seed(100)\n",
    "#On tire des abcisses au hasard\n",
    "X_cos=np.random.rand(200,1)*2*np.pi-np.pi\n",
    "# On ajoute un petit bruit aux ordonnées\n",
    "Y_cos=np.cos(X_cos) + 1/4*np.random.rand(200,1)\n",
    "\n",
    "plt.plot(X_cos,Y_cos,'o')\n",
    "plt.show()"
   ]
  },
  {
   "cell_type": "markdown",
   "id": "495243b5-0e33-4dcd-afb3-16843897af1a",
   "metadata": {},
   "source": [
    "#### 4.b Entraînement des arbres\n",
    "\n",
    "**TODO**: Entraîner puis représenter un arbre de décision pour effectuer de la régression sur le jeu de données présenté ci-dessus.\n",
    "\n",
    "*Remarque:* dans le cadre de la régression, la fonctionnelle à optimiser est la somme des carrés des erreurs. C'est une approximation par les *moindres carrés*/*mean square error*."
   ]
  },
  {
   "cell_type": "code",
   "execution_count": null,
   "id": "41291da8-1118-4945-8c66-4db7e879a536",
   "metadata": {},
   "outputs": [],
   "source": []
  },
  {
   "cell_type": "markdown",
   "id": "41649382-312f-477e-a282-c31c3f57c439",
   "metadata": {},
   "source": [
    "**TODO**: Représenter sur une fenêtre le jeu de points trouvé et les approximations trouvées par l'arbre."
   ]
  },
  {
   "cell_type": "code",
   "execution_count": null,
   "id": "97b6f6e8-ac82-475a-a3f8-23bec8cd8b1a",
   "metadata": {},
   "outputs": [],
   "source": []
  }
 ],
 "metadata": {
  "kernelspec": {
   "display_name": "Python 3 (ipykernel)",
   "language": "python",
   "name": "python3"
  },
  "language_info": {
   "codemirror_mode": {
    "name": "ipython",
    "version": 3
   },
   "file_extension": ".py",
   "mimetype": "text/x-python",
   "name": "python",
   "nbconvert_exporter": "python",
   "pygments_lexer": "ipython3",
   "version": "3.12.8"
  }
 },
 "nbformat": 4,
 "nbformat_minor": 5
}
