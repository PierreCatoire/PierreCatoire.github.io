{
 "cells": [
  {
   "cell_type": "markdown",
   "metadata": {},
   "source": [
    "# **TP2 | Code César et Vigenère**\n",
    "\n",
    "Dans ce TP, on implémente un chiffrement par algorithmes de César (en partie 2) et de Vigenère (en partie 3). Pour cela, on met en place une correspondance entre les caractères et des nombres dans $\\mathbb{Z} / 27\\mathbb{Z}$ en partie 1."
   ]
  },
  {
   "cell_type": "markdown",
   "metadata": {},
   "source": [
    "## Partie 1 - Correspondance caractère - entier\n",
    "\n",
    "Pour le moment, on ne travaille qu'avec des caractères latins minuscules sans chiffres, que l'on fait correspondre à des nombres dans $\\{0, ..., 26\\} \\cong \\mathbb{Z} / 27\\mathbb{Z}$ selon le tableau suivant :\n",
    "\n",
    "| `'a'` | `'b'` | ... | `'z'` | `' '` |\n",
    "|-------|-------|-----|-------|-------|\n",
    "|   0   |   1   | ... |  25   |  26   |"
   ]
  },
  {
   "cell_type": "markdown",
   "metadata": {},
   "source": [
    "### 1.1. Conversion de caractères seuls\n",
    "\n",
    "\n",
    "\n",
    "**TODO:**  \n",
    "À l'aide de la fonction `ord`, écrire les fonctions suivantes qui implémentent la correspondance du tableau ci-dessus."
   ]
  },
  {
   "cell_type": "code",
   "execution_count": 1,
   "metadata": {},
   "outputs": [],
   "source": [
    "def char_to_num(char):\n",
    "    \"\"\"\n",
    "    Convertit un caractère en une valeur numérique basée sur son code ASCII.\n",
    "\n",
    "    Les caractères attendus sont soit \" \", soit entre \"a\" et \"z\" dans la table ASCII, et sont\n",
    "    convertis entre 0 (inclus) et 27 (exclus). On trouve d'abord l'alphabet de 0 à 25, et le \n",
    "    caractère \" \" correspond au nombre 26.\n",
    "\n",
    "    Args:\n",
    "        char (str): Un (seul) caractère à convertir.\n",
    "\n",
    "    Returns:\n",
    "        int: La valeur numérique correspondant au caractère donné.\n",
    "    \"\"\"\n",
    "    pass  # TODO"
   ]
  },
  {
   "cell_type": "code",
   "execution_count": 2,
   "metadata": {},
   "outputs": [],
   "source": [
    "def num_to_char(num):\n",
    "    \"\"\"\n",
    "    Fonction inverse de `char_to_num`.\n",
    "\n",
    "    Args:\n",
    "        num (int): Une (seule) valeur numérique à convertir.\n",
    "\n",
    "    Returns:\n",
    "        str: Le caractère correspondant au nombre donné.\n",
    "    \"\"\"\n",
    "    pass  # TODO"
   ]
  },
  {
   "cell_type": "markdown",
   "metadata": {},
   "source": [
    "### 1.2. Lien entre liste de caractères et chaînes de caractères\n",
    "\n",
    "On peut itérer sur une chaîne de caractères pour obtenir les caractères séparément. Inversement, à partir d'une liste de caractères, on peut les concaténer en une liste avec la méthode `.join`. Ces notions sont illustrées ci-dessous."
   ]
  },
  {
   "cell_type": "code",
   "execution_count": null,
   "metadata": {},
   "outputs": [],
   "source": [
    "[char for char in \"abc\"], \"\".join(list(\"abc\"))"
   ]
  },
  {
   "cell_type": "markdown",
   "metadata": {},
   "source": [
    "### 1.3. Conversion de chaînes de caractères\n",
    "\n",
    "**TODO:**  \n",
    "Compléter les fonctions suivantes qui se chargent de la correspondance caractère - nombre pour les chaînes de caractères."
   ]
  },
  {
   "cell_type": "code",
   "execution_count": 4,
   "metadata": {},
   "outputs": [],
   "source": [
    "def string_to_nums(string):\n",
    "    \"\"\"\n",
    "    Convertit une chaîne de caractères en une liste de nombres.\n",
    "\n",
    "    Cette fonction prend une chaîne de caractères en entrée et retourne une liste de nombres\n",
    "    correspondant à chaque caractère de la chaîne, en utilisant la fonction `char_to_num`.\n",
    "\n",
    "    Args:\n",
    "        string (str): La chaîne de caractères à convertir.\n",
    "\n",
    "    Returns:\n",
    "        list: Une liste de nombres représentant chaque caractère de la chaîne.\n",
    "    \"\"\"\n",
    "    pass  # TODO"
   ]
  },
  {
   "cell_type": "code",
   "execution_count": 5,
   "metadata": {},
   "outputs": [],
   "source": [
    "def nums_to_string(lst):\n",
    "    \"\"\"\n",
    "    Fonction inverse de `string_to_num`.\n",
    "\n",
    "    Args:\n",
    "        lst (list): Une liste de nombres à convertir en chaîne de caractères.\n",
    "\n",
    "    Returns:\n",
    "        str: La chaîne de caractères correspondant à la liste de nombres donnée.\n",
    "    \"\"\"\n",
    "    pass  # TODO"
   ]
  },
  {
   "cell_type": "markdown",
   "metadata": {},
   "source": [
    "## Partie 2 - Code César\n",
    "\n",
    "Le chiffrement César consiste à décaler chaque lettre du message initial d'un certain nombre de positions dans l'alphabet. \n",
    "\n",
    "Par exemple, avec une clé de chiffrement \"j\", on additionne 9 à toutes les valeurs dans $\\mathbb{Z} / 27\\mathbb{Z}$ et le message \"bonjour\" devient \"kxwsxc \". \n",
    "Notamment, \"u\" boucle pour donner \"c\" et \"r\" devient \" \" du fait de notre correspondance.\n",
    "Pour le faire à la main, on peut dresser le tableau suivant :\n",
    "| message clair | valeurs claires | valeurs chiffrées (+9) | message chiffré |\n",
    "|---------------|-----------------|------------------------|-----------------|\n",
    "| b             | 1               | 10                     | k               |\n",
    "| o             | 14              | 23                     | x               |\n",
    "| n             | 13              | 22                     | w               |\n",
    "| j             | 9               | 18                     | s               |\n",
    "| o             | 14              | 23                     | x               |\n",
    "| u             | 20              | 2                      | c               |\n",
    "| r             | 17              | 26                     |                 |\n",
    "\n",
    "Choisir une clé de chiffrement \"a\" ne modifie pas le message."
   ]
  },
  {
   "cell_type": "markdown",
   "metadata": {},
   "source": [
    "### 2.1. Fonction de chiffrement\n",
    "\n",
    "**TODO:**  \n",
    "Compléter la fonction de codage suivante."
   ]
  },
  {
   "cell_type": "code",
   "execution_count": 6,
   "metadata": {},
   "outputs": [],
   "source": [
    "def encode_cesar(string, key):\n",
    "    \"\"\"\n",
    "    Encode une chaîne de caractères en utilisant le chiffrement de César.\n",
    "\n",
    "    Le chiffrement de César est une méthode de chiffrement par substitution dans \n",
    "    laquelle chaque lettre du texte en clair est remplacée par une lettre située un \n",
    "    certain nombre de positions plus loin dans l'alphabet.\n",
    "\n",
    "    Args:\n",
    "        string (str): La chaîne de caractères à encoder.\n",
    "        key (str): La clé de chiffrement, qui détermine le décalage à appliquer.\n",
    "\n",
    "    Returns:\n",
    "        str: La chaîne de caractères encodée.\n",
    "\n",
    "    Example:\n",
    "        >>> encode_cesar(\"bonjour\", \"j\")\n",
    "        'kxwsxc '\n",
    "    \"\"\"\n",
    "    pass  # TODO"
   ]
  },
  {
   "cell_type": "markdown",
   "metadata": {},
   "source": [
    "### 2.2. Test du chiffrement\n",
    "\n",
    "**TODO:**  \n",
    "Encoder le message\n",
    "\n",
    "> bonne chance pour me crypter\n",
    "\n",
    "avec une lettre de chiffrage \"g\". \n",
    "Comparer avec un codage à la main.\n",
    "Compléter la section \"Example\" du docstring de la fonction `encode_cesar` pour inclure cet exemple."
   ]
  },
  {
   "cell_type": "code",
   "execution_count": null,
   "metadata": {},
   "outputs": [],
   "source": [
    "# TODO"
   ]
  },
  {
   "cell_type": "markdown",
   "metadata": {},
   "source": [
    "### 2.3. Fonction de décodage\n",
    "\n",
    "**TODO:**  \n",
    "Compléter la fonction de décodage suivante."
   ]
  },
  {
   "cell_type": "code",
   "execution_count": 63,
   "metadata": {},
   "outputs": [],
   "source": [
    "def decode_cesar(string, key):\n",
    "    \"\"\"\n",
    "    Décoder une chaîne de caractères chiffrée avec le chiffre de César,\n",
    "    par exemple avec la fonction `encode_cesar`. La clé est la même \n",
    "    pour le codage et le décodage.\n",
    "\n",
    "    Args:\n",
    "        string (str): La chaîne de caractères chiffrée à déchiffrer.\n",
    "        key (str): La clé utilisée pour le chiffrement, représentée par un \n",
    "                   seul caractère.\n",
    "    Returns:\n",
    "        str: La chaîne de caractères déchiffrée.\n",
    "\n",
    "    Example:\n",
    "        >>> decode_cesar(\"kxwsxc \", \"j\")\n",
    "        'bonjour'\n",
    "    \"\"\"\n",
    "    pass  # TODO"
   ]
  },
  {
   "cell_type": "markdown",
   "metadata": {},
   "source": [
    "### 2.4. Test du décodage\n",
    "\n",
    "**TODO:**  \n",
    "Vérifier que le décodage du message précédent donne bien le message initial. Comme précédemment, compléter le docstring de la fonction `decode_cesar` avec cet exemple."
   ]
  },
  {
   "cell_type": "code",
   "execution_count": null,
   "metadata": {},
   "outputs": [],
   "source": [
    "# TODO"
   ]
  },
  {
   "cell_type": "markdown",
   "metadata": {},
   "source": [
    "## Partie 3 - Code Vigenère\n",
    "\n",
    "Le code Vigenère est plus complexe que celui de César, car au lieu de choisir une lettre de chiffrement, on choisit un mot.\n",
    "Ainsi, on parcourt les caractères du message en même temps que ceux de la clé, et chaque lettre du message est décalée par la lettre correspondante du mot de chiffrement.\n",
    "Si la clé de chiffrement est plus courte que le message, on boucle sur la clé.\n",
    "\n",
    "Par exemple avec la clé \"code\", pour coder le message \"bonjour\", on décale \"b\" de \"c\" (i.e. de 2) pour obtenir \"e\", puis \"o\" de \"o\" (i.e. de 14) pour obtenir \"b\", puis \"n\" de \"d\" (i.e. de 3) pour obtenir \"q\", etc.\n",
    "Au final, on trouve le mot bien connu \"dbqnqhu\", grâce au tableau suivant :\n",
    "\n",
    "| message clair & clé | valeurs claires | valeurs chiffrées | message chiffré |\n",
    "|---------------------|-----------------|-------------------|-----------------|\n",
    "| b & c               | 1 + 2           | 3                 | d               |\n",
    "| o & o               | 14 + 14         | 28, i.e. 1        | b               |\n",
    "| n & d               | 13 + 3          | 16                | q               |\n",
    "| j & e               | 9 + 4           | 13                | n               |\n",
    "| o & c               | 14 + 2          | 16                | q               |\n",
    "| u & o               | 20 + 14         | 34, i.e. 7        | h               |\n",
    "| r & d               | 17 + 3          | 20                | u               |\n",
    "\n",
    "Cet algorithme est très bien expliqué dans [une vidéo de LEMMiNO](https://www.youtube.com/watch?v=jVpsLMCIB0Y) (même si chez lui, la correspondance caractère-chiffre est différente)."
   ]
  },
  {
   "cell_type": "markdown",
   "metadata": {},
   "source": [
    "### 3.1. Fonction de chiffrement\n",
    "\n",
    "**TODO:**  \n",
    "Compléter la fonction de codage suivante, et ajouter l'exemple ci-dessus dans le docstring."
   ]
  },
  {
   "cell_type": "code",
   "execution_count": 11,
   "metadata": {},
   "outputs": [],
   "source": [
    "def encode_vigenere(string, key):\n",
    "    \"\"\"\n",
    "    Encode une chaîne de caractères en utilisant le chiffre de Vigenère.\n",
    "\n",
    "    Le chiffre de Vigenère est une méthode de chiffrement qui utilise une série de différentes \n",
    "    substitutions de César basées sur les lettres d'un mot-clé.\n",
    "\n",
    "    Args:\n",
    "        string (str): La chaîne de caractères à encoder.\n",
    "        key (str): La clé utilisée pour encoder la chaîne. Chaque lettre de la clé détermine \n",
    "                   le décalage pour la lettre correspondante dans la chaîne.\n",
    "\n",
    "    Returns:\n",
    "        str: La chaîne de caractères encodée.\n",
    "    \"\"\"\n",
    "    pass  # TODO"
   ]
  },
  {
   "cell_type": "markdown",
   "metadata": {},
   "source": [
    "### 3.2. Test de chiffrement\n",
    "\n",
    "\n",
    "**TODO:**  \n",
    "- Vérifier qu'on retrouve bien le chiffrement César si on choisit une clé \"g\" sur le message \"bonne chance pour me crypter\".\n",
    "- Vérifier également le test décrit en début de section.\n",
    "- Enfin, chiffrer le message \"bonne chance pour me crypter\" avec la clé \"code\".\n",
    "\n",
    "Compléter le docstring avec tous ces exemples."
   ]
  },
  {
   "cell_type": "code",
   "execution_count": null,
   "metadata": {},
   "outputs": [],
   "source": []
  },
  {
   "cell_type": "markdown",
   "metadata": {},
   "source": [
    "### 3.3. Fonction de décodage\n",
    "\n",
    "**TODO:**  \n",
    "Compléter la fonction de décodage suivante."
   ]
  },
  {
   "cell_type": "code",
   "execution_count": 12,
   "metadata": {},
   "outputs": [],
   "source": [
    "def decode_vigenere(string, key):\n",
    "    \"\"\"\n",
    "    Décode une chaîne de caractères chiffrée avec le chiffre de Vigenère.\n",
    "\n",
    "    Args:\n",
    "        string (str): La chaîne de caractères chiffrée à décoder.\n",
    "        key (str): La clé utilisée pour le déchiffrement.\n",
    "\n",
    "    Returns:\n",
    "        str: La chaîne de caractères déchiffrée.\n",
    "\n",
    "    Example:\n",
    "        >>> decode_vigenere(\"dbqnqhu\", \"code\")\n",
    "        'bonjour'\n",
    "    \"\"\"\n",
    "    pass  # TODO"
   ]
  },
  {
   "cell_type": "markdown",
   "metadata": {},
   "source": [
    "### 3.4. Test de décodage\n",
    "\n",
    "Vérifier que le décodage du message chiffré précédemment avec la clé \"code\" donne bien le message initial."
   ]
  },
  {
   "cell_type": "code",
   "execution_count": null,
   "metadata": {},
   "outputs": [],
   "source": [
    "# TODO"
   ]
  },
  {
   "cell_type": "markdown",
   "metadata": {},
   "source": [
    "## Partie 4 - Pour aller plus loin"
   ]
  },
  {
   "cell_type": "markdown",
   "metadata": {},
   "source": [
    "### 4.1. Code Vernam\n",
    "\n",
    "Vous le savez, un ordinateur ne communique qu'avec des $0$ et des $1$. \n",
    "Voici quelques correspondances entre le code binaire et un caractère en ASCII que l'on peut retrouver dans [la table de correspondance](https://www.ascii-code.com/fr):\n",
    "\n",
    "| Code en base 10 |  Code en base 2 | Caractère associé |\n",
    "|-----------------|-----------------|-------------------|\n",
    "| 65              | 10000001        | A                 |\n",
    "| 66              | 10000010        | B                 | \n",
    "| 67              | 10000011        | C                 | \n",
    "| 97              | 11000001        | a                 |\n",
    "\n",
    "Le code Vernam consiste à faire un XOR entre la clé et le message, bit par bit. Par exemple, $0010 \\wedge 0111 = 0101$. Ce chiffrage présente deux intérêts :\n",
    "1. Le XOR est involutif, c'est-à-dire que re-chiffrer le message chiffré avec la même clé permet de retrouver le message d'origine. La fonction de déchiffrement est exactement la même que celle de chiffrement.\n",
    "2. Si on utilise une clé aléatoire secrète de la même taille que le message, il est **impossible** de déchiffrer le message sans la clé, même avec beaucoup de temps de calcul.\n",
    "\n",
    "Pour l'implémentation en Python, il faut utiliser les [opérations bit à bit](https://wiki.python.org/moin/BitwiseOperators).\n",
    "Pour approfondir la correspondance décimal - binaire, vous pouvez aussi faire le [Problème 36 du Projet Euler](https://projecteuler.net/problem=36).\n",
    "\n",
    "**TODO:**  \n",
    "Vérifier qu'en utilisant une clé égale au message, on obtient bien un message chiffré composé uniquement de zéros."
   ]
  },
  {
   "cell_type": "code",
   "execution_count": null,
   "metadata": {},
   "outputs": [],
   "source": [
    "# TODO"
   ]
  },
  {
   "cell_type": "markdown",
   "metadata": {},
   "source": [
    "### 4.2. Ascii entre `' '` et `'z'`\n",
    "\n",
    "Prenons tous les caractères de `' '` à `'z'` en ASCII selon [la table de correspondance](https://www.ascii-code.com/fr), qui sont encodés respectivement par 32 et 122. \n",
    "On évite notamment les caractères «de contrôle» pathologiques à l'affichage. \n",
    "Ainsi on travaille dans $\\mathbb{Z} / 91\\mathbb{Z}$, avec des représentants dans $\\{0, ..., 90\\}$.\n",
    "\n",
    "**TODO:**  \n",
    "Adapter les fonctions de conversion de la partie 1 dans ce nouveau contexte. Y a-t-il besoin de modifier les fonctions de conversion de chaînes de caractères ? Et celles de chiffrement et déchiffrement ?"
   ]
  },
  {
   "cell_type": "code",
   "execution_count": null,
   "metadata": {},
   "outputs": [],
   "source": [
    "# TODO"
   ]
  },
  {
   "cell_type": "markdown",
   "metadata": {},
   "source": [
    "### 4.3. Utiliser des classes\n",
    "\n",
    "On peut implémenter les fonctions précédentes dans des classes `CypherCesar` et `CyperVigenere` qui prennent comme attribut la clé de chiffrement. \n",
    "Cela permet de ne pas répéter la clé à chaque appel de fonction.\n",
    "Comme ces deux classes partagent les mêmes méthodes `.encode` et `.decode`, on peut les faire hériter d'une classe mère abstraite `CypherAbstract` pour s'assurer d'avoir le même comportement.\n",
    "\n",
    "On pourrait même choisir d'implémenter la conversion caractère - chiffre dans ces classes, pour avoir plus de liberté, mais le code pourrait devenir répétitif et confus.\n",
    "Dans ce cas, on préférera probablement utiliser de l'**injection de dépendance**, un *design pattern* [bien connu](https://www.youtube.com/watch?v=GATSXm7WAxU), avec une classe de conversion d'un côté et une classe de cryptage (sur entiers) de l'autre.\n",
    "\n",
    "**TODO:**  \n",
    "Développez cette idée en implémentant ces classes."
   ]
  },
  {
   "cell_type": "code",
   "execution_count": null,
   "metadata": {},
   "outputs": [],
   "source": [
    "from abc import ABC, abstractmethod\n",
    "\n",
    "\n",
    "class CypherAbstract(ABC):\n",
    "    \"\"\"\n",
    "    Classe abstraite pour les chiffrements.\n",
    "\n",
    "    Methods:\n",
    "        encode: Méthode pour encoder une chaîne de caractères.\n",
    "        decode: Méthode pour décoder une chaîne de caractères.\n",
    "    \"\"\"\n",
    "\n",
    "    @abstractmethod\n",
    "    def encode(self, string):\n",
    "        pass\n",
    "\n",
    "    @abstractmethod\n",
    "    def decode(self, string):\n",
    "        pass"
   ]
  }
 ],
 "metadata": {
  "kernelspec": {
   "display_name": "Python 3 (ipykernel)",
   "language": "python",
   "name": "python3"
  },
  "language_info": {
   "codemirror_mode": {
    "name": "ipython",
    "version": 3
   },
   "file_extension": ".py",
   "mimetype": "text/x-python",
   "name": "python",
   "nbconvert_exporter": "python",
   "pygments_lexer": "ipython3",
   "version": "3.12.4"
  }
 },
 "nbformat": 4,
 "nbformat_minor": 2
}
