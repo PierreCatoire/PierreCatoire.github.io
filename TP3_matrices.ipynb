{
 "cells": [
  {
   "cell_type": "markdown",
   "id": "66554b5f-7792-48f0-b368-ea2e9aa21e78",
   "metadata": {},
   "source": [
    "# TP4: Initiation au calcul matriciel\n",
    "\n",
    "Ce TP a pour vocation à nous familiariser avec le calcul matriciel et les fonctions déjà implémentées dans les bibliothèques *numpy* et *scipy*.\n",
    "\n",
    "## 1. Rappels sur les matrices\n",
    "\n",
    "Une *matrice* peut-être vue comme un tableau de nombre qui possède un *nombre de lignes* et un *nombre de colonnes*. Ainsi, un tableau peut-être vue (avec des yeux d'ordinateurs) comme une liste dont les éléments sont également des listes dont chacune reprèsente une *colonne* ou une *ligne* de la matrice à considérer. Par exemple, la matrice suivante est dite de taille $(2,3)$:\n",
    "$$\n",
    "A=\\begin{pmatrix}\n",
    " 1 & 2 & 3 \\\\\n",
    " 4 & 5 & 6\n",
    "\\end{pmatrix}\n",
    "$$\n",
    "Le premier entier est le nombre de lignes de la matrice et le second est le nombre de colonnes.\n",
    "\n",
    "Pour la machine, la matrice ci-dessus est représentée par la liste [[1,2,3],[4,5,6]].\n",
    "\n",
    "Pour coder des matrices en utilisant la bibliotèque *numpy*, il est recommandé d'utiliser la commande *array* de cette bibliothèque."
   ]
  },
  {
   "cell_type": "code",
   "execution_count": 70,
   "id": "3570376c-f3b7-4787-89ba-a83d361083c6",
   "metadata": {},
   "outputs": [],
   "source": [
    "import numpy as np\n"
   ]
  },
  {
   "cell_type": "markdown",
   "id": "405b2c56-56db-442c-b072-3dd60b7216ba",
   "metadata": {},
   "source": [
    "**TODO**: en vous appuyant sur le code suivant qui permet d'implémenter la matrice ci-dessus, donner les codes pour implémenter les matrices:\n",
    "$$\n",
    "\\begin{align*}\n",
    "B=\\begin{pmatrix}\n",
    " 0 & 5  \\\\\n",
    " 1 & 3 \\\\\n",
    " 7 & -8\n",
    "\\end{pmatrix} \\text{ et } C=\\begin{pmatrix}\n",
    " -1 & 2 & -3 \\\\\n",
    " 4 & -5 & 6\n",
    "\\end{pmatrix} \n",
    "\\end{align*}\n",
    "$$"
   ]
  },
  {
   "cell_type": "code",
   "execution_count": 73,
   "id": "0cd6ed8f-dc3a-4dce-be1b-6566ea8f6512",
   "metadata": {},
   "outputs": [],
   "source": [
    "A=np.array([[1,2,3],[4,5,6]])\n"
   ]
  },
  {
   "cell_type": "markdown",
   "id": "9c865496-1b0b-4695-84ba-693cddd834ce",
   "metadata": {},
   "source": [
    "Afin d'avoir des affichages de matrices un peu plus joli, nous pouvons utiliser la fonction *tabulate* de la bibliothèque *tabulate* pour avoir une plus jolie représentation des matrices lors des affchichages. Voici, un exemple ci-dessous:"
   ]
  },
  {
   "cell_type": "code",
   "execution_count": 114,
   "id": "8b815b0d-cd64-42bd-aca2-0aa2e92ce4f9",
   "metadata": {},
   "outputs": [
    {
     "name": "stdout",
     "output_type": "stream",
     "text": [
      "-  -  -\n",
      "1  2  3\n",
      "4  5  6\n",
      "-  -  -\n"
     ]
    }
   ],
   "source": [
    "from tabulate import tabulate\n",
    "print(tabulate(A))"
   ]
  },
  {
   "cell_type": "markdown",
   "id": "1eaa5536-0ac0-447b-9b2d-29ec07386c9e",
   "metadata": {},
   "source": [
    "**Accès à un emplacement mémoire d'une matrice:**\n",
    "\n",
    "Pour accéder à un coefficcient d'une matrice, on utilise la syntaxe *M[i][j]* pour récupérer le coefficient de la ligne $i+1$ et colonne $j+1$ de $M$.\n",
    "\n",
    "*Attention*: ces changements d'indices viennent du fait qu'en informatique le premier élément d'une liste est celui d'indice $0$ et pas $1$.\n",
    "\n",
    "**TODO:** Accéder à la valeur$-8$ se trouvant dans la matrice $B$."
   ]
  },
  {
   "cell_type": "code",
   "execution_count": 3,
   "id": "4b72e6f0-76de-4354-8ddc-f2f76f740b0d",
   "metadata": {},
   "outputs": [],
   "source": [
    "pass"
   ]
  },
  {
   "cell_type": "markdown",
   "id": "b255af1f-dc1f-413c-bf24-d82383070bf8",
   "metadata": {},
   "source": [
    "**Récupérer le nombre de lignes ou de colonnes d'une matrice**\n",
    "\n",
    "**TODO**: à l'aide de la fonction *len* trouver comment obtenir le nombre de colonnes et le nombre de lignes de $A$."
   ]
  },
  {
   "cell_type": "code",
   "execution_count": 5,
   "id": "a3c86a2b-61cb-4748-a765-a539bfbd466b",
   "metadata": {},
   "outputs": [],
   "source": [
    "pass"
   ]
  },
  {
   "cell_type": "markdown",
   "id": "b3b66f84-44b5-476b-a061-253ffd50becc",
   "metadata": {},
   "source": [
    "Manipulons les différentes notions propres aux matrices. Pour cela nous allons utiliser les opérations implémentées naturellement dans la bibliothèque *numpy*:\n",
    "- la somme de matrices \n",
    "- le produit de matrices\n",
    "- le produit de Hadamard des matrices\n",
    "\n",
    "**Sommes de matrices**:\n",
    "\n",
    "Soit $I=\\{1,\\ldots,k\\}$ et $J=\\{1,\\ldots, l\\}$ avec $k,l\\in\\mathbb{N}$. \n",
    "On rappelle étant donné deux matrices $A=(a_{i,j})_{(i,j)\\in I\\times J}$ et $B=(b_{i,j})_{(i,j)\\in I\\times J}$ que la somme de ces deux matrices de *même taille* est définie par:\n",
    "$$\n",
    "A+B=(a_{i,j}+b_{i,j})_{(i,j)\\in I\\times J}.\n",
    "$$"
   ]
  },
  {
   "cell_type": "code",
   "execution_count": 123,
   "id": "912729d2-1aef-460f-b5ec-6efe84eab470",
   "metadata": {},
   "outputs": [
    {
     "name": "stdout",
     "output_type": "stream",
     "text": [
      "-  -  -\n",
      "1  2  3\n",
      "4  5  6\n",
      "-  -  - -  --\n",
      "0   5\n",
      "1   3\n",
      "7  -8\n",
      "-  -- --  --  --\n",
      "-1   2  -3\n",
      " 4  -5   6\n",
      "--  --  --\n"
     ]
    }
   ],
   "source": [
    "print(tabulate(A), tabulate(B) , tabulate(C))"
   ]
  },
  {
   "cell_type": "markdown",
   "id": "17fd422e-bdd2-4dc5-b903-85d91d73dba8",
   "metadata": {},
   "source": [
    "**TODO:** Vérifier sur des exemples que la somme matricielle est implémentée par $+$ lorsque nous faisons la somme de deux matrices. Que se passe t-il si cette somme n'est pas définie mathématiquement ? Quelles sommes de $A$, $B$ et $C$ sont définies ?"
   ]
  },
  {
   "cell_type": "code",
   "execution_count": 7,
   "id": "e2edfbd2-acaa-436b-ab9f-056379967756",
   "metadata": {},
   "outputs": [],
   "source": [
    "pass"
   ]
  },
  {
   "cell_type": "markdown",
   "id": "0f236fe8-cce0-48ef-8d61-f03148a2d59a",
   "metadata": {},
   "source": [
    "**Produit de deux matrices**:\n",
    "\n",
    "Soit $I=\\{1,\\ldots,k\\}$,$J=\\{1,\\ldots, l\\}$ et $S=\\{1,\\ldots, s\\}$ avec $(k,l,s)\\in\\mathbb{N}$. \n",
    "On rappelle étant donné deux matrices $A=(a_{i,j})_{(i,j)\\in I\\times J}$ et $B=(b_{j,s})_{(j,s)\\in J\\times S}$ que le produit de ces deux matrices dont le nombre  est définie par:\n",
    "$$\n",
    "A\\times B=(\\sum_{j\\in J}a_{i,j}+b_{j,s})_{(i,s)\\in I\\times S}.\n",
    "$$\n",
    "\n",
    "*Attention:* remarquez que lorsqu'on effectue le produit de la matrice $A$ avec $B$, il faut que le nombre de colonnes de $A$ soit égal au nombre de lignes de $B$. Autrement le produit n'est pas défini.\n",
    "\n",
    "Pour multiplier des matrices, nous aurons recourt à la fonction *matmul* ou *dot* de la bibliothèque *numpy*.\n",
    "\n",
    "**TODO**: quels sont tous les produits possibles ? Puis faire calculer ces produits par l'ordinateur."
   ]
  },
  {
   "cell_type": "code",
   "execution_count": 13,
   "id": "5d28bbf3-a737-445b-8eb9-16cbc408c36c",
   "metadata": {},
   "outputs": [],
   "source": [
    "pass"
   ]
  },
  {
   "cell_type": "markdown",
   "id": "0ae19051-7071-49d9-ab08-7903bcfd1eeb",
   "metadata": {},
   "source": [
    "**Produit de Hadamard de deux matrices**:\n",
    "\n",
    "On rappelle étant donné deux matrices $A=(a_{i,j})_{(i,j)\\in I\\times J}$ et $B=(b_{i,j})_{(j,s)\\in I\\times J}$ de même taille, on définie le *produit de Hadamard* de ces deux matrices comme étant:\n",
    "$$\n",
    "A\\circ B=(a_{i,j}\\times b_{i,j})_{(i,j)\\in I\\times J}.\n",
    "$$\n",
    "\n",
    "Ce produit est utilisé lorsqu'il s'agit d'appliquer des filtres sur une image (qui sera vue comme une grande matrice de donnée). Nous verrons cela un peu plus loin dans ce travail pratique.\n",
    "\n",
    "**TODO**: Coder une fonction *Hadamard(A,B)* qui prend deux matrices en entrée et effectue le produit de Hadamard de ces deux matrices si possible, sinon elle renvoie un message d'erreur.\n",
    "\n",
    "*Remarque:* vous pouvez utiliser la commande *np.zeros* pour générer une matrice nulle (remplie de zéro) de taille voulue."
   ]
  },
  {
   "cell_type": "code",
   "execution_count": 17,
   "id": "3b9a6887-3cb0-438c-9052-157a80dbe153",
   "metadata": {},
   "outputs": [],
   "source": [
    "def Hadamard(A,B):\n",
    "    pass"
   ]
  },
  {
   "cell_type": "code",
   "execution_count": 156,
   "id": "fd7d07a0-0667-4b62-9488-426e54ecc5c1",
   "metadata": {},
   "outputs": [
    {
     "data": {
      "text/plain": [
       "array([[ 1.,  4.,  9.],\n",
       "       [16., 25., 36.]])"
      ]
     },
     "execution_count": 156,
     "metadata": {},
     "output_type": "execute_result"
    }
   ],
   "source": [
    "Hadamard(A,A)"
   ]
  },
  {
   "cell_type": "markdown",
   "id": "3aec34be-d90a-4163-9ebc-5f67a84ad405",
   "metadata": {},
   "source": [
    "**TODO**: Comparer le résultat obtenu avec $A*B$."
   ]
  },
  {
   "cell_type": "code",
   "execution_count": null,
   "id": "b26a7455-99d4-4735-9b2d-0b196b542389",
   "metadata": {},
   "outputs": [],
   "source": []
  },
  {
   "cell_type": "markdown",
   "id": "e26e29e6-0476-4b82-a3e4-5d401f9b4a75",
   "metadata": {},
   "source": [
    "**Quelques commandes pour produire des matrices utiles:**\n",
    "\n",
    "Regarder la documentation des fonctions *np.zeros*, *np.ones* et *np.eye*. \n",
    "\n",
    "**TODO**: A partir de cela, générer la matrice nulle à $3$ lignes et $4$ colonnes, une matrice remplie de $1$ à $5$ lignes et $1$ colonne puis la matrice identité de taille $5$."
   ]
  },
  {
   "cell_type": "code",
   "execution_count": 21,
   "id": "be1eb645-3174-47aa-a652-f45f0d5cc899",
   "metadata": {},
   "outputs": [],
   "source": [
    "pass"
   ]
  },
  {
   "cell_type": "markdown",
   "id": "b340dfe4-10e4-43f9-9805-87b0796e5639",
   "metadata": {},
   "source": [
    "## 2. Quelques fonctionnalités de la structure *array*\n",
    "\n",
    "### 2.a. De la souplesse dans le code \n",
    "\n",
    "La manière dont est codée la structure *np.array* est très maléable. Ce qui permet d'effectuer un nombre variées d'opérations avec une syntaxe claire. \n",
    "\n",
    "Attention néanmoins à ne pas se mélanger les pinceaux !"
   ]
  },
  {
   "cell_type": "markdown",
   "id": "c2f39a0a-1916-46e9-883d-a7373e06705f",
   "metadata": {},
   "source": [
    "**TODO**: Que se passe t-il si une des deux variables de l'opérateur $+$ ou $*$ est un entier et l'autre une matrice ?"
   ]
  },
  {
   "cell_type": "code",
   "execution_count": 24,
   "id": "d9deff5c-bead-493c-ae86-fa67f12e8739",
   "metadata": {},
   "outputs": [],
   "source": [
    "pass"
   ]
  },
  {
   "cell_type": "markdown",
   "id": "18806be5-3996-453f-993a-14306a66257b",
   "metadata": {},
   "source": [
    "**TODO:** Quel calcul est effectué par la commande ci-dessous ?"
   ]
  },
  {
   "cell_type": "code",
   "execution_count": 179,
   "id": "09020c9e-eead-45be-ab21-0a5013b3240e",
   "metadata": {},
   "outputs": [
    {
     "data": {
      "text/plain": [
       "array([[ 0, 25],\n",
       "       [ 1,  9],\n",
       "       [49, 64]])"
      ]
     },
     "execution_count": 179,
     "metadata": {},
     "output_type": "execute_result"
    }
   ],
   "source": [
    "B**2"
   ]
  },
  {
   "cell_type": "markdown",
   "id": "cca7703a-0834-4fb5-8008-8536bcb28909",
   "metadata": {},
   "source": [
    "**TODO:** appliquer la fonction *np.sqrt* à une matrice à coefficient positifs. Que se passe t-il ? "
   ]
  },
  {
   "cell_type": "code",
   "execution_count": 27,
   "id": "48f7364b-b40d-45ce-8f13-4e09a1c9f869",
   "metadata": {},
   "outputs": [],
   "source": [
    "pass"
   ]
  },
  {
   "cell_type": "markdown",
   "id": "7c20626a-b134-48a2-8ab9-aa537247c6bd",
   "metadata": {},
   "source": [
    "**TODO**: grâce à ces connaissances sur la structure *np.array*, donner deux manières de calculer l'image de tous les coefficients de la matrice $A$ par la fonction $x\\mapsto x^3-2x-1$. "
   ]
  },
  {
   "cell_type": "code",
   "execution_count": null,
   "id": "dff625af-4845-43ca-9472-f3dec0780db1",
   "metadata": {},
   "outputs": [],
   "source": []
  },
  {
   "cell_type": "markdown",
   "id": "4fa29522-15c4-44da-811d-743bf30e3130",
   "metadata": {},
   "source": [
    "### 2.b Attention aux affectations\n",
    "\n",
    "Cet objet a la même propriété que les listes. Pour le voir regarder le code suivant:"
   ]
  },
  {
   "cell_type": "code",
   "execution_count": 197,
   "id": "c90ff655-d12c-4a2e-85e2-9b9d3796c77b",
   "metadata": {},
   "outputs": [
    {
     "name": "stdout",
     "output_type": "stream",
     "text": [
      "-  -  -\n",
      "0  1  1\n",
      "2  2  2\n",
      "-  -  -\n",
      "-  -  -\n",
      "0  1  1\n",
      "2  2  2\n",
      "-  -  -\n"
     ]
    }
   ],
   "source": [
    "MAT=np.array([[1,1,1],[2,2,2]])\n",
    "NAT=MAT\n",
    "NAT[0,0]=0\n",
    "print(tabulate(MAT))\n",
    "print(tabulate(NAT))"
   ]
  },
  {
   "cell_type": "markdown",
   "id": "8281fc8d-e57a-42a2-a018-469d9760c95a",
   "metadata": {},
   "source": [
    "Pour résoudre le problème, il faut utiliser *.copy* somme pour les listes."
   ]
  },
  {
   "cell_type": "code",
   "execution_count": 201,
   "id": "7aaa476a-301e-4054-9ff5-a4b446bc9cdd",
   "metadata": {},
   "outputs": [
    {
     "name": "stdout",
     "output_type": "stream",
     "text": [
      "-  -  -\n",
      "1  1  1\n",
      "2  2  2\n",
      "-  -  -\n",
      "-  -  -\n",
      "0  1  1\n",
      "2  2  2\n",
      "-  -  -\n"
     ]
    }
   ],
   "source": [
    "MAT=np.array([[1,1,1],[2,2,2]])\n",
    "NAT=MAT.copy()\n",
    "NAT[0,0]=0\n",
    "print(tabulate(MAT))\n",
    "print(tabulate(NAT))"
   ]
  },
  {
   "cell_type": "markdown",
   "id": "d78dc20f-b264-4e78-8800-e18a17c3a3f9",
   "metadata": {},
   "source": [
    "# 3. Quelques matrices spécifiques\n",
    "\n",
    "## 3.a Matrices de permutation\n",
    "\n",
    "Une *permutation* $\\sigma:\\{1,\\ldots,n\\}\\rightarrow \\{1,\\ldots,n\\}$ appliquée à une suite à $n$ éléments $[a_1,a_2,\\dots, a_{n-1}, a_n]$ donne:\n",
    "$$\n",
    "\\left[a_{\\sigma(1)},a_{\\sigma(2)},\\ldots, a_{\\sigma(n-1)},a_{\\sigma(n)}\\right]\n",
    "$$\n",
    "\n",
    "Par exemple, la permutation:\n",
    "$$\n",
    "\\sigma:\\left\\lbrace\\begin{array}{rcl}\n",
    "1 & \\mapsto 2 \\\\\n",
    "2 & \\mapsto 3 \\\\\n",
    "3 & \\mapsto 4 \\\\\n",
    "4 & \\mapsto 1 \\\\\n",
    "\\end{array}\\right.\n",
    "$$\n",
    "appliquée à la suite $[1,2,3,4]$ donne la suite $[2,3,4,1]$.\n",
    "\n",
    "Nous allons identifier une permutation à la liste $[\\sigma(1),\\ldots,\\sigma(n)]$\n",
    "\n",
    "Une *matrice de permutation* $P(\\sigma)$ associé à la permutation $\\sigma$ est une matrice particulière qui en la multipliant avec une autre matrice permute soit ses lignes ou ses colonnes suivant $\\sigma$. La matrice $P(\\sigma)$ est définie par:\n",
    "$$\n",
    "P(\\sigma)_{i,j}=\\left( \\delta_{i,\\sigma(j)}\\right)_{i,j\\in\\{1,\\ldots,n\\}}\n",
    "$$\n",
    "où:\n",
    "$$\n",
    "\\delta_{k,l}=\\begin{cases}\n",
    "1 & \\text{ si } k=l, \\\\\n",
    "0 & \\text{ sinon}.\n",
    "\\end{cases}\n",
    "$$\n",
    "\n",
    "**TODO**: Coder une fonction *Mat_permutation(sigma)* où *sigma* est la liste codant la permutation. Puis tester votre code."
   ]
  },
  {
   "cell_type": "code",
   "execution_count": 243,
   "id": "a072be65-16a2-4731-a3ea-e5539f61cdd5",
   "metadata": {},
   "outputs": [],
   "source": [
    "pass"
   ]
  },
  {
   "cell_type": "markdown",
   "id": "9078a569-1c23-490f-9a15-dd70f5d0c90b",
   "metadata": {},
   "source": [
    "**TODO**: étudier ce que produit une multiplication par $P$ à droite et à gauche d'une matrice."
   ]
  },
  {
   "cell_type": "code",
   "execution_count": 32,
   "id": "c7ae8a9a-bdde-46f8-968b-7b1697bdff2a",
   "metadata": {},
   "outputs": [],
   "source": [
    "pass"
   ]
  },
  {
   "cell_type": "markdown",
   "id": "b78d4a35-5a1d-4305-9564-f39d7030237d",
   "metadata": {},
   "source": [
    "## 3.b Matrices de rotation\n",
    "\n",
    "Une *matrice de rotation* d'angle $\\theta$ est définie par:\n",
    "$$\n",
    "R_{\\theta}=\\begin{pmatrix}\n",
    "\\cos(\\theta) & -\\sin(\\theta) \\\\\n",
    "\\sin(\\theta) & \\cos(\\theta)\n",
    "\\end{pmatrix}\n",
    "$$\n",
    "\n",
    "Cette matrice permet de représenter la rotation d'angle $\\theta$ de centre $(0,0)$ dans le plan.\n",
    "\n",
    "**TODO**: Coder une fonction *Mat_rotation2D(theta)* qui retourne la matrice de rotation d'angle *theta* et de centre $(0,0).$"
   ]
  },
  {
   "cell_type": "code",
   "execution_count": 34,
   "id": "f1f7a483-b416-4023-af19-3c1535da1c84",
   "metadata": {},
   "outputs": [],
   "source": [
    "pass"
   ]
  },
  {
   "cell_type": "markdown",
   "id": "24edc34d-1f0b-41b8-9698-0d7128fc6683",
   "metadata": {},
   "source": [
    "#### Applications sur une figure géométrique du plan\n",
    "\n",
    "Pour tester des matrices de permutations.\n",
    "\n",
    "**TODO**: grâce à la bibliothèque *matplotlib*, tracer un carré de centre $(0,0)$ et de coté $6$ unités. "
   ]
  },
  {
   "cell_type": "code",
   "execution_count": 65,
   "id": "f170a201-91bc-421e-a07c-1baca85a7571",
   "metadata": {},
   "outputs": [],
   "source": [
    "import matplotlib.pyplot as plt"
   ]
  },
  {
   "cell_type": "code",
   "execution_count": 36,
   "id": "dd41cbab-077c-4660-b199-9650cfd17ce5",
   "metadata": {},
   "outputs": [],
   "source": [
    "pass"
   ]
  },
  {
   "cell_type": "markdown",
   "id": "f865e8bb-e427-4bbe-b686-200825f162cc",
   "metadata": {},
   "source": [
    "Pour appliquer la rotation d'angle $\\theta$ de centre $(0,0)$ à un point $\\begin{pmatrix} x\\\\ y\\end{pmatrix}$ du plan, il suffit de réaliser le calcul suivant:\n",
    "$$\n",
    "R_{\\theta}\\cdot \\begin{pmatrix} x\\\\ y\\end{pmatrix}\n",
    "$$\n",
    "qui donne les nouvelles coordonnées du point après rotation.\n",
    "\n",
    "**TODO**: appliquer la rotation d'angle $\\pi/4$ à ce carré et tracer le grâce à la bibliothèque *matplotlib*."
   ]
  },
  {
   "cell_type": "code",
   "execution_count": 38,
   "id": "c84ef156-fa3b-4e66-a98c-d6e1b79eb978",
   "metadata": {},
   "outputs": [],
   "source": [
    "pass"
   ]
  },
  {
   "cell_type": "markdown",
   "id": "407fed84-8a31-4d4b-b27f-ffe390ef902c",
   "metadata": {},
   "source": [
    "# 4.Applications sur images et en 3 dimensions\n",
    "\n",
    "## 4.1 Les images\n",
    "\n",
    "Nous allons utiliser le smatrices de permutations sur des images que nous pouvons trouver sur internet. Pour cela nous allons avoir besoin de transformer une matrice en image et une image en matrice.\n",
    "\n",
    "Une image est constitué de *pixels* ayant chacun une couleur (ici en RGB pour faire simple). Sur une image plane un pixel a une position $(x,y)$ et une couleur en RGB. La couleur du pixel à cette position est déterminée par le triplet $[R,G,B]$ où $R$, $G$ et $B$ sont des quantités entre $0$ et $1$ qui détermine l'intensité de la stimulation de la partie rouge, verte ou bleu du pixel. Ce mélange de couleur produit alors une lumière particulière.\n",
    "\n",
    "Pour plus d'informations, vous pouvez consulter la [page](https://en.wikipedia.org/wiki/RGB_color_model).\n",
    "\n",
    "Ainsi, la matrice d'une image longue de $l$ pixel et large de $L$ pixels est une matrice de taille $l\\times L \\times 4$.\n",
    "\n",
    "Pour transformer une image en matrice, nous aurons recours à la librairie *matplotlib.image*. \n",
    "\n",
    "**TODO**: lire le fichier \"RGB.png\" en utilisant la fonction *imread* de la bibliothèque *matplotlib.image*."
   ]
  },
  {
   "cell_type": "code",
   "execution_count": 96,
   "id": "d2c8790d-480d-4ed0-9d91-f96f05a4226d",
   "metadata": {},
   "outputs": [],
   "source": [
    "import matplotlib.image as img"
   ]
  },
  {
   "cell_type": "code",
   "execution_count": null,
   "id": "305f0df2-7b54-4127-9f7d-f7cda451f482",
   "metadata": {},
   "outputs": [],
   "source": [
    "pass"
   ]
  },
  {
   "cell_type": "markdown",
   "id": "85297afa-1420-45a2-8d26-7d2398843146",
   "metadata": {},
   "source": [
    "**TODO**: pour transformer une matrice en image nous utiliserons la fonction *imshow* de *matplotlib.pyplot* avec *show*. Tester cette fonction avec la matrice obtenur précédemment. "
   ]
  },
  {
   "cell_type": "code",
   "execution_count": 45,
   "id": "1ca00b50-a09c-4591-8bf6-ee64a9760a3b",
   "metadata": {},
   "outputs": [],
   "source": [
    "pass"
   ]
  },
  {
   "cell_type": "markdown",
   "id": "ab6a4f95-2ce7-49bf-8e0b-688f4faf4f1d",
   "metadata": {},
   "source": [
    "### 4.2 Manipuler des images\n",
    "\n",
    "Manipuler des images comme effectué une rotation peut-être une tâche complexe. Pour cela, nous allons nous appuyer sur la bibliothèque *PIL*.\n"
   ]
  },
  {
   "cell_type": "code",
   "execution_count": 219,
   "id": "54fe986d-e021-44e5-81ff-f4fc34bb6110",
   "metadata": {},
   "outputs": [],
   "source": [
    "from PIL import Image"
   ]
  },
  {
   "cell_type": "markdown",
   "id": "f888d029-4b6a-4396-905a-b9f690c29c1e",
   "metadata": {},
   "source": [
    "**TODO**: Appliquer les rotations d'angle $\\pi,\\pi/2$ et $3\\pi/2$ sur cette image et les afficher avec l'aide le la fonction *rotate* de la librairie PIL.\n",
    "Pour ouvrir une image, nous utiliserons la commande *open* de la bibliothèque *PIL* puis *show()* pour l'afficher."
   ]
  },
  {
   "cell_type": "code",
   "execution_count": 53,
   "id": "e3f4e0af-1f56-4e4b-abbd-6bbf37f89a62",
   "metadata": {},
   "outputs": [],
   "source": [
    "pass"
   ]
  },
  {
   "cell_type": "markdown",
   "id": "3a3427e1-f00a-4885-836d-fb3958f668ee",
   "metadata": {},
   "source": [
    "**TODO**: en utilisant la commande *rotate* effectuer les rotations d'angles $\\pi/2$ et $\\pi$ radians. "
   ]
  },
  {
   "cell_type": "code",
   "execution_count": 56,
   "id": "6a8584fc-1906-49e6-9180-06dec155b822",
   "metadata": {},
   "outputs": [],
   "source": [
    "pass"
   ]
  },
  {
   "cell_type": "markdown",
   "id": "f5a209d1-9b41-4db0-be6d-e4eb9482e47b",
   "metadata": {},
   "source": [
    "### 4.3 Graphique en trois dimensions\n",
    "\n",
    "#### 4.3.a Représentation de courbe dans l'espace\n",
    "\n",
    "La librairie *matplotlib* permet également de tracer des surfaces en trois dimensions.\n",
    "\n",
    "**TODO**: Tracer l'ensemble des points $(x,y,z)$ tels que:\n",
    "$$\n",
    "\\left\\lbrace\\begin{align}\n",
    "y&= \\cos(x)\\\\\n",
    "z&=\\sin(x).\n",
    "\\end{align}\\right.\n",
    "$$\n",
    "pour $x,y,z$ des points dans le cube de centre $(0,0)$ de côté 20 à l'aide de la fonction *plot3d* de la bibliothèque *matplotlib*."
   ]
  },
  {
   "cell_type": "code",
   "execution_count": 58,
   "id": "10864eeb-f188-445c-baa6-d47d9251d52b",
   "metadata": {},
   "outputs": [],
   "source": [
    "pass"
   ]
  },
  {
   "cell_type": "markdown",
   "id": "7e55417d-0d7a-4cd6-8ce1-3b668c91f550",
   "metadata": {},
   "source": [
    "#### 4.3.B Représentation de surface dans l'espace\n",
    "\n",
    "Pour ce faire nous allons utiliser la fonction *plot_surface* de la bibliothèque *matplotlib*. Cette fonction trace des surfaces en prenant en entrée trois variables $x,y,z$ qui sont des tableaux à deux dimensions.\n",
    "\n",
    "Puis, en tracant les carrés délimités par $(x[i][j],y[i][j],z[i][j])-(x[i+1][j],y[i+1][j],z[i+1][j])-(x[i][j+1],y[i][j+1],z[i][j+1])-(x[i][j],y[i][j],z[i][j])$."
   ]
  },
  {
   "cell_type": "markdown",
   "id": "af92e041-84b6-406f-9fcd-31946e3b0f29",
   "metadata": {},
   "source": [
    "**TODO**: Tracer le plan d'équation:\n",
    "$$\n",
    "\\left\\lbrace\\begin{align*}\n",
    "x&=y \\\\\n",
    "x&=z\n",
    "\\end{align*}\\right.\n",
    "$$"
   ]
  },
  {
   "cell_type": "code",
   "execution_count": 121,
   "id": "55e6289b-7878-4847-ae52-102e37784709",
   "metadata": {},
   "outputs": [],
   "source": [
    "pass"
   ]
  },
  {
   "cell_type": "markdown",
   "id": "a321d349-8bf0-462d-9d8b-185c5176ff3b",
   "metadata": {},
   "source": [
    "**TODO**: Tracer la surface dans le même cube que précédemment définie par $z=\\cos(x^2+y^2)$ avec la fonction *plot_surface*"
   ]
  },
  {
   "cell_type": "code",
   "execution_count": 123,
   "id": "d6c2faea-5951-4806-af21-c5ec4efdcfe7",
   "metadata": {},
   "outputs": [],
   "source": [
    "pass"
   ]
  }
 ],
 "metadata": {
  "kernelspec": {
   "display_name": "Python 3 (ipykernel)",
   "language": "python",
   "name": "python3"
  },
  "language_info": {
   "codemirror_mode": {
    "name": "ipython",
    "version": 3
   },
   "file_extension": ".py",
   "mimetype": "text/x-python",
   "name": "python",
   "nbconvert_exporter": "python",
   "pygments_lexer": "ipython3",
   "version": "3.12.4"
  }
 },
 "nbformat": 4,
 "nbformat_minor": 5
}
