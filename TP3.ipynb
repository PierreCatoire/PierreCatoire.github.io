{
 "cells": [
  {
   "cell_type": "markdown",
   "metadata": {},
   "source": [
    "# **TP3 | Le chiffrement de Rabin**\n",
    "\n",
    "Dans ce TP, on se concentre sur la procédure de chiffrement de Rabin, une des premières méthode de chiffrement à clefs asymétriques/clés publiques inventée en 1979. \n",
    "Nous présentons ici une version du chiffrement de Rabin modifié.\n",
    "\n",
    "Voici le déroulé de cette dernière:\n",
    "- Bob (le destinataire) génère deux nombres premiers $p$ et $q$ et communique $n = p q$ à Alice dans le canal public.\n",
    "- Alice souhaite envoyé le message $m$ à Bob. Elle envoie $c=m^2 \\mod n$ à Bob.\n",
    "- Bob déchiffre $c$ en calculant ses racines carrés.\n",
    "\n",
    "*Remarque :* \n",
    "Dans $\\mathbb{Z} / n\\mathbb{Z}$ avec $n$ non premier, la racine carrée n'est pas unique : ici, à chaque message il y a quatres racines potentielles.\n",
    "C'est le problème majeur de cette méthode.\n",
    "On dit que procédure de chiffrement est **non-injective**. \n",
    "Il faut donc avoir recours à des tests supplémentaires pour s'assurer que le message a été décrypté correctement, ce qui peut être difficile à mettre en place en pratique.\n",
    "\n",
    "Les conversions entre $\\mathbb{Z} / n\\mathbb{Z}$ et l'espace produit $\\mathbb{Z} / p\\mathbb{Z} \\times \\mathbb{Z} / q\\mathbb{Z}$ sont le sujets des deux premières parties.\n",
    "La première se concentre sur l'algorithme d'Euclide étendu et le calcul des coefficients dits «de Bézout» qui\n",
    "permettent de calculer des inverses et de résoudres des équations modulaires. \n",
    "La deuxième établit cette correspondance à proprement parler avec des fonctions de conversion.\n",
    "\n",
    "En partie 3, on implémente le calcul de racine carrée dans $\\mathbb{Z} / p\\mathbb{Z}$ et le chiffrement de Rabin sur les nombres, sans la correspondance nombre - caractère (on ne pourra donc pas distinguer la «bonne» racine).\n",
    "\n",
    "Toute cette procédure repose sur le fait que la décomposition en facteurs premiers de $n = p q$ est difficile à retrouver.\n",
    "Le chiffrement RSA repose sur le même principe. \n",
    "C'est pourquoi la partie 4 étudie la complexité de cette factorisation."
   ]
  },
  {
   "cell_type": "code",
   "execution_count": null,
   "metadata": {},
   "outputs": [],
   "source": [
    "# Les imports utiles\n",
    "import math\n",
    "try:\n",
    "    import galois\n",
    "except:\n",
    "    import os\n",
    "    os.system(\"python -m pip install galois\")\n",
    "    import galois\n",
    "\n",
    "import random\n",
    "import time\n",
    "\n",
    "DEFAULT_SEED = sum(ord(c) for c in \"R3.09 - Cryptographie\")"
   ]
  },
  {
   "cell_type": "markdown",
   "metadata": {},
   "source": [
    "## Partie 1 - Algorithme d'Euclide étendu\n",
    "\n",
    "On cherche des coefficients dits de Bézout $u,v$ tels que\n",
    "$$ ua + vb = {\\rm PGCD}(a, b). $$\n",
    "Pour cela, on adopte une démarche récursive basée sur la division euclidienne, $a = qb + r$.\n",
    "\n",
    "- Si $r = 0$, alors on a $u = 0$ et $v = 1$.\n",
    "- Sinon, admettons qu'on ait des coefficients de Bézout $x, y$ pour $b, r$, tels que $$x b + y r = {\\rm PGCD}(b, r) = {\\rm PGCD}(a, b) .$$ Un simple calcul donne $u = y$ et $v = x - y q$.\n",
    "\n",
    "*Remarque :* Ces coefficients ne sont pas uniques ! Pour s'en rendre compte, on peut simplement voir que la sortie si $r = 0$ pourrait être $u = \\kappa$, $v = 1 - \\kappa$ avec $\\kappa$ quelconque. On peut aussi effectuer une modification $(u, v) \\leftarrow (u - b, v + a)$ ou $(u, v) \\leftarrow (u + b, v - a)$ sur la sortie sans modifier le résultat."
   ]
  },
  {
   "cell_type": "markdown",
   "metadata": {},
   "source": [
    "### 1.1. Coefficients de Bézout\n",
    "\n",
    "**TODO:**  \n",
    "Implémenter cet algorithme récursif dans la fonction `bezout` ci-dessous."
   ]
  },
  {
   "cell_type": "code",
   "execution_count": 2,
   "metadata": {},
   "outputs": [],
   "source": [
    "def bezout(a, b):\n",
    "    \"\"\"\n",
    "    Donne deux entiers u et v tels que a * u + b * v = pgcd(a, b).\n",
    "\n",
    "    Args:\n",
    "        a (int): Un premier entier.\n",
    "        b (int): Le second entier.\n",
    "\n",
    "    Returns:\n",
    "        int, int: Les entiers u et v tels que a * u + b * v = pgcd(a, b)\n",
    "    \"\"\"\n",
    "    pass  # TODO"
   ]
  },
  {
   "cell_type": "markdown",
   "metadata": {},
   "source": [
    "**TODO:**  \n",
    "Tester la fonction ci-dessus, grâce à des calculs à la main des coefficients de Bézout des couples\n",
    "- 46, 21\n",
    "- 214, 76\n",
    "- 417, 55"
   ]
  },
  {
   "cell_type": "code",
   "execution_count": null,
   "metadata": {},
   "outputs": [],
   "source": []
  },
  {
   "cell_type": "markdown",
   "metadata": {},
   "source": [
    "### 1.2. Calcul d'inverse\n",
    "\n",
    "Si ${\\rm PGCD}(a, b) = 1$, on peut trouver $a^{-1}$ dans $\\mathbb{Z} / b\\mathbb{Z}$. En effet, \n",
    "$$ ua + vb = 1\\ \\Rightarrow\\ ua = 1\\ [b]\\ \\Leftrightarrow\\ a^{-1} = u\\ [b] . $$\n",
    "Réciproquement, si on trouve $u \\in \\mathbb{Z}$ tel que $ua = 1\\ [b]$, alors ${\\rm PGCD}(a, b) = 1$.\n",
    "\n",
    "**TODO:**  \n",
    "Coder une fonction `inv_mod(a, p)` qui calcule l'inverse de `a` modulo `p` lorsque cela est possible. Si l'inverse n'existe pas, la fonction devra renvoyer une erreur."
   ]
  },
  {
   "cell_type": "code",
   "execution_count": 4,
   "metadata": {},
   "outputs": [],
   "source": [
    "def inv_mod(a, p):\n",
    "    \"\"\"\n",
    "    Calcule l'inverse de a modulo p. Si l'inverse n'existe pas,\n",
    "    renvoyer une erreur.\n",
    "\n",
    "    Args:\n",
    "        a (int): Le nombre à inverser\n",
    "        p (int): Le modulo\n",
    "\n",
    "    Returns:\n",
    "        int: L'inverse de a dans Z / pZ\n",
    "    \"\"\"\n",
    "    pass  # TODO"
   ]
  },
  {
   "cell_type": "markdown",
   "metadata": {},
   "source": [
    "**TODO:**  \n",
    "Tester la fonction sur des exemples. Vérifier que cela ne fonctionne pas sur un exemple ${\\rm PGCD}(a, b) \\neq 1$."
   ]
  },
  {
   "cell_type": "code",
   "execution_count": null,
   "metadata": {},
   "outputs": [],
   "source": []
  },
  {
   "cell_type": "markdown",
   "metadata": {},
   "source": [
    "### 1.3. Résolution d'équations\n",
    "\n",
    "Ici, on cherche à résoudre l'équation $ax = b\\ [n]$ dans le cas où la solution est unique, i.e. dans le cas ${\\rm PGCD}(a, n) = 1$.\n",
    "\n",
    "*Contre-exemple :* Si ${\\rm PGCD}(a, n) \\neq 1$, la solution peut ne pas être unique ou ne pas exister. Par exemple $3x = 0\\ [6]$ admet pour solutions $0$ et $2$, et $3x = 1\\ [6]$ n'admet pas de solution.\n",
    "\n",
    "**TODO:**  \n",
    "Coder une fonction `solve_mod` qui, à partir des données $(a, b, n)$ du problème ci-dessus, renvoie la solution $x$ de ce système lorsque cette dernière existe et est unique."
   ]
  },
  {
   "cell_type": "code",
   "execution_count": 6,
   "metadata": {},
   "outputs": [],
   "source": [
    "def solve_mod(a, b, n):\n",
    "    \"\"\"\n",
    "    Résout l'équation a * x = b dans Z / nZ.\n",
    "\n",
    "    Args: \n",
    "        a (int): Le nombre facteur de l'inconnue x\n",
    "        b (int): Le nombre à droite de l'équation\n",
    "        n (int): Le modulo\n",
    "\n",
    "    Returns:\n",
    "        int: La solution x de l'équation\n",
    "    \"\"\"\n",
    "    pass  # TODO"
   ]
  },
  {
   "cell_type": "markdown",
   "metadata": {},
   "source": [
    "**TODO:**  \n",
    "1. Vérifier `solve_mod(a, 1, n) == inv_mod(a, n)` sur quelques exemples.\n",
    "2. Vérifier `solve_mod(a, 0, n) == 0` sur quelques exemples.\n",
    "3. Calculer la solution de $11 x = 6\\ [14]$ à la main, et comparer au résultat de la fonction implémentée."
   ]
  },
  {
   "cell_type": "code",
   "execution_count": 7,
   "metadata": {},
   "outputs": [],
   "source": [
    "# 1.\n",
    "# TODO\n",
    "\n",
    "# 2.\n",
    "# TODO\n",
    "\n",
    "# 3.\n",
    "# TODO"
   ]
  },
  {
   "cell_type": "markdown",
   "metadata": {},
   "source": [
    "## Partie 2 - Manipulations dans $\\mathbb{Z} / pq\\mathbb{Z}$\n",
    "\n",
    "Nous allons affiner nos connaissances sur l'objet $\\mathbb{Z} / pq\\mathbb{Z}$, notamment à travers un énoncé connu sous le nom de [«théorème des restes chinois»](https://fr.wikipedia.org/wiki/Th%C3%A9or%C3%A8me_des_restes_chinois). \n",
    "Nous ne l'énoncerons pas dans sa version la plus complète puisque seule une version *faible* nous suffira.\n",
    "\n",
    "**Théorème faible des restes chinois:** Soit $p,q$ deux entiers premiers entre eux et notons $n = pq$. Alors:\n",
    "$$ \\mathbb{Z}/n\\mathbb{Z} \\simeq  \\mathbb{Z}/p\\mathbb{Z}\\times\\mathbb{Z}/q\\mathbb{Z}.$$\n",
    "Autrement dit, la correspondance $x \\mod pq \\mapsto (x \\mod p, x \\mod q)$ est inversible, et il existe une correspondance $(y_p \\mod p, y_q \\mod q) \\mapsto y \\mod pq$.\n"
   ]
  },
  {
   "cell_type": "markdown",
   "metadata": {},
   "source": [
    "### 2.1. Décomposition dans l'espace produit\n",
    "\n",
    "En pratique, tout élément de $\\mathbb{Z}/n\\mathbb{Z}$ correspond uniquement à un élément de $\\mathbb{Z}/p\\mathbb{Z}\\times \\mathbb{Z}/q\\mathbb{Z}$. Plus précisément:\n",
    "$$\n",
    "x\\mod n \\rightarrow \\begin{cases}\n",
    "x\\mod p, \\\\\n",
    "x\\mod q.\n",
    "\\end{cases}\n",
    "$$\n",
    "\n",
    "Par exemple, $14=7\\times 2$ et:\n",
    "$$\n",
    "10\\mod 14 \\leftrightarrow \\begin{cases}\n",
    "0\\mod 2, \\\\\n",
    "3\\mod 7.\n",
    "\\end{cases} \n",
    "$$\n",
    "Nous allons coder les correspondances entre ces deux objets.\n",
    "Dans la suite, on supposera alors toujours que $n=pq$ avec $p$ et $q$ premiers entre eux.\n",
    "\n",
    "**TODO:**  \n",
    "Coder une fonction `chinois_aller` qui associe à un élément modulo $n$ le couple de classe modulo $p$ et $q$. Tester votre fonction."
   ]
  },
  {
   "cell_type": "code",
   "execution_count": null,
   "metadata": {},
   "outputs": [],
   "source": [
    "def chinois_aller(x, p, q):\n",
    "    \"\"\"\n",
    "    Associe à un entier sa classe de congruence modulo p et q\n",
    "\n",
    "    Args: l'entier et les deux modulo voulu\n",
    "\n",
    "    Outputs: un couple d'entier modulo p et q\n",
    "    \"\"\"\n",
    "    pass  # TODO\n",
    "\n",
    "\n",
    "# TODO test"
   ]
  },
  {
   "cell_type": "markdown",
   "metadata": {},
   "source": [
    "### 2.2. Recomposition depuis l'espace produit\n",
    "\n",
    "Maintenant, nous souhaitons coder la fonction qui inverse chinois_aller. Considérons $n=pq$ avec $p$ et $q$ premiers entre eux. Pour cela nous devons trouver l'unique élément $x$ de $\\mathbb{Z}/n\\mathbb{Z}$ résolvant le système d'équation suivant:\n",
    "$$\n",
    "\\begin{cases} x = y_p\\ [p], \\\\ x = y_q\\ [q], \\end{cases}\n",
    "$$\n",
    "où $y_p$ et $y_q$ sont donnés.\n",
    "\n",
    "Pour ce faire, nous devons procéder en plusieurs étapes, que nous allons programmer au fur et à mesure."
   ]
  },
  {
   "cell_type": "markdown",
   "metadata": {},
   "source": [
    "#### 2.2.a. Les systèmes fondamentaux\n",
    "\n",
    "On résout préalablement les deux systèmes suivants d'inconnues respectives $x_p$ et $x_q$ dans $\\mathbb{Z}/n\\mathbb{Z}$:\n",
    "$$ \\begin{cases} x_p = 1\\ [p], \\\\ x_p = 0\\ [q], \\end{cases} \\qquad\\qquad \\begin{cases} x_q = 0\\ [p], \\\\ x_q = 1\\ [q]. \\end{cases} $$\n",
    "\n",
    "Pour cela, il faut trouver une combinaison de Bézout entre $p$ et $q$, $up + vq = 1$.\n",
    "\n",
    "*Remarque :* Ces solutions $x_p$ et $x_q$ ne dépendent que de $p$ et de $q$, pas de $y_p, y_q$. Si on souhaitait résoudre plusieurs systèmes $x = y_p\\ [p]$, $x = y_q\\ [q]$, on pourrait calculer ces solutions fondamentales $x_p, x_q$ une seule fois.\n",
    "\n",
    "**TODO:**  \n",
    "Justifier que $x_p = v q$ et $x_q = u p$ sont les solutions des deux systèmes. Puis, coder une fonction resol_inter qui à partir de $p$ et $q$ résout ces systèmes."
   ]
  },
  {
   "cell_type": "code",
   "execution_count": 9,
   "metadata": {},
   "outputs": [],
   "source": [
    "def resol_inter(p, q):\n",
    "    \"\"\"\n",
    "    Étant donné les entiers p et q résout les deux systèmes ci-dessus\n",
    "\n",
    "    Args: les moduli du système de congruences\n",
    "\n",
    "    Outputs: une solution à chacun des deux systèmes dans l'ordre x_p et x_q.\n",
    "    \"\"\"\n",
    "    pass  # TODO"
   ]
  },
  {
   "cell_type": "markdown",
   "metadata": {},
   "source": [
    "#### 2.2.b. La résolution totale\n",
    "\n",
    "Enfin, à partir de ces deux solutions $x_p$ et $x_q$ on peut construire une solution du système:\n",
    "$$\n",
    "\\begin{cases} x = y_p\\ [p], \\\\ x = y_q\\ [q]. \\end{cases}\n",
    "$$ \n",
    "\n",
    "**TODO:**  \n",
    "Justifier que $x = y_p x_p + y_q x_q$ est une solution du système ci-dessus. Puis, implémenter une fonction `chinois_retour` qui renvoie l'unique solution $x$ modulo $n$."
   ]
  },
  {
   "cell_type": "code",
   "execution_count": 11,
   "metadata": {},
   "outputs": [],
   "source": [
    "def chinois_retour(yp, yq, p, q):\n",
    "    \"\"\"\n",
    "    Chercher la solution du système ci-dessus.\n",
    "\n",
    "    Args: les quatres paramètres du système ci-dessus p,q,y_p,y_q\n",
    "\n",
    "    Outputs: la solution modulo pq du système\n",
    "    \"\"\"\n",
    "    pass  # TODO"
   ]
  },
  {
   "cell_type": "markdown",
   "metadata": {},
   "source": [
    "**TODO**  \n",
    "Vérifier expérimentalement que `chinois_retour` est bien l'inverse de la fonction `chinois_aller`."
   ]
  },
  {
   "cell_type": "code",
   "execution_count": null,
   "metadata": {},
   "outputs": [],
   "source": []
  },
  {
   "cell_type": "markdown",
   "metadata": {},
   "source": [
    "## Partie 3 - Racines en arithmétique modulaire\n",
    "\n",
    "Dans la partie 3.2 à arriver, nous avons implémenté [l'algorithme de Tonelli-Shanks](https://en.wikipedia.org/wiki/Tonelli%E2%80%93Shanks_algorithm) pour calculer une racine carrée d'un nombre dans $\\mathbb{Z} / p\\mathbb{Z}$."
   ]
  },
  {
   "cell_type": "markdown",
   "metadata": {},
   "source": [
    "### 3.1. La $p$-valuation\n",
    "\n",
    "Dans l'algorithme \n",
    "Déjà codé par nos soins mais on a besoin de la $p$-valuation. Soit $p$ un entier, la $p$-valuation d'un entier $n$ est le plus grand exposant $s$ tel que:\n",
    "$$\n",
    "p^s \\text{ divise } n.\n",
    "$$\n",
    "\n",
    "Par exemple, la $2$-valuation de $52$ est $2$ tandis que sa $13$-valuation est $1$ et sa $3$-valuation est $0$.\n",
    "\n",
    "**TODO:**  \n",
    "Coder la fonction `valuation` décrite ci-dessus et la tester."
   ]
  },
  {
   "cell_type": "code",
   "execution_count": null,
   "metadata": {},
   "outputs": [],
   "source": [
    "def valuation(x, p):\n",
    "    \"\"\"\n",
    "    Cherche l'exposant maximal s tel que x = p^s * r\n",
    "    \n",
    "    Args: le deuxième argument indique quelle p-valuation doit être calculé pour le premier argument.\n",
    "    \n",
    "    Output: le plus grand exposant s tel que p^s divise n et le quotient de la division de x par p^s.\n",
    "    \"\"\"\n",
    "    pass  # TODO\n",
    "\n",
    "\n",
    "# TODO test"
   ]
  },
  {
   "cell_type": "markdown",
   "metadata": {},
   "source": [
    "### 3.2. Algorithme de Tonelli-Shanks\n",
    "\n",
    "Le code suivant est une méthode implémentée par nos soins pour trouver une racine carrée de $x$ modulo $p$.\n",
    "Vous n'avez pas besoin de comprendre cet algorithme.\n",
    "\n",
    "Nous utilisons la bibliothèque `galois`, très pratique pour tout ce qui touche à l'arithmétique modulaire, qu'il s'agisse de calculer dans les anneaux de congruences ou de manipuler des nombres premiers.\n",
    "Une brève introduction à ce module est disponible en Partie 5 «Pour aller plus loin», et nous l'utiliserons pour le benchmark en Partie 4.\n",
    "\n",
    "**TODO**  \n",
    "Vérifiez que cette fonction renvoie bien une racine sur un exemple de votre choix."
   ]
  },
  {
   "cell_type": "code",
   "execution_count": null,
   "metadata": {},
   "outputs": [],
   "source": [
    "def sqrt_mod(x, p):\n",
    "    \"\"\"\n",
    "    Algorithme de Tonelli-Shanks pour chercher une racine carrée\n",
    "    de `x` modulo `p` avec `p` premier.\n",
    "\n",
    "    Grosse utilisation du petit théorème de Fermat: a ** (p-1) = 1.\n",
    "    Notamment, on vérifie que $x^{(p - 1) / 2} = y^{p - 1} = 1$ avant\n",
    "    de procéder à la recherche d'un carré.\n",
    "\n",
    "    Args:\n",
    "        x (int):\n",
    "    \"\"\"\n",
    "    if p == 2:\n",
    "        return x\n",
    "\n",
    "    gf = galois.GF(p)\n",
    "    x, unit = gf(x), gf(1)\n",
    "\n",
    "    pm1, pp1 = p - 1, p + 1\n",
    "    n = pm1 // 2\n",
    "\n",
    "    # Si x n'est pas un carré, renvoyer zéro\n",
    "    if x**n != unit:\n",
    "        return 0\n",
    "\n",
    "    # Si $p = 4k + 3$, on pose $y = x^{k+1} = x^{(p+1) / 4}$, car dans\n",
    "    # ce cas, $y^2 = x^{(p+1)/2} = x^{(p-1)/2} \\times x = 1 \\cdot x$\n",
    "    # grâce au petit théorème de Fermat.\n",
    "    if pp1 % 4 == 0:\n",
    "        return (x ** (pp1 // 4)).item()\n",
    "\n",
    "    # Cas $p = 4k + 1$, basée sur la décomposition Z/pm1 Z = Z/2^s Z \\times Z/tZ\n",
    "\n",
    "    # Extraction de la 2-valuation de p - 1\n",
    "    s, t = valuation(pm1, 2)  # s ≥ 2 car p - 1 = 4k\n",
    "\n",
    "    # Recherche d'un nombre qui n'est pas un carré\n",
    "    u = gf(2)\n",
    "    while u**n == unit:  # <=> u ** n != -1\n",
    "        u += unit\n",
    "\n",
    "    v = u**t  # racine primitive 2^s - ième de l'unité\n",
    "    z = x ** ((t + 1) // 2)  # z^2 = x * x^t => on cherche x^-t\n",
    "\n",
    "    xt, inv_v = x**t, unit / v\n",
    "    inv_v2 = inv_v**2\n",
    "\n",
    "    # l = 0\n",
    "    inv_vl, inv_v2l = unit, unit  # == v ** (-l), v ** (2 * l)\n",
    "    for i in range(s - 2):\n",
    "        S = 2 ** (s - 2 - i)\n",
    "        if (xt * inv_v2l) ** S != unit:\n",
    "            # l += 2 ** i\n",
    "            inv_vl *= inv_v ** (2**i)\n",
    "            inv_v2l *= inv_v2 ** (2 ** (i + 1))\n",
    "\n",
    "    sqrt_x = z * inv_vl\n",
    "    return sqrt_x.item()  # conversion gf -> int\n",
    "\n",
    "\n",
    "sqrt_mod(18, 41) ** 2 % 41"
   ]
  },
  {
   "cell_type": "markdown",
   "metadata": {},
   "source": [
    "### 3.3. Chiffrement (numérique) de Rabin faible\n",
    "\n",
    "La procédure de chiffrement de Rabin est directe : il suffit de calculer $c = m^2 \\mod n$.\n",
    "Pour déchiffrer $c$, en revanche, il y a trois étapes :\n",
    "1. décomposition $c \\in \\mathbb{Z} / n\\mathbb{Z} \\mapsto (a, b) \\in \\mathbb{Z}/p\\mathbb{Z} \\times \\mathbb{Z}/q\\mathbb{Z}$\n",
    "2. racines $\\sqrt{a}, \\sqrt{b}$ et leurs opposées.\n",
    "3. résolution des systèmes pour obtenir les 4 valeurs possibles de $m$,\n",
    "    - $m = \\sqrt{a}\\ [p], m = \\sqrt{b}\\ [q]$ ;\n",
    "    - $m = \\sqrt{a}\\ [p], m = -\\sqrt{b}\\ [q]$ ;\n",
    "    - $m = -\\sqrt{a}\\ [p], m = \\sqrt{b}\\ [q]$ ;\n",
    "    - $m = -\\sqrt{a}\\ [p], m = -\\sqrt{b}\\ [q]$.\n",
    "4. faire correspondre ces quatre éventualités à un message dans $\\mathbb{Z}/n\\mathbb{Z}$.\n",
    "\n",
    "Ici, on ignore la partie 4 qui demanderait une correspondance nombre-caractère.\n",
    "\n",
    "**TODO:**  \n",
    "Écrire une fonction `Rabin_encrypt` qui chiffre le message d'Alice, et une fonction `Rabin_decrypt` qui donne les quatres messages en clairs possibles.\n",
    "\n",
    "Pour les tests pratiques on pourra considérer $p=7757$ et $q=7759$. Ainsi $n=7757\\times 7759$."
   ]
  },
  {
   "cell_type": "code",
   "execution_count": 15,
   "metadata": {},
   "outputs": [],
   "source": [
    "def Rabin_encrypt(n, m):\n",
    "    \"\"\"\n",
    "    Chiffre le message m par la procédure de Rabin\n",
    "\n",
    "    Args: la clé publique pq et le message à chiffrer sous forme d'entier\n",
    "\n",
    "    Outputs: Le message chiffré modulo n d'Alice\n",
    "    \"\"\"\n",
    "    pass  # TODO"
   ]
  },
  {
   "cell_type": "code",
   "execution_count": 16,
   "metadata": {},
   "outputs": [],
   "source": [
    "def Rabin_decrypt(c, p, q):\n",
    "    \"\"\"\n",
    "    Fonction déchiffrant le message chiffré par la procédure de Rabin\n",
    "\n",
    "    Args: le message chiffré et les deux clefs privéses\n",
    "\n",
    "    Outputs: les quatres messages en clair éventuels\n",
    "    \"\"\"\n",
    "    pass  # TODO"
   ]
  },
  {
   "cell_type": "code",
   "execution_count": null,
   "metadata": {},
   "outputs": [],
   "source": []
  },
  {
   "cell_type": "markdown",
   "metadata": {},
   "source": [
    "Pour des raisons de temps nous n'explorerons pas plus en profondeur cette piste. Un retour de cette méthode sera envisageable plus tard... \n",
    "En pratique, des test suplémentaires sont ensuite effectués sur les sorties pour déterminer quel est le message en clair d'origine."
   ]
  },
  {
   "cell_type": "markdown",
   "metadata": {},
   "source": [
    "## Partie 4 - Décomposition en facteurs premiers\n",
    "\n",
    "Une grande partie des algorithmes de cryptographie repose sur le fait que trouvé la décomposition en produits de facteurs premiers est une tâche longue comparée aux autres. Nous allons ici présenté deux algorithmes de factorisation.\n",
    "\n",
    "De meilleurs algorithmes existent de nos jours, mais ces derniers restent encore long. Par exemple, la méthode de Lehman, n'a une complexité que de $\\mathcal{O}\\bigl(n^{\\frac{1}{3}}\\bigr)$, par rapport à $\\mathcal{O}(\\sqrt{n})$ pour la recherche exhaustive de Fermat."
   ]
  },
  {
   "cell_type": "markdown",
   "metadata": {},
   "source": [
    "### 4.1. Recherche exhaustive de diviseurs\n",
    "\n",
    "Pour trouver un diviseur d'un entier, on peut se contenter de vérifier si ce dernier est est divisible par tous les entiers plus petit que sa racine carrée, tous les entiers $k \\leq \\lfloor \\sqrt{n} \\rfloor$.\n",
    "\n",
    "**TODO**  \n",
    "Coder une fonction `fact_exhaustive` qui cherche le plus petit diviseur $\\neq 1$ d'un entier $n$ donné en entrée."
   ]
  },
  {
   "cell_type": "code",
   "execution_count": null,
   "metadata": {},
   "outputs": [],
   "source": [
    "def fact_exhaustive(n):\n",
    "    \"\"\"\n",
    "    Teste les les entiers inférieurs à n, un à un.\n",
    "\n",
    "    Args: un entier impair à factoriser\n",
    "\n",
    "    Returns: le plus petit diviseur de n\n",
    "    \"\"\"\n",
    "    pass  # TODO\n",
    "\n",
    "\n",
    "# TODO test"
   ]
  },
  {
   "cell_type": "markdown",
   "metadata": {},
   "source": [
    "### 4.2. Racine de grands entiers\n",
    "\n",
    "Comment calculer cette valeur maximale $\\lfloor \\sqrt{n} \\rfloor$ ?\n",
    "Une traduction naturelle de cette formule en Python serait d'utiliser le module `math`, avec `sqrt_n = math.sqrt(n)` pour calculer la racine et `math.floor(sqrt_n)` pour en prendre la partie entière.\n",
    "Le souci est que cette méthode calcule la racine avec des nombre flottants et peut avoir un mauvais comportement pour les très grands entiers.\n",
    "Pour cette raison, nous privilégerons la fonction `galois.isqrt` qui ne présente pas ces soucis.\n",
    "\n",
    "Un bon moyen d'observer cette limite est de coder une fonction qui vérifie si un nombre est un carré.\n",
    "Il y a au moins trois implémentations possibles à cette fonction :\n",
    "1. Calculer `math.sqrt(n)` et vérifier s'il s'agit d'un entier avec la méthode `.is_integer()`\n",
    "2. Calculer la partie entière de la racine carrée de $n$ et vérifier que son carré donne bien $n$,\n",
    "    - soit avec le module `math`\n",
    "    - soit avec le module `galois`\n",
    "\n",
    "*Remarque :* Cette dernière approche est plus lente ! Mais c'est la seule qui n'implique jamais de nombre à virgule flottante.\n",
    "\n",
    "**TODO:**  \n",
    "Écrire toutes ces implémentations.\n",
    "Comparer leurs résultats avec $n = (10^{18} + 1)^2$ et $n = 10^{22} + 1$.\n",
    "Comment pourriez-vous modifier votre implémentation de la fonction `fact_exhaustive` précédente ?"
   ]
  },
  {
   "cell_type": "code",
   "execution_count": 1,
   "metadata": {},
   "outputs": [],
   "source": [
    "# TODO implémentations et test comparatif"
   ]
  },
  {
   "cell_type": "markdown",
   "metadata": {},
   "source": [
    "### 4.3. Étude de complexité\n",
    "\n",
    "On cherche à étudier la complexité de notre algorithme de factorisation pour les entiers de la forme $n = p q$ avec $p$ et $q$ premiers.\n",
    "Le jeu de données utilisé pour l'analyse doit être choisi précautionneusement : il y a une foultitude de valeurs possibles pour $p$ et $q$. \n",
    "Est-ce que leurs valeurs doivent être indépendantes ? \n",
    "Est-ce qu'elles doivent être du même ordre de grandeur ?\n",
    "\n",
    "Ici, on prend le parti de générer les nombres premiers «par blocs» en fixant un nombre de bits et en tirant aléatoirement plusieurs nombres premiers différents qui ont ce nombre de bits.\n",
    "Ainsi, on s'assure une distribution quasi-uniforme des nombres en échelle logarithmique, et en les choisissant tous différents, on s'assure que la liste des nombres premiers de `galois` dans `galois.factors` ne sera pas utilisée ou presque.\n",
    "Cela correspond au contexte utilisé en cryptographie : lorsqu'on génère les clés privées, on souhaite que les nombres premiers $p$ et $q$ soient **tous les deux grands**.\n",
    "\n",
    "**TODO**  \n",
    "Évaluer la complexité de la factorisation en fonction de $n$ en utilisant le module `time` et la tracer."
   ]
  },
  {
   "cell_type": "code",
   "execution_count": null,
   "metadata": {},
   "outputs": [],
   "source": [
    "def generate_primes(\n",
    "    b_min=10, b_max=20, b_step=1, n_per_bit=10, seed=DEFAULT_SEED\n",
    "):\n",
    "    \"\"\"\n",
    "    Génère des produits n = p * q avec des nombres premiers p, q\n",
    "    vérifiant 2^b_min ≤ p, q ≤ 2^b_max. Pour tout b entre b_min et\n",
    "    b_max avec un pas b_step, on tire aléatoirement n_per_bit nombres\n",
    "    premiers *uniques* p, q tels que 2^b ≤ p, q < 2^(b+1).\n",
    "    \"\"\"\n",
    "    bits = range(b_min, b_max + 1, b_step)\n",
    "    all_n = [0] * (len(bits) * n_per_bit)\n",
    "    all_p, all_q = all_n.copy(), all_n.copy()\n",
    "\n",
    "    rng = random.Random(seed)\n",
    "    for ib, b in enumerate(bits):\n",
    "        primes_b = set()  # set of primes generated with b bits\n",
    "        for i in range(n_per_bit):\n",
    "            p, q = 0, 0\n",
    "            while p in primes_b or q in primes_b or p == q:\n",
    "                seed_p, seed_q = rng.getrandbits(64), rng.getrandbits(64)\n",
    "                p = galois.random_prime(b, seed=seed_p)\n",
    "                q = galois.random_prime(b, seed=seed_q)\n",
    "\n",
    "            primes_b.add(p)\n",
    "            primes_b.add(q)\n",
    "            idx = ib * n_per_bit + i\n",
    "            all_p[idx], all_q[idx], all_n[idx] = p, q, p * q\n",
    "\n",
    "    return all_p, all_q, all_n\n",
    "\n",
    "\n",
    "bench_p, bench_q, bench_n = generate_primes(b_max=20, n_per_bit=10)\n",
    "# Sanity checks: nombre d'entiers générés, unicité et disjonction de bench_p, bench_q\n",
    "len(bench_p), len(set(bench_p).union(bench_q)) - len(bench_p) - len(bench_q)"
   ]
  },
  {
   "cell_type": "code",
   "execution_count": null,
   "metadata": {},
   "outputs": [],
   "source": []
  },
  {
   "cell_type": "code",
   "execution_count": null,
   "metadata": {},
   "outputs": [],
   "source": []
  },
  {
   "cell_type": "markdown",
   "metadata": {},
   "source": [
    "## Partie 5 - Pour aller plus loin\n",
    "\n",
    "Grâce à la bibliothèque matplotlib, tracer les temps d'éxécution des deux algorithmes de factorisation en fonction du nombre de bits sur lequel l'entier auquel il est appliqué est codé. Mettre dans une échelle correcte pour identifier la complexité de ces algorithmes et observer les pires et meilleurs cas."
   ]
  },
  {
   "cell_type": "markdown",
   "metadata": {},
   "source": [
    "### 5.1. Détails sur `galois`\n",
    "\n",
    "La fonction galois.GF(p) spécifie que nous travaillons modulo p avec p premier et nous autorise à faire les opérations algèbriques usuelles.\n",
    "\n",
    "**Attention:** faites bien attention de mettre un nombre premier dans cette fonction au risque de voir des phénomènes bizarres."
   ]
  },
  {
   "cell_type": "code",
   "execution_count": null,
   "metadata": {},
   "outputs": [],
   "source": [
    "import galois\n",
    "x = galois.GF(5)(2) / galois.GF(5)(2)\n",
    "x.item()"
   ]
  },
  {
   "cell_type": "code",
   "execution_count": null,
   "metadata": {},
   "outputs": [],
   "source": [
    "mod13 = galois.GF(13)\n",
    "x = mod13(8) + mod13(9)\n",
    "print(x)"
   ]
  },
  {
   "cell_type": "markdown",
   "metadata": {},
   "source": [
    "### 5.2. L'algorithme de factorisation de Fermat\n",
    "\n",
    "Cet algorithme repose sur l'idée suivante, si $n=rs$ avec $n$ impair. Alors:\n",
    "$$\n",
    "n = (a + b)(a - b) = a^2 - b^2\n",
    "$$\n",
    "L'algorithme de factorisation de Fermat propose alors de calculer:\n",
    "1. vérifier que $n$ n'est pas pair,\n",
    "2. chercher des valeurs $a$ pour que $a^2-n$ soit un carré (donc $a>\\sqrt{n})$, \n",
    "3. en posant $b=\\sqrt{a^2-n}$, on retourne $a+b$ et $a-b$. \n",
    "\n",
    "**TODO**  \n",
    "Programmer une fonction `fact_Fermat` qui implémente cet algorithme. On pourra utiliser la fonction `is_square` des parties précédentes."
   ]
  },
  {
   "cell_type": "code",
   "execution_count": 31,
   "metadata": {},
   "outputs": [],
   "source": [
    "def fact_Fermat(n):\n",
    "    \"\"\"\n",
    "    Recherche un diviseur par la méthode de Fermat pour un entier impair expliquée ci-dessus.\n",
    "\n",
    "    Args:\n",
    "     n (int): L'entier à factoriser\n",
    "\n",
    "    Returns:\n",
    "        int, int: Un couple d'entiers dont le produit donne l'entrée\n",
    "    \"\"\"\n",
    "    pass  # TODO"
   ]
  },
  {
   "cell_type": "code",
   "execution_count": 36,
   "metadata": {},
   "outputs": [],
   "source": []
  },
  {
   "cell_type": "code",
   "execution_count": null,
   "metadata": {},
   "outputs": [],
   "source": []
  }
 ],
 "metadata": {
  "kernelspec": {
   "display_name": "crypto",
   "language": "python",
   "name": "python3"
  },
  "language_info": {
   "codemirror_mode": {
    "name": "ipython",
    "version": 3
   },
   "file_extension": ".py",
   "mimetype": "text/x-python",
   "name": "python",
   "nbconvert_exporter": "python",
   "pygments_lexer": "ipython3",
   "version": "3.12.4"
  }
 },
 "nbformat": 4,
 "nbformat_minor": 2
}
